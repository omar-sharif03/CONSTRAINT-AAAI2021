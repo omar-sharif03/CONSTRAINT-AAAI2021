{
  "nbformat": 4,
  "nbformat_minor": 0,
  "metadata": {
    "colab": {
      "name": "Hindi_Hostility Detection_Models.ipynb",
      "provenance": [],
      "collapsed_sections": [
        "R5AD1QD1u-yz",
        "0yowqTDHxLVj",
        "D36PcRl_vylL"
      ],
      "machine_shape": "hm",
      "include_colab_link": true
    },
    "kernelspec": {
      "name": "python3",
      "display_name": "Python 3"
    }
  },
  "cells": [
    {
      "cell_type": "markdown",
      "metadata": {
        "id": "view-in-github",
        "colab_type": "text"
      },
      "source": [
        "<a href=\"https://colab.research.google.com/github/eftekhar-hossain/CONSTRAINT-AAAI2021/blob/main/Hindi_Hostility_Detection_Models.ipynb\" target=\"_parent\"><img src=\"https://colab.research.google.com/assets/colab-badge.svg\" alt=\"Open In Colab\"/></a>"
      ]
    },
    {
      "cell_type": "code",
      "metadata": {
        "id": "W22pgNdhtl9w",
        "colab": {
          "base_uri": "https://localhost:8080/"
        },
        "outputId": "80f622cf-53bb-429c-ff38-d919ed7e71cf"
      },
      "source": [
        "from google.colab import drive\n",
        "drive.mount('/content/drive')"
      ],
      "execution_count": null,
      "outputs": [
        {
          "output_type": "stream",
          "text": [
            "Mounted at /content/drive\n"
          ],
          "name": "stdout"
        }
      ]
    },
    {
      "cell_type": "code",
      "metadata": {
        "id": "zusRYNmBszFT"
      },
      "source": [
        "!pip install scikit-multilearn"
      ],
      "execution_count": null,
      "outputs": []
    },
    {
      "cell_type": "markdown",
      "metadata": {
        "id": "3RGfBZxTtw-Q"
      },
      "source": [
        "## Libraries"
      ]
    },
    {
      "cell_type": "code",
      "metadata": {
        "id": "-5Vq3O8ytuHT"
      },
      "source": [
        "import pandas as pd\n",
        "import numpy as np\n",
        "import matplotlib.pyplot as plt\n",
        "import seaborn as sns\n",
        "import matplotlib.cm as cm\n",
        "import random\n",
        "import re\n",
        "%matplotlib inline\n",
        "path = '/content/drive/My Drive/Colab Notebooks/NLP Projects/Constraint 2021/Hostility Detection/'\n",
        "# importing MultiLabelBinarizer\n",
        "from sklearn.preprocessing import MultiLabelBinarizer\n",
        "from sklearn.linear_model import SGDClassifier\n",
        "from sklearn.linear_model import LogisticRegression\n",
        "from sklearn.svm import SVC,LinearSVC\n",
        "from sklearn.multiclass import OneVsRestClassifier\n",
        "from skmultilearn.adapt import MLkNN\n",
        "from skmultilearn.adapt import BRkNNaClassifier\n",
        "from sklearn.model_selection import GridSearchCV\n",
        "from sklearn.metrics import accuracy_score, precision_score, recall_score, f1_score, confusion_matrix, hamming_loss\n",
        "import warnings\n",
        "warnings.filterwarnings('ignore')\n"
      ],
      "execution_count": null,
      "outputs": []
    },
    {
      "cell_type": "markdown",
      "metadata": {
        "id": "68__IJnGuS6t"
      },
      "source": [
        "## **Read Encoded Dataset**"
      ]
    },
    {
      "cell_type": "code",
      "metadata": {
        "id": "kGsGEo5_uNTy"
      },
      "source": [
        "train_dataset = pd.read_excel(path+'Constraint_Hindi_Train_Encoded.xlsx',index_col=[0])\n",
        "val_dataset = pd.read_excel(path+'Constraint_Hindi_Valid_Encoded.xlsx',index_col=[0])"
      ],
      "execution_count": null,
      "outputs": []
    },
    {
      "cell_type": "code",
      "metadata": {
        "colab": {
          "base_uri": "https://localhost:8080/"
        },
        "id": "hd3LvG3CuPHL",
        "outputId": "07498e70-544b-444c-ccb6-3e6967ae4ae5"
      },
      "source": [
        "train_dataset.columns"
      ],
      "execution_count": null,
      "outputs": [
        {
          "output_type": "execute_result",
          "data": {
            "text/plain": [
              "Index(['Unique ID', 'Post', 'Labels Set', 'defamation', 'fake', 'hate',\n",
              "       'non-hostile', 'offensive'],\n",
              "      dtype='object')"
            ]
          },
          "metadata": {
            "tags": []
          },
          "execution_count": 69
        }
      ]
    },
    {
      "cell_type": "code",
      "metadata": {
        "id": "gHo0Zq4wubHQ"
      },
      "source": [
        "# hostility labels\n",
        "target_cols = ['defamation', 'fake', 'hate','non-hostile', 'offensive']"
      ],
      "execution_count": null,
      "outputs": []
    },
    {
      "cell_type": "code",
      "metadata": {
        "id": "haFFiCjmudY4"
      },
      "source": [
        "val_dataset.head(10)"
      ],
      "execution_count": null,
      "outputs": []
    },
    {
      "cell_type": "markdown",
      "metadata": {
        "id": "JO1-LRmJufEq"
      },
      "source": [
        "## Dataset Statistics"
      ]
    },
    {
      "cell_type": "code",
      "metadata": {
        "id": "DmFVwtnDuhk0"
      },
      "source": [
        "def single_class_post_distribution(dataset,classes):\n",
        "  number_of_comments = []\n",
        "  for labels in classes:\n",
        "    number_of_comments.append((labels, dataset[labels].sum()))\n",
        "  stats = pd.DataFrame(number_of_comments,columns = ['class','number_of_posts'])\n",
        "  return stats"
      ],
      "execution_count": null,
      "outputs": []
    },
    {
      "cell_type": "code",
      "metadata": {
        "id": "572IK89UukJj"
      },
      "source": [
        "# training set\n",
        "stats = single_class_post_distribution(train_dataset,target_cols)\n",
        "#stats.head()"
      ],
      "execution_count": null,
      "outputs": []
    },
    {
      "cell_type": "code",
      "metadata": {
        "colab": {
          "base_uri": "https://localhost:8080/",
          "height": 424
        },
        "id": "NI6L_bUiumDa",
        "outputId": "974d90b3-b698-4bf0-d407-dda40d2ef7fb"
      },
      "source": [
        "# Barplot\n",
        "plt.figure(figsize=(8,6))\n",
        "splot = sns.barplot(x = 'class',y = 'number_of_posts',data = stats)\n",
        "for p in splot.patches:\n",
        "    splot.annotate(format(p.get_height(), '1.0f'), \n",
        "                   (p.get_x() + p.get_width() / 2., p.get_height()), \n",
        "                   ha = 'center', va = 'center', \n",
        "                   size=15,\n",
        "                   xytext = (0, -12), \n",
        "                   textcoords = 'offset points')\n",
        "plt.title(\"Number of posts per category in train dataset\")\n",
        "plt.ylabel('# of Occurrences', fontsize=12)\n",
        "plt.xlabel('category', fontsize=12)\n"
      ],
      "execution_count": null,
      "outputs": [
        {
          "output_type": "execute_result",
          "data": {
            "text/plain": [
              "Text(0.5, 0, 'category')"
            ]
          },
          "metadata": {
            "tags": []
          },
          "execution_count": 74
        },
        {
          "output_type": "display_data",
          "data": {
            "image/png": "[encoded data removed]",
            "text/plain": [
              "<Figure size 576x432 with 1 Axes>"
            ]
          },
          "metadata": {
            "tags": [],
            "needs_background": "light"
          }
        }
      ]
    },
    {
      "cell_type": "code",
      "metadata": {
        "id": "adUHf9fQuox8"
      },
      "source": [
        "# Validation set\n",
        "stats_val = single_class_post_distribution(val_dataset,target_cols)\n",
        "#stats_val.head()"
      ],
      "execution_count": null,
      "outputs": []
    },
    {
      "cell_type": "code",
      "metadata": {
        "colab": {
          "base_uri": "https://localhost:8080/",
          "height": 424
        },
        "id": "vnLJcAzxuqgS",
        "outputId": "bf1607f1-7d5f-466d-c364-4c173e896874"
      },
      "source": [
        "# Barplot\n",
        "plt.figure(figsize=(8,6))\n",
        "splot = sns.barplot(x = 'class',y = 'number_of_posts',data = stats_val)\n",
        "for p in splot.patches:\n",
        "    splot.annotate(format(p.get_height(), '1.0f'), \n",
        "                   (p.get_x() + p.get_width() / 2., p.get_height()), \n",
        "                   ha = 'center', va = 'center', \n",
        "                   size=15,\n",
        "                   xytext = (0, -12), \n",
        "                   textcoords = 'offset points')\n",
        "plt.title(\"Number of posts per category in test dataset\")\n",
        "plt.ylabel('# of Occurrences', fontsize=12)\n",
        "plt.xlabel('category', fontsize=12)\n"
      ],
      "execution_count": null,
      "outputs": [
        {
          "output_type": "execute_result",
          "data": {
            "text/plain": [
              "Text(0.5, 0, 'category')"
            ]
          },
          "metadata": {
            "tags": []
          },
          "execution_count": 76
        },
        {
          "output_type": "display_data",
          "data": {
            "image/png": "[encoded data removed]",
            "text/plain": [
              "<Figure size 576x432 with 1 Axes>"
            ]
          },
          "metadata": {
            "tags": [],
            "needs_background": "light"
          }
        }
      ]
    },
    {
      "cell_type": "markdown",
      "metadata": {
        "id": "R5AD1QD1u-yz"
      },
      "source": [
        "### **How many posts have multiple category ?**"
      ]
    },
    {
      "cell_type": "code",
      "metadata": {
        "id": "boK8BUnuu7_y"
      },
      "source": [
        "def posts_with_multilabel (dataset,label):\n",
        "  rowsums = dataset.iloc[:,3:].sum(axis=1)\n",
        "  x=rowsums.value_counts()\n",
        "  df = pd.DataFrame(x.values,columns = ['number_of_posts'])\n",
        "  #plot\n",
        "  plt.figure(figsize=(8,6))\n",
        "  splot = sns.barplot(x = df.index, y= 'number_of_posts',data = df)\n",
        "  for p in splot.patches:\n",
        "      splot.annotate(format(p.get_height(), '1.0f'), \n",
        "                    (p.get_x() + p.get_width() / 2., p.get_height()), \n",
        "                    ha = 'center', va = 'center', \n",
        "                    xytext = (0, 9), \n",
        "                    textcoords = 'offset points')\n",
        "  plt.title(f\"Multiple categories per post ({label} Set)\")\n",
        "  plt.ylabel('# of Occurrences', fontsize=12)\n",
        "  plt.xlabel('# of categories', fontsize=12)"
      ],
      "execution_count": null,
      "outputs": []
    },
    {
      "cell_type": "code",
      "metadata": {
        "colab": {
          "base_uri": "https://localhost:8080/",
          "height": 797
        },
        "id": "oAqQKKQ5vDPn",
        "outputId": "5d6dd055-6647-42f3-df24-f3aefc184202"
      },
      "source": [
        "datasets = [train_dataset,val_dataset]\n",
        "label = ['Training', 'Validation']\n",
        "\n",
        "for i,dataset in enumerate(datasets):\n",
        "    posts_with_multilabel (dataset,label[i])"
      ],
      "execution_count": null,
      "outputs": [
        {
          "output_type": "display_data",
          "data": {
            "image/png": "[encoded data removed]",
            "text/plain": [
              "<Figure size 576x432 with 1 Axes>"
            ]
          },
          "metadata": {
            "tags": [],
            "needs_background": "light"
          }
        },
        {
          "output_type": "display_data",
          "data": {
            "image/png": "[encoded data removed]",
            "text/plain": [
              "<Figure size 576x432 with 1 Axes>"
            ]
          },
          "metadata": {
            "tags": [],
            "needs_background": "light"
          }
        }
      ]
    },
    {
      "cell_type": "markdown",
      "metadata": {
        "id": "0yowqTDHxLVj"
      },
      "source": [
        "###**Number of comments classified as defamation, fake, non-hostile,....etc depending on their lengths**"
      ]
    },
    {
      "cell_type": "code",
      "metadata": {
        "id": "C0VcsWAyxMox"
      },
      "source": [
        "def comments_length_per_class(dataset,set_name):\n",
        "  label = dataset[['defamation', 'fake' , 'hate' , 'non-hostile' , 'offensive']]\n",
        "  label = label.values\n",
        "  comment = dataset['Post']\n",
        "  comment = comment.values\n",
        "  y = np.zeros(label.shape)\n",
        "  for ix in range(comment.shape[0]):\n",
        "      l = len(comment[ix])\n",
        "      if label[ix][0] :\n",
        "          y[ix][0] = l\n",
        "      if label[ix][1] :\n",
        "          y[ix][1] = l\n",
        "      if label[ix][2] :\n",
        "          y[ix][2] = l\n",
        "      if label[ix][3] :\n",
        "          y[ix][3] = l\n",
        "      if label[ix][4] :\n",
        "          y[ix][4] = l\n",
        "\n",
        "  labelsplt = target_cols\n",
        "  color = ['red','green','blue','yellow','chartreuse']    \n",
        "  bins = [1,200,400,600,800]    \n",
        "  plt.title (f'Comments Length Per Class ({set_name} Set)')\n",
        "  plt.hist(y,bins = bins,label = labelsplt,color = color)\n",
        "  plt.axis([0, 800, 0, 2500])\n",
        "  plt.xlabel('Length of comments')\n",
        "  plt.ylabel('Number of comments') \n",
        "  plt.legend()\n",
        "  plt.grid(True)\n",
        "  plt.show()"
      ],
      "execution_count": null,
      "outputs": []
    },
    {
      "cell_type": "code",
      "metadata": {
        "id": "O5IfkBi9xQmW",
        "colab": {
          "base_uri": "https://localhost:8080/",
          "height": 573
        },
        "outputId": "f06090d4-7f2f-4c13-8a60-05eceed53bac"
      },
      "source": [
        "# Apply the function on two set\n",
        "datasets = [train_dataset, val_dataset]\n",
        "label =  ['Training','Validation']\n",
        "\n",
        "for i, dataset in enumerate(datasets):\n",
        "    comments_length_per_class(dataset, label[i])"
      ],
      "execution_count": null,
      "outputs": [
        {
          "output_type": "display_data",
          "data": {
            "image/png": "[encoded data removed]",
            "text/plain": [
              "<Figure size 432x288 with 1 Axes>"
            ]
          },
          "metadata": {
            "tags": [],
            "needs_background": "light"
          }
        },
        {
          "output_type": "display_data",
          "data": {
            "image/png": "[encoded data removed]",
            "text/plain": [
              "<Figure size 432x288 with 1 Axes>"
            ]
          },
          "metadata": {
            "tags": [],
            "needs_background": "light"
          }
        }
      ]
    },
    {
      "cell_type": "code",
      "metadata": {
        "colab": {
          "base_uri": "https://localhost:8080/"
        },
        "id": "Ea6f47yGvKk9",
        "outputId": "5c478c2b-ce27-46ec-cac7-20727c9c7845"
      },
      "source": [
        "# check for any 'null' comment in the train dataset\n",
        "no_comment = train_dataset[train_dataset['Post'].isnull()]\n",
        "len(no_comment)"
      ],
      "execution_count": null,
      "outputs": [
        {
          "output_type": "execute_result",
          "data": {
            "text/plain": [
              "0"
            ]
          },
          "metadata": {
            "tags": []
          },
          "execution_count": 79
        }
      ]
    },
    {
      "cell_type": "code",
      "metadata": {
        "colab": {
          "base_uri": "https://localhost:8080/"
        },
        "id": "9-3qYjO3vNYS",
        "outputId": "0a613b6f-21ab-4de0-b5e6-8bb251cb0715"
      },
      "source": [
        "# let's see the total rows in train, test data and the numbers for the various categories\n",
        "print('Total rows in train is {}'.format(len(train_dataset)))\n",
        "print('Total rows in validation is {}'.format(len(test_dataset)))"
      ],
      "execution_count": null,
      "outputs": [
        {
          "output_type": "stream",
          "text": [
            "Total rows in train is 5728\n",
            "Total rows in validation is 811\n"
          ],
          "name": "stdout"
        }
      ]
    },
    {
      "cell_type": "markdown",
      "metadata": {
        "id": "_hr9zdD_vRPk"
      },
      "source": [
        "## **Importing Orginal Dataset**"
      ]
    },
    {
      "cell_type": "code",
      "metadata": {
        "id": "bjleZEV1vQmV"
      },
      "source": [
        "# read the training dataset\n",
        "train_dataset = pd.read_excel(path+'constraint_Hindi_Train.xlsx')\n",
        "# read the validation dataset\n",
        "val_dataset = pd.read_excel(path+'Constraint_Hindi_Valid.xlsx')\n",
        "#dataset.head()\n",
        "# read the Test dataset\n",
        "test_dataset = pd.read_excel(path+'Test Set.xlsx')"
      ],
      "execution_count": null,
      "outputs": []
    },
    {
      "cell_type": "code",
      "metadata": {
        "colab": {
          "base_uri": "https://localhost:8080/"
        },
        "id": "K3HAwWg0wQKS",
        "outputId": "c340dd83-14bb-4b09-a1f6-88d34a85ee19"
      },
      "source": [
        "print(\"Number of Training Data: \",len(train_dataset))\n",
        "print(\"Number of Validation Data: \",len(val_dataset))\n",
        "print(\"Number of Test Data: \",len(test_dataset))"
      ],
      "execution_count": null,
      "outputs": [
        {
          "output_type": "stream",
          "text": [
            "Number of Training Data:  5728\n",
            "Number of Validation Data:  811\n",
            "Number of Test Data:  1653\n"
          ],
          "name": "stdout"
        }
      ]
    },
    {
      "cell_type": "code",
      "metadata": {
        "id": "jGDhn8tdvdDl"
      },
      "source": [
        "train_dataset['Labels Set'].value_counts()"
      ],
      "execution_count": null,
      "outputs": []
    },
    {
      "cell_type": "code",
      "metadata": {
        "id": "MCC8iOMDvokR"
      },
      "source": [
        "# function to convert multilabels into one-hot-encoding\n",
        "def multi_label_encoding(dataset):\n",
        "  # converting the lables into list of array\n",
        "  class_list = dataset['Labels Set'].apply(lambda x: list(x.split(\",\")))\n",
        "  dataset['Labels'] = class_list\n",
        "  return dataset\n"
      ],
      "execution_count": null,
      "outputs": []
    },
    {
      "cell_type": "code",
      "metadata": {
        "id": "_A_tx9JDvqiC"
      },
      "source": [
        "train_dataset = multi_label_encoding(train_dataset)\n",
        "val_dataset = multi_label_encoding(val_dataset)"
      ],
      "execution_count": null,
      "outputs": []
    },
    {
      "cell_type": "code",
      "metadata": {
        "id": "3dYwegX4vu26"
      },
      "source": [
        "val_dataset.head()"
      ],
      "execution_count": null,
      "outputs": []
    },
    {
      "cell_type": "markdown",
      "metadata": {
        "id": "D36PcRl_vylL"
      },
      "source": [
        "## **Hindi Stopwords**"
      ]
    },
    {
      "cell_type": "code",
      "metadata": {
        "colab": {
          "base_uri": "https://localhost:8080/"
        },
        "id": "xIAl8FC5v2db",
        "outputId": "e5a46228-5528-4a58-efda-98fb2d75448d"
      },
      "source": [
        "# Read the stopwords txt file\n",
        "stp = open(path+'hindi_stopwords.txt','r',encoding='utf-8').read().split()\n",
        "num_of_stopwords = len(stp)\n",
        "print(num_of_stopwords)\n",
        "print(stp)"
      ],
      "execution_count": null,
      "outputs": [
        {
          "output_type": "stream",
          "text": [
            "169\n",
            "['अत', 'अपना', 'अपनी', 'अपने', 'अभी', 'अंदर', 'आदि', 'आप', 'इत्यादि', 'इन', 'इनका', 'इन्हीं', 'इन्हें', 'इन्हों', 'इस', 'इसका', 'इसकी', 'इसके', 'इसमें', 'इसी', 'इसे', 'उन', 'उनका', 'उनकी', 'उनके', 'उनको', 'उन्हीं', 'उन्हें', 'उन्हों', 'उस', 'उसके', 'उसी', 'उसे', 'एक', 'एवं', 'एस', 'ऐसे', 'और', 'कई', 'कर', 'करता', 'करते', 'करना', 'करने', 'करें', 'कहते', 'कहा', 'का', 'काफ़ी', 'कि', 'कितना', 'किन्हें', 'किन्हों', 'किया', 'किर', 'किस', 'किसी', 'किसे', 'की', 'कुछ', 'कुल', 'के', 'को', 'कोई', 'कौन', 'कौनसा', 'गया', 'घर', 'जब', 'जहाँ', 'जा', 'जितना', 'जिन', 'जिन्हें', 'जिन्हों', 'जिस', 'जिसे', 'जीधर', 'जैसा', 'जैसे', 'जो', 'तक', 'तब', 'तरह', 'तिन', 'तिन्हें', 'तिन्हों', 'तिस', 'तिसे', 'तो', 'था', 'थी', 'थे', 'दबारा', 'दिया', 'दुसरा', 'दूसरे', 'दो', 'द्वारा', 'न', 'नके', 'नहीं', 'ना', 'निहायत', 'नीचे', 'ने', 'पर', 'पहले', 'पूरा', 'पे', 'फिर', 'बनी', 'बही', 'बहुत', 'बाद', 'बाला', 'बिलकुल', 'भी', 'भीतर', 'मगर', 'मानो', 'मे', 'में', 'यदि', 'यह', 'यहाँ', 'यही', 'या', 'यिह', 'ये', 'रखें', 'रहा', 'रहे', 'ऱ्वासा', 'लिए', 'लिये', 'लेकिन', 'व', 'वग़ैरह', 'वर्ग', 'वह', 'वहाँ', 'वहीं', 'वाले', 'वुह', 'वे', 'सकता', 'सकते', 'सबसे', 'सभी', 'साथ', 'साबुत', 'साभ', 'सारा', 'से', 'सो', 'संग', 'ही', 'हुआ', 'हुई', 'हुए', 'है', 'हैं', 'हो', 'होता', 'होती', 'होते', 'होना', 'होने']\n"
          ],
          "name": "stdout"
        }
      ]
    },
    {
      "cell_type": "markdown",
      "metadata": {
        "id": "YW3NP99Tv59R"
      },
      "source": [
        "## Data Cleaning"
      ]
    },
    {
      "cell_type": "code",
      "metadata": {
        "id": "biWh7HUav8ih"
      },
      "source": [
        "# Cleaning Data [Remove unncessary symbols]\n",
        "def cleaning_data(row,removing_stopwords):\n",
        "      post = row.replace('\\n', ' ') #removing new line \n",
        "      post = row.replace('।', ' ') #removing daari \n",
        "      post = re.sub('[^\\u0900-\\u097F]',' ',str(post)) #removing unnecessary punctuation\n",
        "      if removing_stopwords == True:\n",
        "        stp = open(path+'hindi_stopwords.txt','r',encoding='utf-8').read().split() # Stopwords\n",
        "        result = post.split()\n",
        "        post = [word.strip() for word in result if word not in stp ]\n",
        "        post =\" \".join(post)\n",
        "      return post"
      ],
      "execution_count": null,
      "outputs": []
    },
    {
      "cell_type": "code",
      "metadata": {
        "colab": {
          "base_uri": "https://localhost:8080/"
        },
        "id": "m9WSIZhmwDLN",
        "outputId": "f8110caf-a651-4844-9a57-8f11c485f95e"
      },
      "source": [
        "# Apply the function into the train dataset\n",
        "train_dataset['cleaned'] = train_dataset['Post'].apply(cleaning_data,removing_stopwords = False)  \n",
        "#Let's look at the number empty strings occur after cleaning\n",
        "train_dataset['cleaned'].replace(r'^\\s*$', np.NaN, regex=True,inplace = True)\n",
        "train_dataset.dropna(subset=['cleaned'], inplace=True)\n",
        "train_dataset = train_dataset.reset_index(drop=True)\n",
        "print('After Removing empty strings Total rows in train is {}'.format(len(train_dataset)))\n"
      ],
      "execution_count": null,
      "outputs": [
        {
          "output_type": "stream",
          "text": [
            "After Removing empty strings Total rows in train is 5727\n"
          ],
          "name": "stdout"
        }
      ]
    },
    {
      "cell_type": "code",
      "metadata": {
        "id": "QhuyouCHwoeS"
      },
      "source": [
        "#Generate 50 random numbers between 10 and 5000\n",
        "randomlist = random.sample(range(10, 5000), 50)\n",
        "for i in randomlist:\n",
        "  print(f'Post No- {i}\\n', 'Original --\\n', train_dataset['Post'][i],'\\n',\n",
        "        'Cleaned --\\n',train_dataset['cleaned'][i],'\\n')"
      ],
      "execution_count": null,
      "outputs": []
    },
    {
      "cell_type": "code",
      "metadata": {
        "id": "xoECnM6Twsqi"
      },
      "source": [
        "# Apply the function into the validation dataset\n",
        "val_dataset['cleaned'] = val_dataset['Post'].apply(cleaning_data,removing_stopwords = False)  \n",
        "import random\n",
        "#Generate 50 random numbers between 10 and 5000\n",
        "randomlist = random.sample(range(10, 800), 50)\n",
        "\n",
        "for i in randomlist:\n",
        "  print(f'Post No- {i}\\n', 'Original --\\n', val_dataset['Post'][i],'\\n',\n",
        "        'Cleaned --\\n',val_dataset['cleaned'][i],'\\n')"
      ],
      "execution_count": null,
      "outputs": []
    },
    {
      "cell_type": "code",
      "metadata": {
        "colab": {
          "base_uri": "https://localhost:8080/"
        },
        "id": "qQ3L8g4vMugg",
        "outputId": "d2cb515b-6e79-4fd1-97d3-7a5c0de2f159"
      },
      "source": [
        "test_dataset.columns"
      ],
      "execution_count": null,
      "outputs": [
        {
          "output_type": "execute_result",
          "data": {
            "text/plain": [
              "Index(['Unique ID', 'Post'], dtype='object')"
            ]
          },
          "metadata": {
            "tags": []
          },
          "execution_count": 15
        }
      ]
    },
    {
      "cell_type": "code",
      "metadata": {
        "id": "fY3uiipXMdWq"
      },
      "source": [
        "# Apply the function into the Test dataset\n",
        "test_dataset['cleaned'] = test_dataset['Post'].apply(cleaning_data,removing_stopwords = False)  \n",
        "import random\n",
        "#Generate 50 random numbers between 10 and 5000\n",
        "randomlist = random.sample(range(10, 800), 50)\n",
        "\n",
        "for i in randomlist:\n",
        "  print(f'Post No- {i}\\n', 'Original --\\n', test_dataset['Post'][i],'\\n',\n",
        "        'Cleaned --\\n',test_dataset['cleaned'][i],'\\n')"
      ],
      "execution_count": null,
      "outputs": []
    },
    {
      "cell_type": "markdown",
      "metadata": {
        "id": "ALhU91MVw1Mm"
      },
      "source": [
        "## Length Distribution"
      ]
    },
    {
      "cell_type": "code",
      "metadata": {
        "id": "yDLgRXRfw30C"
      },
      "source": [
        "def post_length_distribution(dataset,label,verbose):\n",
        "  dataset['cleaned'] = dataset['Post'].apply(cleaning_data,removing_stopwords = verbose)  \n",
        "  #Let's look at the number empty strings occur after cleaning\n",
        "  dataset['cleaned'].replace(r'^\\s*$', np.NaN, regex=True,inplace = True)\n",
        "  dataset.dropna(subset=['cleaned'], inplace=True)\n",
        "  new_dataset = dataset.reset_index(drop=True)\n",
        "  # Let's look at the character length for the rows in the training data and record these\n",
        "  new_dataset['char_length'] = new_dataset['cleaned'].apply(lambda x: len(str(x)))\n",
        "  # look at the distribution plot for text length\n",
        "  import matplotlib\n",
        "  matplotlib.rc_file_defaults()\n",
        "  frequency = dict()\n",
        "  for i in new_dataset.char_length:\n",
        "      frequency[i] = frequency.get(i, 0)+1\n",
        "  print(f\"{label} Dataset\\n\")\n",
        "  #print(f\"Remove {len(new_dataset.loc[new_dataset.char_length<1])} empty strings\")\n",
        "  plt.figure(figsize = (6,4))\n",
        "  plt.bar(frequency.keys(), frequency.values(), color =\"b\")\n",
        "  plt.xlim(0, 500)\n",
        "  plt.xlabel('Length of the posts')\n",
        "  plt.ylabel('Frequency')\n",
        "  if verbose == True:\n",
        "    plt.title(f'Post Length-Frequency Distribution (without stowords))')\n",
        "  else:\n",
        "    plt.title(f'Post Length-Frequency Distribution (with stowords))')  \n",
        "  #plt.savefig(path+'len_dist.png',dpi = 1000,bbox_inches ='tight')\n",
        "  plt.show()  \n",
        "\n",
        "  print(f\"Maximum Length of a Post: {max(new_dataset.char_length)}\")\n",
        "  print(f\"Minimum Length of a Post: {min(new_dataset.char_length)}\")\n",
        "  print(f\"Average Length of a Post: {round(np.mean(new_dataset.char_length),0)}\")"
      ],
      "execution_count": null,
      "outputs": []
    },
    {
      "cell_type": "code",
      "metadata": {
        "id": "0e01HJ63w6ZZ"
      },
      "source": [
        "# Find length- frequency distribution for training dataset\n",
        "verbose =  [False,True]\n",
        "for i in verbose:\n",
        "    post_length_distribution(train_dataset,'Training',i)"
      ],
      "execution_count": null,
      "outputs": []
    },
    {
      "cell_type": "code",
      "metadata": {
        "id": "rfkEMDWJxBMd"
      },
      "source": [
        "# Find length- frequency distribution for val dataset\n",
        "verbose =  [False,True]\n",
        "for i in verbose:\n",
        "    post_length_distribution(val_dataset,'Validation',i)"
      ],
      "execution_count": null,
      "outputs": []
    },
    {
      "cell_type": "code",
      "metadata": {
        "id": "EGjzGAXONJE5"
      },
      "source": [
        "# Find length- frequency distribution for val dataset\n",
        "verbose =  [False,True]\n",
        "for i in verbose:\n",
        "    post_length_distribution(test_dataset,'Test',i)"
      ],
      "execution_count": null,
      "outputs": []
    },
    {
      "cell_type": "markdown",
      "metadata": {
        "id": "GRtDu87NJ1Mt"
      },
      "source": [
        "## MultiLabel Encoding (Multilabel Binarizer)"
      ]
    },
    {
      "cell_type": "code",
      "metadata": {
        "id": "vI_oshlOJ7AV"
      },
      "source": [
        "# label Encoding\n",
        "multilabel = MultiLabelBinarizer()\n",
        "train_labels = multilabel.fit_transform(train_dataset['Labels']) \n",
        "test_labels = multilabel.transform(val_dataset['Labels'])"
      ],
      "execution_count": null,
      "outputs": []
    },
    {
      "cell_type": "code",
      "metadata": {
        "id": "Ei5xNwqOLhqe"
      },
      "source": [
        "binary_labels = pd.DataFrame(train_labels, columns = multilabel.classes_)"
      ],
      "execution_count": null,
      "outputs": []
    },
    {
      "cell_type": "code",
      "metadata": {
        "colab": {
          "base_uri": "https://localhost:8080/",
          "height": 419
        },
        "id": "fZHo_x8NLk14",
        "outputId": "7dd725f0-660e-45fc-fa74-070aecbb6738"
      },
      "source": [
        "pd.DataFrame(test_labels, columns = multilabel.classes_)"
      ],
      "execution_count": null,
      "outputs": [
        {
          "output_type": "execute_result",
          "data": {
            "text/html": [
              "<div>\n",
              "<style scoped>\n",
              "    .dataframe tbody tr th:only-of-type {\n",
              "        vertical-align: middle;\n",
              "    }\n",
              "\n",
              "    .dataframe tbody tr th {\n",
              "        vertical-align: top;\n",
              "    }\n",
              "\n",
              "    .dataframe thead th {\n",
              "        text-align: right;\n",
              "    }\n",
              "</style>\n",
              "<table border=\"1\" class=\"dataframe\">\n",
              "  <thead>\n",
              "    <tr style=\"text-align: right;\">\n",
              "      <th></th>\n",
              "      <th>defamation</th>\n",
              "      <th>fake</th>\n",
              "      <th>hate</th>\n",
              "      <th>non-hostile</th>\n",
              "      <th>offensive</th>\n",
              "    </tr>\n",
              "  </thead>\n",
              "  <tbody>\n",
              "    <tr>\n",
              "      <th>0</th>\n",
              "      <td>0</td>\n",
              "      <td>0</td>\n",
              "      <td>0</td>\n",
              "      <td>1</td>\n",
              "      <td>0</td>\n",
              "    </tr>\n",
              "    <tr>\n",
              "      <th>1</th>\n",
              "      <td>1</td>\n",
              "      <td>0</td>\n",
              "      <td>0</td>\n",
              "      <td>0</td>\n",
              "      <td>0</td>\n",
              "    </tr>\n",
              "    <tr>\n",
              "      <th>2</th>\n",
              "      <td>0</td>\n",
              "      <td>0</td>\n",
              "      <td>0</td>\n",
              "      <td>1</td>\n",
              "      <td>0</td>\n",
              "    </tr>\n",
              "    <tr>\n",
              "      <th>3</th>\n",
              "      <td>0</td>\n",
              "      <td>0</td>\n",
              "      <td>0</td>\n",
              "      <td>1</td>\n",
              "      <td>0</td>\n",
              "    </tr>\n",
              "    <tr>\n",
              "      <th>4</th>\n",
              "      <td>0</td>\n",
              "      <td>0</td>\n",
              "      <td>0</td>\n",
              "      <td>1</td>\n",
              "      <td>0</td>\n",
              "    </tr>\n",
              "    <tr>\n",
              "      <th>...</th>\n",
              "      <td>...</td>\n",
              "      <td>...</td>\n",
              "      <td>...</td>\n",
              "      <td>...</td>\n",
              "      <td>...</td>\n",
              "    </tr>\n",
              "    <tr>\n",
              "      <th>806</th>\n",
              "      <td>0</td>\n",
              "      <td>0</td>\n",
              "      <td>1</td>\n",
              "      <td>0</td>\n",
              "      <td>0</td>\n",
              "    </tr>\n",
              "    <tr>\n",
              "      <th>807</th>\n",
              "      <td>1</td>\n",
              "      <td>0</td>\n",
              "      <td>0</td>\n",
              "      <td>0</td>\n",
              "      <td>0</td>\n",
              "    </tr>\n",
              "    <tr>\n",
              "      <th>808</th>\n",
              "      <td>0</td>\n",
              "      <td>0</td>\n",
              "      <td>0</td>\n",
              "      <td>1</td>\n",
              "      <td>0</td>\n",
              "    </tr>\n",
              "    <tr>\n",
              "      <th>809</th>\n",
              "      <td>0</td>\n",
              "      <td>0</td>\n",
              "      <td>0</td>\n",
              "      <td>1</td>\n",
              "      <td>0</td>\n",
              "    </tr>\n",
              "    <tr>\n",
              "      <th>810</th>\n",
              "      <td>0</td>\n",
              "      <td>1</td>\n",
              "      <td>0</td>\n",
              "      <td>0</td>\n",
              "      <td>0</td>\n",
              "    </tr>\n",
              "  </tbody>\n",
              "</table>\n",
              "<p>811 rows × 5 columns</p>\n",
              "</div>"
            ],
            "text/plain": [
              "     defamation  fake  hate  non-hostile  offensive\n",
              "0             0     0     0            1          0\n",
              "1             1     0     0            0          0\n",
              "2             0     0     0            1          0\n",
              "3             0     0     0            1          0\n",
              "4             0     0     0            1          0\n",
              "..          ...   ...   ...          ...        ...\n",
              "806           0     0     1            0          0\n",
              "807           1     0     0            0          0\n",
              "808           0     0     0            1          0\n",
              "809           0     0     0            1          0\n",
              "810           0     1     0            0          0\n",
              "\n",
              "[811 rows x 5 columns]"
            ]
          },
          "metadata": {
            "tags": []
          },
          "execution_count": 19
        }
      ]
    },
    {
      "cell_type": "code",
      "metadata": {
        "id": "cb4E-Z8pLrCg"
      },
      "source": [
        "# Select the columns that will be used for model preparation\n",
        "text_cols = ['Unique ID', 'cleaned', 'Labels Set','Labels']\n",
        "train_data = train_dataset[text_cols]\n",
        "val_data = val_dataset[text_cols]"
      ],
      "execution_count": null,
      "outputs": []
    },
    {
      "cell_type": "markdown",
      "metadata": {
        "id": "075SXhZVRJSm"
      },
      "source": [
        "## **How to convert predictions into labels**"
      ]
    },
    {
      "cell_type": "code",
      "metadata": {
        "colab": {
          "base_uri": "https://localhost:8080/"
        },
        "id": "Lkusa1V8L77X",
        "outputId": "a402494e-ae3d-4afa-8693-9957bc7b1de1"
      },
      "source": [
        "print(multilabel.inverse_transform(y_val))"
      ],
      "execution_count": null,
      "outputs": [
        {
          "output_type": "stream",
          "text": [
            "[('fake',), ('non-hostile',), ('non-hostile',), ('non-hostile',), ('non-hostile',), ('non-hostile',), ('hate',), ('non-hostile',), ('non-hostile',), ('non-hostile',), ('non-hostile',), ('non-hostile',), ('non-hostile',), ('fake',), ('defamation', 'hate'), ('fake',), ('non-hostile',), ('non-hostile',), ('non-hostile',), ('defamation',), ('hate',), ('hate',), ('defamation', 'hate'), ('non-hostile',), ('defamation',), ('offensive',), ('non-hostile',), ('hate',), ('non-hostile',), ('non-hostile',), ('non-hostile',), ('non-hostile',), ('hate', 'offensive'), ('hate',), ('defamation', 'offensive'), ('non-hostile',), ('offensive',), ('fake',), ('non-hostile',), ('fake',), ('offensive',), ('non-hostile',), ('offensive',), ('defamation',), ('defamation',), ('non-hostile',), ('defamation',), ('non-hostile',), ('fake',), ('non-hostile',), ('non-hostile',), ('fake',), ('non-hostile',), ('non-hostile',), ('non-hostile',), ('hate', 'offensive'), ('fake',), ('non-hostile',), ('hate',), ('defamation',), ('non-hostile',), ('fake',), ('non-hostile',), ('non-hostile',), ('non-hostile',), ('non-hostile',), ('non-hostile',), ('offensive',), ('defamation',), ('hate',), ('non-hostile',), ('defamation',), ('non-hostile',), ('non-hostile',), ('non-hostile',), ('non-hostile',), ('hate', 'offensive'), ('non-hostile',), ('non-hostile',), ('non-hostile',), ('non-hostile',), ('fake',), ('defamation', 'hate'), ('fake',), ('non-hostile',), ('non-hostile',), ('fake',), ('fake',), ('non-hostile',), ('non-hostile',), ('non-hostile',), ('non-hostile',), ('non-hostile',), ('non-hostile',), ('hate', 'offensive'), ('non-hostile',), ('fake',), ('fake',), ('hate',), ('non-hostile',), ('non-hostile',), ('fake',), ('hate',), ('hate',), ('non-hostile',), ('defamation', 'hate'), ('fake',), ('non-hostile',), ('fake',), ('non-hostile',), ('non-hostile',), ('defamation', 'offensive'), ('non-hostile',), ('non-hostile',), ('non-hostile',), ('fake',), ('fake',), ('fake',), ('non-hostile',), ('non-hostile',), ('hate',), ('non-hostile',), ('non-hostile',), ('non-hostile',), ('non-hostile',), ('hate', 'offensive'), ('defamation', 'offensive'), ('fake',), ('non-hostile',), ('non-hostile',), ('non-hostile',), ('fake',), ('fake',), ('fake',), ('non-hostile',), ('fake',), ('non-hostile',), ('fake',), ('non-hostile',), ('fake',), ('non-hostile',), ('fake',), ('non-hostile',), ('non-hostile',), ('defamation',), ('fake',), ('fake',), ('non-hostile',), ('fake',), ('fake',), ('hate', 'offensive'), ('non-hostile',), ('non-hostile',), ('offensive',), ('non-hostile',), ('non-hostile',), ('defamation',), ('defamation',), ('non-hostile',), ('fake',), ('non-hostile',), ('non-hostile',), ('defamation',), ('defamation', 'fake'), ('non-hostile',), ('non-hostile',), ('non-hostile',), ('non-hostile',), ('non-hostile',), ('fake',), ('non-hostile',), ('non-hostile',), ('hate', 'offensive'), ('fake',), ('non-hostile',), ('fake',), ('non-hostile',), ('fake',), ('non-hostile',), ('offensive',), ('fake',), ('fake',), ('non-hostile',), ('non-hostile',), ('non-hostile',), ('fake',), ('fake', 'offensive'), ('non-hostile',), ('defamation',), ('non-hostile',), ('non-hostile',), ('hate',), ('non-hostile',), ('non-hostile',), ('non-hostile',), ('non-hostile',), ('non-hostile',), ('non-hostile',), ('non-hostile',), ('hate', 'offensive'), ('hate',), ('defamation',), ('fake',), ('non-hostile',), ('non-hostile',), ('defamation',), ('fake',), ('fake',), ('fake',), ('non-hostile',), ('non-hostile',), ('non-hostile',), ('non-hostile',), ('non-hostile',), ('hate', 'offensive'), ('non-hostile',), ('non-hostile',), ('non-hostile',), ('hate',), ('fake',), ('non-hostile',), ('non-hostile',), ('defamation',), ('defamation',), ('non-hostile',), ('non-hostile',), ('non-hostile',), ('non-hostile',), ('non-hostile',), ('non-hostile',), ('offensive',), ('fake',), ('fake',), ('fake',), ('fake',), ('fake',), ('fake',), ('hate',), ('non-hostile',), ('non-hostile',), ('non-hostile',), ('fake',), ('fake',), ('defamation',), ('non-hostile',), ('hate',), ('non-hostile',), ('non-hostile',), ('hate',), ('non-hostile',), ('non-hostile',), ('non-hostile',), ('non-hostile',), ('non-hostile',), ('non-hostile',), ('non-hostile',), ('hate',), ('non-hostile',), ('non-hostile',), ('non-hostile',), ('fake',), ('non-hostile',), ('non-hostile',), ('non-hostile',), ('fake',), ('fake',), ('offensive',), ('non-hostile',), ('non-hostile',), ('non-hostile',), ('non-hostile',), ('defamation', 'fake'), ('offensive',), ('offensive',), ('non-hostile',), ('non-hostile',), ('offensive',), ('non-hostile',), ('fake',), ('non-hostile',), ('defamation',), ('non-hostile',), ('non-hostile',), ('hate', 'offensive'), ('non-hostile',), ('non-hostile',), ('non-hostile',), ('hate',), ('defamation', 'offensive'), ('non-hostile',), ('non-hostile',), ('offensive',), ('fake',), ('non-hostile',), ('hate', 'offensive'), ('non-hostile',), ('non-hostile',), ('offensive',), ('offensive',), ('offensive',), ('non-hostile',), ('non-hostile',), ('hate',), ('fake',), ('non-hostile',), ('non-hostile',), ('non-hostile',), ('non-hostile',), ('defamation', 'fake'), ('non-hostile',), ('fake',), ('defamation',), ('fake',), ('fake',), ('non-hostile',), ('fake',), ('fake',), ('non-hostile',), ('fake',), ('offensive',), ('defamation',), ('defamation', 'fake', 'offensive'), ('fake',), ('fake',), ('fake', 'hate'), ('fake',), ('defamation', 'offensive'), ('defamation',), ('defamation', 'fake', 'offensive'), ('fake',), ('fake',), ('non-hostile',), ('non-hostile',), ('non-hostile',), ('non-hostile',), ('hate',), ('hate', 'offensive'), ('hate',), ('offensive',), ('non-hostile',), ('non-hostile',), ('fake',), ('offensive',), ('non-hostile',), ('non-hostile',), ('non-hostile',), ('non-hostile',), ('non-hostile',), ('fake', 'hate'), ('hate',), ('defamation', 'offensive'), ('non-hostile',), ('non-hostile',), ('non-hostile',), ('non-hostile',), ('fake',), ('non-hostile',), ('non-hostile',), ('non-hostile',), ('defamation', 'fake', 'offensive'), ('non-hostile',), ('non-hostile',), ('non-hostile',), ('fake',), ('non-hostile',), ('offensive',), ('defamation', 'hate'), ('non-hostile',), ('hate',), ('fake',), ('non-hostile',), ('non-hostile',), ('defamation', 'offensive'), ('non-hostile',), ('non-hostile',), ('defamation',), ('defamation', 'hate'), ('non-hostile',), ('defamation', 'hate'), ('fake',), ('hate',), ('defamation', 'hate'), ('non-hostile',), ('non-hostile',), ('non-hostile',), ('offensive',), ('non-hostile',), ('fake',), ('non-hostile',), ('defamation',), ('non-hostile',), ('defamation',), ('hate',), ('non-hostile',), ('non-hostile',), ('fake',), ('defamation', 'hate'), ('non-hostile',), ('non-hostile',), ('defamation', 'hate'), ('defamation',), ('non-hostile',), ('fake',), ('non-hostile',), ('non-hostile',), ('non-hostile',), ('non-hostile',), ('fake',), ('defamation',), ('non-hostile',), ('non-hostile',), ('non-hostile',), ('non-hostile',), ('hate', 'offensive'), ('fake',), ('non-hostile',), ('defamation', 'hate'), ('non-hostile',), ('defamation',), ('non-hostile',), ('non-hostile',), ('hate', 'offensive'), ('non-hostile',), ('non-hostile',), ('non-hostile',), ('hate',), ('non-hostile',), ('non-hostile',), ('non-hostile',), ('non-hostile',), ('offensive',), ('non-hostile',), ('fake',), ('hate',), ('non-hostile',), ('non-hostile',), ('non-hostile',), ('hate',), ('non-hostile',), ('non-hostile',), ('fake',), ('non-hostile',), ('hate',), ('hate', 'offensive'), ('non-hostile',), ('fake',), ('non-hostile',), ('non-hostile',), ('fake',), ('fake',), ('non-hostile',), ('non-hostile',), ('non-hostile',), ('fake',), ('fake',), ('offensive',), ('fake',), ('non-hostile',), ('hate', 'offensive'), ('defamation',), ('defamation', 'hate'), ('hate',), ('non-hostile',), ('non-hostile',), ('hate',), ('defamation',), ('non-hostile',), ('fake',), ('defamation', 'offensive'), ('non-hostile',), ('non-hostile',), ('defamation',), ('non-hostile',), ('non-hostile',), ('non-hostile',), ('hate', 'offensive'), ('non-hostile',), ('non-hostile',), ('hate', 'offensive'), ('non-hostile',), ('defamation',), ('defamation',), ('non-hostile',), ('fake',), ('offensive',), ('non-hostile',), ('fake',), ('defamation',), ('offensive',), ('offensive',), ('non-hostile',), ('defamation',), ('non-hostile',), ('non-hostile',), ('hate',), ('non-hostile',), ('non-hostile',), ('non-hostile',), ('non-hostile',), ('offensive',), ('defamation',), ('non-hostile',), ('non-hostile',), ('hate',), ('non-hostile',), ('defamation',), ('non-hostile',), ('non-hostile',), ('hate',), ('non-hostile',), ('non-hostile',), ('non-hostile',), ('hate',), ('hate',), ('non-hostile',), ('non-hostile',), ('fake',), ('non-hostile',), ('offensive',), ('non-hostile',), ('non-hostile',), ('defamation',), ('defamation', 'hate'), ('non-hostile',), ('non-hostile',), ('defamation', 'offensive'), ('hate',), ('fake',), ('non-hostile',), ('non-hostile',), ('offensive',), ('non-hostile',), ('hate', 'offensive'), ('fake',), ('non-hostile',), ('offensive',), ('hate',), ('non-hostile',), ('non-hostile',), ('offensive',), ('non-hostile',), ('defamation',), ('defamation', 'offensive'), ('defamation',), ('defamation',), ('non-hostile',), ('fake',), ('non-hostile',), ('non-hostile',), ('offensive',), ('fake',), ('non-hostile',), ('fake',), ('non-hostile',), ('non-hostile',), ('non-hostile',), ('non-hostile',), ('offensive',), ('non-hostile',), ('non-hostile',), ('offensive',), ('non-hostile',), ('fake',), ('non-hostile',), ('hate',), ('non-hostile',), ('non-hostile',), ('hate',), ('fake',), ('non-hostile',), ('fake',), ('non-hostile',), ('non-hostile',), ('defamation',), ('fake',), ('defamation', 'hate'), ('non-hostile',), ('non-hostile',), ('fake',), ('fake',), ('hate',), ('non-hostile',), ('fake',), ('fake',), ('non-hostile',), ('defamation', 'offensive'), ('non-hostile',), ('offensive',), ('offensive',), ('non-hostile',), ('fake',), ('offensive',), ('non-hostile',), ('non-hostile',), ('hate', 'offensive'), ('fake',), ('hate',), ('non-hostile',), ('non-hostile',), ('fake', 'hate', 'offensive'), ('non-hostile',), ('non-hostile',), ('hate',), ('non-hostile',), ('non-hostile',), ('non-hostile',), ('offensive',), ('fake',), ('non-hostile',), ('hate',), ('defamation', 'hate'), ('non-hostile',), ('non-hostile',), ('fake',), ('non-hostile',), ('non-hostile',), ('non-hostile',), ('offensive',), ('defamation',), ('non-hostile',), ('defamation',), ('non-hostile',), ('non-hostile',), ('fake',), ('defamation',), ('non-hostile',), ('fake',), ('non-hostile',), ('non-hostile',), ('offensive',), ('non-hostile',), ('non-hostile',), ('fake',), ('fake',), ('non-hostile',), ('fake', 'offensive'), ('non-hostile',), ('hate',), ('non-hostile',), ('non-hostile',), ('defamation',), ('non-hostile',), ('non-hostile',), ('non-hostile',), ('non-hostile',), ('non-hostile',), ('fake',), ('fake',), ('non-hostile',), ('non-hostile',), ('non-hostile',), ('fake',), ('defamation', 'offensive'), ('non-hostile',), ('non-hostile',), ('hate',), ('non-hostile',), ('hate', 'offensive'), ('fake',), ('non-hostile',), ('non-hostile',), ('fake',), ('non-hostile',), ('non-hostile',), ('non-hostile',), ('hate',), ('offensive',), ('non-hostile',), ('offensive',), ('non-hostile',), ('non-hostile',), ('non-hostile',), ('non-hostile',), ('offensive',), ('non-hostile',), ('non-hostile',), ('non-hostile',), ('non-hostile',), ('non-hostile',), ('fake',), ('fake',), ('non-hostile',), ('non-hostile',), ('non-hostile',), ('fake',), ('offensive',), ('offensive',), ('hate', 'offensive'), ('defamation', 'fake'), ('hate', 'offensive'), ('non-hostile',), ('non-hostile',), ('non-hostile',), ('fake',), ('non-hostile',), ('hate',), ('fake',), ('non-hostile',), ('hate',), ('non-hostile',), ('non-hostile',), ('non-hostile',), ('hate',), ('non-hostile',), ('hate',), ('defamation', 'hate'), ('non-hostile',), ('fake',), ('non-hostile',), ('fake',), ('fake',), ('non-hostile',), ('non-hostile',), ('fake',), ('offensive',), ('non-hostile',), ('hate',), ('non-hostile',), ('non-hostile',), ('hate',), ('non-hostile',), ('non-hostile',), ('defamation',), ('fake',), ('non-hostile',), ('hate',), ('non-hostile',), ('non-hostile',), ('non-hostile',), ('non-hostile',), ('non-hostile',), ('non-hostile',), ('fake',), ('non-hostile',), ('fake',), ('non-hostile',), ('non-hostile',), ('non-hostile',), ('hate',), ('fake',), ('non-hostile',), ('non-hostile',), ('fake',), ('non-hostile',), ('non-hostile',), ('defamation',), ('offensive',), ('fake',), ('hate',), ('defamation', 'offensive'), ('hate', 'offensive'), ('non-hostile',), ('defamation',), ('non-hostile',), ('offensive',), ('offensive',), ('offensive',), ('non-hostile',), ('fake',), ('fake',), ('fake',), ('non-hostile',), ('fake',), ('non-hostile',), ('fake',), ('non-hostile',), ('non-hostile',), ('non-hostile',), ('non-hostile',), ('non-hostile',), ('non-hostile',), ('fake', 'hate'), ('offensive',), ('offensive',), ('defamation',), ('non-hostile',), ('non-hostile',), ('non-hostile',), ('non-hostile',), ('non-hostile',), ('defamation',), ('fake',), ('non-hostile',), ('non-hostile',), ('non-hostile',), ('non-hostile',), ('hate',), ('offensive',), ('non-hostile',), ('offensive',), ('non-hostile',), ('fake',), ('fake',), ('non-hostile',), ('non-hostile',), ('non-hostile',), ('defamation', 'hate'), ('defamation',), ('non-hostile',), ('non-hostile',), ('offensive',), ('non-hostile',), ('non-hostile',), ('defamation', 'fake'), ('non-hostile',), ('non-hostile',), ('non-hostile',), ('non-hostile',), ('non-hostile',), ('non-hostile',), ('non-hostile',), ('defamation',), ('non-hostile',), ('non-hostile',), ('non-hostile',), ('hate',), ('non-hostile',), ('non-hostile',), ('non-hostile',), ('fake',), ('fake',), ('non-hostile',), ('fake',), ('non-hostile',), ('non-hostile',), ('non-hostile',), ('defamation',), ('non-hostile',), ('non-hostile',), ('non-hostile',), ('hate',), ('fake',), ('fake',), ('offensive',), ('non-hostile',), ('hate',), ('fake',), ('non-hostile',), ('hate',), ('non-hostile',), ('non-hostile',), ('non-hostile',), ('non-hostile',), ('non-hostile',), ('fake',), ('non-hostile',), ('fake',), ('non-hostile',), ('fake', 'offensive'), ('non-hostile',), ('non-hostile',), ('non-hostile',), ('hate', 'offensive'), ('offensive',), ('fake',), ('non-hostile',), ('offensive',), ('fake', 'hate', 'offensive'), ('non-hostile',), ('hate',)]\n"
          ],
          "name": "stdout"
        }
      ]
    },
    {
      "cell_type": "code",
      "metadata": {
        "colab": {
          "base_uri": "https://localhost:8080/"
        },
        "id": "0nO2c0EzPRkp",
        "outputId": "28e109a3-4703-4586-a078-da7d08d06d96"
      },
      "source": [
        "labels = multilabel.inverse_transform(y_val)\n",
        "l = []\n",
        "for i in labels:\n",
        "  l.append(','.join(i))\n",
        "\n",
        "print(l)  \n"
      ],
      "execution_count": null,
      "outputs": [
        {
          "output_type": "stream",
          "text": [
            "['fake', 'non-hostile', 'non-hostile', 'non-hostile', 'non-hostile', 'non-hostile', 'hate', 'non-hostile', 'non-hostile', 'non-hostile', 'non-hostile', 'non-hostile', 'non-hostile', 'fake', 'defamation,hate', 'fake', 'non-hostile', 'non-hostile', 'non-hostile', 'defamation', 'hate', 'hate', 'defamation,hate', 'non-hostile', 'defamation', 'offensive', 'non-hostile', 'hate', 'non-hostile', 'non-hostile', 'non-hostile', 'non-hostile', 'hate,offensive', 'hate', 'defamation,offensive', 'non-hostile', 'offensive', 'fake', 'non-hostile', 'fake', 'offensive', 'non-hostile', 'offensive', 'defamation', 'defamation', 'non-hostile', 'defamation', 'non-hostile', 'fake', 'non-hostile', 'non-hostile', 'fake', 'non-hostile', 'non-hostile', 'non-hostile', 'hate,offensive', 'fake', 'non-hostile', 'hate', 'defamation', 'non-hostile', 'fake', 'non-hostile', 'non-hostile', 'non-hostile', 'non-hostile', 'non-hostile', 'offensive', 'defamation', 'hate', 'non-hostile', 'defamation', 'non-hostile', 'non-hostile', 'non-hostile', 'non-hostile', 'hate,offensive', 'non-hostile', 'non-hostile', 'non-hostile', 'non-hostile', 'fake', 'defamation,hate', 'fake', 'non-hostile', 'non-hostile', 'fake', 'fake', 'non-hostile', 'non-hostile', 'non-hostile', 'non-hostile', 'non-hostile', 'non-hostile', 'hate,offensive', 'non-hostile', 'fake', 'fake', 'hate', 'non-hostile', 'non-hostile', 'fake', 'hate', 'hate', 'non-hostile', 'defamation,hate', 'fake', 'non-hostile', 'fake', 'non-hostile', 'non-hostile', 'defamation,offensive', 'non-hostile', 'non-hostile', 'non-hostile', 'fake', 'fake', 'fake', 'non-hostile', 'non-hostile', 'hate', 'non-hostile', 'non-hostile', 'non-hostile', 'non-hostile', 'hate,offensive', 'defamation,offensive', 'fake', 'non-hostile', 'non-hostile', 'non-hostile', 'fake', 'fake', 'fake', 'non-hostile', 'fake', 'non-hostile', 'fake', 'non-hostile', 'fake', 'non-hostile', 'fake', 'non-hostile', 'non-hostile', 'defamation', 'fake', 'fake', 'non-hostile', 'fake', 'fake', 'hate,offensive', 'non-hostile', 'non-hostile', 'offensive', 'non-hostile', 'non-hostile', 'defamation', 'defamation', 'non-hostile', 'fake', 'non-hostile', 'non-hostile', 'defamation', 'defamation,fake', 'non-hostile', 'non-hostile', 'non-hostile', 'non-hostile', 'non-hostile', 'fake', 'non-hostile', 'non-hostile', 'hate,offensive', 'fake', 'non-hostile', 'fake', 'non-hostile', 'fake', 'non-hostile', 'offensive', 'fake', 'fake', 'non-hostile', 'non-hostile', 'non-hostile', 'fake', 'fake,offensive', 'non-hostile', 'defamation', 'non-hostile', 'non-hostile', 'hate', 'non-hostile', 'non-hostile', 'non-hostile', 'non-hostile', 'non-hostile', 'non-hostile', 'non-hostile', 'hate,offensive', 'hate', 'defamation', 'fake', 'non-hostile', 'non-hostile', 'defamation', 'fake', 'fake', 'fake', 'non-hostile', 'non-hostile', 'non-hostile', 'non-hostile', 'non-hostile', 'hate,offensive', 'non-hostile', 'non-hostile', 'non-hostile', 'hate', 'fake', 'non-hostile', 'non-hostile', 'defamation', 'defamation', 'non-hostile', 'non-hostile', 'non-hostile', 'non-hostile', 'non-hostile', 'non-hostile', 'offensive', 'fake', 'fake', 'fake', 'fake', 'fake', 'fake', 'hate', 'non-hostile', 'non-hostile', 'non-hostile', 'fake', 'fake', 'defamation', 'non-hostile', 'hate', 'non-hostile', 'non-hostile', 'hate', 'non-hostile', 'non-hostile', 'non-hostile', 'non-hostile', 'non-hostile', 'non-hostile', 'non-hostile', 'hate', 'non-hostile', 'non-hostile', 'non-hostile', 'fake', 'non-hostile', 'non-hostile', 'non-hostile', 'fake', 'fake', 'offensive', 'non-hostile', 'non-hostile', 'non-hostile', 'non-hostile', 'defamation,fake', 'offensive', 'offensive', 'non-hostile', 'non-hostile', 'offensive', 'non-hostile', 'fake', 'non-hostile', 'defamation', 'non-hostile', 'non-hostile', 'hate,offensive', 'non-hostile', 'non-hostile', 'non-hostile', 'hate', 'defamation,offensive', 'non-hostile', 'non-hostile', 'offensive', 'fake', 'non-hostile', 'hate,offensive', 'non-hostile', 'non-hostile', 'offensive', 'offensive', 'offensive', 'non-hostile', 'non-hostile', 'hate', 'fake', 'non-hostile', 'non-hostile', 'non-hostile', 'non-hostile', 'defamation,fake', 'non-hostile', 'fake', 'defamation', 'fake', 'fake', 'non-hostile', 'fake', 'fake', 'non-hostile', 'fake', 'offensive', 'defamation', 'defamation,fake,offensive', 'fake', 'fake', 'fake,hate', 'fake', 'defamation,offensive', 'defamation', 'defamation,fake,offensive', 'fake', 'fake', 'non-hostile', 'non-hostile', 'non-hostile', 'non-hostile', 'hate', 'hate,offensive', 'hate', 'offensive', 'non-hostile', 'non-hostile', 'fake', 'offensive', 'non-hostile', 'non-hostile', 'non-hostile', 'non-hostile', 'non-hostile', 'fake,hate', 'hate', 'defamation,offensive', 'non-hostile', 'non-hostile', 'non-hostile', 'non-hostile', 'fake', 'non-hostile', 'non-hostile', 'non-hostile', 'defamation,fake,offensive', 'non-hostile', 'non-hostile', 'non-hostile', 'fake', 'non-hostile', 'offensive', 'defamation,hate', 'non-hostile', 'hate', 'fake', 'non-hostile', 'non-hostile', 'defamation,offensive', 'non-hostile', 'non-hostile', 'defamation', 'defamation,hate', 'non-hostile', 'defamation,hate', 'fake', 'hate', 'defamation,hate', 'non-hostile', 'non-hostile', 'non-hostile', 'offensive', 'non-hostile', 'fake', 'non-hostile', 'defamation', 'non-hostile', 'defamation', 'hate', 'non-hostile', 'non-hostile', 'fake', 'defamation,hate', 'non-hostile', 'non-hostile', 'defamation,hate', 'defamation', 'non-hostile', 'fake', 'non-hostile', 'non-hostile', 'non-hostile', 'non-hostile', 'fake', 'defamation', 'non-hostile', 'non-hostile', 'non-hostile', 'non-hostile', 'hate,offensive', 'fake', 'non-hostile', 'defamation,hate', 'non-hostile', 'defamation', 'non-hostile', 'non-hostile', 'hate,offensive', 'non-hostile', 'non-hostile', 'non-hostile', 'hate', 'non-hostile', 'non-hostile', 'non-hostile', 'non-hostile', 'offensive', 'non-hostile', 'fake', 'hate', 'non-hostile', 'non-hostile', 'non-hostile', 'hate', 'non-hostile', 'non-hostile', 'fake', 'non-hostile', 'hate', 'hate,offensive', 'non-hostile', 'fake', 'non-hostile', 'non-hostile', 'fake', 'fake', 'non-hostile', 'non-hostile', 'non-hostile', 'fake', 'fake', 'offensive', 'fake', 'non-hostile', 'hate,offensive', 'defamation', 'defamation,hate', 'hate', 'non-hostile', 'non-hostile', 'hate', 'defamation', 'non-hostile', 'fake', 'defamation,offensive', 'non-hostile', 'non-hostile', 'defamation', 'non-hostile', 'non-hostile', 'non-hostile', 'hate,offensive', 'non-hostile', 'non-hostile', 'hate,offensive', 'non-hostile', 'defamation', 'defamation', 'non-hostile', 'fake', 'offensive', 'non-hostile', 'fake', 'defamation', 'offensive', 'offensive', 'non-hostile', 'defamation', 'non-hostile', 'non-hostile', 'hate', 'non-hostile', 'non-hostile', 'non-hostile', 'non-hostile', 'offensive', 'defamation', 'non-hostile', 'non-hostile', 'hate', 'non-hostile', 'defamation', 'non-hostile', 'non-hostile', 'hate', 'non-hostile', 'non-hostile', 'non-hostile', 'hate', 'hate', 'non-hostile', 'non-hostile', 'fake', 'non-hostile', 'offensive', 'non-hostile', 'non-hostile', 'defamation', 'defamation,hate', 'non-hostile', 'non-hostile', 'defamation,offensive', 'hate', 'fake', 'non-hostile', 'non-hostile', 'offensive', 'non-hostile', 'hate,offensive', 'fake', 'non-hostile', 'offensive', 'hate', 'non-hostile', 'non-hostile', 'offensive', 'non-hostile', 'defamation', 'defamation,offensive', 'defamation', 'defamation', 'non-hostile', 'fake', 'non-hostile', 'non-hostile', 'offensive', 'fake', 'non-hostile', 'fake', 'non-hostile', 'non-hostile', 'non-hostile', 'non-hostile', 'offensive', 'non-hostile', 'non-hostile', 'offensive', 'non-hostile', 'fake', 'non-hostile', 'hate', 'non-hostile', 'non-hostile', 'hate', 'fake', 'non-hostile', 'fake', 'non-hostile', 'non-hostile']\n"
          ],
          "name": "stdout"
        }
      ]
    },
    {
      "cell_type": "code",
      "metadata": {
        "id": "f2pXMAjtQqnr"
      },
      "source": [
        "predict = pd.DataFrame({'Labels':l})\n",
        "predict[100:150]"
      ],
      "execution_count": null,
      "outputs": []
    },
    {
      "cell_type": "markdown",
      "metadata": {
        "id": "hUEs_dexOXvW"
      },
      "source": [
        "## Merge the Dataset"
      ]
    },
    {
      "cell_type": "code",
      "metadata": {
        "colab": {
          "base_uri": "https://localhost:8080/"
        },
        "id": "7YM3Uo6AOHHo",
        "outputId": "6f610d0c-f4b1-4ce2-a58b-32263f7c8c26"
      },
      "source": [
        "complete_data = pd.concat([train_data['cleaned'],val_dataset['cleaned'],test_dataset['cleaned']],names=['cleaned'],ignore_index=True)\n",
        "len(complete_data)"
      ],
      "execution_count": null,
      "outputs": [
        {
          "output_type": "execute_result",
          "data": {
            "text/plain": [
              "8191"
            ]
          },
          "metadata": {
            "tags": []
          },
          "execution_count": 14
        }
      ]
    },
    {
      "cell_type": "markdown",
      "metadata": {
        "id": "QAdaqhL3RS8h"
      },
      "source": [
        "## TF-iDF Vectorizer"
      ]
    },
    {
      "cell_type": "code",
      "metadata": {
        "colab": {
          "base_uri": "https://localhost:8080/"
        },
        "id": "x9f7-KczRV2z",
        "outputId": "c2ccdd38-ec05-4958-e421-5dc4d4250217"
      },
      "source": [
        "from sklearn.feature_extraction.text import TfidfVectorizer\n",
        "from sklearn import metrics\n",
        "#use_idf=True,tokenizer=lambda x: x.split()\n",
        "vectorizer = TfidfVectorizer(use_idf=True, tokenizer=lambda x: x.split(),min_df= 5, ngram_range=(1,3))\n",
        "vectorised_posts = vectorizer.fit(complete_data)\n",
        "vectorized_train_posts = vectorizer.transform(train_data['cleaned'])\n",
        "vectorized_test_posts = vectorizer.transform(val_data['cleaned'])\n",
        "\n",
        "print(\"Feature Size: \", vectorized_train_posts.shape[1])\n",
        "#vectorizer.vocabulary_"
      ],
      "execution_count": null,
      "outputs": [
        {
          "output_type": "stream",
          "text": [
            "Feature Size:  11766\n"
          ],
          "name": "stdout"
        }
      ]
    },
    {
      "cell_type": "code",
      "metadata": {
        "colab": {
          "base_uri": "https://localhost:8080/"
        },
        "id": "m2LKxZ73Pavx",
        "outputId": "4b23bb7a-a8cb-4b37-c904-8579aae58fec"
      },
      "source": [
        "vectorized_train_posts.shape"
      ],
      "execution_count": null,
      "outputs": [
        {
          "output_type": "execute_result",
          "data": {
            "text/plain": [
              "(5727, 15778)"
            ]
          },
          "metadata": {
            "tags": []
          },
          "execution_count": 23
        }
      ]
    },
    {
      "cell_type": "code",
      "metadata": {
        "colab": {
          "base_uri": "https://localhost:8080/"
        },
        "id": "npNC5IBS3Gdq",
        "outputId": "893238b8-b8c9-424e-fb38-9990168e5d86"
      },
      "source": [
        "from sklearn.model_selection import train_test_split\n",
        "\n",
        "X_train,X_val,y_train,y_val = train_test_split(vectorized_train_posts,train_labels,test_size = 0.15,random_state = 42)\n",
        "print(\"Training Set Size : \",X_train.shape)\n",
        "print(\"Validation Set Size : \",X_val.shape)"
      ],
      "execution_count": null,
      "outputs": [
        {
          "output_type": "stream",
          "text": [
            "Training Set Size :  (4867, 86509)\n",
            "Validation Set Size :  (860, 86509)\n"
          ],
          "name": "stdout"
        }
      ]
    },
    {
      "cell_type": "code",
      "metadata": {
        "id": "fngqYNwgRh5q"
      },
      "source": [
        "#samp_comment = X_val[]\n",
        "#first_vector = vectorizer.transform([samp_comment])\n",
        "#df = pd.DataFrame(first_vector.T.todense(), index=vectorizer.get_feature_names(), columns=[\"tfidf\"])\n",
        "#a = df.sort_values(by=[\"tfidf\"],ascending=False)\n",
        "#print(a[0:len(samp_comment.split())])"
      ],
      "execution_count": null,
      "outputs": []
    },
    {
      "cell_type": "code",
      "metadata": {
        "id": "dPyX-N5YRrhn"
      },
      "source": [
        "vectorizer.get_feature_names()"
      ],
      "execution_count": null,
      "outputs": []
    },
    {
      "cell_type": "markdown",
      "metadata": {
        "id": "yaWwBsB0R2gF"
      },
      "source": [
        "## Evaluation Function"
      ]
    },
    {
      "cell_type": "code",
      "metadata": {
        "id": "YhQM55zNR4-G"
      },
      "source": [
        "ModelsPerformance = {}\n",
        "def print_score(modelname,actual_labels, predictions):\n",
        "  accuracy = accuracy_score(actual_labels, predictions)\n",
        "\n",
        "  precision = precision_score(actual_labels, predictions, average='weighted')\n",
        "  recall = recall_score(actual_labels, predictions, average='weighted')\n",
        "  f1 = f1_score(actual_labels, predictions, average='weighted')\n",
        "\n",
        "\n",
        "  print(\"------\" + modelname + \" Model Metrics-----\")\n",
        "  print(\"Accuracy: {:.4f}\\nPrecision:-  {:.4f}\\n Recall: - {:.4f}\\n F1-measure: -  {:.4f}\\n \"\\\n",
        "          .format(accuracy, precision, recall, f1))\n",
        "  ModelsPerformance[modelname] = f1\n"
      ],
      "execution_count": null,
      "outputs": []
    },
    {
      "cell_type": "markdown",
      "metadata": {
        "id": "4GLBY-aGR8n-"
      },
      "source": [
        "## Hyperparameter Tunning Function"
      ]
    },
    {
      "cell_type": "code",
      "metadata": {
        "id": "aWZNA8-WR_wc"
      },
      "source": [
        "# Hyperparameter Tunning Using Grid Search\n",
        "from sklearn.model_selection import GridSearchCV\n",
        "def parameter_tunning(modelname, param_grid ):\n",
        "  clf = OneVsRestClassifier(modelname)\n",
        "  model_tunning = GridSearchCV(clf,param_grid, scoring = 'f1_weighted', cv=10, n_jobs=-1)\n",
        "  model_tunning.fit(vectorized_train_posts, train_labels)\n",
        "  print(\"Grid Search on ----\",modelname.__class__.__name__)\n",
        "  print('Best F1-Score:',model_tunning.best_score_)\n",
        "  print('Best Parameters:',model_tunning.best_params_)"
      ],
      "execution_count": null,
      "outputs": []
    },
    {
      "cell_type": "markdown",
      "metadata": {
        "id": "MZSeiCZ2SHBZ"
      },
      "source": [
        "### Logistic Regression (One Vs Rest)"
      ]
    },
    {
      "cell_type": "code",
      "metadata": {
        "id": "HCsV-rZ_SJan"
      },
      "source": [
        "# Grid search cross validation\n",
        "from sklearn.linear_model import LogisticRegression\n",
        "param_grid={\"estimator__C\":np.logspace(-3,3,7)}\n",
        "parameter_tunning(LogisticRegression(),param_grid)"
      ],
      "execution_count": null,
      "outputs": []
    },
    {
      "cell_type": "code",
      "metadata": {
        "colab": {
          "base_uri": "https://localhost:8080/"
        },
        "id": "r4LoXcTVSS12",
        "outputId": "b5c22961-21f7-4032-fe75-431a0b956962"
      },
      "source": [
        "# After Tunning\n",
        "# Optimum C = 100 \n",
        "lr = OneVsRestClassifier( LogisticRegression(C = 10) )\n",
        "lr.fit(vectorized_train_posts,train_labels)\n",
        "y_pred = lr.predict(vectorized_test_posts)\n",
        "print_score('LR (OvR)',test_labels,y_pred)"
      ],
      "execution_count": null,
      "outputs": [
        {
          "output_type": "stream",
          "text": [
            "------LR (OvR) Model Metrics-----\n",
            "Accuracy: 0.5697\n",
            "Precision:-  0.7519\n",
            " Recall: - 0.5898\n",
            " F1-measure: -  0.6396\n",
            " \n"
          ],
          "name": "stdout"
        }
      ]
    },
    {
      "cell_type": "code",
      "metadata": {
        "colab": {
          "base_uri": "https://localhost:8080/"
        },
        "id": "oe03KsP_3l_p",
        "outputId": "f87cc6f6-b136-42be-c518-49e785d21bff"
      },
      "source": [
        "test_pred = lr.predict(vectorized_test_posts)\n",
        "from sklearn.metrics import classification_report\n",
        "#Show precision and recall per genre\n",
        "print(classification_report(test_labels,y_pred ,target_names=binary_labels.columns))"
      ],
      "execution_count": null,
      "outputs": [
        {
          "output_type": "stream",
          "text": [
            "              precision    recall  f1-score   support\n",
            "\n",
            "  defamation       0.57      0.05      0.10        77\n",
            "        fake       0.69      0.36      0.47       160\n",
            "        hate       0.49      0.35      0.41       110\n",
            " non-hostile       0.91      0.86      0.89       435\n",
            "   offensive       0.59      0.46      0.52       103\n",
            "\n",
            "   micro avg       0.79      0.59      0.68       885\n",
            "   macro avg       0.65      0.41      0.47       885\n",
            "weighted avg       0.75      0.59      0.64       885\n",
            " samples avg       0.61      0.62      0.61       885\n",
            "\n"
          ],
          "name": "stdout"
        }
      ]
    },
    {
      "cell_type": "code",
      "metadata": {
        "colab": {
          "base_uri": "https://localhost:8080/"
        },
        "id": "2e7gYKd_3gry",
        "outputId": "211b4772-8e1d-41ea-c6bd-0416212965b4"
      },
      "source": [
        "pred = lr.predict_proba(vectorized_test_posts)\r\n",
        "new_pred = pred > 0.19\r\n",
        "new_labels = new_pred.astype('uint8')\r\n",
        "labels = multilabel.inverse_transform(new_labels)\r\n",
        "l = []\r\n",
        "for i in labels:\r\n",
        "  l.append(','.join(i))\r\n",
        " \r\n",
        "\r\n",
        "predict = pd.DataFrame({'Unique ID':val_dataset['Unique ID'],'Labels Set':l})\r\n",
        "predict\r\n",
        "\r\n",
        "predict['Labels Set'].value_counts()\r\n"
      ],
      "execution_count": null,
      "outputs": [
        {
          "output_type": "execute_result",
          "data": {
            "text/plain": [
              "non-hostile                         399\n",
              "fake,non-hostile                    115\n",
              "fake                                 47\n",
              "hate,offensive                       41\n",
              "hate,non-hostile                     22\n",
              "defamation,hate,offensive            22\n",
              "fake,hate                            21\n",
              "fake,hate,offensive                  16\n",
              "hate                                 15\n",
              "non-hostile,offensive                13\n",
              "offensive                            13\n",
              "defamation,offensive                 13\n",
              "defamation,fake                      12\n",
              "fake,offensive                       11\n",
              "defamation,non-hostile                8\n",
              "defamation,fake,hate                  7\n",
              "defamation,fake,hate,offensive        6\n",
              "defamation                            6\n",
              "defamation,hate                       5\n",
              "defamation,fake,offensive             4\n",
              "defamation,non-hostile,offensive      4\n",
              "hate,non-hostile,offensive            3\n",
              "defamation,hate,non-hostile           3\n",
              "fake,non-hostile,offensive            2\n",
              "defamation,fake,non-hostile           1\n",
              "fake,hate,non-hostile                 1\n",
              "                                      1\n",
              "Name: Labels Set, dtype: int64"
            ]
          },
          "metadata": {
            "tags": []
          },
          "execution_count": 82
        }
      ]
    },
    {
      "cell_type": "markdown",
      "metadata": {
        "id": "a0lmHYfsSz4g"
      },
      "source": [
        "### SVM (One Vs Rest)"
      ]
    },
    {
      "cell_type": "code",
      "metadata": {
        "colab": {
          "base_uri": "https://localhost:8080/"
        },
        "id": "JoJFkz81S1pc",
        "outputId": "937d6c72-1483-492e-fd51-f8f8d66151ba"
      },
      "source": [
        "svc = OneVsRestClassifier( LinearSVC())\n",
        "svc.fit(vectorized_train_posts,train_labels)\n",
        "y_pred = svc.predict(vectorized_test_posts)\n",
        "print_score('SVM (OvR)',test_labels,y_pred)"
      ],
      "execution_count": null,
      "outputs": [
        {
          "output_type": "stream",
          "text": [
            "------SVM (OvR) Model Metrics-----\n",
            "Accuracy: 0.5832\n",
            "Precision:-  0.7682\n",
            " Recall: - 0.6090\n",
            " F1-measure: -  0.6573\n",
            " \n"
          ],
          "name": "stdout"
        }
      ]
    },
    {
      "cell_type": "code",
      "metadata": {
        "colab": {
          "base_uri": "https://localhost:8080/"
        },
        "id": "Bpge3KNQ4ghm",
        "outputId": "2e15f8a1-1e69-41f3-b4b2-aee4c9bc3c0d"
      },
      "source": [
        "y_pred = svc.predict(vectorized_test_posts)\n",
        "from sklearn.metrics import classification_report\n",
        "#Show precision and recall per genre\n",
        "print(classification_report(test_labels,y_pred ,target_names=binary_labels.columns))"
      ],
      "execution_count": null,
      "outputs": [
        {
          "output_type": "stream",
          "text": [
            "              precision    recall  f1-score   support\n",
            "\n",
            "  defamation       0.67      0.05      0.10        77\n",
            "        fake       0.68      0.41      0.51       160\n",
            "        hate       0.50      0.37      0.43       110\n",
            " non-hostile       0.92      0.87      0.89       435\n",
            "   offensive       0.62      0.49      0.54       103\n",
            "\n",
            "   micro avg       0.80      0.61      0.69       885\n",
            "   macro avg       0.68      0.44      0.50       885\n",
            "weighted avg       0.77      0.61      0.66       885\n",
            " samples avg       0.63      0.63      0.63       885\n",
            "\n"
          ],
          "name": "stdout"
        }
      ]
    },
    {
      "cell_type": "code",
      "metadata": {
        "colab": {
          "base_uri": "https://localhost:8080/"
        },
        "id": "iiPRtI0_4z0x",
        "outputId": "64f96c5a-eaac-47ba-fcda-8003b99a7611"
      },
      "source": [
        "pred = svc.predict(vectorized_test_posts)\r\n",
        "new_pred = pred > 0.08\r\n",
        "new_labels = new_pred.astype('uint8')\r\n",
        "labels = multilabel.inverse_transform(new_labels)\r\n",
        "l = []\r\n",
        "for i in labels:\r\n",
        "  l.append(','.join(i))\r\n",
        " \r\n",
        "\r\n",
        "predict = pd.DataFrame({'Unique ID':val_dataset['Unique ID'],'Labels Set':l})\r\n",
        "predict\r\n",
        "\r\n",
        "predict['Labels Set'].value_counts()\r\n"
      ],
      "execution_count": null,
      "outputs": [
        {
          "output_type": "execute_result",
          "data": {
            "text/plain": [
              "non-hostile             423\n",
              "                        157\n",
              "fake                     87\n",
              "hate                     45\n",
              "offensive                44\n",
              "hate,offensive           20\n",
              "defamation                8\n",
              "fake,non-hostile          8\n",
              "fake,hate                 6\n",
              "fake,offensive            4\n",
              "defamation,offensive      3\n",
              "defamation,hate           2\n",
              "fake,hate,offensive       2\n",
              "hate,non-hostile          1\n",
              "defamation,fake           1\n",
              "Name: Labels Set, dtype: int64"
            ]
          },
          "metadata": {
            "tags": []
          },
          "execution_count": 73
        }
      ]
    },
    {
      "cell_type": "code",
      "metadata": {
        "colab": {
          "base_uri": "https://localhost:8080/"
        },
        "id": "45yw8-Ns2E1-",
        "outputId": "b4e12c4c-8bb0-4c96-84f5-3aa5cd8d4aad"
      },
      "source": [
        "##########################################\r\n",
        "test_posts =  vectorizer.transform(test_dataset['cleaned'])\r\n",
        "test_pred = lr.predict(test_posts)\r\n",
        "\r\n",
        "labels = multilabel.inverse_transform(test_pred)\r\n",
        "l = []\r\n",
        "for i in labels:\r\n",
        "  l.append(','.join(i))\r\n",
        "\r\n",
        "predict = pd.DataFrame({'Unique ID':test_dataset['Unique ID'],'Labels Set':l})\r\n",
        "predict\r\n",
        "\r\n",
        "predict['Labels Set'].value_counts()\r\n"
      ],
      "execution_count": null,
      "outputs": [
        {
          "output_type": "execute_result",
          "data": {
            "text/plain": [
              "non-hostile                  857\n",
              "                             391\n",
              "fake                         155\n",
              "offensive                     88\n",
              "hate                          58\n",
              "hate,offensive                36\n",
              "defamation                    28\n",
              "fake,non-hostile              12\n",
              "defamation,hate                8\n",
              "defamation,offensive           6\n",
              "fake,hate                      4\n",
              "defamation,fake                3\n",
              "defamation,fake,hate           2\n",
              "defamation,non-hostile         1\n",
              "fake,hate,offensive            1\n",
              "defamation,hate,offensive      1\n",
              "defamation,fake,offensive      1\n",
              "hate,non-hostile               1\n",
              "Name: Labels Set, dtype: int64"
            ]
          },
          "metadata": {
            "tags": []
          },
          "execution_count": 86
        }
      ]
    },
    {
      "cell_type": "markdown",
      "metadata": {
        "id": "OcqJijFcS5ol"
      },
      "source": [
        "### Naive bayes (One Vs Rest)"
      ]
    },
    {
      "cell_type": "code",
      "metadata": {
        "id": "sNMY78gnS7TH"
      },
      "source": [
        "# Grid Search\n",
        "from sklearn.naive_bayes import MultinomialNB\n",
        "param_grid={\"estimator__alpha\":np.linspace(0.1,1,20)}\n",
        "parameter_tunning(MultinomialNB(),param_grid)"
      ],
      "execution_count": null,
      "outputs": []
    },
    {
      "cell_type": "code",
      "metadata": {
        "colab": {
          "base_uri": "https://localhost:8080/"
        },
        "id": "w0TZceGeTFIr",
        "outputId": "153d10d3-2a97-45d8-b098-04b34a027a68"
      },
      "source": [
        "from sklearn.naive_bayes import MultinomialNB\n",
        "\n",
        "nb =  OneVsRestClassifier(MultinomialNB(0.6))\n",
        "nb.fit(vectorized_train_posts,train_labels)\n",
        "y_pred = nb.predict(vectorized_test_posts)\n",
        "print_score('MNB (OvR)',test_labels,y_pred)"
      ],
      "execution_count": null,
      "outputs": [
        {
          "output_type": "stream",
          "text": [
            "------MNB (OvR) Model Metrics-----\n",
            "Accuracy: 0.4920\n",
            "Precision:-  0.6953\n",
            " Recall: - 0.4531\n",
            " F1-measure: -  0.4595\n",
            " \n"
          ],
          "name": "stdout"
        }
      ]
    },
    {
      "cell_type": "code",
      "metadata": {
        "colab": {
          "base_uri": "https://localhost:8080/"
        },
        "id": "2JMX7Nk_4thv",
        "outputId": "b37b8315-547f-4ef7-8a23-0cdd2173bcdc"
      },
      "source": [
        "test_pred = nb.predict(vectorized_test_posts)\n",
        "from sklearn.metrics import classification_report\n",
        "#Show precision and recall per genre\n",
        "print(classification_report(test_labels,test_pred ,target_names=binary_labels.columns))"
      ],
      "execution_count": null,
      "outputs": [
        {
          "output_type": "stream",
          "text": [
            "              precision    recall  f1-score   support\n",
            "\n",
            "  defamation       0.00      0.00      0.00        77\n",
            "        fake       1.00      0.04      0.08       160\n",
            "        hate       0.00      0.00      0.00       110\n",
            " non-hostile       0.89      0.90      0.89       435\n",
            "   offensive       0.67      0.02      0.04       103\n",
            "\n",
            "   micro avg       0.89      0.45      0.60       885\n",
            "   macro avg       0.51      0.19      0.20       885\n",
            "weighted avg       0.70      0.45      0.46       885\n",
            " samples avg       0.49      0.49      0.49       885\n",
            "\n"
          ],
          "name": "stdout"
        }
      ]
    },
    {
      "cell_type": "markdown",
      "metadata": {
        "id": "0nwbbXwkTMkH"
      },
      "source": [
        "### Multi-Label KNN Classifier"
      ]
    },
    {
      "cell_type": "code",
      "metadata": {
        "colab": {
          "base_uri": "https://localhost:8080/"
        },
        "id": "2gWK8QpATN-1",
        "outputId": "e9879df3-923e-4c78-842d-73a82099e5d3"
      },
      "source": [
        "from sklearn.model_selection import GridSearchCV\n",
        "param_grid = {'k': range(1,3), 's': [0.5, 0.7, 1.0]}\n",
        "classifier = GridSearchCV(MLkNN(), param_grid, scoring='f1_micro')\n",
        "classifier.fit(vectorised_train_posts, y_train)\n",
        "print('best parameters :', classifier.best_params_, 'best score: ',\n",
        "      classifier.best_score_)"
      ],
      "execution_count": null,
      "outputs": [
        {
          "output_type": "stream",
          "text": [
            "best parameters : {'k': 1, 's': 0.5} best score:  0.6082137681017313\n"
          ],
          "name": "stdout"
        }
      ]
    },
    {
      "cell_type": "code",
      "metadata": {
        "colab": {
          "base_uri": "https://localhost:8080/"
        },
        "id": "QBbTHBrsTQ-G",
        "outputId": "88d07419-ae91-4bb4-8eec-7956db74a098"
      },
      "source": [
        "mlknn  = MLkNN(k = 1,s = 0.5)\n",
        "mlknn.fit(vectorized_train_posts,train_labels)\n",
        "y_pred = mlknn.predict(vectorized_test_posts)\n",
        "print_score('MLKnn',test_labels,y_pred)"
      ],
      "execution_count": null,
      "outputs": [
        {
          "output_type": "stream",
          "text": [
            "------MLKnn Model Metrics-----\n",
            "Accuracy: 0.6005\n",
            "Precision:-  0.6287\n",
            " Recall: - 0.6282\n",
            " F1-measure: -  0.6274\n",
            " \n"
          ],
          "name": "stdout"
        }
      ]
    },
    {
      "cell_type": "code",
      "metadata": {
        "colab": {
          "base_uri": "https://localhost:8080/"
        },
        "id": "qESnbW3W48Ym",
        "outputId": "7fb0013f-261c-4f3d-81ce-df67fd5ecbed"
      },
      "source": [
        "test_pred = mlknn.predict(vectorized_test_posts)\n",
        "from sklearn.metrics import classification_report\n",
        "#Show precision and recall per genre\n",
        "print(classification_report(test_labels,y_pred ,target_names=binary_labels.columns))"
      ],
      "execution_count": null,
      "outputs": [
        {
          "output_type": "stream",
          "text": [
            "              precision    recall  f1-score   support\n",
            "\n",
            "  defamation       0.35      0.26      0.30        77\n",
            "        fake       0.50      0.53      0.52       160\n",
            "        hate       0.34      0.29      0.31       110\n",
            " non-hostile       0.84      0.84      0.84       435\n",
            "   offensive       0.46      0.50      0.48       103\n",
            "\n",
            "   micro avg       0.64      0.63      0.63       885\n",
            "   macro avg       0.50      0.49      0.49       885\n",
            "weighted avg       0.63      0.63      0.63       885\n",
            " samples avg       0.66      0.65      0.65       885\n",
            "\n"
          ],
          "name": "stdout"
        }
      ]
    },
    {
      "cell_type": "markdown",
      "metadata": {
        "id": "t4N2byYKTTeE"
      },
      "source": [
        "### Binary Relavance KNN Classifier"
      ]
    },
    {
      "cell_type": "code",
      "metadata": {
        "colab": {
          "base_uri": "https://localhost:8080/"
        },
        "id": "KcuYDlt8TUkM",
        "outputId": "aae5ca72-29b0-4de7-ba2e-d3282adf05fd"
      },
      "source": [
        "parameters = {'k': range(3,5)}\n",
        "classifier = GridSearchCV(BRkNNaClassifier(), parameters, scoring='f1_micro')\n",
        "classifier.fit(vectorised_train_posts ,y_train)\n",
        "print('best parameters :', classifier.best_params_,\n",
        "      'best score: ',classifier.best_score_)"
      ],
      "execution_count": null,
      "outputs": [
        {
          "output_type": "stream",
          "text": [
            "best parameters : {'k': 3} best score:  0.6243923425774354\n"
          ],
          "name": "stdout"
        }
      ]
    },
    {
      "cell_type": "code",
      "metadata": {
        "colab": {
          "base_uri": "https://localhost:8080/"
        },
        "id": "gMwJ2k8BTW3K",
        "outputId": "8c24af73-c49e-47e3-dc7a-b1b5723891fd"
      },
      "source": [
        "from skmultilearn.adapt import BRkNNaClassifier\n",
        "brknn  = BRkNNaClassifier(k=3)\n",
        "brknn.fit(vectorized_train_posts,train_labels)\n",
        "y_pred = brknn.predict(vectorized_test_posts)\n",
        "print_score('BRkNN',test_labels,y_pred)"
      ],
      "execution_count": null,
      "outputs": [
        {
          "output_type": "stream",
          "text": [
            "------BRkNN Model Metrics-----\n",
            "Accuracy: 0.6017\n",
            "Precision:-  0.6672\n",
            " Recall: - 0.6034\n",
            " F1-measure: -  0.6266\n",
            " \n"
          ],
          "name": "stdout"
        }
      ]
    },
    {
      "cell_type": "code",
      "metadata": {
        "colab": {
          "base_uri": "https://localhost:8080/"
        },
        "id": "JVq-ERYF5QMv",
        "outputId": "26e51e30-8987-4e34-fdd8-03343292be15"
      },
      "source": [
        "test_pred = brknn.predict(vectorized_test_posts)\n",
        "from sklearn.metrics import classification_report\n",
        "#Show precision and recall per genre\n",
        "print(classification_report(test_labels,y_pred ,target_names=binary_labels.columns))"
      ],
      "execution_count": null,
      "outputs": [
        {
          "output_type": "stream",
          "text": [
            "              precision    recall  f1-score   support\n",
            "\n",
            "  defamation       0.28      0.09      0.14        77\n",
            "        fake       0.59      0.46      0.52       160\n",
            "        hate       0.45      0.27      0.34       110\n",
            " non-hostile       0.84      0.86      0.85       435\n",
            "   offensive       0.59      0.50      0.54       103\n",
            "\n",
            "   micro avg       0.71      0.60      0.65       885\n",
            "   macro avg       0.55      0.44      0.48       885\n",
            "weighted avg       0.67      0.60      0.63       885\n",
            " samples avg       0.64      0.63      0.63       885\n",
            "\n"
          ],
          "name": "stdout"
        }
      ]
    },
    {
      "cell_type": "markdown",
      "metadata": {
        "id": "BRq8NKwmTpFc"
      },
      "source": [
        "## Multilabel Classifiers - Problem Transformation"
      ]
    },
    {
      "cell_type": "markdown",
      "metadata": {
        "id": "Eso7gQ6LTuBz"
      },
      "source": [
        "### Binary Relavance (SVM)"
      ]
    },
    {
      "cell_type": "code",
      "metadata": {
        "colab": {
          "base_uri": "https://localhost:8080/"
        },
        "id": "KG7cOF0FTr4s",
        "outputId": "fb70e696-9bc1-4274-b531-cfa9deba91f7"
      },
      "source": [
        "from skmultilearn.problem_transform import BinaryRelevance\n",
        "\n",
        "brsvm = BinaryRelevance(\n",
        "    classifier = LinearSVC(),\n",
        ")\n",
        "\n",
        "brsvm.fit(vectorized_train_posts,train_labels)\n",
        "y_pred = brsvm.predict(vectorized_test_posts)\n",
        "print_score('BRSVM',test_labels,y_pred)"
      ],
      "execution_count": null,
      "outputs": [
        {
          "output_type": "stream",
          "text": [
            "------BRSVM Model Metrics-----\n",
            "Accuracy: 0.5943\n",
            "Precision:-  0.7421\n",
            " Recall: - 0.6136\n",
            " F1-measure: -  0.6549\n",
            " \n"
          ],
          "name": "stdout"
        }
      ]
    },
    {
      "cell_type": "code",
      "metadata": {
        "colab": {
          "base_uri": "https://localhost:8080/"
        },
        "id": "zN_43kOp5f0K",
        "outputId": "24e948de-400b-4b89-8c6d-a1293835db2f"
      },
      "source": [
        "test_pred = brsvm.predict(vectorized_test_posts)\n",
        "from sklearn.metrics import classification_report\n",
        "#Show precision and recall per genre\n",
        "print(classification_report(test_labels,y_pred ,target_names=binary_labels.columns))"
      ],
      "execution_count": null,
      "outputs": [
        {
          "output_type": "stream",
          "text": [
            "              precision    recall  f1-score   support\n",
            "\n",
            "  defamation       0.67      0.05      0.10        77\n",
            "        fake       0.68      0.41      0.51       160\n",
            "        hate       0.50      0.37      0.43       110\n",
            " non-hostile       0.92      0.87      0.89       435\n",
            "   offensive       0.62      0.49      0.54       103\n",
            "\n",
            "   micro avg       0.80      0.61      0.69       885\n",
            "   macro avg       0.68      0.44      0.50       885\n",
            "weighted avg       0.77      0.61      0.66       885\n",
            " samples avg       0.63      0.63      0.63       885\n",
            "\n"
          ],
          "name": "stdout"
        }
      ]
    },
    {
      "cell_type": "code",
      "metadata": {
        "id": "g89hHlow_Q85"
      },
      "source": [
        "##########################################\r\n",
        "test_posts =  vectorizer.transform(test_dataset['cleaned'])\r\n",
        "test_pred = brsvm.predict(test_posts)\r\n",
        "\r\n",
        "labels = multilabel.inverse_transform(test_pred)\r\n",
        "l = []\r\n",
        "for i in labels:\r\n",
        "  l.append(','.join(i))\r\n",
        "\r\n",
        "predict = pd.DataFrame({'Unique ID':test_dataset['Unique ID'],'Labels Set':l})\r\n",
        "predict\r\n",
        "\r\n",
        "predict['Labels Set'].value_counts()\r\n"
      ],
      "execution_count": null,
      "outputs": []
    },
    {
      "cell_type": "markdown",
      "metadata": {
        "id": "h-5VHyRbT9D0"
      },
      "source": [
        "### Label Powerset (SVM)"
      ]
    },
    {
      "cell_type": "code",
      "metadata": {
        "colab": {
          "base_uri": "https://localhost:8080/"
        },
        "id": "cYMa7BTQT-4F",
        "outputId": "6d06606f-b03d-49a6-ef7a-526aa4613485"
      },
      "source": [
        "from sklearn.ensemble import RandomForestClassifier\n",
        "from skmultilearn.problem_transform import LabelPowerset\n",
        "lpsvm = LabelPowerset(classifier = LinearSVC(C =2.7,))\n",
        "lpsvm.fit(vectorized_train_posts,train_labels)\n",
        "y_pred = lpsvm.predict(vectorized_test_posts)\n",
        "print_score('LPSVM',test_labels,y_pred)"
      ],
      "execution_count": null,
      "outputs": [
        {
          "output_type": "stream",
          "text": [
            "------LPSVM Model Metrics-----\n",
            "Accuracy: 0.6695\n",
            "Precision:-  0.6769\n",
            " Recall: - 0.6791\n",
            " F1-measure: -  0.6733\n",
            " \n"
          ],
          "name": "stdout"
        }
      ]
    },
    {
      "cell_type": "code",
      "metadata": {
        "colab": {
          "base_uri": "https://localhost:8080/"
        },
        "id": "9UXZoKy-5wAC",
        "outputId": "bcffc2cb-fe42-4a22-c8d2-c502b925ba8b"
      },
      "source": [
        "test_pred = lpsvm.predict(vectorized_test_posts)\n",
        "from sklearn.metrics import classification_report\n",
        "#Show precision and recall per genre\n",
        "print(classification_report(test_labels,test_pred ,target_names=binary_labels.columns))"
      ],
      "execution_count": null,
      "outputs": [
        {
          "output_type": "stream",
          "text": [
            "              precision    recall  f1-score   support\n",
            "\n",
            "  defamation       0.34      0.13      0.19        77\n",
            "        fake       0.62      0.55      0.58       160\n",
            "        hate       0.54      0.41      0.46       110\n",
            " non-hostile       0.81      0.94      0.87       435\n",
            "   offensive       0.56      0.45      0.50       103\n",
            "\n",
            "   micro avg       0.71      0.67      0.69       885\n",
            "   macro avg       0.57      0.49      0.52       885\n",
            "weighted avg       0.67      0.67      0.66       885\n",
            " samples avg       0.72      0.70      0.71       885\n",
            "\n"
          ],
          "name": "stdout"
        }
      ]
    },
    {
      "cell_type": "code",
      "metadata": {
        "colab": {
          "base_uri": "https://localhost:8080/"
        },
        "id": "5J39dNvf9Hc9",
        "outputId": "644f5011-49d7-4ae3-af43-a51d51857458"
      },
      "source": [
        "##########################################\r\n",
        "test_posts =  vectorizer.transform(test_dataset['cleaned'])\r\n",
        "test_pred = lpsvm.predict(test_posts)\r\n",
        "\r\n",
        "labels = multilabel.inverse_transform(test_pred)\r\n",
        "l = []\r\n",
        "for i in labels:\r\n",
        "  l.append(','.join(i))\r\n",
        "\r\n",
        "predict = pd.DataFrame({'Unique ID':test_dataset['Unique ID'],'Labels Set':l})\r\n",
        "predict\r\n",
        "\r\n",
        "predict['Labels Set'].value_counts()\r\n"
      ],
      "execution_count": null,
      "outputs": [
        {
          "output_type": "execute_result",
          "data": {
            "text/plain": [
              "non-hostile                  984\n",
              "fake                         300\n",
              "hate                         147\n",
              "offensive                    140\n",
              "defamation                    58\n",
              "hate,offensive                14\n",
              "defamation,hate                2\n",
              "defamation,offensive           2\n",
              "defamation,fake                2\n",
              "defamation,fake,hate           2\n",
              "defamation,fake,offensive      1\n",
              "fake,hate                      1\n",
              "Name: Labels Set, dtype: int64"
            ]
          },
          "metadata": {
            "tags": []
          },
          "execution_count": 34
        }
      ]
    },
    {
      "cell_type": "code",
      "metadata": {
        "id": "ojl1J1gk-ZS0"
      },
      "source": [
        "predict.to_csv(path + 'run_3_lpsvm_fake_62_trigram.csv')"
      ],
      "execution_count": null,
      "outputs": []
    },
    {
      "cell_type": "markdown",
      "metadata": {
        "id": "bl_QChvRUHhI"
      },
      "source": [
        "### Classifier Chain (SVM)"
      ]
    },
    {
      "cell_type": "code",
      "metadata": {
        "colab": {
          "base_uri": "https://localhost:8080/"
        },
        "id": "22vjaBWCUG02",
        "outputId": "95abff99-6730-4d64-abbc-82318e51f4ec"
      },
      "source": [
        "from skmultilearn.problem_transform import ClassifierChain\n",
        "\n",
        "ccsvm = ClassifierChain(\n",
        "    classifier = LinearSVC(C = 0.9),\n",
        "    order=[i for i in range(5)]\n",
        ")\n",
        "ccsvm.fit(vectorized_train_posts,train_labels)\n",
        "y_pred = ccsvm.predict(vectorized_test_posts)\n",
        "print_score('CCSVM',test_labels,y_pred)"
      ],
      "execution_count": null,
      "outputs": [
        {
          "output_type": "stream",
          "text": [
            "------CCSVM Model Metrics-----\n",
            "Accuracy: 0.6510\n",
            "Precision:-  0.6527\n",
            " Recall: - 0.6644\n",
            " F1-measure: -  0.6385\n",
            " \n"
          ],
          "name": "stdout"
        }
      ]
    },
    {
      "cell_type": "code",
      "metadata": {
        "colab": {
          "base_uri": "https://localhost:8080/"
        },
        "id": "zPY1F3lp6FMn",
        "outputId": "73f9e67f-3e48-4374-939b-c0ff16fe2c89"
      },
      "source": [
        "test_pred = ccsvm.predict(vectorized_test_posts)\n",
        "from sklearn.metrics import classification_report\n",
        "#Show precision and recall per genre\n",
        "print(classification_report(test_labels,y_pred ,target_names=binary_labels.columns))"
      ],
      "execution_count": null,
      "outputs": [
        {
          "output_type": "stream",
          "text": [
            "              precision    recall  f1-score   support\n",
            "\n",
            "  defamation       0.50      0.09      0.15        77\n",
            "        fake       0.65      0.46      0.53       160\n",
            "        hate       0.46      0.35      0.40       110\n",
            " non-hostile       0.75      0.96      0.84       435\n",
            "   offensive       0.66      0.50      0.57       103\n",
            "\n",
            "   micro avg       0.69      0.67      0.68       885\n",
            "   macro avg       0.60      0.47      0.50       885\n",
            "weighted avg       0.66      0.67      0.64       885\n",
            " samples avg       0.70      0.70      0.70       885\n",
            "\n"
          ],
          "name": "stdout"
        }
      ]
    },
    {
      "cell_type": "markdown",
      "metadata": {
        "id": "9ECVaMS74Co-"
      },
      "source": [
        "#Confusion Matrix"
      ]
    },
    {
      "cell_type": "code",
      "metadata": {
        "id": "nJybBr9j6tm-"
      },
      "source": [
        "### Hostiltiy\r\n",
        "actual = pd.read_excel(path+'Test Set Complete.xlsx')\r\n",
        "pred = pd.read_csv(path+'Run4.csv')"
      ],
      "execution_count": null,
      "outputs": []
    },
    {
      "cell_type": "code",
      "metadata": {
        "id": "UNI0EZFu7w9D"
      },
      "source": [
        "actual['predicted_label_set'] = pred['Labels Set']"
      ],
      "execution_count": null,
      "outputs": []
    },
    {
      "cell_type": "code",
      "metadata": {
        "colab": {
          "base_uri": "https://localhost:8080/"
        },
        "id": "WlkGVD7Q7zOx",
        "outputId": "21e52a04-fa32-4256-bd09-1e5cc6ea48ae"
      },
      "source": [
        "for i in range(len(actual)):\r\n",
        "  if actual['Labels Set'][i] != actual['predicted_label_set'][i]:\r\n",
        "        print('Post:=====>\\n',actual['Post'][i],\r\n",
        "          '\\nActual Label: ',actual['Labels Set'][i],\r\n",
        "          '\\nPredicted Label:', actual['predicted_label_set'][i])  "
      ],
      "execution_count": null,
      "outputs": [
        {
          "output_type": "stream",
          "text": [
            "Post:=====>\n",
            " कीस की को रोजगार चाहिए फिर नहीं कहना रोजगार नहीं मिलता है 20 करोड को रोजगार दे दिया है वह भी मात्र 6 साँल में चार साल अभी बाकी है और हर साल दो करोड़ रोजगार देने का ही वादा था 10 साल में देना था 20 करोड को लोगो को रोजगार जो मात्र 6 साल में लक्ष्य को प्राप्त करने वाली पहली सरकार है \n",
            "Actual Label:  defamation,fake,offensive \n",
            "Predicted Label: non-hostile\n",
            "Post:=====>\n",
            " कोई भी कांग्रेसी, ऊंची छत पर, रेलवे लाइन पर, ऊंची बिल्डिंग पर, एकांत जगह पर, कुए के पास दिखाई दे, तुरंत पुलिस को सूचित करें,🙏\n",
            "😂👍\n",
            "विलुप्त होती हुई प्रजातियो को बचाना हमारा फर्ज है। \n",
            "Actual Label:  hate \n",
            "Predicted Label: fake\n",
            "Post:=====>\n",
            " RT @_Pb_swain_: इन पंचर छापों को कोन समझाए कि उनके रोजगार में कमी का कारण मोदी नहीं \n",
            "👇\n",
            "ट्यूब लैस टायर है.😂😂😂😂 \n",
            "Actual Label:  defamation \n",
            "Predicted Label: fake\n",
            "Post:=====>\n",
            " पश्चिम बंगाल में फिर हुई माओवादियों की वापसी, हाल ही में हुई घटनाएं इसका प्रमाण है  \n",
            "#Maoist #WestBengal \n",
            "https://t.co/pP1AOvOv0b \n",
            "Actual Label:  non-hostile \n",
            "Predicted Label: fake\n",
            "Post:=====>\n",
            " @BasudebaTripat4: @Rajanspsingh1 अच्छा किया साले का सर फोड़ दिया,, गर्दन तोड़ देते तो और भी अच्छा होता\n",
            "साले को पता चल गया होगा हिंदुस्ता… \n",
            "Actual Label:  offensive \n",
            "Predicted Label: hate\n",
            "Post:=====>\n",
            " कमलनाथ के राज में 100,₹ में 100यूनिट बिजली मिल रही थी\n",
            "अब आए चोर शिवराज जो बिजली के बिलों को 500से 1000₹ तक कर दिया \n",
            "Actual Label:  defamation,fake,hate \n",
            "Predicted Label: non-hostile\n",
            "Post:=====>\n",
            " दाऊद इब्राहिम और उसकी पत्नि की कोरोना संक्रमण से मौत \n",
            "Actual Label:  fake \n",
            "Predicted Label: non-hostile\n",
            "Post:=====>\n",
            " @Dr_Uditraj @INCIndia मोदी देशद्रोही चोर की औलाद चीन के  हाथों देश बेच देगी यह चोर लुटेरा अंग्रेज की नाजायज संतान \n",
            "Actual Label:  defamation,hate,offensive \n",
            "Predicted Label: defamation\n",
            "Post:=====>\n",
            " @ishiviparihar @Baklol801 सुन कमीनी तेरे से अच्छी हिंदी, ओर इंग्लिश आती है, ओर अपनी औकात में रह के बोल, तेरे को कुछ बोली नही हूं मैं, अगर बीच मे आयी तो बीच मे से ही फाड़ दूंगी, \n",
            "ओर लिखने की बात है तो कीबोर्ड से ऑटोटायपिंग भी होता है, इसलिये अपनी अम्मा को बोल जो बोलना है .. निकल ... 😠😡 \n",
            "Actual Label:  hate,offensive \n",
            "Predicted Label: offensive\n",
            "Post:=====>\n",
            " BMC की अपील: अगले सात दिनों तक गरम पानी का सेवन करें\n",
            " \n",
            "Actual Label:  fake \n",
            "Predicted Label: non-hostile\n",
            "Post:=====>\n",
            " हर रोज जान देनी पड़ती हैं, \n",
            "सीमा पर पहरेदारों को, \n",
            "\n",
            "तब भी घर में बैठे-बैठे डर लगता है... \n",
            "देश के गद्दारों को..🤔😡 \n",
            "Actual Label:  offensive \n",
            "Predicted Label: hate\n",
            "Post:=====>\n",
            " गाज़ियाबाद अस्पताल में मरकज के मरीज नर्स के सामने नंगा होकर घूमने, गाली देने पर पुलिस ने बनाये परमानेंट टैटू, नंग प्रदर्शन करने वाले मोहम्मद मुस्तफा, मोहम्मद गुलरेज,शोएब और मजीद पर NSA भी लगा है #इस्लाम_मुक्त_भारत, #इस्लामिकआतंकवाद, #तबलीगी_नहीं_तालिबानी_जमात_है \n",
            "Actual Label:  fake,hate \n",
            "Predicted Label: fake\n",
            "Post:=====>\n",
            " हमारे हिन्दू जाट भाईओ पर बोला गहलोत देख लो।। और वोट दो जाट भाईओ ये साले किसी के सगे नही है ।\n",
            "\n",
            " \n",
            "Actual Label:  fake,offensive \n",
            "Predicted Label: hate\n",
            "Post:=====>\n",
            " @RubikaLiyaquat ये कमीनी जिस दिन मरेगी उस दिन full पार्टी \n",
            "Actual Label:  hate \n",
            "Predicted Label: offensive\n",
            "Post:=====>\n",
            " #JNU में हुई #तोड़फोड़ के बाद #गर्ल्स हॉस्टल में #बिखरा हुआ #सामान #धन्य हैं यहां की स्टूडेंट। बहुत दुख हुआ इन लोगों की बुक्स देखकर सब फट गई है।\n",
            "\n",
            " \n",
            "Actual Label:  fake \n",
            "Predicted Label: defamation,offensive\n",
            "Post:=====>\n",
            " दोस्तों मैंने इस्तीफा देकर सही किया ना?\n",
            "अगर हां तो रिट्वीट करें ,वरना लाइक करें। pic.twitter.com/6bdeyDTfHz \n",
            "Actual Label:  fake \n",
            "Predicted Label: offensive\n",
            "Post:=====>\n",
            " राम मंदिर का निर्माण शुरू हुआ तो आत्महत्या कर लूंगा - कपिल सिबल' | 'सावधान 5 अगस्त को कपिल सिबल आत्महत्या कर सकते हैं |\n",
            " \n",
            "Actual Label:  fake \n",
            "Predicted Label: non-hostile\n",
            "Post:=====>\n",
            " चीन से जारी तनाव पर विपक्षी दलों के साथ बंद दरवाजे के पीछे बैठक कर सकती है सरकार देश को आग में झोंक कर दरवाजे बंद में बैठक विपक्षी को  हिस्सा नहीं लेनी चाहिए जिसने किया है वह भरेगा \n",
            "Actual Label:  hate \n",
            "Predicted Label: non-hostile\n",
            "Post:=====>\n",
            " राहुल गांधी को PM पद का उम्मीदवार बनाते ही मोदी जी की आधी जीत तय हो जाती है, सिर्फ दिल का साफ होना राजनीति के लिए काफी नहीं, भाषण की कला भी अच्छी होनी चाहिए, मोदी जी के झूठ के बावजूद लोग उन्हें पसंद करते हैं.\n",
            "\n",
            "कॉंग्रेस के लिए PM और अध्यक्ष पद पर Non-Gandhi एकमात्र विकल्प है. \n",
            "Actual Label:  fake,hate,offensive \n",
            "Predicted Label: defamation\n",
            "Post:=====>\n",
            " मुस्लिम पढ़ -लिखकर सरकारी नौकरी में जाएं तो  बीजेपी समर्थित सुदर्शन TV साजिश बता रहा है। न पढ़े या मदरसा में पढ़ें तो कहें कि आतंकवादी तैयार हो रहे हैं। आखिर मुस्लिम क्या करें? \n",
            "@INCIndia \n",
            "@RahulGandhi \n",
            "Actual Label:  non-hostile \n",
            "Predicted Label: fake\n",
            "Post:=====>\n",
            " जरूरी सामान की दुकानें (मेडिकल को छोड़कर) सुबह 9 से शाम 5 बजे तक ही खुलेंगी। \n",
            "Actual Label:  fake \n",
            "Predicted Label: non-hostile\n",
            "Post:=====>\n",
            " @advneerajtpbh: बंगाल के डायन के ग्रास हैं ये बेचारे,\n",
            "\n",
            "मास्टर साहब और उनका परिवार \n",
            "Actual Label:  defamation \n",
            "Predicted Label: non-hostile\n",
            "Post:=====>\n",
            " आजादी की लड़ाई के दौरान चचा का गला दबाकर उन्हें यातनाएं देने की कोशिस करती अंग्रेज महिला...\n",
            "बाद में चचा ने धोबी पछाड़ मार इस महिला से पूरी रात जंग लड़के बदला लिया...\n",
            "चचा निर्भीक थे, देश के लिए जुझारू होकर लड़ते थे... देश चचा को याद रखेगा...\n",
            "#jnu_protest \n",
            "Actual Label:  defamation,hate,offensive \n",
            "Predicted Label: fake\n",
            "Post:=====>\n",
            " देखो मुंबई में अभी से पाकिस्तान जिंदाबाद के नारे लगने लगे।\n",
            "तुम सोए रहो हिन्दुओं। \n",
            "@Shekhar_Chahal_ \n",
            "Actual Label:  defamation,hate \n",
            "Predicted Label: hate\n",
            "Post:=====>\n",
            " गुरुदेव उझानी नवीन मंडी स्थल\n",
            "में भी नलकूप और किसानों को पीने के पानी की समुचित व्यवस्था करा दीजिए\n",
            "बो कमीनी नगरपालिका बाली समाजवादी है इसीलिए कुछ नही करती\n",
            "@shalabhmani @AwasthiAwanishK @CMOfficeUP @dm_budaun @myogiadityanath @MarodiaSaurabh @sanjayraiupbjp @kvsingh012 https://t.co/oc9brTzA7t \n",
            "Actual Label:  defamation,offensive \n",
            "Predicted Label: offensive\n",
            "Post:=====>\n",
            " सोशल मीडिया पर वायरल हो रहे एक वीडियो के साथ दावा किया जा रहा है कि अशोक तनेजा नाम के एक बीजेपी नेता को अपनी ही बेटी से बलात्कार करने के मामले में गिरफ्तार किया गया है. क्या है सच, सुनिए इस फैक्ट चेक पॉडकास्ट में. #FactCheck \n",
            "\n",
            "➡️https://t.co/QGfPgIiHVb https://t.co/P0tJMSnvDF \n",
            "Actual Label:  non-hostile \n",
            "Predicted Label: fake\n",
            "Post:=====>\n",
            " @KanganaTeam नोसो चूहे खाकर कुतिया हज को चली। \n",
            "Actual Label:  defamation,fake,hate,offensive \n",
            "Predicted Label: hate\n",
            "Post:=====>\n",
            " देश मे 43 केंद्र सरकार के विश्व विद्यालय हैं। बीजेपी/आरएसएस की मेहरवानी से एक भी दलित कुलपति नही है &amp; जो दलित टीचर इनके गुलाम नही हैं उनको निशाना बनाया जा रहा है जैसे डॉ ऋतु सिंह को दौलत राम कॉलेज में।\n",
            "@PMO_NaMo\n",
            "@UnivofDelhi \n",
            "@DrRPNishank \n",
            "@JPNadda \n",
            "@AmitShah \n",
            "@INCIndia \n",
            "Actual Label:  non-hostile \n",
            "Predicted Label: hate\n",
            "Post:=====>\n",
            " RT @_Pb_swain_: देश में भाईचारा नहीं बचा है : सैफ अली खान \n",
            "\n",
            "अब हमने \"चारा\" बनाना छोड़ दिया है और \"भाई\" तो तुम अपनी बहन के भी नहीं होते😂 \n",
            "Actual Label:  defamation \n",
            "Predicted Label: offensive\n",
            "Post:=====>\n",
            " फारुख अब्दुल्ला ने अपना कागज खोज लिया.\n",
            "\"मैं मुस्लिम नहीं, कश्मीरी पंडित हूं..!!\" \n",
            "----फारूक अब्दुल्ला 😁😀😂\n",
            "धीरे धीरे इसी तरह सब अपने कागज दिखाएंगे...😜😜 \n",
            "Actual Label:  hate \n",
            "Predicted Label: fake\n",
            "Post:=====>\n",
            " @KanganaTeam @Sanjay__baroda पीओके में बनी आतंकी के बनकर पर सर्जिकल स्ट्राइक बीएमसी ने कर दी \n",
            "Actual Label:  defamation,hate,offensive \n",
            "Predicted Label: non-hostile\n",
            "Post:=====>\n",
            " MP अपने अधिकार के लिए नही बोल सकते तो जनता के लिए क्या करेंगे? सांसदों को मोदी जी से पूछना चाहिए कि 8000 करोड़ की नई जहाज अपने ठाट के लिए क्यों खरीद रहे हैं?वर्तमान व्यवस्था पर्याप्त है। MPLAD दो साल के लिए काट दिया जो इतनी ही राशि का है। इससे जनता की भलाई होता है।\n",
            "@INCIndia \n",
            "Actual Label:  non-hostile \n",
            "Predicted Label: hate\n",
            "Post:=====>\n",
            " आरएसएस के मुख्यालय (नागपुर) के सामने क्रिकेट विश्वकप में इंग्लैंड की जीत का जश्न मना रहे हैं | \n",
            "Actual Label:  fake \n",
            "Predicted Label: non-hostile\n",
            "Post:=====>\n",
            " ग़ज़ब शाहो भाई\n",
            "\n",
            "कुछ भैंसियो और उनके चमचों को थोड़ी समझ आएगा\n",
            "😂😂जो बिग बॉस का नंगा नाच देखती हैं 😂 😂 \n",
            "Actual Label:  defamation \n",
            "Predicted Label: hate\n",
            "Post:=====>\n",
            " वी डोंट सपोर्ट NRC, CAB, CAA. वापिस जाओ मोदी. टकला अमित गो बैक.\n",
            "\n",
            " \n",
            "Actual Label:  fake \n",
            "Predicted Label: non-hostile\n",
            "Post:=====>\n",
            " आज जो आवाज़ नही उठाते वो कल पछतायेंगे,क्यूंकि आज हमारा खामोश रहना ही आने वाली पीढ़ी की गुलामी की ज़मानत है,और लोग आने वाले वक्त में कहेंगे की ज़माना ही खराब था क्या करते,लेकिन नस्लें पूछेंगी तुम खामोश क्यूं थे? \n",
            "Actual Label:  offensive \n",
            "Predicted Label: hate\n",
            "Post:=====>\n",
            " RT @anita_meena3: बेरोजगारी और निजीकरण के खिलाफ कल 9 सितम्बर। ठीक रात 9 बजे। सिर्फ 9 मिनीट के लिए घर की लाइट बंद कर दीप, दिया, मोमबत्तियां… \n",
            "Actual Label:  hate \n",
            "Predicted Label: non-hostile\n",
            "Post:=====>\n",
            " @ThePushpendra_ वक्त बदलते टाइम नहीं लगती तुम्हारी औकात ही नहीं बचेगी आने वाली समय में जो तू सामान खरीद सकता है विज्ञापन देखकर \n",
            "Actual Label:  hate,offensive \n",
            "Predicted Label: defamation\n",
            "Post:=====>\n",
            " #चुनाव_आयोग कहां है?? \n",
            "\n",
            "सुप्रीम कोर्ट से अनुरोध है स्वतः संज्ञान लेकर कार्रवाई करें BJP विधायक अनिल उपाध्याय पर और #चुनाव_आयोग के पदाधिकारियों पर भी कार्रवाई करे।\n",
            " \n",
            "Actual Label:  defamation \n",
            "Predicted Label: non-hostile\n",
            "Post:=====>\n",
            " @DR_Ambedkarji @KumarSudeshArya अबे साले पिल्ला किसको कह रहा है अभी तू गधे अबे गधे की औलाद साले सुधर जा साले बिल्ला बिल्ली कहना छोड़ दिए थे साला तुम लोगों की वजह से ही तो जैसे समाज पीछे आ जाए \n",
            "Actual Label:  hate,offensive \n",
            "Predicted Label: offensive\n",
            "Post:=====>\n",
            " मुंबई .. यह शहर तक़दीरें बदलता है। \n",
            "\n",
            "सलाम करोगे तो सलामी मिलेगी।  \n",
            "Actual Label:  defamation \n",
            "Predicted Label: non-hostile\n",
            "Post:=====>\n",
            " पालघर की तर्ज पर पंजाब के होशियार पुर में संत पुष्पेंद्र स्वरूप जी महाराज पर शांतिदूतों ने हमला किया है, जब वो घर पर बेटे के साथ थे!!\n",
            "\n",
            "आखिर ये साधु संत की हत्या कांग्रेस शासित राज्यो में ही क्यों हो रही है.??😡😡 \n",
            "Actual Label:  fake,hate \n",
            "Predicted Label: hate\n",
            "Post:=====>\n",
            " हँसी 😆आती है! \n",
            "\n",
            "जब मजहब के नाम पर अपनी बीबी को तलाक के बाद मौलवी के साथ सुलाने वाले भी बोलते है हिंदू धर्म मे अंधविश्वास है.😂😂😂 \n",
            "Actual Label:  hate \n",
            "Predicted Label: defamation\n",
            "Post:=====>\n",
            " अगर प्रकाश आंबेडकर का कदम हिन्दुत्व की ओर जाता है तो हम इसका स्वागत करते हैं: शिवसेना https://t.co/hzZ00h3hlI \n",
            "Actual Label:  non-hostile \n",
            "Predicted Label: fake\n",
            "Post:=====>\n",
            " भाइयों अगली बार पंचर की दुकान पर पंचर बनवाने जाओ तो पुराना वाला टायर साथ में लेकर आना,,\n",
            "🙏\n",
            "क्योंकि उसी से देश जलाया जाता है..😡 \n",
            "Actual Label:  defamation \n",
            "Predicted Label: hate\n",
            "Post:=====>\n",
            " दिल्ली की मस्जिद से अज़ान पढ़ने पर रोक।\n",
            " \n",
            "Actual Label:  fake \n",
            "Predicted Label: non-hostile\n",
            "Post:=====>\n",
            " @harinarayan60 @KanganaTeam मेरी जो भी अकाउंट है गवर्नमेंट की सैलरी से जुड़ी है जो भी जांच करानी है करा ले \n",
            "Actual Label:  defamation \n",
            "Predicted Label: fake\n",
            "Post:=====>\n",
            " कांग्रेस प्रवक्ता : ये जो “कब्र” चीन का दिखाया जा रहा है ..ये झूठी है।\n",
            "\n",
            "उत्तर : कांग्रेस पर धिक्कार है जो भारत के २० ज़वानो के बलिदान का भी मज़ाक़ उड़ा रहें है। https://t.co/4HpKdC9VKp \n",
            "Actual Label:  defamation \n",
            "Predicted Label: fake\n",
            "Post:=====>\n",
            " @basant_bhoruka @ANI तेरा बाप गटर के पानी से नहाता होगा सुवर।\n",
            "साला कोई अंध भक्त लगता है।\n",
            "किसानों की इज्जत करना सीख वरना भूखा मरेगा। \n",
            "Actual Label:  hate,offensive \n",
            "Predicted Label: offensive\n",
            "Post:=====>\n",
            " केंद्र और भारतीय वायु सेना का बिल्कुल सही निर्णय,बॉलीवुड मनोरंजन और पैसों के लोभ में हर चीज़ में मिर्च मसाला डाल के जनता के सामने रखते है,चाहे वह मुद्दा देश की संप्रभुता का हो या सेना के सम्मान का। \n",
            "Actual Label:  hate \n",
            "Predicted Label: fake\n",
            "Post:=====>\n",
            " देख लो इस गद्दार #गिलानी की हालत कैसे छटपटा रहा है । धन्यवाद मोदी जी ।\n",
            "\n",
            " \n",
            "Actual Label:  fake \n",
            "Predicted Label: hate\n",
            "Post:=====>\n",
            " प्रिय विद्याथिर्यों, \n",
            "आप सभी से #CBSE की 10वीं की बची हुई परीक्षाओं की डेट शीट साझा कर रहा हूँ। ये परीक्षाएं केवल उत्तर पूर्वी दिल्ली के विद्यार्थियों के लिए होंगी।\n",
            "मैं आप सभी को आगामी परीक्षाओं के लिए हार्दिक शुभकामनाएं देता हूँ।\n",
            "All the best 👍\n",
            "\n",
            "#StaySafe #StudyWell \n",
            "Actual Label:  fake \n",
            "Predicted Label: non-hostile\n",
            "Post:=====>\n",
            " जब किसी दूरस्थ गाँव में पहली बार सड़क बनती है तो कुछ ऐसा होता है | धन्यवाद पी.एम@narendramodi परवाह करने के लिए |\n",
            "\n",
            " \n",
            "Actual Label:  fake \n",
            "Predicted Label: non-hostile\n",
            "Post:=====>\n",
            " @IPSSiya @narendramodi @KanganaTeam @SudarshanNewsTV @VHPDigital @friendsofrss @ThePushpendra_ @SureshChavhanke @ajeetbharti @TheDeepak2020In @beingarun28 @YogiDevnath2 @UPPViralCheck @Uppolice @KapilMishra_IND @Rt4Arnav @LtGovDelhi @dineshbjp09 @Brand_Anuj @PMOIndia @DelhiPolice @myogioffice @AnupamPKher @BJP4India ये साला पाकिस्तान जैसी भाषा बोल रहा इस कटुये को सबक सीखना चाहिए \n",
            "Actual Label:  hate,offensive \n",
            "Predicted Label: offensive\n",
            "Post:=====>\n",
            " \" पुलवामा हमला बीजेपी की सोची समझी सजीश थी \" वाली राजनितीक सजीश ' काँग्रेस ' को नये अस्त्र की तरकीब आजमानी चाहीए । \n",
            "Actual Label:  defamation,hate \n",
            "Predicted Label: defamation,fake\n",
            "Post:=====>\n",
            " सबको पता है कश्मीरियों के ऊपर जुल्म हो रहा है पर उनके लिए कोई आवाज़ नहीं उठाता \n",
            "Actual Label:  offensive \n",
            "Predicted Label: hate\n",
            "Post:=====>\n",
            " अब चलेगा अमित शाह का डंडा सबसे पहले होंगे रिया और संदीप गिरफ्तार |\n",
            " \n",
            "Actual Label:  fake \n",
            "Predicted Label: non-hostile\n",
            "Post:=====>\n",
            " @APVNews_ @NitishKumar @TejYadav14 @SudhinBhadoria @SunilAstay @AkritiAmbedkar @Anjali_voice1 @MurariLalBhart2 @DR_Ambedkarji @SairaAmbedkar @BhimArmyChief @AmbedakarSona बिहार में बेटियां सुरक्षित नहीं है  यहां से नहीं हो रही है 15 साल से हो रही है हजारों की संख्या में हर रोज बिटिया की बलात्कार होती है \n",
            "Actual Label:  hate \n",
            "Predicted Label: fake\n",
            "Post:=====>\n",
            " भक्तों के पाखंड का स्तर: बेजोड़! @RahulGandhi के फ़ोन का उपयोग करना एक समस्या है लेकिन तब @AmitShah की नींद समस्या नहीं है! \n",
            "Actual Label:  fake \n",
            "Predicted Label: non-hostile\n",
            "Post:=====>\n",
            " @narendramodi तू अंबानी अडानी के कुत्ता है तू यह बता दे  एमएसपी व्यवस्था जारी रहेगी तो कानून क्यों नहीं बना देते हो एमएसपी से कम दाम पर खरीदने पर जेल होगी ज्यादा चलाक मत बन किसान की फसल और जमीन लूटने की खेल यदि खेल नहीं खेली है तो एमएसपी पर कानून बना दें  क्यों फट रही है एमएसपी लेकर कानून बनाओ \n",
            "Actual Label:  hate,offensive \n",
            "Predicted Label: offensive\n",
            "Post:=====>\n",
            " Vk Singh की तरह यह भी सेना में संघ का ही आदमी है जो लगातार सेना का संघिकरण कर रहा है ऐसे लालची मतलबी लोग हमारी सेना को लगातार कमजोर कर रहे हैं सिर्फ बयान देते हैं और गोदी मिडिया से झूठी वाहवाही कराते और देश को भ्रमित करते है \n",
            "Actual Label:  offensive \n",
            "Predicted Label: fake\n",
            "Post:=====>\n",
            " Srinagar श्री महाराजा हरी सिंह अस्पताल के आदाद व शुमार बताते हैं के 2016 से अब तक 1300 से ज़्यादा कश्मीरी आंखों की रौशनी से महरूम हो चुके हैं\n",
            "कश्मीरियों पर पैलेट गन का इस्तेमाल बंद किया जाए \n",
            "Actual Label:  hate \n",
            "Predicted Label: non-hostile\n",
            "Post:=====>\n",
            " #विकास_गायब_है और अमित शाह का पेट बढ़ता ही जा रहा है। \n",
            "Actual Label:  defamation,hate \n",
            "Predicted Label: fake\n",
            "Post:=====>\n",
            " रविशंकर प्रसाद की जुकरबर्ग को चिट्‌ठी:आईटी मिनिस्टर ने फेसबुक के सीईओ को लिखा- आपका स्टाफ मीडिया के साथ मिलकर हमारे लोकतंत्र पर कलंक लगा रहा है\n",
            "https://t.co/DvhAAgcNro\n",
            "\n",
            "@rsprasad @Facebook #MarkZuckerberg #Facebook \n",
            "Actual Label:  non-hostile \n",
            "Predicted Label: fake\n",
            "Post:=====>\n",
            " मुर्छित मां के पास बच्चा स्तनपान करता नजर आ रहा है। \n",
            "Actual Label:  fake \n",
            "Predicted Label: non-hostile\n",
            "Post:=====>\n",
            " कुछ को छोड़कर,\n",
            " पूरी मनोरंजन इंडस्ट्रीज नशेड़ी निकल रही है  \n",
            "एक से पूछो 10 नाम और बताता है\n",
            "\n",
            "साला.... पूरे कुएं में भांग पड़ी है 👍👈😂😂🤣🤣😂😜😜😜 \n",
            "Actual Label:  defamation,fake \n",
            "Predicted Label: offensive\n",
            "Post:=====>\n",
            " ये क्या है ,आप लोग क्या कर रहे है ,*BJP विधायक अनिल* *उपाध्याय की इस हरकत पर क्या कहेगे MODI जी,*\n",
            " *इस video को इतना वायरल करो की ये पूरा हिन्दुस्तान देख सके..*\n",
            " \n",
            "Actual Label:  defamation,hate,offensive \n",
            "Predicted Label: fake\n",
            "Post:=====>\n",
            " RT @neha_ziddi1: बड़े दुःख के साथ सूचित करना पड़ रहा है भक्त प्रजाति गधे के सिर पर सिंग की तरह विलुप्त हो रही है\n",
            "अब मनोरंजन कैसे होगा?? \n",
            "🙄 \n",
            "Actual Label:  hate \n",
            "Predicted Label: defamation\n",
            "Post:=====>\n",
            " Corona अपनी फॉर्म है रोज 1000 लोगो की मौत हो रही है रोज 58 हजार से 68 हजार तक मरीज बढ़ रहे है राज्यो मै अनगिनत क्राइम के मामले बढ़ रहे है सरकार ना तो Corona रोख पाई ना ही बढ़ते हुए अपराधों को रोक  पा रही \n",
            "Actual Label:  defamation \n",
            "Predicted Label: non-hostile\n",
            "Post:=====>\n",
            " आज इन्ही की वजह से दिल्ली का महौल ख़राब है। \n",
            "Actual Label:  fake \n",
            "Predicted Label: non-hostile\n",
            "Post:=====>\n",
            " RT @D_Tribal_: कितने पैसे या प्रलोभन मिले होंगे कंगना को\n",
            "GDP,अर्थव्यवस्था.....\n",
            "बेरोज़गारी,करोना,लद्दाख के मुद्दे से लोगों काध्यान भटकाने के… \n",
            "Actual Label:  hate \n",
            "Predicted Label: non-hostile\n",
            "Post:=====>\n",
            " राहुल गांधी जी की प्रवासी मजदूरों से इस मुलाकात के बाद ही भाजपा के नेताओं को राम जी की याद आने लग गई। \n",
            "\n",
            "#राहुल_गांधी_मजदूरों_के_साथ \n",
            "Actual Label:  offensive \n",
            "Predicted Label: hate\n",
            "Post:=====>\n",
            " रवीना टंडन ने लिखा- ग्लोबली देखा जाए, तो 99 प्रतिशत जज, राजनेता, बाबू, अधिकारी और पुलिस वाले करप्ट हैं. ये बयान हर किसी के लिए नहीं हो सकता. लोग समझदार हैं. वो अच्छे और बुरे का फर्क समझते हैं. @TandonRaveena\n",
            "https://t.co/ZuaZXmlSoA \n",
            "Actual Label:  non-hostile \n",
            "Predicted Label: fake\n",
            "Post:=====>\n",
            " रातों की रानी 2014 में फिल्में आई अब तक 10 फिल्म भी नहीं बना पाई मुंबई में 300 करोड़ से अधिक की प्रॉपर्टी कैसे बना ली गाजियाबाद में फ्लैट की  कीमत 10 करोड़ से लेकर 100 करोड़ तक की है मुंबई की तो बातें मत पूछिए इतनी  बड़ी रकम कहां से जुटाई ?रामदास अठावले आरक्षण विरोधी को सपोर्ट की \n",
            "Actual Label:  defamation \n",
            "Predicted Label: non-hostile\n",
            "Post:=====>\n",
            " जापान के विदेश मंत्री फोमीयो किसिडा और उनकी टीम छिंदवाडा के विकास की करेगी स्टडी । जापान लेगा कमलनाथजी से सीख , विकास देख हैरान है जापान सरकार ।\n",
            "\n",
            " \n",
            "Actual Label:  fake \n",
            "Predicted Label: non-hostile\n",
            "Post:=====>\n",
            " सुदृढ़ आर्थिक नीति बनाने में विफल रहीं केंद्र सरकार: सचिन पायलट \n",
            "\n",
            "#India #Economy #IndianEconomy #GDP | @AnkurWadhawan  \n",
            " https://t.co/edukhjuQzm \n",
            "Actual Label:  non-hostile \n",
            "Predicted Label: fake\n",
            "Post:=====>\n",
            " जब पाकिस्तान चीन से  कर्ज लेती है तो छिनरा छिनरी पत्रकार देशद्रोही न्यूज़ चैनल खबर दिखाती है पूरा पाकिस्तान चाइना के कब्जे में चली गई अब यह देशद्रोही मोदी की सरकार चाइना से कर्ज  लिया क्या अब भारत  पर भी चाइना की कब्जा हो गई \n",
            "Actual Label:  defamation,hate \n",
            "Predicted Label: fake\n",
            "Post:=====>\n",
            " RT @Rofl_RavishNDTV: जापान में आया भीषण तबाही,, अब देशद्रोहियों भारत का तुलना जापान से मत करना..!!\n",
            "\n",
            "क्योंकि भारत में भुखमरी,, बेरोजगारी,, म… \n",
            "Actual Label:  offensive \n",
            "Predicted Label: non-hostile\n",
            "Post:=====>\n",
            " कहते हैं सबसे मुश्किल होता है जवान औलाद का जनाज़ा जब बूढ़े बाप को उठाना पड़े। टांडा में 22 साल के रिज़वान अहमद की पुलिस ने पीट पीट कर हत्या कर दी। बूढ़े बाप का दर्द दिल चीर देने वाला है। अल्लाह उनके साथ सब्र और रहम का मामला अता फ़रमाए। वर्दी वाले हत्यारे हैं। पुलिस आतंकी है। \n",
            "Actual Label:  fake \n",
            "Predicted Label: non-hostile\n",
            "Post:=====>\n",
            " स्कूल, दुकान, मंदिर, बारातघर, होटल, त्यौहार, उत्सव सब बंद हैं। यहां तक भगवान श्री गणेश के पंडाल नहीं लगने दिए गए और शिवराज और महाराज सदस्यता अभियान के नाम पर हजारों लोगों के जीवन के साथ खिलवाड़ कर रहे हैं।\n",
            ".@ChouhanShivraj और .@JM_Scindia आप दोनो की सत्ता के लिये ये कैसी भूंख है? https://t.co/iwv1gBg37e \n",
            "Actual Label:  non-hostile \n",
            "Predicted Label: fake\n",
            "Post:=====>\n",
            " आठवले की सिब्बल व आजाद को सलाह, सालों तक सत्ता में रहेगी #NDA ,कांग्रेस छोड़ भाजपा में शामिल हो जाएं\n",
            "#CongressPresident #kapilsibal #gulamnabiazad @RamdasAthawale\n",
            "https://t.co/B4vqLFBoAK \n",
            "Actual Label:  non-hostile \n",
            "Predicted Label: hate\n",
            "Post:=====>\n",
            " आप एक साल तक बाहर नहीं जा सकते, ऐसे ही कुल 21 दिशा-निर्देश \n",
            "Actual Label:  fake \n",
            "Predicted Label: non-hostile\n",
            "Post:=====>\n",
            " पत्थर तो कश्मीर में भी फैंके जाते थे लेकिन, वहां घर, गाड़ियाँ, नहीं जलती थी! \n",
            "\n",
            "जानते हैं क्यों ? 🤔क्योंकि वहां हिन्दू के घर नहीं थे \n",
            "Actual Label:  hate,offensive \n",
            "Predicted Label: fake\n",
            "Post:=====>\n",
            " कोरोना रिपोर्ट निगेटिव आने के बाद द्वारिका पीठ दर्शन करने जाते हुए गृहमंत्री श्री अमित शाह..\n",
            "\n",
            " \n",
            "Actual Label:  fake \n",
            "Predicted Label: non-hostile\n",
            "Post:=====>\n",
            " मगरमच्छ पाल लेना,\n",
            "कुत्ता पाल लेना,\n",
            "मोर पाल लेना,\n",
            "चाहो तो गधा भी पाल लेना,\n",
            "मगर ये वहम कभी मत पालना की भाजपा की सरकार में भारत तरक्की कर रहा है... \n",
            "Actual Label:  hate,offensive \n",
            "Predicted Label: fake\n",
            "Post:=====>\n",
            " ये अटल जी के बस की बात ही नही थी जो काम मोदी और अमित शाह जी ने किया। \n",
            "Actual Label:  offensive \n",
            "Predicted Label: defamation\n",
            "Post:=====>\n",
            " देखो देखो यह है मोदी दिखाई कुछ नहीं दे रहा है क्यों विकास गायब है \n",
            "Actual Label:  defamation \n",
            "Predicted Label: hate\n",
            "Post:=====>\n",
            " @HoneyJaat5 @aanubhavsinghh @DrKumarVishwas अबे साले गंदी नाली के कीड़े हज़ार बाप के औलाद कुत्ते के पिल्ले पहले असली नाम और पते के साथ एकाउंट बना भोसड़ी के तब आना डिबेट करने लेकिन तू असली एकाउंट बनाएगा कैसे तुझे तो तेरे बाप के बारे में भी नही पता होगा तो और नही तू खुद का नाम जनता हीग हराम के पिल्ले \n",
            "Actual Label:  offensive \n",
            "Predicted Label: hate,offensive\n",
            "Post:=====>\n",
            " पुलवामा आतंकी हमले के मामले में अभियुक्त वजीद ने दायर की जमानत अर्जी, नीट की परीक्षा का दिया हवाला\n",
            "#pulwamaattack\n",
            "#waizulislam\n",
            "#NEET\n",
            "https://t.co/sfTyoHidYc \n",
            "Actual Label:  non-hostile \n",
            "Predicted Label: fake\n",
            "Post:=====>\n",
            " अब तक सरकार का विरोध करने वाले उछल रहे थे। उन्हें कड़ा जवाब दिया है राजपूत के लोगों ने। राजस्थानी सिर्फ दुश्मन के घर घुस कर मारते हैं बल्कि वक्त आने पर देश के साथ खड़े होना भी जानते हैं। हमें गर्व है हमारे राजस्थान और इसके वीरों पर।\n",
            "\n",
            " \n",
            "Actual Label:  fake \n",
            "Predicted Label: hate\n",
            "Post:=====>\n",
            " ब्रेकिंग न्यूज़\n",
            "       अरविंद केजरीवाल को कोरोना हुआ\n",
            "हे भगवान जल्द ही इस खुजली वाले कुत्ते को अजीत जोगी जैसे  जल्दी उठा ले ताकी दिल्ली की जनता इस कोरोना फैलाने वाले खुजली वाले कुत्ते से आजादी मिल सके यानी कोरोनावायरस एवं दंगा मुक्त दिल्ली हो सके 🙏🚩🚩🚩🚩🚩 \n",
            "Actual Label:  fake,hate \n",
            "Predicted Label: fake\n",
            "Post:=====>\n",
            " RT @Nattashasharrma: इस देश को बर्बाद करने मे केवल एक ही आदमी\n",
            "\n",
            "का हाथ है....\n",
            "\n",
            "नाम तो आप सब जानते ही हो.....👈🏻 \n",
            "Actual Label:  defamation,hate \n",
            "Predicted Label: offensive\n",
            "Post:=====>\n",
            " केंद्र सरकार कोरोना संकट के कारण ऑनलाइन एजुकेशन के लिए देश भर के छात्रों को मुफ्त में स्मार्टफोन बांट रही है। इस लिंक पर रजिस्ट्रेशन कराने के बाद ही स्टूडेंट्स को स्मार्टफोन मिलेगा। 👉 http://bit.ly/Register-Free-Smartphone-Now\n",
            "\n",
            "रीडर्स ने भी ऐसे मैसेज पड़ताल के लिए हमें भेजे हैं। \n",
            "Actual Label:  fake \n",
            "Predicted Label: non-hostile\n",
            "Post:=====>\n",
            " माननिय पूर्व राष्ट्रपति प्रणब मुखर्जी की स्थिति में 14, अगस्त 2020 की सुबह तक कोई बदलाव नहीं है । वह इंटेंसिव केयर में वेंटिलेटर सपोर्ट पर हैं । उनके वाइटल पैरामीटर्स अभी स्थिर हैं।\n",
            "\n",
            " \n",
            "Actual Label:  fake \n",
            "Predicted Label: non-hostile\n",
            "Post:=====>\n",
            " 18 जून से दिल्ली में राष्ट्रपति शासन लागू होगा और अगले चार सप्ताह के लिए पूरे दिल्ली एनसीआर में कम्पलीट लॉकडाउन रहेगा। \n",
            "Actual Label:  fake \n",
            "Predicted Label: non-hostile\n",
            "Post:=====>\n",
            " ग्वालियर संभाग में मुख्यमंत्री श्री \n",
            "@OfficeofSSC\n",
            " जी एवं जयचंदो के सरदार \n",
            "@JM_Scindia\n",
            " की उपस्तिथि में कोरोना वायरस ने भाजपा सदस्यता ग्रहण की!!! \n",
            "\n",
            "@INCMP\n",
            " \n",
            "@IYCMadhya\n",
            " \n",
            "@_voiceofmp\n",
            " \n",
            "@VTankha\n",
            " \n",
            "@OfficeOfKNath\n",
            " \n",
            "@digvijaya_28\n",
            " \n",
            "@KunalChoudhary_\n",
            " \n",
            "@jitupatwari \n",
            "Actual Label:  offensive \n",
            "Predicted Label: non-hostile\n",
            "Post:=====>\n",
            " Y कैटेगरी की सुरक्षा में निकलीं भक्तों की झांसी की रानी \"कंगना\" 🤷\n",
            " कहा : ना डरूंगी, ना झुकूंगी\n",
            "जब डर ही नहीं तो Y+ में क्यों आ रही फ़र्ज़ी क्वीन ?\n",
            "आम पब्लिक जैसे आओ\n",
            "तुमसे तो ज्यादा हिम्मती रिया है जिसने सरकार,  पुलिस, सिस्टम, मीडिया सबको अकेले झेला https://t.co/LRAaR9U2Z2 \n",
            "Actual Label:  hate \n",
            "Predicted Label: defamation\n",
            "Post:=====>\n",
            " मेरे पूर्वजों की जमीनों को लगान के नाम पर हथिया कर जो आज अपने आप को जमींदार कहते हैं उनसे सवाल है मेरा कब तक मुफ्त की कब्जाई हुई जमीनों के टुकड़ों पर पलोगे,\n",
            "वापस कब कर रहे हो??\n",
            "@Lecturershweta1 \n",
            "Actual Label:  offensive \n",
            "Predicted Label: hate\n",
            "Post:=====>\n",
            " अगर विनोद दुआ राजद्रोह के गुनहगार है तो फिर कौन पत्रकार बचेगा ? ये विरोध की आवाज़ को दबाने की कोशिेश है ! \n",
            "\n",
            "@VinodDua7 @ShekharGupta @sheela2010 @sardesairajdeep @sardanarohit @mjakbar @SanjayAzadSln @rssurjewala @manojkjhadu @RahulGandhi @AmitShah \n",
            "\n",
            "https://t.co/DLnqsV2w0h \n",
            "Actual Label:  non-hostile \n",
            "Predicted Label: hate\n",
            "Post:=====>\n",
            " राजस्थान रॉयल्स को झटका\n",
            "#IPL2020 #Cricket\n",
            "\n",
            "https://t.co/qAkjXpMHIY \n",
            "Actual Label:  non-hostile \n",
            "Predicted Label: fake\n",
            "Post:=====>\n",
            " बुलेट ट्रेन का आखिरी ट्रायल सफल हुआ।\n",
            "आप सभी देशवासी समय की बचत करते हुए इस बुलेट ट्रेन से सफर का आनंद उठाएं। \n",
            "आप सभी को बहुत बहुत बधाई  \n",
            "Actual Label:  defamation \n",
            "Predicted Label: non-hostile\n",
            "Post:=====>\n",
            " नाना ने खाया,  दादी नै खाया\n",
            "पापा नै खाया,  मम्मी ने खाया\n",
            "आओ बहना तुम भी खाओ, जीजु को भी ले आओ, \n",
            "कोग्रेसी अमुल मक्खन \n",
            "Actual Label:  defamation,offensive \n",
            "Predicted Label: offensive\n",
            "Post:=====>\n",
            " आईआईटी-जेईई परीक्षा देने गए छात्रों ने इस बारे में क्या कहा? https://t.co/5VIGnO4BSM \n",
            "Actual Label:  non-hostile \n",
            "Predicted Label: fake\n",
            "Post:=====>\n",
            " कल मेरे रेजिग्नेशन लेटर को कैंसल कर दिया गया है और मेरा ट्रांसफर कर दिया गया !\n",
            "मेरी ईमानदारी के लिए मुझे ये पुरस्कार मिला! आज,फिर एक नए #hastag के साथ मैं आपसे सहयोग की उम्मीद जताती हू!#Stop_Transfer_Sunita_Yadav \n",
            "Actual Label:  fake \n",
            "Predicted Label: non-hostile\n",
            "Post:=====>\n",
            " जो श्रीराम का हुआ उसके सभी काम स्वतः सिद्ध हो जाते हैं। वह बजरंगबली और वाल्मीकि जैसे संपूर्ण मानवता के लिए पूज्य हो गए।\n",
            "\n",
            "जिन्होंने श्रीराम के साथ द्रोह किया, वह मारीच की तरह दुर्गति को प्राप्त हुए।\n",
            "\n",
            "विपक्षी दलों को इससे सीख लेना चाहिए... https://t.co/jkcPdefBE1 \n",
            "Actual Label:  non-hostile \n",
            "Predicted Label: fake\n",
            "Post:=====>\n",
            " 70 साल में पहली बार #मोदीचोर के साथ रांची में # आयुषभारत # पीएमजेलॉंच\n",
            "मोदी चोर\n",
            "\n",
            "\n",
            " \n",
            "Actual Label:  fake \n",
            "Predicted Label: non-hostile\n",
            "Post:=====>\n",
            " लड़कीयाँ:- हम लड़कों से काम नही है । पुलिस:- तो ये ले … #JNUProtests Me ये पड़ा धोनी का 6 और गेंद स्टेडियम से बाहर।\n",
            "\n",
            " \n",
            "Actual Label:  fake \n",
            "Predicted Label: non-hostile\n",
            "Post:=====>\n",
            " उन्नाव रेप कांड के दोषी BJP MLA कुलदीप सिंह सेंगर को हाईकोर्ट से मिली जमानत,अब सवाल यह उठता है कि जिस जज ने जमानत दिया है,अगर पीड़िता उसी जज की बेटी होती तो भी वह जज जमानत दे देता क्या? इस हैवान ने पीड़िता के पूरे खानदान को मार डाला फिर भी उस जज को तरस नहीं आया जिसने जमानत दे दी \n",
            "Actual Label:  offensive \n",
            "Predicted Label: hate,offensive\n",
            "Post:=====>\n",
            " 1962 में नेहरू जी ने भारत के पैंगोंग झील चीन को सौंप दिया था, कल मोदी जी के भारत ने वापस छीन लिया।😊\n",
            "#56\" इंच का दम  #WeSupportIndianArmy\n",
            "लिंक👇 \n",
            "Actual Label:  fake \n",
            "Predicted Label: non-hostile\n",
            "Post:=====>\n",
            " क्या आप कश्मीर के लोगों के साथ हो। अगर हां तो इस ट्रेंड को सपोर्ट करो।#KashmirSecondPalestine \n",
            "Actual Label:  hate \n",
            "Predicted Label: offensive\n",
            "Post:=====>\n",
            " @DrArchanaINC @Ravi_Shankar__ आज तक न्यूज़ चैनल एक नंबर से 10 नंबर पर पहुंच गई कारण उसमें दो-तीन महिला पत्रकार जो झूठ और फ्रॉड गवार की तरह न्यूज़ को परोसा आज कही नंबर एक पर नहीं दिख रहे हैं अब इनकी  छटपटाहट शुरू होने वाली है जब तक आज तक पर  से दो तीन औरतों को नहीं हटाएंगी  आज तक उसकी बुरी हाल और होगी \n",
            "Actual Label:  hate,offensive \n",
            "Predicted Label: defamation\n",
            "Post:=====>\n",
            " #आमचीमुंबई के अंगने में PoK का क्या काम है\n",
            "जिसे ऐसा दिखे, वो क्या कम बदनाम है... \n",
            "Actual Label:  hate \n",
            "Predicted Label: offensive\n",
            "Post:=====>\n",
            " “विकीलीक्स ने खुलासा किया है कि राउल विंची शादीशुदा है। इसके 2 बच्चे हैं जो लन्दन में रहते है। इसकी बीबी कोलंबियन है। पहली संतान 14 वर्ष का लड़का नियाक है और दूसरी सन्तान माइनक 10 साल की लड़की है। अविवाहित कहकर राहुल गांधी देश को गुमराह कर रहा है!” \n",
            "Actual Label:  defamation,fake \n",
            "Predicted Label: fake\n",
            "Post:=====>\n",
            " देखिए हाथों में ईंट के साथ किसान, बंदूकधारी पुलिस का सामना कर रहे हैं।\n",
            "\n",
            " \n",
            "Actual Label:  fake \n",
            "Predicted Label: non-hostile\n",
            "Post:=====>\n",
            " @narendramodi भारत के लोग मुल्लों की गुलामी की अंग्रेजों की  अब अडानी अंबानी की गुलाम बन चुकी है जो अभी समझ नहीं आ रही है अब आएगी https://t.co/mREMWe2qka \n",
            "Actual Label:  defamation,offensive \n",
            "Predicted Label: offensive\n",
            "Post:=====>\n",
            " ठेके खुलते ही बीजेपी नेत्री का पहला रुझान आया, धन्यवाद मोदी जी ठेके खुलवाने के लिए, अंध भक्तिन......चलेगी दारू पार्टी. भगवा - ए - हिंद अर्थव्यवस्था - ए - हिंद \n",
            "Actual Label:  fake \n",
            "Predicted Label: offensive\n",
            "Post:=====>\n",
            " @KanganaTeam और ओ जो तुम्ने किया !! तुम तो पुजा करिती हो!! ना!!  कमिनी औउर्त \n",
            "Actual Label:  fake,offensive \n",
            "Predicted Label: offensive\n",
            "Post:=====>\n",
            " उद्धव ठाकरे शिवसेना को उसी ऊंचाई पर ले जाना चाहता हैं!\n",
            "जहाँ राहुल गांधी कांग्रेस को पहुंचा चुका हैं😂😂 \n",
            "Actual Label:  hate \n",
            "Predicted Label: defamation\n",
            "Post:=====>\n",
            " RT @Rhea_Ziddi: पीतल के लोटे से काम चल जाएगा या सोने का लोटा बनाना पडेगा !\n",
            "पूछता है भारत... \n",
            "Actual Label:  defamation \n",
            "Predicted Label: non-hostile\n",
            "Post:=====>\n",
            " अब वामपंथी विदेशियों के साथ मिलकर मोदी जी छवि बदनाम करने मे लगे हैं, पर वामपंथियों की पोल हमेसा खुल जाती है। 😀😊 \n",
            "Actual Label:  fake \n",
            "Predicted Label: offensive\n",
            "Post:=====>\n",
            " अक्षय कुमार की पत्नी उतरी रिया चक्रवर्ती के समर्थन में\n",
            "\n",
            "😁😁😁अंध भक्तों अब तुमरा धर्म संकट में आ गए हो 😃😃😎 \n",
            "Actual Label:  defamation \n",
            "Predicted Label: offensive\n",
            "Post:=====>\n",
            " ये भी अजब संयोग है। 🤔 \n",
            "\n",
            "एक गुजराती ने हिंदुओ की वाट लगा दी ।                           जबकि दुसरे गुजराती ने हमे, \n",
            "हिंदुत्व का एहसास कराया। 🚩💪 \n",
            "Actual Label:  hate,offensive \n",
            "Predicted Label: non-hostile\n",
            "Post:=====>\n",
            " @narendramodi देश की इज़्ज़त हो रही है \n",
            "तार- तार।\n",
            "\n",
            "कहाँ मर गए वो साले,जो कहते थे, हम भी चौकीदार।🤔 \n",
            "Actual Label:  hate,offensive \n",
            "Predicted Label: hate\n",
            "Post:=====>\n",
            " डॉ सविता रॉय ,प्रिंसिपल दौलत राम कॉलेज, दिल्ली यूनिवर्सिटी,rssकार्यकर्ता हैं।डॉ रितु सिंह ,दलित टीचर को क्लास नही लेने दे रही हैं। मंत्रालय का निर्देश है कि कोई भी टीचर निकाला नही जाएगा।रॉय को दुबारा प्रिंसिपल नियमतः नही होना चाहिए। RSS का दलित प्रेम\n",
            "@DrRPNishank__ \n",
            "@UnivofDelhi \n",
            "Actual Label:  non-hostile \n",
            "Predicted Label: defamation\n",
            "Post:=====>\n",
            " @jaavedjaaferi @atulahuja_ तुमलोग कितने भी  पढ़ लिख लो ,पैसे वाले बन जाओ\n",
            " तुम लोगों की जिहादी मानसिकता नहीं जाएगी। \n",
            "Actual Label:  hate \n",
            "Predicted Label: offensive\n",
            "Post:=====>\n",
            " उत्तरा नक्षत्र आरहा हैं कूतिया बावरा गई है https://t.co/Q7cF92d0Y3 \n",
            "Actual Label:  hate,offensive \n",
            "Predicted Label: non-hostile\n",
            "Post:=====>\n",
            " @pankhuripathak @anuragkashyap72 @KanganaTeam @narendramodi @SirPareshRawal भक्तों का जीजा कमीना कश्यप \n",
            "Actual Label:  defamation,offensive \n",
            "Predicted Label: offensive\n",
            "Post:=====>\n",
            " थाली बजेगी - रोजगार के लिए\n",
            "आवाज उठेगी - रोजगार के लिए।\n",
            "\n",
            "युवा अपना हक मांग रहा है।\n",
            "\n",
            "#RozgarDo या गद्दी छोड़ो ! \n",
            "Actual Label:  defamation,hate \n",
            "Predicted Label: hate\n",
            "Post:=====>\n",
            " मुसलमान हिन्दुओ के खिलाफ़ एक जंग के पथ पर है | धीमी और स्थिर गति से मासूम युवाओं को बिगाड़ने का कार्य सारे मंचो पर किया जा रहा है |\n",
            " \n",
            "Actual Label:  fake \n",
            "Predicted Label: non-hostile\n",
            "Post:=====>\n",
            " 1 से 20 फरवरी तक 'नमस्ते ट्रंप की तैयारियां'। 23 फरवरी 'दिल्ली दंगे'। '24 से 25 फरवरी नमस्ते ट्रंप इवेंट'। 4 मार्च 'कोरोना को लेकर अधिकारियों की पहली मीटिंग।' 9 मार्च एयरपोर्ट पर स्क्रीनिंग टेस्ट शुरू। 11 मार्च डब्ल्यूएचओ ने कोरोना को महामारी घोषित किया। 11 से 12 मार्च मप्र में बीजेपी के विधायकों को बस से रिजॉर्ट ले जाया गया। 13 मार्च सरकार ने कहा, 'कोरोना हेल्थ इमरजेंसी नहीं है'। 14 से 15 मार्च 'बीजेपी मप्र में सरकार बनाने में व्यस्त'। 16 मार्च 'पीआर के लिए मोदी की कोरोना पर सार्क मीटिंग'। 19 मार्च मोदी ने 'कोरोना पर भारत को पहली बार संबोधित किया' और 1 दिन के 'जनता कर्फ्यू का ऐलान किया'। 20 से 21 मार्च 'मप्र में बीजेपी सरकार का गठन'। 22 मार्च एक दिन का जनता कर्फ्यू। 25 मार्च सभी फ्लाइट्स पर रोक। 26 मार्च को 14 अप्रैल तक के लिए लॉकडाउन किया गया।  \n",
            "Actual Label:  fake \n",
            "Predicted Label: non-hostile\n",
            "Post:=====>\n",
            " स्वागत है अमित शाह जी का AIIMS में जिसे नेहरू जी ने बनवाया था ।\n",
            "@INCIndia \n",
            "Actual Label:  non-hostile \n",
            "Predicted Label: fake\n",
            "Post:=====>\n",
            " @KanganaTeam कुतिया तेरी हिम्मत कैसे हुई किसानों को आतंकी कहने की \n",
            "Actual Label:  fake,offensive \n",
            "Predicted Label: hate,offensive\n",
            "Post:=====>\n",
            " #जूते खराब नही हो जाए इस लिए #अधिकारी JCB से दूसरी तरफ जा रहे थे Down pointing backhand indexFace with tears of joy \n",
            "Actual Label:  defamation \n",
            "Predicted Label: hate\n",
            "Post:=====>\n",
            " हम किसी से किसी की जागीर नही माँगते हम बस अपने योग्यता के अनुसार अपना हक मांगते हैं। \n",
            "Actual Label:  defamation \n",
            "Predicted Label: hate\n",
            "Post:=====>\n",
            " असत्याग्रही! \n",
            "Actual Label:  fake \n",
            "Predicted Label: non-hostile\n",
            "Post:=====>\n",
            " करोलबाग में करना था धमाका, रेकी भी कर ली थी: दिल्ली में पकड़े गए ISIS आतंकी अबू युसूफ का कबूलनामा।\n",
            "\n",
            "आतंकवाद का कोई मजहब नहीं होता बस वो शांतप्रिय समुदाय से आते हैं? \n",
            "\n",
            "लेकिन मरने के बाद दफना दिया जाता है और सीधे 72हूरों के पास चले जाते हैं🤔 \n",
            "Actual Label:  hate,offensive \n",
            "Predicted Label: hate\n",
            "Post:=====>\n",
            " @avanya6004007 @anuragkashyap72 @thesharad @KetuUvach @S3Chaturvedi @ChandBrajesh @MunnabhaiKpp @Rishi_IHA @thebrajeshs @_Krantikari @GetAzadi @ReallySwara सांप सांप को काट सकता है..\n",
            "\n",
            "कुत्ता कुत्ते को काट सकता है...\n",
            "\n",
            "लेकिन\n",
            "\n",
            "कमीना कमीने को नही काटता 😂😂😂 \n",
            "Actual Label:  defamation,offensive \n",
            "Predicted Label: offensive\n",
            "Post:=====>\n",
            " इन पंचर छापों को कोन समझाए कि उनके रोजगार में कमी का कारण मोदी नहीं \n",
            "👇\n",
            "ट्यूब लैस टायर है.😂😂😂😂 \n",
            "Actual Label:  defamation \n",
            "Predicted Label: fake\n",
            "Post:=====>\n",
            " @draijada1 @ca350370031d4d5 मेरी पूरी रिसर्च है पढ़ाई भी जरूरत के हिसाब से ठीक है आप रिसर्च करके मुझे बताएं अंबानी ने देश के लिए क्या किया अडानी ने देश के लिए क्या किया  देश को लूटने के सिवा एक काम उसका बताएं जो लूटने के सिवा देश के लिए किया हो \n",
            "Actual Label:  hate \n",
            "Predicted Label: defamation\n",
            "Post:=====>\n",
            " आज एक इलेक्ट्रिक की दूकान में गया और बोला \"एक राहुल दे दो\" \n",
            "\n",
            "उसने तुरन्त एक ट्यूबलाइट दे दिया,आजकल प्रचार होते देर नही लगती । 😂😂😂 \n",
            "Actual Label:  hate \n",
            "Predicted Label: defamation\n",
            "Post:=====>\n",
            " तुम्हे पबजी और टिकटाॅक की चिंता है, मुझे मेरी \"जान\", \"ईमान\" और कश्मीरी \"मुसलमान\" की चिंता है । \n",
            "Actual Label:  defamation \n",
            "Predicted Label: fake\n",
            "Post:=====>\n",
            " जब देश के किसी हिस्से मे किसी भी समुदाय पर हो रहे अत्याचारों पर मूंह मे दही जमाए रहोगे तो याद रखना तुम्हारे बुरे समय मे ऊपर वाला ऐसे हालात कर देगा कि चिल्लाते रहोगे लेकिन कोई तुम्हारी आवाज से आवाज मिलाने वाला नही मिलेगा \n",
            "Actual Label:  defamation \n",
            "Predicted Label: hate\n",
            "Post:=====>\n",
            " साल 2014 से विकास फरार चल रहा है। जनता की विकास को ढूँढने की तमाम कोशिशें बेकार गई। विकास को पकड़ पाना मुश्किल ही नहीं नामुमकिन है। \n",
            "Actual Label:  defamation \n",
            "Predicted Label: non-hostile\n",
            "Post:=====>\n",
            " केवल गिरफ्तारी पर्याप्त नहीं है, इस बीमार मानसिक रूप से अस्थिर महिला को एनएसए के साथ लगाया जाना चाहिए\n",
            "\n",
            " हम उस पर NSA की मांग करते हैं !!\n",
            " वह सिर्फ गिरफ्तारी से नहीं बच सकती, उसने लाखों हिंदुओं की भावनाओं को ठेस पहुंचाई \n",
            "\n",
            "#हीरखान_पे_NSA_लगाओ \n",
            "Actual Label:  hate \n",
            "Predicted Label: fake\n",
            "Post:=====>\n",
            " जब मोदीजी ने UNO के कॉन्फ्रेंस हॉल में प्रवेश किये तो वहां उपस्थित सभी लोगों ने उनका खडे होकर अभिवादन किया। \n",
            "उनके बीच केवल एक बंदा था जो छुप रहा था और दुनिया के सामने अपनी भद्द पिटवा रहा था।\n",
            " उसे दुनिया मे बैठने.. \n",
            "Actual Label:  hate \n",
            "Predicted Label: fake\n",
            "Post:=====>\n",
            " @dna @aliaa08 रण्डी भांड कुतिया \n",
            "Actual Label:  hate,offensive \n",
            "Predicted Label: offensive\n",
            "Post:=====>\n",
            " क्या कर रहा है ये आबकारी अमला? काहे के लिए बैठा है ये? दारु इतनी फ़ैला दो पूरे प्रदेश में की पिए और पड़ें रहें\n",
            "\n",
            " \n",
            "Actual Label:  fake \n",
            "Predicted Label: non-hostile\n",
            "Post:=====>\n",
            " @narendramodi @rpbreakingnews रोजगार दे बकवास  नहीं तुमने भारत के 80 परसेंट नागरिक को गरीब बनाकर लाइन में खड़ा करके छोरी है तुम्हें सजा मिलनी चाहिए तुम्हें इस्तीफा देनी चाहिए तू प्रधानमंत्री के लायक नहीं \n",
            "Actual Label:  fake,hate \n",
            "Predicted Label: defamation\n",
            "Post:=====>\n",
            " @Pawankhera Shocking! #Indian #BJP member, minister Imarti Devi, said the novel #coronavirus can't reach her because she was born in cow dung छिनरा छिनरी पत्रकार की वजह से भारत के नाम पूरे दुनिया में खराब हुई ऐसे कुत्तिया को किसने वोट की https://t.co/IaWzypDdqp \n",
            "Actual Label:  hate \n",
            "Predicted Label: fake\n",
            "Post:=====>\n",
            " निर्मला सीतारमण ने धोनी को बलिदान बैज पहने रहने की सलाह दी\n",
            "\n",
            " \n",
            "Actual Label:  fake \n",
            "Predicted Label: non-hostile\n",
            "Post:=====>\n",
            " @ReshmaHindusta1 ट्विटर ने कुछ दिन पहले माना था कि भारत आतंकवाद से पीड़ित है और उस आतंकवाद को भारत की कुछ कमीनी कुत्ते सपोर्ट भी करते हैं यह बात अपने ट्वीट करके नहीं बताई सोचा आप की अकल ठिकाने लाने के लिए आपको ट्विटर की है बात याद दिला दू \n",
            "Actual Label:  hate \n",
            "Predicted Label: offensive\n",
            "Post:=====>\n",
            " माननीय वाजपयी जी की भतीजी ने आखिरकार तोड़ी चुप्पी | जानिए क्या कहा \n",
            "Actual Label:  defamation \n",
            "Predicted Label: fake\n",
            "Post:=====>\n",
            " यह कोई रामभक्त टॉमवक्त नहीं है..!यह सिर्फ दीपक शर्मा का भक्त है..!!\n",
            "#गोपाल_हिंदुत्व_आतंकवादी \n",
            "Actual Label:  defamation,hate \n",
            "Predicted Label: hate\n",
            "Post:=====>\n",
            " माननीय रामविलास पासवान जी आपके संसद चंदन सिंह हैं दलितों को मौत के घाट उतारने वाले क्रूर आदमी ब्रह्मेश्वर मुखिया को गाँधी बतला रहा है। https://t.co/ueRuQPq3jG \n",
            "Actual Label:  non-hostile \n",
            "Predicted Label: fake\n",
            "Post:=====>\n",
            " रेल मंत्रालय 13 लाख कर्मचारियों के वेतन, भत्ते काटने पर विचार कर रहा है \n",
            "Actual Label:  fake \n",
            "Predicted Label: non-hostile\n",
            "Post:=====>\n",
            " ताज़ा खबर\n",
            "नेपाल ने सीमा तनाव को लेकर 13 भारतीय सैनिकों को गिरफ्तार किया\n",
            "कथित सीमा उल्लंघन। \n",
            "Actual Label:  fake \n",
            "Predicted Label: non-hostile\n",
            "Post:=====>\n",
            " @OfficeOfDGP प्रकाश जावड़ेकर ये हरामजादा कमीना कुत्ता भड़वा वामपंथी विचारधारा का है,6 साल इस हरामी ने खींसे निपोरने के सिवाय कुछ नहीं किया, ये सोनिया द्वारा प्लांट किया हुआ नीच आदमी है, मोदी जी को धोखा दे रहा @PrakashJavdekar \n",
            "Actual Label:  defamation,fake,offensive \n",
            "Predicted Label: defamation,fake,hate\n",
            "Post:=====>\n",
            " तेरी बीबी भी तेरे जैसी कमीनी होगी नही कबसे तेरी चुंगल से भाग जाती\n",
            "कालिया की कुत्ती भी काली https://t.co/Cpw0kCDU94 \n",
            "Actual Label:  defamation,hate \n",
            "Predicted Label: offensive\n",
            "Post:=====>\n",
            " ऐसे देशद्रोहियों पर सरकार को सबसे पहले उचित इलाज करने की जरूरत है जिनको एक आतंकवादी शहीद नजर आता है। देश के बाहर वाले दुश्मन से बड़े दुश्मन ये हैं देश के।\n",
            "#jihadi_mentalist_people\n",
            "#islmaic_terror https://t.co/HOMlXy1EsL \n",
            "Actual Label:  offensive \n",
            "Predicted Label: hate\n",
            "Post:=====>\n",
            " भगोड़े आरोपी विजय माल्या को आज 4 जून को प्लेन से मुंबई लाया जा रहा है \n",
            "Actual Label:  fake \n",
            "Predicted Label: non-hostile\n",
            "Post:=====>\n",
            " रिया आते समय मोटी पिन का चार्जर लेते आईयो\n",
            "\n",
            "आसाराम to Rhea Chakraborty😃🤣🤣🤣🙈🙈 \n",
            "Actual Label:  defamation \n",
            "Predicted Label: non-hostile\n",
            "Post:=====>\n",
            " गुडमॉर्निंग! एबीपी न्यूज़ पर आपका स्वागत है. दिनभर की बड़ी व ब्रेकिंग खबरों के लिए बने रहें हमारे साथ \n",
            "Actual Label:  non-hostile \n",
            "Predicted Label: fake\n",
            "Post:=====>\n",
            " @taslimanasreen मेरे हिसाब से तो जिन्हा की अकेले की गलती नहीं थी जिन्ना तो एक नेता था जो मुसलमान की असलियत को पहचान गया कि मुसलमान इतनी कमीनी कोम है कि वो किसी देश की सगी नहीं हो सकती और 1946 में 98% मुसलमानों ने इस्लामिक देश के लिए मुस्लिम लीग को वोट दिया पर कमीनी कौम गई नहीं भारत से \n",
            "👇👇👇👇 https://t.co/hg2ITF5Cb3 \n",
            "Actual Label:  hate,offensive \n",
            "Predicted Label: fake\n",
            "Post:=====>\n",
            " कोरोना वायरस का श्रोत पता चल गया है| यह मालुम हुआ है की हुबेई, चीन की कई छतें क्रिसैंथेमम चमगादड़ों से भरी हुई है \n",
            "Actual Label:  fake \n",
            "Predicted Label: non-hostile\n",
            "Post:=====>\n",
            " अगर आपको लगता है कि गे/लेस्बियन/बाइसेक्शुअल/एसेक्शुअल होना:\n",
            "-मानसिक बीमारी है\n",
            "-भ्रम या महज एक 'फ़ेज' है\n",
            "-अप्राकृतिक है\n",
            "-फ़ैशन या ट्रेंड है...तो ये वीडियो आपके लिए ही है. आज अपनी ये सारी ग़लफ़हमियाँ दूर कर लीजिए.\n",
            "\n",
            "(वीडियो: नवीन नेगी/बुशरा शेख़) https://t.co/FdpIs1v6Ci \n",
            "Actual Label:  non-hostile \n",
            "Predicted Label: fake\n",
            "Post:=====>\n",
            " अपने ही घर के पिछवाड़े से भागते इस व्यक्ति को पहचानते हैं..?\n",
            " हिंट : एक भाजपा शासित  राज्य के मुख्यमंत्री हैं।\n",
            "बूझो तो मानु ? \n",
            "Actual Label:  offensive \n",
            "Predicted Label: fake\n",
            "Post:=====>\n",
            " कश्मीर पर आतंकी अल जवाहिरी के वीडियो पर भारत ने कहा- ऐसी धमकियां मिलती रहती हैं, सीरियसली नहीं लेना चाहिए\n",
            "\n",
            "https://t.co/aRIlxnUjpW https://t.co/E6QXlrocCF \n",
            "Actual Label:  non-hostile \n",
            "Predicted Label: fake\n",
            "Post:=====>\n",
            " जावेद ने इस ट्वीट के जरिए फिर नफरत फैलाने का काम किया है। \n",
            "Actual Label:  fake \n",
            "Predicted Label: non-hostile\n",
            "Post:=====>\n",
            " facebook.com/pramod.singh.7127146 ये प्रमोद सिंह जी की फेसबुक आईडी है जिस पर एक विडिओ डाला गया है जिसमे अबु आजमी और मुंबई पुलिस  व साजिद भाई के समर्थन में नारे लगाए जा रहे है जिसे इन्होंने  #पाकिस्तान जिंदाबाद बताया है जिससे गलत संदेश जाता है @Uppolice इस पर कार्यवाही करे...@DelhiPolice \n",
            "Actual Label:  hate,offensive \n",
            "Predicted Label: hate\n",
            "Post:=====>\n",
            " ये है इस गिरोह का चाल-चरित्र\n",
            "#Patanjali is BJP office.\n",
            "कभी नहीं कहा कि पतंजलि की कोरोनिल से कोरोना का इलाज हो सकता है: आचार्य बालकृष्ण \n",
            "#Covid19 #Patanjali #Coronil #AyushMinistry #Ramdev #कोविड19 #पतंजलि #कोरोनिल #आयुषमंत्रालय #रामदेव \n",
            "Actual Label:  defamation,offensive \n",
            "Predicted Label: fake\n",
            "Post:=====>\n",
            " सावधान! पुराना लैपटॉप या फोन बेचने से पहले जान लें ये बातें   \n",
            "#VIDEO #Technology \n",
            "https://t.co/lh1jvfk1Gq \n",
            "Actual Label:  non-hostile \n",
            "Predicted Label: fake\n",
            "Post:=====>\n",
            " #Ayodhya में बनने वाली मस्जिद का डिजाइन जामिया के प्रोफेसर तैयार करेंगे।\n",
            "https://t.co/YyD4s3xQnO \n",
            "Actual Label:  non-hostile \n",
            "Predicted Label: fake\n",
            "Post:=====>\n",
            " देखो भाईयो रेलवे का सबसे बड़ा भिखारी किस तरह रेलवे लाइन पर भीख मांग रहा है थोड़ा इन्हे फेमश कर दो.....मेरी बात समझ रहे हैं न.. |\n",
            " \n",
            "Actual Label:  fake \n",
            "Predicted Label: non-hostile\n",
            "Post:=====>\n",
            " #इमाम_हुसैन ने सर कटा कर दुनिया को हक इंसानियत भाई चारा और जुल्म के आगे नतमस्तक न कर, सर कटाना बेहतर समझा, इसीलिए आज भी हुसैन जिंदाबाद है।\n",
            "#TheMessageOfKarbala \n",
            "#KashmirSecondPalestine  \n",
            "Actual Label:  offensive \n",
            "Predicted Label: hate\n",
            "Post:=====>\n",
            " यह उत्तर कोरिया के तानाशाह किम जोंग उन के फ्यूनरल का फुटेज है \n",
            "Actual Label:  fake \n",
            "Predicted Label: non-hostile\n",
            "Post:=====>\n",
            " सुशांत सिंह हत्या मामले में मुख्य संदिग्ध संदीप सिंह, स्मिता ठाकरे की प्रोडक्शन कंपनी में सीईओ रहे हैं। \n",
            "\n",
            "सब बातों का कनेक्शन जोड़ कर देखिए, सब समझ आएगा।\n",
            "\n",
            "#SSRCulpritsBehindBars \n",
            "Actual Label:  defamation \n",
            "Predicted Label: non-hostile\n",
            "Post:=====>\n",
            " गेंडा स्वामी कुत्ते की मौत मर गया\n",
            "साला ये घटना कब तक काल्पनिक रहेगा\n",
            " 😢🤔😝🤣😜 \n",
            "Actual Label:  hate,offensive \n",
            "Predicted Label: offensive\n",
            "Post:=====>\n",
            " @Aaaru_Prem @Vandana__Indian हिंजड़ा कमिना गिरगिट ब्रांड \n",
            "Actual Label:  hate \n",
            "Predicted Label: offensive\n",
            "Post:=====>\n",
            " @rashtrapatibhvn @narendramodi पापी अधर्मी  मनहूस कलंक को जन्मदिन की बधाई देने की जरूरत नहीं इसने सारी सरकारी संस्था को अदानी  अंबानी के हाथों बेच दी देश को गरीबी भुखमरी बेरोजगारी भ्रष्टाचार में धकेल कर 100 साल देश को पीछे कर दी भारत के लोगों की जिंदगी नर्क में बदल दी ऐसे लोगों की जन्मदिन की कोई मुबारकबाद नही \n",
            "Actual Label:  defamation,hate \n",
            "Predicted Label: hate\n",
            "Post:=====>\n",
            " कैंपस विरोध में जेएनयू की छात्राओं द्वारा इस्तेमाल की जाने वाली अधिकांश अश्लील भाषा।  और, हम जेएनयू में उनकी पढ़ाई को सब्सिडी देने के लिए टैक्स का भुगतान करते हैं।  जेएनयू नामक यह संस्थान जल्द से जल्द बंद होना ही चाहिए.. \n",
            "Actual Label:  hate,offensive \n",
            "Predicted Label: fake\n",
            "Post:=====>\n",
            " @Muhamma27329770 @kamaalrkhan @KRKBoxOffice अबे साले जाहिल तुमलोग कभी भी सच्चाई पे एक सब्द भी बोलते हो तुमलोग जब अपनी बहन का चबूतरा बड़ा करने से नहीं हिचकते हो तो दूसरों के बारे में भी गलत ही सोचोगे न \n",
            "Actual Label:  hate \n",
            "Predicted Label: offensive\n",
            "Post:=====>\n",
            " कुछ दिनो के बाद #मोदीजी गायब\n",
            "#विकास_गायब_है \n",
            "Actual Label:  defamation \n",
            "Predicted Label: offensive\n",
            "Post:=====>\n",
            " RT @WasiuddinSiddi1: भारत में मज़लूम को जब भी सताया जायेगा ,\n",
            "इन्कलाब ज़िन्दाबाद का नारा लगाया जायेगा ,\n",
            "हुक्मरानों ताकत का गलत इस्तेमाल न क… \n",
            "Actual Label:  hate \n",
            "Predicted Label: non-hostile\n",
            "Post:=====>\n",
            " मोदी जी की जीत कि खुशी में शेर बाजार ने जो तेजी आई उसमे माला माल हुवे एक गुजराती मे मिल्टन कैनेडा में डॉलर उड़ाए ।\n",
            " \n",
            "Actual Label:  fake \n",
            "Predicted Label: non-hostile\n",
            "Post:=====>\n",
            " मैं व्हाट्सएप प्रयोग नहीं करता। ट्विटर और फेसबुक पर मेसैज नहीं पढ़ पाता। अगर आपकी निजीकरण या अन्य समस्याओं को लेकर कोई राय, प्रतिक्रिया या समस्या है तो आप मुझे यहाँ टेलीग्राम पर जुड़कर अवगत करा सकते हैं। \n",
            "Actual Label:  hate \n",
            "Predicted Label: non-hostile\n",
            "Post:=====>\n",
            " @LambaAlka तेरे जैसी हर रोज़ बीना वजह भोंकनेवाली कुतिया, कुत्ते की मौत मरेगी।🦮🦮🦮 \n",
            "Actual Label:  hate \n",
            "Predicted Label: offensive\n",
            "Post:=====>\n",
            " अगर है किसी मे दम तो मेरी मूँछ का एक बाल भी उखाड़ के दिखा दे,\n",
            "सालों को घसीट घसीट के मारेंगे। साले गंदी मानसिकता वालो सुअर की औलाद😡😠👿\n",
            "       -बहुजन शेर सुनील अस्तेय जी\n",
            "@SunilAstay @BhimArmyChief https://t.co/P8zRt0aCau \n",
            "Actual Label:  hate \n",
            "Predicted Label: offensive\n",
            "Post:=====>\n",
            " तेरे नाम पे शुरू, तेरे नाम पे ख़त्म !!!!\n",
            "गांधी परिवार की कांग्रेस , कांग्रेस गांधी परिवार की ..... \n",
            "Actual Label:  hate,offensive \n",
            "Predicted Label: hate\n",
            "Post:=====>\n",
            " १२ करोड़ नौकरियां गायब करने के बाद प्रधानमंत्री देसी कुत्ता पालने का सुझाव दे रहें है। भारत का प्रधानमंत्री बेरोज़गारी रोकने में असक्षम है । \"निकम्मी सरकार भाजपा सरकार \" \n",
            "Actual Label:  hate \n",
            "Predicted Label: fake\n",
            "Post:=====>\n",
            " रे मोदी जी, फिर 4 मार्च को दिल्ली में 15 इतालवी पर्यटक का टेस्ट पॉजिटिव कैसे हुआ। तब्लीगी फॉरेनर्स ने निजामुद्दीन में कैसे प्रवेश किया और 13 से 15 मार्च को आयोजन किया।  \n",
            "Actual Label:  fake \n",
            "Predicted Label: non-hostile\n",
            "Post:=====>\n",
            " @TarekFatah  10 रोज़ पहले हिन्दू बहुसंखयक हिमाचल प्रदेश में एक गाय को सब्जी में पटाखे खिला कर उसको घायल कर दिया जाता है जिमेबार तो मेजोरिटी ही होनी चाहिए आपके हिसाब से है ना ,मै भी यही मानता हूं ,  हिंदुस्तान में भी हर बुरे काम का जीमेवार तो  मेजोरिटी ही हुई ना साहब , #फूलिश \n",
            "Actual Label:  hate,offensive \n",
            "Predicted Label: hate\n",
            "Post:=====>\n",
            " RT @Poojameena110: क्या ये सच है कि जांच के डर से भक्तों की दीदी मुंबई से फरार हो गई ?\n",
            "\n",
            "बताओं? \n",
            "Actual Label:  offensive \n",
            "Predicted Label: defamation\n",
            "Post:=====>\n",
            " कहां है विकास? ओह अच्छा विकास दुबे को ले जा रही गाड़ी में देश की अर्थवयवस्था को भी ले जा रहे होगे! दोनों ही पलट गए \n",
            "Actual Label:  defamation \n",
            "Predicted Label: fake\n",
            "Post:=====>\n",
            " RT @_Pb_swain_: केंद्र में फिल्म मंत्रालय बने और उसकी मंत्री कंगना रनौत बने यही समय की मांग है,,\n",
            "\n",
            "कौन-कौन सहमत है मेरी बात से 🤔❓ \n",
            "Actual Label:  offensive \n",
            "Predicted Label: defamation\n",
            "Post:=====>\n",
            " जब तक PSUs और PSBs का निजीकरण होता रहेगा नौकरियां खत्म होती रहेगी। हमे पहले जड़ों को मजबूत करने के लिए संघर्ष करना होगा। \n",
            "Actual Label:  hate \n",
            "Predicted Label: non-hostile\n",
            "Post:=====>\n",
            " फटा दूध पीने से इम्युनिटी बढ़ती है और ऐसा करना कोरोना से लड़ने के लिए फायदेमंद है। \n",
            "Actual Label:  fake \n",
            "Predicted Label: non-hostile\n",
            "Post:=====>\n",
            " भारतीय सेना ने कूट कूट कर तुम्हारे चीनी भाइयों को मोर बना दिया है...अब RR शुरू करो...🤣\n",
            "\n",
            "#IndianArmyRock \n",
            "Actual Label:  offensive \n",
            "Predicted Label: fake\n",
            "Post:=====>\n",
            " न्यू यॉर्क शहर के एक रेस्त्रां को मानव मांस को मीट के रूप में बेचने का लाइसेंस सरकार द्वारा मिल गया है\n",
            "\n",
            " \n",
            "Actual Label:  fake \n",
            "Predicted Label: non-hostile\n",
            "Post:=====>\n",
            " RT @Komal_433: आज हम सब को किसानों के साथ खड़ा होना होगा आज दिखा दो हम किसान के साथ है क्यू की सरकार तो कंगना के साथ है और मीडिया सरकार के🙏… \n",
            "Actual Label:  hate,offensive \n",
            "Predicted Label: hate\n",
            "Post:=====>\n",
            " निंदानाथ सिंह आजतक सिर्फ कड़ी निंदा ही करते रहे है और इनकी यही पहचान है एक सिर के बदले दस फिर लाने वाले लोग हमारे 20 शहीद हुए जवानों के सिर के बदले 2 सौ चीनी सैनिकों के शव कब लायेंगे? \n",
            "Actual Label:  defamation,offensive \n",
            "Predicted Label: fake\n",
            "Post:=====>\n",
            " जब हुसलिम मॉल से बु र के में सामान छुपाकर ले जा रही और गार्ड पकड़ लें\n",
            "तब गार्ड: \n",
            "Actual Label:  defamation \n",
            "Predicted Label: fake\n",
            "Post:=====>\n",
            " @Anabiya_Ansari_ @SYED_MAZHER7_ @Asli_Arunima @ShabnaM48177627 @Raziya_0786 @SaveZiddi @2Suhana25 @Khushi7525 @fighterMamta @THENAAZ2 @ARSHIKHAN0786 यह साला खुद अपनी बहन की सील तोड़ा होगा \n",
            "Actual Label:  hate,offensive \n",
            "Predicted Label: offensive\n",
            "Post:=====>\n",
            " पूर्व कांग्रेस अध्यक्ष भारत में खुद को कुंवारा बताकर गुमराह कर रहे हैं। \n",
            "Actual Label:  fake \n",
            "Predicted Label: non-hostile\n",
            "Post:=====>\n",
            " #UAE के मैदान पर इन शानदार बल्लेबाज़ों की जानदार बल्लेबाज़ी ने दिखाया है कमाल \n",
            "#iIPL \n",
            "\n",
            "https://t.co/J30Z5cve0T \n",
            "Actual Label:  non-hostile \n",
            "Predicted Label: fake\n",
            "Post:=====>\n",
            " @Dr_Uditraj मध्य प्रदेश के सिहोर जिले के गांव ग्राम गुड़भेला से किसान बाबूलाल वर्मा  फसल खराब होने से परेशान होकर दर्दनाक मौत किसान आत्महत्या कर रहे हैं बेरोजगार युवा आत्महत्या कर रहे हैं  न्यूज़ चैनल पर छिनरा छिनरी की कहानी चल रही है  शर्म करो  https://t.co/edx6mp7Juc \n",
            "Actual Label:  offensive \n",
            "Predicted Label: hate\n",
            "Post:=====>\n",
            " अब चाइनीज़ एजेंट कहेंगे - गिरी हुई जीडीपी से ध्यान हटाने के लिये सरकार ने हमारे पड़ोसी देश पर जानबूझकर सैन्य कार्रवाई की है\n",
            "\n",
            "जीडीपी उतनी भी नहीं गिरी जितना गांधी परिवार और कांग्रेस गिरी हुई हैcp \n",
            "😁\n",
            " \n",
            "Actual Label:  defamation \n",
            "Predicted Label: hate\n",
            "Post:=====>\n",
            " प्रति दस लाख की जनसंख्या पर संक्रमण व प्रति 10 लाख की जनसंख्या पर मृत्यु के मामले में भी प्रदेश अन्य सभी राज्यों से बेहतर है \n",
            "Actual Label:  offensive \n",
            "Predicted Label: non-hostile\n",
            "Post:=====>\n",
            " यह संदेश भी मेरा नहीं है। मुझसे जब जब हो सकेगा मैं फ़ेक न्यूज़ के ख़िलाफ़ खड़ा रहूँगा। किंतु मेरा सबसे अनुरोध है की न्यूज़ के स्त्रोत को हमेशा वेरिफ़ाई करें। एक संदेश के साथ मेरा फ़ोटो होना उस संदेश को मेरा कहा नहीं कर देता। यह तकलीफ़ काफ़ी लोगों को होती है \n",
            "Actual Label:  fake \n",
            "Predicted Label: non-hostile\n",
            "Post:=====>\n",
            " आईआईटी के छात्र पर बलात्कार का आरोप। \n",
            "Actual Label:  fake \n",
            "Predicted Label: non-hostile\n",
            "Post:=====>\n",
            " @CMOMaharashtra @OfficeofUT सुशांत सिंह की आत्महत्या की केस जांच नहीं हो रही है पूरी सिस्टम न्यायपालिका तक आप की सरकार को घेर कर गिराने के षड्यंत्र में काम कर रही है रातों की रानी पूरे महाराष्ट्र  के नागरिक को पाकिस्तानी बता देती है फिर भी समझ नहीं पा रहे हैं मीडिया बीजेपी सरकार की  षड्यंत \n",
            "Actual Label:  offensive \n",
            "Predicted Label: hate\n",
            "Post:=====>\n",
            " भाजपा कोई भी काम करेगी कोंग्रेसी , सपा , भस्पा ज़रूर भोंकेंगे क्यूँ की इनका काम भोंकने का है कुछ करना इनको आता नहीं है साले हरामख़ोर \n",
            "\n",
            "#भोंकोभोंकनाआपकाकामहै \n",
            "Actual Label:  hate \n",
            "Predicted Label: offensive\n",
            "Post:=====>\n",
            " मैं स्वाति हूं और मैं भारत के संविधान के साथ खड़ी हूं। भारत बनाम हिंदुत्व। #NoToCAA #NoToNRC।\n",
            " \n",
            "Actual Label:  fake \n",
            "Predicted Label: defamation\n",
            "Post:=====>\n",
            " @myogiadityanath योगी सरकार ने खाया 800% कमीशन 1600 रु का थर्मोमीटर 13 हज़ार में ख़रीदा, 800 रु का आक्सीमीटर 5 हज़ार में ख़रीदा, 1.45 लाख एनेलाइजर 3.30 लाख में चीन से ख़रीदा, घोटालों ने किया यू पी को बर्बाद संत के चोला में अब तक के सबसे बड़ा डाकू \n",
            "Actual Label:  defamation,fake \n",
            "Predicted Label: non-hostile\n",
            "Post:=====>\n",
            " देशद्रोहियों ने खबर फैलाई कि जवानों ने #पैलेट_गन चलायी, लेकिन क्यों चलायी, देखिये इस वीडियो में कि कैसे शांतिपूर्वक निकलते हुए जवान को #कट्टरपंथी पीछे से दौड़ता हुआ आया और लात मारी--------- \n",
            "Actual Label:  offensive \n",
            "Predicted Label: fake\n",
            "Post:=====>\n",
            " न्यूज़ चैनल्स ने गलवान में मारे गए चीनी सैनिको की कब्र की झूठी तस्वीर तो चला दी पर पर फेक न्यूज़ साबित होने पे माफ़ी भी नहीं मांगी. \n",
            "चापलूसी की हद पार कर चुके है न्यूज़ चैनल्स, डर ऐसा की मोदी की नाकामी पर एक शब्द न निकलता  \n",
            "Actual Label:  offensive \n",
            "Predicted Label: fake\n",
            "Post:=====>\n",
            " कोरोना खतरे के बीच, 1 सितंबर से स्कूल खोलने की तैयारी, जानिए कैसे किया गया है प्लान… \n",
            "Actual Label:  fake \n",
            "Predicted Label: non-hostile\n",
            "Post:=====>\n",
            " धोनी का स्वागत बारामूला (कश्मीर) के लोगों ने 'बूम बूम अफ़रीदी' चिल्ला कर किया |\n",
            "\n",
            " \n",
            "Actual Label:  fake \n",
            "Predicted Label: non-hostile\n",
            "Post:=====>\n",
            " उत्तराखंड के जंगलों में लगी आग \n",
            "Actual Label:  fake \n",
            "Predicted Label: non-hostile\n",
            "Post:=====>\n",
            " भारत के संविधान और एक भारत पर ज्ञान देने वाले भाजपाई कहां चुप हैं ? https://t.co/pQLVEnNC4g \n",
            "Actual Label:  non-hostile \n",
            "Predicted Label: hate\n",
            "Post:=====>\n",
            " @Mahenda49453748 महाराणा प्रताप के शासनकाल में घास की रोटी खाकर मुगलों के पास बहन बेटी भेजा था क्या आप भी मोदी के पास भेज रहे हो \n",
            "Actual Label:  hate \n",
            "Predicted Label: fake\n",
            "Post:=====>\n",
            " देश के रक्षक \"सरदारो\" को बेइज्जत करने लिए एक और जेहाद\n",
            "लाल सिंह चड्ढा मे आमिर खान मंद-बुद्धि सरदार बना है\n",
            "मुग़लों,जेहादियों को सरदारों द्वारा बार-बार धूल चटाने वाली घटनाओ से इतिहास भरा पड़ा है किन्तु सोचिए कि इसे मंद-बुद्धि सरदार ही क्यों पसंद आया? कोई अहमद,मोहम्मद क्यों नहीं? https://t.co/dn8qMlX3cX \n",
            "Actual Label:  defamation \n",
            "Predicted Label: non-hostile\n",
            "Post:=====>\n",
            " @AntonioMain4 @INCMP मेरा बाप तुम्हारे बाप की तरहां गांडू नहीं है। साला बुढा हो गया पर आब भी मराने का शोंक नहीं गया। \n",
            "Actual Label:  hate,offensive \n",
            "Predicted Label: offensive\n",
            "Post:=====>\n",
            " शेर शिकार करने से पहले पीछे हटता ही है , वही हुआ है ....\n",
            "‘2022’ से हर weekend एक-एक percent सीधे बढ़ेगी ।\n",
            "फ़िलहाल ये माइनस GDP का longterm में फ़ायदा बहुत है ये आगे समझ आ जाएगा सबको ...\n",
            "“I strongly Support GDP में गिरावट “ \n",
            "Actual Label:  defamation \n",
            "Predicted Label: offensive\n",
            "Post:=====>\n",
            " @UtkarshBaudh3 @rashtrapatibhvn @sakshijoshii @ravishndtv @bainjal @rajnathsingh @pappuyadavjapl @khanumarfa @ShivChandraRamm @globaltimesnews @narendramodi तुम्हारी गंदी संस्कार और गंदी पैदाइश है तुम्हारी मां बहन देह व्यापार करती है इसीलिए तुम्हारी भाषा इस तरह की  है \n",
            "Actual Label:  offensive \n",
            "Predicted Label: hate,offensive\n",
            "Post:=====>\n",
            " मीडिया द्वारा फैलाई जा रही फ़ेक-न्यूज़' पर अपने शो DNA में बात करते हुए \n",
            "@sudhirchaudhary\n",
            " ने पत्रकारों को गिद्ध से कम्पेयर किया. \n",
            "इस क्रम में उन्होंने पुलित्ज़र अवॉर्ड विजेता केविन कार्टर की तस्वीर से जुड़ी एक कहानी सुनाई जो ख़ुद फ़र्ज़ी है. \n",
            "Actual Label:  fake,offensive \n",
            "Predicted Label: non-hostile\n",
            "Post:=====>\n",
            " हर दूसरे हाथ में कैमरा से लैस फोन के लिए धन्यवाद और पूरे शहर में सीसीटीवी के लिए धन्यवाद, हमारे पास अब दंगों के बारे में बारीक जानकारी जानने का साधन है।\n",
            "\n",
            " \n",
            "Actual Label:  fake \n",
            "Predicted Label: non-hostile\n",
            "Post:=====>\n",
            " कांग्रेसकाल! मोदीकाल! योगीकाल!\n",
            "\n",
            "जो चमचे हरे झंडे पर नहीं बोले उनको भगवा झंडे पर भी बोलने का कोई अधिकार नहीं है बाकी तिरंगा सर्वश्रेष्ठ था है और हमेशा रहेगा \n",
            "Actual Label:  fake \n",
            "Predicted Label: non-hostile\n",
            "Post:=====>\n",
            " @SayyadI18008378 ये साले अपने बाप मोदी का मूत पीकर पले बड़े होते हैं, इसलिए इनको देश की हालातों से क्या मतलब।\n",
            "#25Sep5Baje25Minute \n",
            "Actual Label:  hate,offensive \n",
            "Predicted Label: hate\n",
            "Post:=====>\n",
            " @KumarRohitAazad @Dr_Uditraj @yadavakhilesh @narendramodi @RubikaLiyaquat @FdKhan81743476 अब क्या करोगे जी सरकारी न्यूज़ चैनल भी झूठ फैलाने में लगी हुई है \n",
            "Actual Label:  defamation \n",
            "Predicted Label: hate\n",
            "Post:=====>\n",
            " यही कारण है कि प्रशांत भूषण जैसे चीन और इस्लामी जगत के दलालों ने टिकटॉक पर बैन लगाने पर प्रश्न उठाना शुरू कर दिया है। \n",
            "Actual Label:  defamation,offensive \n",
            "Predicted Label: non-hostile\n",
            "Post:=====>\n",
            " अखबार के मुताबिक, #AnkhiDas ने @Facebook के कर्मचारियों के लिए बने ग्रुप पर अपनी पोस्ट में लिखा था- हमने उनके सोशल मीडिया कैंपेन के लिए अलख जगाई और बाकी अब सब इतिहास के पन्नों में दर्ज है. 30 साल की जमीनी मेहनत से भारत से सरकार पोषित समाजवाद खत्म. \n",
            "https://t.co/IWa4z4dUno \n",
            "Actual Label:  non-hostile \n",
            "Predicted Label: fake\n",
            "Post:=====>\n",
            " बिहार में यदि आप दलित है आपको रोजगार चाहिए तो आपके परिवार के एक सदस्य को हत्या करानी पड़ेगी विकास की गंगा बह रही है पिछले 15साल में जो भी बिहार में भर्तियां हुई है खास जाति विशेष के लोग को या अपने जाति विशेष के लोगों की नौकरिया मिली है अब यह सच्चाई बाहर आने वाली है  ध्यान भटका दी \n",
            "Actual Label:  hate \n",
            "Predicted Label: non-hostile\n",
            "Post:=====>\n",
            " लीजिये खुद ही सुनिये\n",
            "\n",
            "हिंदू देवी देवताओं को गाली देने वाली \"हीर\" के रांझणा कौन कौन है,किन किन शेखुलर ठेकेदारों को इसने अब्बा माना हुआ है\n",
            "\n",
            "कोई हिंदू इसका इसी तर्ज में प्रतिउत्तर दे देगा तो बवाल हो जाएगा,थाने फूँके जाने लगेंगे\n",
            "\n",
            "बड़ी सजा मिलेगी उम्मीद है 🙏 \n",
            "Actual Label:  hate,offensive \n",
            "Predicted Label: hate\n",
            "Post:=====>\n",
            " और सबसे महत्वपूर्ण बात है कि ये बताया गया के सक्सेना को शौर्य चक्र नहीं मिला, जैसा की फ़िल्म में दिखाया गया है | यह एक बड़ी ग़लती है।\n",
            "\n",
            " \n",
            "Actual Label:  fake \n",
            "Predicted Label: non-hostile\n",
            "Post:=====>\n",
            " @KanganaTeam क्योंरी गंजेडी कुतिया \n",
            "Actual Label:  hate,offensive \n",
            "Predicted Label: offensive\n",
            "Post:=====>\n",
            " RT @speedytohike: बेचारी रिया बिहार चुनाव की भेंट चढ़ गई।\n",
            "\n",
            "वैसे किसी जमाने मे ये भी भक्त हुआ करती थी इन्हें आज भक्ति में शक्ति दिख रही है। \n",
            "Actual Label:  hate \n",
            "Predicted Label: offensive\n",
            "Post:=====>\n",
            " वादा था चाँद पर रोवर चलाने का पर ट्रैन में ट्रैक्टर चढ़ाना भी छोटी achievement नहीं। धन्यवाद मोदी जी। \n",
            "Actual Label:  hate \n",
            "Predicted Label: fake\n",
            "Post:=====>\n",
            " एक साथ दो किताबें, एक अखबार पढ़ना और लैपटॉप पर काम करने का हुनर और परफ़ेक्ट फ़ोटो के लिए पोस्ट करना वो भी महामारी के दौरान | प्रभावशाली |\n",
            "\n",
            " \n",
            "Actual Label:  fake \n",
            "Predicted Label: non-hostile\n",
            "Post:=====>\n",
            " देश में भाईचारा नहीं बचा है : सैफ अली खान \n",
            "\n",
            "अब हमने \"चारा\" बनाना छोड़ दिया है और \"भाई\" तो तुम अपनी बहन के भी नहीं होते😂 \n",
            "Actual Label:  defamation \n",
            "Predicted Label: offensive\n",
            "Post:=====>\n",
            " @BJP4India राज्य को जीएसटी की पैसा  दे दो उसके बाद लोगों को बेवकूफ बनाना कर्मचारी की तनख्वाह देने की हैसियत नहीं बिहार के लोगों को गुमराह कर रहे हो बिहार के लोग उड़ती चिड़िया के पंख में सिख लगा देते हैं सारा देश लूट कर मित्रों को  विदेश में शिफ्ट कर दिया लोगों को कंगाल बना दिया फिर बकवास \n",
            "Actual Label:  defamation \n",
            "Predicted Label: non-hostile\n",
            "Post:=====>\n",
            " निज़ामुद्दीन में मुस्लिम लड़कों द्वारा बर्तन चाट कर कोरोना वायरस फैलाने की कोशिश' बता कर पुराना वीडियो शेयर\n",
            "@AltNews\n",
            "@ARajeshSP\n",
            "@BrajeshYadavSP @cp4yad @YasheshYadav\n",
            "@abhinavbilari @DineshmishraRm @DrDineshChaube1 @drushayadav @aashishsy \n",
            "Actual Label:  defamation,offensive \n",
            "Predicted Label: fake\n",
            "Post:=====>\n",
            " लगता है ये कोरोना भारत के सभी त्यौहार देखकर ही जाएगा, \n",
            "\n",
            "और कही 🤔 राहुल  को प्रधानमंत्री देखने की जिद में होगा तो 😳फिर तो गए काम से😌😅😅 \n",
            "Actual Label:  hate \n",
            "Predicted Label: defamation\n",
            "Post:=====>\n",
            " दरअसल \"बेबी पेंग्विन\" खुद बहुत बड़ा ड्रग एडिक्ट है\n",
            "\n",
            "अगर मुंबई पुल्स जांच करती तो ये खुलासा होता...इसलिए मुंबई पुल्स अक्कड़ बक्कड़ खेलने लगी थी...ठीक है...!!\n",
            "#RheaChakrobarty \n",
            "#कंगना_राणावत_को_सुरक्षा_दो \n",
            "Actual Label:  hate,offensive \n",
            "Predicted Label: non-hostile\n",
            "Post:=====>\n",
            " @SanjayAzadSln साले अपराधी संसद में बैठे है निकल तू बाहर तुझे ये जनता ही जूते मारेगी भीख में बना सांसद औकात है तो चुनाव जीत कर दिखा कोठे की पैदाइश हरामी \n",
            "Actual Label:  hate \n",
            "Predicted Label: hate,offensive\n",
            "Post:=====>\n",
            " लॉकडाउन के ऐलान के बाद से ही बंद हैं मुंबई के फेरीवालों की दुकान, BMC की ओर से की जा रही है लॉकडाउन के किराए की मांग\n",
            "https://t.co/qxAmIVVPna \n",
            "Actual Label:  non-hostile \n",
            "Predicted Label: fake\n",
            "Post:=====>\n",
            " राजस्थान का अजमेर शरीफ दरगाह आम लोगों के लिए खोला गया। कोरोना वायरस के खतरे के मद्देनजर यह अभी तक बंद था। \n",
            "https://t.co/SBFpvzGIih\n",
            "\n",
            "#CoronavirusOutbreak #Unlock4 https://t.co/e5AAzrIveE \n",
            "Actual Label:  non-hostile \n",
            "Predicted Label: fake\n",
            "Post:=====>\n",
            " @SanjayAzadSln @drharshvardhan @DrJitendraSingh चुप बे टिकट चोर हरामी ! सभासद बनने की औकात नही तेरी, संसद में तूने मार्शल का गला दबाया, गाली देकर धक्का दिया उसे और हरामखोर डेमोक्रेसी पे लेक्चर पेल रहा है दोगला साला। किसानो को शशक्त करने बाला बिल जो किसानों को बिना बिचौलिये के बेचना खरीदना का पावर दिया वो किसान विरोधी कैसे? \n",
            "Actual Label:  fake,offensive \n",
            "Predicted Label: hate\n",
            "Post:=====>\n",
            " @KanganaTeam मुझे जो जानकारी समझ आ रही है इसने पंजाब हिमाचल बॉर्डर से  पाकिस्तान से आने वाला drugs मुंबई में सप्लाई कर हजारों करोड़ की प्रॉपर्टी बनाई है इसकी जांच होनी चाहिए गंभीर जांच होनी चाहिए मुंबई पुलिस के द्वारा \n",
            "Actual Label:  defamation \n",
            "Predicted Label: defamation,offensive\n",
            "Post:=====>\n",
            " @Shahbaz__11 @AcharyaPramodk 70 सालो मे तो पप्पू सरकार ने भारत को अमेरिका बना कर दिया था ना \n",
            "देश कि मा चोद कर दी लुटेरो ने \n",
            "और तू साला बकवास करता है \n",
            " इसे अच्छे से पडना झाहिल https://t.co/qFUmHhz0hW \n",
            "Actual Label:  fake,hate,offensive \n",
            "Predicted Label: offensive\n",
            "Post:=====>\n",
            " जौनपुर में अजीब घटना, हैंडपंप से पानी के साथ निकल रहे सांप के बच्चे\n",
            "\n",
            "#UttarPradesh\n",
            "\n",
            "https://t.co/9xH3jYMRWx \n",
            "Actual Label:  non-hostile \n",
            "Predicted Label: fake\n",
            "Post:=====>\n",
            " जब सरकार हिटलर शाही हो जाए और शैक्षिणिक संस्थानों को जालिया वाला बाग बना दे, धर्मों की आज़ादी छीन ले, बोलने की आज़ादी छीन ले ,मांगों की आज़ादी छीन ले,सरकार के खिलाफ आवाज़ उठाने की आज़ादी छीन ले, मीडिया की आज़ादी छीन ले ,तब दल्ले पत्रकार आज़ादी मांगी नही छीन कर ही ली जाती है । \n",
            "Actual Label:  defamation,offensive \n",
            "Predicted Label: hate\n",
            "Post:=====>\n",
            " कुछ चमचों को बार- बार कहते सुना कि ये तो सूट बूट वाली सरकार हैं , \n",
            "\n",
            "तो पहले वो बताएँ कि पहले की सारी सरकारें क्या लंगोट पहन कर सरकार चलाती थी ?😆😆 \n",
            "Actual Label:  hate \n",
            "Predicted Label: fake\n",
            "Post:=====>\n",
            " रोहिंज्ञाओं का देश पर एहसान\n",
            "\n",
            "अब किसी रोहिंज्ञाओं को कुछ मत कहियेगा\n",
            "ये बेचारे अपने देश से निकाले गए हैं ।\n",
            "\n",
            "नोट:- खबरदार कोई इन बांग्लादेशी व रोहिंग्या से दिखने वालों का मज्जब मत पूछना... बस चुप चाप देखिए, कैसे काटते थे ATM मशीन को\n",
            "\n",
            "#राजीवधवन इन्हें जेल से छुड़वा लेंगे  \n",
            "Actual Label:  offensive \n",
            "Predicted Label: hate\n",
            "Post:=====>\n",
            " लॉकडाउन खत्म होने के बाद रेलवे इसे लागू करेगा \n",
            "Actual Label:  fake \n",
            "Predicted Label: non-hostile\n",
            "Post:=====>\n",
            " मुझे इश्क सीखा कर के मुख मोड़ तो ना लोगे\n",
            "रखो हाथ मेरे दिल पे कहो कभी छोड़ तो ना दोगे।\n",
            "#राधे_राधे \n",
            "#कान्हा\n",
            "#जय_श्री_कृष्ण ❣🌹♥🚩 \n",
            "Actual Label:  defamation \n",
            "Predicted Label: offensive\n",
            "Post:=====>\n",
            " कुत्तों की आंखे भी 12 दिन में खुल जाती है\n",
            "ये अजीब नस्ल है संघियों की साढ़े छह साल में भी आंखें नही खुली\n",
            "\n",
            "😆😆😆 \n",
            "Actual Label:  hate,offensive \n",
            "Predicted Label: hate\n",
            "Post:=====>\n",
            " शेयर करे और देखे केजरीवाल उर्फ केजरुद्दीन जो दिल्ली को किस तरह स्व पाकिस्तान बनाना चाह रहे है सब आपके सामने है उनके विधायको की पहली लिस्ट जागो हिन्दू जागो \n",
            "Actual Label:  defamation,hate \n",
            "Predicted Label: defamation\n",
            "Post:=====>\n",
            " मोर से खेलने को कालेजा होना जरूरी है\n",
            "भूल जाओ जातियों का मायाजाल\n",
            "विश्वविजेता होने के लिए #भगवा जरूरी है \n",
            "Actual Label:  defamation \n",
            "Predicted Label: non-hostile\n",
            "Post:=====>\n",
            " कान खोलकर सुन लो सोनिया सेना के सिपाहियो\n",
            "\n",
            "अब तुम्हारा विनाश नहीं सर्वनाश होगा और ये सर्वनाश रिपब्लिक भारत करेगा\n",
            "- अर्नब गोस्वामी 💪🤣 \n",
            "Actual Label:  offensive \n",
            "Predicted Label: hate,offensive\n",
            "Post:=====>\n",
            " बॉयकॉट चाइना लिखे हुए प्रोडक्ट्स का उत्पादन खुद चीन में ही किया जा रहा है। \n",
            "Actual Label:  fake \n",
            "Predicted Label: non-hostile\n",
            "Post:=====>\n",
            " @tiwarideepak07 @narendramodi क्यों ना बच्चे को सिखाई जाए इस गद्दार प्रधानमंत्री की वजह से इस बच्चे की जिंदगी बर्बाद हो गई इसकी पढ़ाई बर्बाद हो गई बचपना बर्बाद इसी देशद्रोही की वजह से हुई जब इसके पढ़ने और कुछ बनने की टाइम थी तो इसके बाप को सेना से निकालकर पेंशन नहीं दी दर दर की ठोकर खा रहा है \n",
            "Actual Label:  defamation \n",
            "Predicted Label: hate\n",
            "Post:=====>\n",
            " साहेब ने PUBG बैन कर दिया \n",
            "उनको कोई तो समझाओ \n",
            "सबके पास खेलने के लिये मोर नहीं होता,\n",
            "#pubgban \n",
            "Actual Label:  offensive \n",
            "Predicted Label: non-hostile\n",
            "Post:=====>\n",
            " @ALIMUDDINREZA @Mayawati @narendramodi @srivatsayb @AmarBah69016253 @abdulalim91 @AmbedkarCaravan @ProfVilas @DevprakashIRS @Shilend79934803 @Ashokyadav151 आप पुलिस की बात करते हैं यह सारे कॉल बिहार से हो रही है और यह बिहार पुलिस और उत्तर प्रदेश पुलिस की मिलीभगत से ही हो रही है एक तरफ से पुलिस से डर दिखाओ दूसरी तरफ फोन पर धमकी दो तीसरी गाली गलौज अश्लील बात करो यह पूरी प्लान की तहत हो रही है \n",
            "Actual Label:  defamation \n",
            "Predicted Label: non-hostile\n",
            "Post:=====>\n",
            " सोशल मीडिया पर चल रहा है कि वायरस को मास्क नहीं रोक पाता है, इस पर क्या कहेंगे?\n",
            "\n",
            "@PrakashJavdekar @MIB_India @PIB_India @shashidigital https://t.co/nf7m3MaebJ \n",
            "Actual Label:  non-hostile \n",
            "Predicted Label: offensive\n",
            "Post:=====>\n",
            " @AMISHDEVGAN तो आज भी नहीं करनी चाहिए ?? बाजपेयी जी ने नहीं की तो वो गलत थे ,मोदी ने अपने ५ साले के शाशन में नहीं किये  गलत थे ,क्या?????गिरी में अपनी क़ाबलियत बेच रहे हों। \n",
            "Actual Label:  offensive \n",
            "Predicted Label: hate\n",
            "Post:=====>\n",
            " इतिहास गवाह है जब हद से ज्यादा अन्याय और अत्याचार बढ़ जादा है तोह उसी कुत्ते की मौत मार दिया गया और उससे उखाड़ फेक दिया गया।\n",
            "ओसामा बिन लदें,सद्दम हुस्सैन,चितलर,गद्दाफी, औरंग़ज़ेब, कॉंग्रेस्स,महरष्ट्र गवर्नमेंट। \n",
            "Actual Label:  hate,offensive \n",
            "Predicted Label: offensive\n",
            "Post:=====>\n",
            " मोदी जी योग करें, मोर को दाना दें , बतक का फ़ोटो लें, पूजा करें, माँ से मिलें ? किसके लिए करते हैं? अपने लिए करते तो ये बातें मीडिया में न आती।कुछ समझे, सब दिखाने के लिए है।\n",
            "@INCIndia \n",
            "Actual Label:  non-hostile \n",
            "Predicted Label: defamation\n",
            "Post:=====>\n",
            " @vikassharma7126 @surendr06115596 @amitkumarbajwa @SanjayAzadSln किसी में दम है राजा भैया को कोई एनकाउंटर कर दें या किसी भी राजपूत क्रिमिनल पर नकेल कस दें \n",
            "Actual Label:  offensive \n",
            "Predicted Label: non-hostile\n",
            "Post:=====>\n",
            " पुलवामा के 42 शहीदों के परिवार पूँछ रहे हैं गोदी मीडिया &amp; सरकार से कि एक अभिनेता के लिए  इतनी आवाज़ उठ रही है ,उनके लिए क्यों नही ? \n",
            "@INCIndia \n",
            "Actual Label:  non-hostile \n",
            "Predicted Label: fake\n",
            "Post:=====>\n",
            " अक्षय कुमार की घोषणा फिल्म मिशन मंगल की कमाई चंद्रयान 3 को दान करेंगें। दिल जीत लिया खिलाड़ी ने …और कुछ ऐसी हिन्दू लड़कियां है जिन्हें सलमान. अमीर, शारुख, फाइसु पसन्द है … तुम लोग समझती क्यो नही हो ये गद्दार है… ये पाकिस्तान में दान देते हैं …पोस्ट अच्छी लगे तो रिट्वीट कीजिए।\n",
            "\n",
            " \n",
            "Actual Label:  fake \n",
            "Predicted Label: hate\n",
            "Post:=====>\n",
            " गीता को कचरे के डब्बे में फेंक देना चाहिए |\n",
            "\n",
            " गौरतलब है की भागवद गीता हिन्दुओं का एक महत्वपूर्ण धर्मग्रन्थ है |\n",
            "\n",
            " \n",
            "Actual Label:  fake \n",
            "Predicted Label: hate\n",
            "Post:=====>\n",
            " जितने बु रों का अचार डाले बैठे हो, मुझे ही दे देते। कुछ तो मजा आता।\n",
            "साला अच्छी खासी बु रों का मुरब्बा बना के रख दिया। \n",
            "Actual Label:  offensive \n",
            "Predicted Label: hate\n",
            "Post:=====>\n",
            " @Tiger_Rajpande: ये है जिहादियों का असली चेहरा\n",
            "तुम कुछ भी कर लो इनका सिर्फ\n",
            "एक ही मकसद है गजवाएहिन्द\n",
            "RSS और VHP को आतंकवादी बोल रहा है… \n",
            "Actual Label:  hate \n",
            "Predicted Label: fake\n",
            "Post:=====>\n",
            " साले जब पाकिस्तान जिंदाबाद के नारे अपने घर में लगाते हो तो तुमको मुंबई पुलिस याद नहीं आती \n",
            "Actual Label:  offensive \n",
            "Predicted Label: hate\n",
            "Post:=====>\n",
            " साला गजब की दोगलई चल रही है देश में \n",
            "\n",
            "मोदीजी ने थोड़ा सा मोर को दाना क्या खिला दिया देश में गरीबी आ गई बहुत से लोग दाने दाने को तरस रहे हैं\n",
            "\n",
            "जब सैफई में १-१करोड़ की बार बालाएं बुलाकर नचआया करते थे तब गरीबी नहीं दिखी थी\n",
            "\n",
            "सही सही बताना तुम दोगले अभी हो गए हो या जन्मजात दोगले हीहो! \n",
            "Actual Label:  hate \n",
            "Predicted Label: offensive\n",
            "Post:=====>\n",
            " आप सांड सांड करते रहिए उधर,वो बेमानी कर के चुनाव जीत जाएंगे।*BJP विधायक अनिल* *उपाध्याय की इस हरकत पर क्या कहेगे MODI जी,*\n",
            " *इस video को इतना वायरल करो की ये पूरा हिन्दुस्तान देख सके..* \n",
            "Actual Label:  defamation,hate,offensive \n",
            "Predicted Label: fake\n",
            "Post:=====>\n",
            " दिल्ली के अशोक नगर में मस्जिद को तोड़ा गया और जलाया गया\n",
            "\n",
            " \n",
            "Actual Label:  fake \n",
            "Predicted Label: non-hostile\n",
            "Post:=====>\n",
            " आज हज़रत इमाम हुसैन साहब की बहादुरी और बलिदान को याद करते हुए हम सच्चाई और इंसाफ़ की राह पर चलने का संकल्प लेते हैं। \n",
            "Actual Label:  non-hostile \n",
            "Predicted Label: hate\n",
            "Post:=====>\n",
            " हरिद्वार के मनसा देवी झूले में आग लग जाने से लोग जिन्दा जले….बहुत दर्दनाक एक्सीडेंट। \n",
            "Actual Label:  fake \n",
            "Predicted Label: non-hostile\n",
            "Post:=====>\n",
            " ये @SanjayAzadSln जैसे जंगली जानवरों को संसद से तुरंत बाहर फेंकना चाहिए! संजय जैसे आवारा गुंडे तत्व के लोग सभ्य समाज का हिस्सा नही हो सकते,अभी इसने मार्शल के साथ मारपीट की,कल को सभापति के साथ करेगा, फिर किसी महिला सांसद के साथ छेड़छाड़ भी कर सकता है ये कमीना।\n",
            "#संजय_सिंह_गुंडा_है \n",
            "Actual Label:  defamation,offensive \n",
            "Predicted Label: offensive\n",
            "Post:=====>\n",
            " मैं अपनी शॉप पर पोस्टर लगाने जा रही हूं अच्छे दिन आ गए2015में27लाख बैलेंस थी अब जीरो हो गई ऊपर से6लाख माइनस में चली गई देश की जीडीपी 24%माइनस मेरी जीडीपी 33लाख माइनस में 2014 में पति की नौकरी भी थी वह भी चली गई जीने के लिए शॉप लॉकडाउन में 10लाख के नुकसान अब तो माफ करो इस्तीफा दो \n",
            "Actual Label:  defamation \n",
            "Predicted Label: hate\n",
            "Post:=====>\n",
            " 1975, इमरजेंसी इंदिरा गांधी ने दिल्ली पुलिस के साथ जेएनयू में प्रवेश किया और सीपीआई नेता, सीताराम येचुरी को हराया जो उस समय जेएनयू छात्र संघ के अध्यक्ष थे, और उन्हें इस्तीफ़ा देने और आपातकाल का विरोध करने के लिए माफ़ी पत्र पढ़ने के लिए मजबूर किया। इसे कम्युनिस्टों के साथ किए जाने वाले व्यवहार को आयरन हैंड कहा जाता है। अमित शाह उनके सामने संत दिखते हैं ।\n",
            "\n",
            " \n",
            "Actual Label:  fake \n",
            "Predicted Label: defamation,hate\n",
            "Post:=====>\n",
            " जब 8% GDP  थी तो नौकरी मिली ही नहीं तो आज क्या घंटा मिलेगी.. 😏 \n",
            "Actual Label:  hate \n",
            "Predicted Label: offensive\n",
            "Post:=====>\n",
            " @shuklapinku @SanjayAzadSln भाई इसे बिना जूते के समझा के दिखाओ बिना पिटे तो केजरीवाल कब सुधरा ?\n",
            "साले ऑटो वालों से पिटने वालों को औकात में ही रखो और बिना MC/BC के बात मत करो 👍 \n",
            "Actual Label:  hate,offensive \n",
            "Predicted Label: offensive\n",
            "Post:=====>\n",
            " जिसे अपनी पत्नी के चरित्र पर संदेह किया\n",
            "वो कैसा भगवान था??\n",
            "\n",
            "#पुश्‍पमित्रसुंग ही सीता का राम था \n",
            "Actual Label:  hate \n",
            "Predicted Label: non-hostile\n",
            "Post:=====>\n",
            " ईट पत्थर पूजने के खिलाफ में एक मुहिम चलाई थी फेसबुक पर बड़ी-बड़ी आईडी कुर्बान कर दी मैं जब मैं देखी एक तरफ से अंधविश्वास से बाहर खींचने की कोशिश कर रही हूं दूसरी तरफ फैल रहा है मैं लिखना बंद कर दी यह सुधरने वाले नहीं है \n",
            "Actual Label:  hate \n",
            "Predicted Label: non-hostile\n",
            "Post:=====>\n",
            " #कल से मैं हर रोज पांच ऐसे साथियों को पर्सनल #प्रमोट करूंगी जो अच्छा लिखते हैं और समाज व देश हित में आवाज उठाते हैं। \n",
            "\n",
            "कोशिश करना कि आपके लिखे हुए #अल्फाज मेरी आंखों के सामने आए।  \n",
            "Actual Label:  offensive \n",
            "Predicted Label: hate\n",
            "Post:=====>\n",
            " चमचे कहते है कि पाकिस्तान से हिन्दुओ को इसलिए बुलाया जा रहा है ताकि बाद मे मोदी पाकिस्तान पर परमाणु बम गिरा दे,\n",
            "\n",
            "आईडीया अच्छा है..😁😁 \n",
            "Actual Label:  hate \n",
            "Predicted Label: defamation\n",
            "Post:=====>\n",
            " मुसलमानों को हाथ लगाने से पहले मेरी लाश से गुजरना होगा - नरेन्द्र मोदी\n",
            "भाई कुछ भी कहो बंदा फेंकता मस्त है... 😂😂😂😂😂😂 \n",
            "Actual Label:  offensive \n",
            "Predicted Label: fake\n",
            "Post:=====>\n",
            " #PKVideo:\n",
            "अध्यापिका बनी शैतान: मासूम को क्लास में मारे दो मिनट में 40 थप्पड़\n",
            "#Lucknow #UP #Teacher #Student  .@Uppolice .@lucknowpolice https://t.co/LRtrgpZiAG \n",
            "Actual Label:  non-hostile \n",
            "Predicted Label: fake\n",
            "Post:=====>\n",
            " भ्रष्टाचार के नाम पर जीतने वाला‌ #केजरूदीन 1 ईट नहीं हिला पाया\n",
            "दूसरी तरफ योगी जी रोज भ्रष्टाचारियों की बिल्डिंगे  गिरा रहे हैं\n",
            "#सर्वप्रिय_योगीजी \n",
            "@Brand_Anuj \n",
            "Actual Label:  hate \n",
            "Predicted Label: defamation\n",
            "Post:=====>\n",
            " @narendramodi @svpnpahyd बीएसएनल को 4जी किया या नहीं जिओ एयरटेल को लाभ पहुंचाने के लिए खुलेआम लूट की खेल हो रही है मैं प्राइवेट नेटवर्क को पेमेंट  करती हूं आत्मा दुखी हो जाती है मैं यह जानते हुए पेमेंट करती हूं पैसा करप्शन की भेंट चढ़ रही है सरकारी नेटवर्क को पेमेंट करती पैसा वापस अपने पास आती \n",
            "Actual Label:  defamation \n",
            "Predicted Label: hate\n",
            "Post:=====>\n",
            " दीदी बीड़ी बाज़ नशेडी है मगर दीदी को नशेडी वाले पसंद नही है दीदी को लड़ाई भी करना है दीदी को सपोर्ट भी चहिये दीदी थेल्नी है मगर दीदी को सिक्योरिटी भी चाहिये \n",
            "\n",
            "एसा कैसे चलेगा दीदी 🤔🤔🤔 \n",
            "Actual Label:  defamation,offensive \n",
            "Predicted Label: non-hostile\n",
            "Post:=====>\n",
            " @DevprakashIRS बचपन में तथाकथित चाय बेचू देश बेचने लगी है बेचू ने कुछ महीना पहले नाले में से गैस निकालकर चाय बनाने की आईडिया दी https://t.co/vBEflsNavt कहां इतनी लंबी चौड़ी  हिंदी लिख रहे हैं सिंपल सी टेक्नोलॉजी इस्तेमाल कीजिए नाले से गैस निकालिए \n",
            "Actual Label:  defamation,offensive \n",
            "Predicted Label: defamation\n",
            "Post:=====>\n",
            " निकम्मे @aajtak वालों\n",
            "\n",
            "नसीरुद्दीन शाह की तबीयत बिगड़ने पर तेरे जैसा बिकाउ आतंकवादी चैनल ही दुखी होगा। \n",
            "\n",
            "72हूरों के पास जाने का समय आ गया है। \n",
            "Actual Label:  hate,offensive \n",
            "Predicted Label: fake\n",
            "Post:=====>\n",
            " प्रशांत भूषण माफ़ी नही माँगे हम सब गर्व करते हैं । आरएसएस/ भाजपा गर्व करते हैं माफ़ी माँगने पर ।\n",
            "@INCIndia \n",
            "Actual Label:  non-hostile \n",
            "Predicted Label: fake\n",
            "Post:=====>\n",
            " ये तो साला नेता कम और छक्का ज्यादा लगता है!🤔😂\n",
            "\n",
            "#संजय_सिंह_गुंडा_है https://t.co/NZnHj9Qo7V \n",
            "Actual Label:  hate \n",
            "Predicted Label: offensive\n",
            "Post:=====>\n",
            " @Dr_Uditraj @INCIndia सस्पेंड करने से क्या होगी भाई उसकी गिरफ्तारी होनी चाहिए 302 के मुकदमा उस पर लगनी चाहिए निलंबित कर देनी चाहिए \n",
            "Actual Label:  defamation \n",
            "Predicted Label: hate\n",
            "Post:=====>\n",
            " #AmitShahHealthUpdate: अमित शाह को एम्स से मिली छुट्टी, इलाज के बाद पूरी तरह से हुए ठीक\n",
            "#AmitShah @AmitShah \n",
            "https://t.co/GrvmQK8KjJ \n",
            "Actual Label:  non-hostile \n",
            "Predicted Label: fake\n",
            "Post:=====>\n",
            " @INCIndia ये साला गद्दार था नेहरू \n",
            "Actual Label:  fake,offensive \n",
            "Predicted Label: offensive\n",
            "Post:=====>\n",
            " @AnujY_ जबतक कमीने हरामखोर कांग्रेसियों के खिलाफ एक दो पोस्ट नहीं डालते तबतक नींद ही नहीं आती है😂😂 \n",
            "Actual Label:  hate,offensive \n",
            "Predicted Label: offensive\n",
            "Post:=====>\n",
            " आज पवन खेड़ा ने आजतक न्यूज चैनल में कहा कि -कांग्रेस भारत देश की आत्मा है....\n",
            "\n",
            "ठीक है... हम इस भटकती आत्मा की शांति के लिए प्रार्थना करते हैं। 🙏😥\n",
            "\n",
            "अब ,जब शब्द ऐसे बोलोगे तो जवाब ऐसे ही मिलेगा ।😊 \n",
            "Actual Label:  defamation \n",
            "Predicted Label: non-hostile\n",
            "Post:=====>\n",
            " @ndtvindia फेसबुक पर हूं ही नहीं, पाबंदी का सवाल कहां उठता है: भाजपा विधायक राजा सिंह \n",
            "Actual Label:  defamation \n",
            "Predicted Label: non-hostile\n",
            "Post:=====>\n",
            " आज सुबह से मुझे फिर से परेशान की जा रही है गाली गलौज की जा रही है धमकी दी जा रही है बेखौफ अंदाज  से  धमकी गाली गलौज हर सेकंड फोन करें दीं जा रहीं है ना तो इसे पुलिस की डर है ना किसी की  यह सारे बीजेपी आर एस एस की आईटी सेल से जुड़ा मैं धमकी से नहीं डरती \n",
            "Actual Label:  defamation,hate \n",
            "Predicted Label: offensive\n",
            "Post:=====>\n",
            " @anuragkashyap72 सर आप नास्तिक ही नहीं बल्कि वो महान साहसी पुरुष हैं जो अपने बाप की कॉलर पकड़ के बोल सकता है के भोसड़ी के तूने मेरी माँ को चो@ इसलिए मुझे इस कमीनी दुनिया में पैदा होना पड़ा \n",
            "Actual Label:  hate \n",
            "Predicted Label: offensive\n",
            "Post:=====>\n",
            " यह महिला उद्योगपति गौतम अडानी की पत्नी है... \n",
            "झुकी हुई गर्दन शायद रामु काका की हैं!!\n",
            "\n",
            "Follow me \n",
            "@IamVikas_Kr \n",
            "Actual Label:  defamation,fake \n",
            "Predicted Label: fake\n",
            "Post:=====>\n",
            " #TaalThokKeLive: ZEE NEWS की मुहिम को मिला जनता का समर्थन  \n",
            "  \n",
            "#IAmSushant पर ट्वीट करें \n",
            "    \n",
            "@aditi_tyagi\n",
            " \n",
            "@SachinArorra\n",
            "\n",
            "LIVE- https://t.co/DrvFUf3YKl https://t.co/hQEQ0yoej7 \n",
            "Actual Label:  non-hostile \n",
            "Predicted Label: fake\n",
            "Post:=====>\n",
            " (27)तिलक नगर      रूबी खान\n",
            "\n",
            "शेयर करे और देखे केजरीवाल उर्फ केजरुद्दीन जो दिल्ली को किस तरह स्व पाकिस्तान बनाना चाह रहे है सब आपके सामने है उनके विधायको की पहली लिस्ट जागो हिन्दू जागो \n",
            "Actual Label:  non-hostile \n",
            "Predicted Label: defamation\n",
            "Post:=====>\n",
            " सरकार राष्ट्रीय शिक्षित बेरोजगार के तहत राशन कार्ड धारकों को 50 हजार रुपए की मदद देगी \n",
            "Actual Label:  fake \n",
            "Predicted Label: non-hostile\n",
            "Post:=====>\n",
            " मुंबई एयरपोर्ट में 74% हिस्सेदारी खरीदेगा अडाणी ग्रुप , नंबर 1 कंपनी बनने की ओर कदम -\n",
            "#adani \n",
            "https://t.co/jRwIFU7WxJ \n",
            "Actual Label:  non-hostile \n",
            "Predicted Label: fake\n",
            "Post:=====>\n",
            " मानसिक विकृत महिला पैदा भी टॉयलेट में हुई होगी, इसलिए विशेष प्रेम है टॉयलेट से।\n",
            "इसे तुरंत मनोचिकित्सक से इलाज करवाने के लिए भेजा जाय।\n",
            "\n",
            "#ArrestSushmitaSinhaa \n",
            "Actual Label:  offensive \n",
            "Predicted Label: non-hostile\n",
            "Post:=====>\n",
            " शाहीनबाग से आई है ये तस्वीर...गौर से देखिए। कहीं ये रवीश कुमार तो नहीं। रवीश से ऐसी उम्मीद नहीं थी। \n",
            "Actual Label:  fake \n",
            "Predicted Label: non-hostile\n",
            "Post:=====>\n",
            " चांदनी चौक दिल्ली, क्या दिल्ली नया बॉम्बे है? जो वीडिओज़ आ रहे हैं, काफ़ी डरावने हैं ।\n",
            "\n",
            " \n",
            "Actual Label:  fake \n",
            "Predicted Label: non-hostile\n",
            "Post:=====>\n",
            " @ReallySwara चरसी,गंदी,कमीनी,हरामखोर जितना बोलो तुझे उतना कम है😡👎👎👎 \n",
            "Actual Label:  hate \n",
            "Predicted Label: hate,offensive\n",
            "Post:=====>\n",
            " लो एक की राख ठंडी नहीं हुई दूसरी की जल गई बाराबंकी में 8 साल की बच्ची से रेप  हिंदुओं और बनों सैकुलर मादरचोदों \n",
            "Actual Label:  hate \n",
            "Predicted Label: fake\n",
            "Post:=====>\n",
            " असम सरकार ने सारे मदरसे बंद किये । कहा सिर्फ मॉडर्न ओर सेक्युलर शिक्षा दी जाएगी ।\n",
            " #सर्वप्रिय_योगीजी \n",
            "Actual Label:  hate \n",
            "Predicted Label: fake\n",
            "Post:=====>\n",
            " “अरे हम अपने पापा का नाय बचाय पाये” सेना के जवान सूर्य प्रकाश मिश्रा की ये चींख सुनकर आपकी आँखे नम हो जायेंगी अमेठी में सेना के जवान के पिता को घर में घुसकर अपराधियों ने मार दिया “धिक्कार है योगी सरकार” https://t.co/ow5PexbV3l \n",
            "Actual Label:  non-hostile \n",
            "Predicted Label: fake\n",
            "Post:=====>\n",
            " @Baeofbangal कुतिया चुप रहो 😂😂 \n",
            "Actual Label:  offensive \n",
            "Predicted Label: hate\n",
            "Post:=====>\n",
            " Rhea का परिवार पूरा होने में बस NIA की ही कमी है! \n",
            "दीदी \n",
            "@Tweet2Rhea\n",
            " एक बार वो फोल्डिड हैंड्स \n",
            "वाला ट्वीट चिपका कर NIA की माँग कर लो गृह मंत्री जी से! भगवान आप पर मेहरबान चल रहा है! \n",
            "#FirstConfessionOut \n",
            "Actual Label:  defamation,hate \n",
            "Predicted Label: offensive\n",
            "Post:=====>\n",
            " भारत में वित्तीय वर्ष 1 अप्रैल से 31 मार्च तक चलता है, और यह दावा चालू वित्त वर्ष तीन महीने आगे बढ़ाने के बारे में है। \n",
            "Actual Label:  fake \n",
            "Predicted Label: non-hostile\n",
            "Post:=====>\n",
            " इंदौर में भाजपा नेता इनायत हुसैन का जोरदार स्वागत हुआ ऐसा स्वागत पहली बार देखा होगा आप लोगों ने।👇👇 \n",
            "Actual Label:  defamation \n",
            "Predicted Label: fake\n",
            "Post:=====>\n",
            " मन की बात को यू ट्यूब पर डिसलाइक करने वालो तुम्हारे डिसलाइक अभी सिर्फ लाखो में है सङक 2 पर 12 मिलियन डिसलाइक है और हमसे बराबरी करने के लिए तुम्हे बाकी 56 देशो से भी डिसलाइक करवाना पङेगा हराम के जनो \n",
            "Actual Label:  hate \n",
            "Predicted Label: non-hostile\n",
            "Post:=====>\n",
            " न्यूयॉर्क के टाइम्स स्क्वायर पर आज भगवान राम की तस्वीरें डिस्प्ले की गईं\n",
            "\n",
            " \n",
            "Actual Label:  fake \n",
            "Predicted Label: non-hostile\n",
            "Post:=====>\n",
            " इटौंजा क्षेत्र के अंतर्गत सरकारी स्वास्थ्य केंद्र के डॉक्टर रक्षक की जगह बने भक्षक\n",
            "लखनऊ के इटौंजा सरकारी स्वास्थ्य केंद्र के डॉक्टर और कर्मचारियों ने एक गर्भवती महिला और उसके पति को लात घूसे से पीटकर किया इलाज जब खुशबू नाम की गर्भवती महिला अपने पति और सास के साथ इटौंजा के सरकारी \n",
            "Actual Label:  hate \n",
            "Predicted Label: fake\n",
            "Post:=====>\n",
            " @KapilMishra_IND यह साला पूरा गुंडा है इसका असली चेहरा ab बाहर आ रहा है \n",
            "Actual Label:  defamation,fake,offensive \n",
            "Predicted Label: offensive\n",
            "Post:=====>\n",
            " जय हनुमान ज्ञान गुन सागर\n",
            "जय कपीस तिहुं लोक उजागर.\n",
            "रामदूत अतुलित बल धामा\n",
            "अंजनि-पुत्र पवनसुत नामा.\n",
            "महाबीर बिक्रम बजरंगी\n",
            "कुमति निवार सुमति के संगी.\n",
            "कंचन बरन बिराज सुबेसा\n",
            "कानन कुंडल कुंचित केसा.\n",
            "हाथ बज्र और ध्वजा बिराजे \n",
            "कांधे मूंज जनेऊ साजे🙏\n",
            "\n",
            "World's Tallest Hanuman -135 feet 🙏 https://t.co/VmxwZnIEzp \n",
            "Actual Label:  non-hostile \n",
            "Predicted Label: fake\n",
            "Post:=====>\n",
            " इटली के लोग ये जानकर हैरान है 🤔\n",
            "\n",
            "कि \"130 करोड़ की आबादी वाले इंडिया में कोंग्रेस के अध्यक्ष के लायक कोई पैदा ही नही हुए\"😩😂 \n",
            "Actual Label:  defamation \n",
            "Predicted Label: non-hostile\n",
            "Post:=====>\n",
            " ओ मैडम तेरी समस्या क्या है ?? ये गद्दार इस्तीफा देकर गया था। चुनाव हुआ जीता वो सब ठीक .. \n",
            "Actual Label:  defamation,hate,offensive \n",
            "Predicted Label: non-hostile\n",
            "Post:=====>\n",
            " सुनने में आ रहा है - 🤔\n",
            "\n",
            "कि शाहीन बाग की एक और सूअर 🐷\n",
            "का पेट बड़ा हो गया है नाम है - उमर खालिद \n",
            "Actual Label:  defamation,offensive \n",
            "Predicted Label: offensive\n",
            "Post:=====>\n",
            " RT @Rhea_Ziddi: संजय रावत के सामने नहीं  झुकूगीं \n",
            "👆\n",
            "कंगना राणौत\n",
            "🤔😜🤔 \n",
            "Actual Label:  hate \n",
            "Predicted Label: non-hostile\n",
            "Post:=====>\n",
            " @sambitswaraj करत करत अभ्यास के \n",
            "राहुल बनत महान, \n",
            "\n",
            "पप्पू मूत्र पी के \n",
            "चमचे झाड़त ज्ञान। 😂😂 \n",
            "Actual Label:  hate \n",
            "Predicted Label: fake\n",
            "Post:=====>\n",
            " RT @_Pb_swain_: पाक की छोड़ो अब तो चीन की भी गिली होने लगी है,😂\n",
            "\n",
            "पुरानी से पुरानी बीमारी का शर्तिया इलाज- डॉक्टर नरेंद्र मोदी 💪👍😁 \n",
            "Actual Label:  offensive \n",
            "Predicted Label: fake\n",
            "Post:=====>\n",
            " भक्तो तुम्हारी अम्मा यसोदा मैया भी #ShaheenBaghProtest पहुंच गई पैसे लेने ...🧐 लेकिन तुम्हारे पप्पा #मोदीजी_शाहीनबाग_कब_आओगे \n",
            "Actual Label:  fake \n",
            "Predicted Label: defamation\n",
            "Post:=====>\n",
            " मल्लब सिब्बल उब्बल आते जाते रहेंगे,\n",
            "🦉बाबा जी हैं सदा के लिए..🤣🤣\n",
            "मानना पड़ेगा भई राजमाता और\n",
            "उनका परिवार कायदे\n",
            "से अनुसरण करता है अपने\n",
            "Religion का..\n",
            "और चमचे राजमाता के आदेशों का..😜 \n",
            "Actual Label:  defamation \n",
            "Predicted Label: fake\n",
            "Post:=====>\n",
            " आखिर क्यों TIFR(टाटा इंस्टीटूट),Wuhan Institute of Virology and US Deptt of Defence के साथ #नागालैंड में #चमगादड़ों पर वायरस रिसर्च कर रहा था???\n",
            "क्या यही वजह है कि टाटा को मोटा दान देना पड़ा\n",
            "@Swamy39\n",
            " जी शायद इस मामले को कोर्ट में ले जाएंगे  \n",
            "Actual Label:  defamation,fake \n",
            "Predicted Label: non-hostile\n",
            "Post:=====>\n",
            " RT @Nehaa7300: \" उमर खालिद ने अगर मुसलमानो को जगाने का काम किया है तो क्या गलत किया है ,\n",
            "\n",
            "क्या अपनी कौम के लोगो को जगाना गुनाह है क्या \"...… \n",
            "Actual Label:  hate \n",
            "Predicted Label: defamation\n",
            "Post:=====>\n",
            " RT @aadhiIa: #EngineersDay2020\n",
            "\n",
            "• नाली गैस से चाय बनाना\n",
            "\n",
            "• रडार से बचने के लिए बादल टेक्नोलॉजी\n",
            "\n",
            "• 1989 में E-mail का आविष्कार\n",
            "\n",
            "• (a+b)² में… \n",
            "Actual Label:  defamation \n",
            "Predicted Label: non-hostile\n",
            "Post:=====>\n",
            " @RubikaLiyaquat महाराष्ट्र में 5 साल सत्ता में रही बीजेपी हुक्का के जरिए बहुत पैसा कमाई  सारे ड्रग्स माफिया के साथ बीजेपी के मंत्री विधायक पूर्व मुख्यमंत्री के सांठगांठ पैसा आने में देरी हो गई होगी  क्योंकि महाराष्ट्र में इसकी सरकार रही नहीं तो केंद्र की अपनी सरकार अपनी सुप्रीम कोर्ट के डर दिखाई \n",
            "Actual Label:  defamation \n",
            "Predicted Label: hate\n",
            "Post:=====>\n",
            " नेहरू, इंदिरा, राजीव ने भारत के स्वास्थ्य बुनियादी ढांचे का इतना मजबूत निर्माण किया था कि,\n",
            "🤙\n",
            "सोनिया गांधी नियमित जांच के लिए विदेश गई है। \n",
            "Actual Label:  defamation,hate \n",
            "Predicted Label: hate\n",
            "Post:=====>\n",
            " @SanjayAzadSln @drharshvardhan @DrJitendraSingh और तू #भोसडी के ख़ुद लिखता है , अंग्रेज़ी आती है तेरे को? साला अनपढ़ #हरामआदमी तेरे ट्वीट तो कोई #पीएफ़आई का एजेंट लिखता होगा \n",
            "Actual Label:  defamation,fake,hate,offensive \n",
            "Predicted Label: offensive\n",
            "Post:=====>\n",
            " मुख्यमंत्री \n",
            "@ashokgehlot51\n",
            " जी केंद्र का विरोध करने से पहले राजस्थान के हालात देख लो। \n",
            "प्री-डी एल एड परीक्षा में कोटा से जुड़े कवाई गांव के छात्र ऐसे पहुँचे परीक्षा केंद्र क्योंकि चुनाव में किया पुलिया का वादा कांग्रेस ने पूरा नही किया।\n",
            "@madandilawar\n",
            " \n",
            "@chshekharbjp\n",
            " \n",
            "@DrSatishPoonia \n",
            "Actual Label:  hate \n",
            "Predicted Label: fake\n",
            "Post:=====>\n",
            " यही तीन बात मेरी वीडियो में जो सच और तथ्य के आधार पर बंदर के फोटो लगाकर घूमता है  कट्टर हिंदू कहता है मैं बोलती हूं गांडू हिंदू वह गांडू हिंदू है  यूपी पुलिस को टैंग करती है यूपी पुलिस बिहार पुलिस ऐसे पुलिस वाले पर कार्रवाई होनी चाहिए कि नहीं महिला को डराने धमकाने के आरोप में \n",
            "Actual Label:  hate \n",
            "Predicted Label: fake\n",
            "Post:=====>\n",
            " #AAP के @ArvindKejriwal की बात तो कुछ हद तक विपक्ष ने मानी,\n",
            "\n",
            "राज्यसभा में किसान विरोधी बिलों का ज़बरदस्त विरोध भी किया, \n",
            "\n",
            "#AAP के @SanjayAzadSln का विरोध तो बहुत ज़ोरदार था,\n",
            "\n",
            "पर मोदी सरकार ही कमीनी है, वोटिंग के बग़ैर ही बिल पास करवा लिया , \n",
            "\n",
            "अब किसान ही भाजपा को फ़ेल करेंगे 🤷‍♀️ https://t.co/zK9ifAuOFY \n",
            "Actual Label:  defamation,fake,offensive \n",
            "Predicted Label: hate\n",
            "Post:=====>\n",
            " जिसने भी ये ट्रेन्ड शुरू किया है जरूर वो माँ भारती का लाडला होगा और राष्ट्रवाद को मजबूत करने वाला ही होगा ।\n",
            "बात जब योगी जी की हो तो बात ही कुछ और होती है ।\n",
            "जय हो योगी जी की \n",
            "Actual Label:  offensive \n",
            "Predicted Label: hate\n",
            "Post:=====>\n",
            " @AskMuskan @iSinghRajni मुझे तो लगता है ये कमीनी हालाला के मज़े लेना चाहती हैं इसलिए धर्म परिवर्तन करवायी हैं😁😂😁😂 \n",
            "Actual Label:  hate,offensive \n",
            "Predicted Label: offensive\n",
            "Post:=====>\n",
            " RT @Rofl_RavishNDTV: संजय रावत की ज़ुबानी जंग में Y+ श्रेणी सुरक्षा मिली...!!\n",
            "\n",
            "अगर कहीं संजय रावत के जगह असद ओवैसी होता  तो राफ़ेल की सुर… \n",
            "Actual Label:  hate \n",
            "Predicted Label: offensive\n",
            "Post:=====>\n",
            " कुली फिल्म की शूटिंग के दौरान अमिताभ बच्चन के लिए पूरे देश में दुआओं का दौर चला था ,\n",
            "\n",
            "मगर एक शेरनी कंगना के लिए इसके मुंह से एक शब्द नहीं निकला कैसा नालायक है ये?🤔 \n",
            "Actual Label:  defamation \n",
            "Predicted Label: non-hostile\n",
            "Post:=====>\n",
            " ये है प्रतापगढ़ #AIMIM जिलाध्यक्ष मो.सलीम अंसारी जो कि खुलेआम Secularism की आड़ में हमारे सनातन धर्म और मराठो की शान भगवा पताका को जलाकर इसका अपमान कर रहा है सभी सनातनियो से मेरी प्रार्थना है इसे शेयर करे ताकि ये जल्द पकड़ा जाए कल का है ये घटना देर रात का |\n",
            "\n",
            " \n",
            "Actual Label:  fake \n",
            "Predicted Label: hate\n",
            "Post:=====>\n",
            " ऐलनाबाद हरियाणा की घटना है मामला कुछ हो \n",
            " लेकिन ये खालिस्तान जिंदाबाद के नारे लगाने वाले कौन लोग है कृपा इन पर कड़ी कार्यवाही होनी चाहिए\n",
            "@PMOIndia\n",
            "\n",
            "@HMOIndia\n",
            " \n",
            "@cmohry\n",
            " \n",
            "@OPDhankar\n",
            "\n",
            "@anilvijminister\n",
            " \n",
            "@_jay_shankar \n",
            "Actual Label:  hate,offensive \n",
            "Predicted Label: hate\n",
            "Post:=====>\n",
            " बेगुनाह लालू यादव को जमानत नहीं,\n",
            "हत्या बलात्कारी(कुलदीप सिंह सेंगर)को उम्रकैद में मिली ज़मानत,\n",
            "हमनें पहले ही कहा था,बीजेपी बलात्कारियों को गंगाजल से पवित्र करके गोद में बिठा लेती है,,,///\n",
            "#अकेला# \n",
            "Actual Label:  hate,offensive \n",
            "Predicted Label: non-hostile\n",
            "Post:=====>\n",
            " आजादी से अब तक एक भी फॉरवर्ड को मेहनत करके खाते आपको नजर नहीं आएंगे आज ही इनकी संस्थाओं पर कब्जा है जमीन पर पूरी कब्जा है पिछड़ा दलित के पास थोड़ी बहुत जो जमीन आई है उन्होंने मेहनत करके अपनी ही जमीन के पैसा देकर इन से खरीदे हैं \n",
            "Actual Label:  defamation,fake,hate \n",
            "Predicted Label: non-hostile\n",
            "Post:=====>\n",
            " @KapilMishra_IND मार्शल ही कोई सीधा इंसान है \n",
            "वरना ऐसे पता नहीं कितने सांसद उन्होंने देखे है ये बिना वोट वाले आदमी को वहीं लात मार मार के सीधा कर देना चाहिए था ।\n",
            "\n",
            "इसको ऐसा फेंकता की दिमाग ठिकाने आ जाता इसका , ये साला है ही अपराधी \n",
            "Actual Label:  hate \n",
            "Predicted Label: offensive\n",
            "Post:=====>\n",
            " 2015 में, ओबामा प्रशासन में, क्रिस्टोफर हैरिंगटन ने CV19-N95 के सीरियल नंबर के साथ फेस मास्क के एक नए डिजाइन के लिए एक पेटेंट लेने का प्रयास किया। पेटेंट से इनकार कर दिया गया था, क्योंकि एक अन्य व्यक्ति 6 महीने पहले ही N-95 का पेटेंट फाइल कर चुका था। जानते हैं यह व्यक्ति कौन था? बिल गेट्स। हमें नियंत्रित किया जा रहा है। क्या यह बरसों पहले की योजना थी ? \n",
            "Actual Label:  fake \n",
            "Predicted Label: non-hostile\n",
            "Post:=====>\n",
            " सोनिया राहुल 15 दिन के लिए विदेश यात्रा पर रवाना।😲\n",
            "\n",
            "मानसून सत्र में दोनो नेता सदन में नही रहेंगे।\n",
            "आखिर क्यों,,,? - पूछता है भारत 🇮🇳 \n",
            "Actual Label:  hate \n",
            "Predicted Label: non-hostile\n",
            "Post:=====>\n",
            " @SanjayAzadSln बताईये ऐसे ऐसे कुत्तों को जनता कैसे चुनती है? जिसे हगने के लिए न घर न सड़क में फर्क महसूस होता है।ए कमीना टिकट ब्लैकर अपनी छिछोरापन से बाज नहीं आएगा। @SanjayAzadSln \n",
            "Actual Label:  defamation,offensive \n",
            "Predicted Label: offensive\n",
            "Post:=====>\n",
            " #गुजरात से नकली नोटों का भंडार पकड़ा गया\n",
            " और ईमानदार संघ समर्थक श्री केतन दवे की कार से मिला ये नकली नोटों का जखीरा... 👇👇 \n",
            "Actual Label:  defamation,hate \n",
            "Predicted Label: fake\n",
            "Post:=====>\n",
            " केंद्र सरकार 5 लाख केंद्रीय कर्मचारियों को नौकरी से निकालने की तैयारी कर रही है। \n",
            "Actual Label:  fake \n",
            "Predicted Label: non-hostile\n",
            "Post:=====>\n",
            " कॉर्बेट नेशनल पार्क से 8 बेहतरीन फोटो:रिहाइशी इलाके से महज 500 मीटर दूर गाय का शिकार करते दिखी बाघिन, ऐसा नजारा जो हम कहानियों में सुनते हैं\n",
            "https://t.co/vVyaeY4Nxl\n",
            "\n",
            "#JimCorbettNationalPark #photography \n",
            "Actual Label:  non-hostile \n",
            "Predicted Label: fake\n",
            "Post:=====>\n",
            " @AcharyaPramodk खतनाचार्य लौंडे --ध्वनि मत या voice वोट का क्या तुझे अर्थ भी मालूम है????\n",
            "साला चीनी एजेंट \n",
            "Actual Label:  defamation,fake,offensive \n",
            "Predicted Label: offensive\n",
            "Post:=====>\n",
            " योगी सरकार मे 50 लाख अधिक बच्चे स्कूल पहुंचे। 90 हजार स्कूलों को कायाकल्प से बदला गया। 193 नए इंटर कॉलेज, 51 नए डिग्री कॉलेज और 2 नए विश्वविद्यालय बनाने की प्रक्रिया शुरू हुई है।, \n",
            "Actual Label:  hate \n",
            "Predicted Label: non-hostile\n",
            "Post:=====>\n",
            " @anjanaomkashyap\n",
            " अभी डिबेट में एक फर्जी कर्णिसेना वाले का फर्जी वीडियो फूटेञ दिखाकर सुशांत की हिमायती बनके रिया सिंग को फँसाने की कोशिश कर रहीं हैं और फ्लाॅप् कोरियाॅग्राफर गणेश नचाने में तो नहीं चला पर महेश भट्ट का असली नाम अशरफ़ भट्ट बताकर वाहियात टिप्पणी कर रहारोकती भी नहीं है \n",
            "Actual Label:  fake,offensive \n",
            "Predicted Label: fake\n",
            "Post:=====>\n",
            " मनोज तिवारी भीड़ के बीच खड़े होकर मास्क बांटते । ये कैसे मेंटेन हो रहा सोशल डिस्टेंस \n",
            "Actual Label:  fake \n",
            "Predicted Label: non-hostile\n",
            "Post:=====>\n",
            " @AshokShrivasta6 ये २१वी सदी का ग़दर देख लो! जाहिलों की तरह यें गुंडे बेचारे अकेले मार्शल पे हमला करके मर्द बन रहे हैं!\n",
            "इनका कच्छा खोलो तो साले सारे के सारे नपुंसक हैं पता चल जाएगा! महिलाएँ भी कितनी डरी हुई हैं इन हिजड़ों से! \n",
            "Actual Label:  hate \n",
            "Predicted Label: offensive\n",
            "Post:=====>\n",
            " आज एक और बैंक गया\n",
            "लक्ष्मी विलास बैंक की 569 शाखाएं \n",
            "औऱ 1046 एटीएम बंद 93 साल पुराना बैंक था। \n",
            "\n",
            "अब कितना अच्छे दिन चाहिए बे \n",
            "Actual Label:  defamation,hate \n",
            "Predicted Label: fake\n",
            "Post:=====>\n",
            " #JEE परीक्षा का पूरी तरह से विफल होना सरकार की हठधर्मिता और संदेवनहीनता का परिणाम है। सरकार अपने गलती को स्वीकार करते हुए इससे सिख लें और #NEET के परीक्षा को स्थिति सामान्य होने तक कृपया कर स्थगित करें। \n",
            "Actual Label:  offensive \n",
            "Predicted Label: fake\n",
            "Post:=====>\n",
            " यूएन के द्वारा  21वीं सदी का  यह  सबसे बड़ा जनोसाइड है  पर क्या मजाल है कि किसी मुस्लिम  या लिब्रांडू ने इसके बारे में  छापा हो  इस्लाम में  शांति लाने के लिए  गैर मुस्लिमों को  मारा जाता है  यह इसका सबूत है.. \n",
            "Actual Label:  hate \n",
            "Predicted Label: fake\n",
            "Post:=====>\n",
            " @globaltimesnews चाइना ने साइंस को जन्म दीं भारत ने मूर्खों  गवार अंधभक्तों को जन्म दीं \n",
            "Actual Label:  hate \n",
            "Predicted Label: fake\n",
            "Post:=====>\n",
            " जब कोरोना हज़ारों में था तो भाजपा नेता श्रेय मोदी जी को दे रहे थे।अब दुनिया में दूसरे नम्बर पर पहुँचने वाला है तो किसको श्रेय देना चाहिए? \n",
            "@INCIndia \n",
            "Actual Label:  non-hostile \n",
            "Predicted Label: defamation\n",
            "Post:=====>\n",
            " @narendramodi आपकी चलाकी देश सब समझता है सरकारी कंपनी बीएसएनएल को बर्बाद करने के लिए अंबानी को मदद पहुंचाई देश के आंख में धूल झोंका जिओ को मदद की बीएसएनल को बर्बाद किया फिर मित्र के हाथ बेचने की तैयारी की उसी तरह रेलवे को बर्बाद कर रहे हो अपने मित्र को देने के लिए देश बेच रहे हो \n",
            "Actual Label:  hate,offensive \n",
            "Predicted Label: hate\n",
            "Post:=====>\n",
            " कोविड के वक़्त बेहतरीन ख़बर - राष्ट्रपति भवन के अंदर स्थित मुग़ल गार्डन का नाम बदल कर डॉ राजेंद्र प्रसाद गार्डन कर दिया गया है |\n",
            "\n",
            " \n",
            "Actual Label:  fake \n",
            "Predicted Label: non-hostile\n",
            "Post:=====>\n",
            " पालघर साधु हत्या काण्ड में महाराष्ट्र गवर्नमेंट तोह हिजड़ा और नामर्द बन के बैठा है।लेनिन  जनता media,और सनातन धर्म को फॉलो करने वाले क्यों हिजडॉ,ना मर्द बने हो।इंसाफ़ कब मिलेंगा? \n",
            "Actual Label:  defamation,hate,offensive \n",
            "Predicted Label: hate\n",
            "Post:=====>\n",
            " वरिष्ठ पत्रकार रवीश कुमार ने सरकार की अवस्था पर तंज़ कसते हुए कहा है की \"राफेल डील पर भाजपा सरकार की स्थिति चोर की दाढ़ी में तिनका जैसी है | दिन को सुप्रीम कोर्ट राफेल खरीद की जांच के आदेश देता है। और शाम को रक्षा मंत्री फ्रांस निकल जाती है |\n",
            "\n",
            " \n",
            "Actual Label:  fake \n",
            "Predicted Label: non-hostile\n",
            "Post:=====>\n",
            " @KanganaTeam कंगना ने naughty उद्धव की बैंड बजा दी, जय हो मणि कर्णिका, हम सब आपके साथ हैं,\n",
            "@KanganaTeam 👍👍 \n",
            "Actual Label:  defamation \n",
            "Predicted Label: offensive\n",
            "Post:=====>\n",
            " फ़्रांस की चार्ली हेब्दो ने दुबारा पैगंबर मोहम्मद पर कार्टून छापा है -मैग्जीन का कहना है कि हम नहीं झुकेंगे और न किसी से डरते है सच्चाई जनता के सामने लाते रहेंगे...!! \n",
            "Actual Label:  hate \n",
            "Predicted Label: non-hostile\n",
            "Post:=====>\n",
            " @sambitswaraj साले चूतिया तेरी अक्ल के साथ साथ सकल भी खराब है 🤔😠😠 \n",
            "Actual Label:  hate,offensive \n",
            "Predicted Label: hate\n",
            "Post:=====>\n",
            " एक पोस्ट दिल्ली के अखिल भारतीय आयुर्विज्ञान संस्थान (एम्स) के पैथोलॉजी विभाग के नाम से वायरल हो रहा है जिसमे बिमारियों के लक्षण अंकित कर कोवीड-19 और अन्य आम बिमारियों, जैसे वायु प्रदूषण, फ़्लू, सर्दी और ख़ासी, के बीच के अंतर को बताया गया है | \n",
            "Actual Label:  fake \n",
            "Predicted Label: non-hostile\n",
            "Post:=====>\n",
            " @SanjayAzadSln तू बता संजू गैंडा राज्य सभा मे तू तो आतंकी मोड में था, शुभम टाकीज की आदत तेरी गयी नही चूतिये भड़वे साले \n",
            "Actual Label:  hate,offensive \n",
            "Predicted Label: offensive\n",
            "Post:=====>\n",
            " अमित शाह की भाजपा और जी की झठपा अब बिजली \"लीटर\" के हिसाब से देंगे। \n",
            "Actual Label:  defamation \n",
            "Predicted Label: fake\n",
            "Post:=====>\n",
            " देश में युवाओं के लिए सबसे बड़ी चिंता रोजगार है और सरकार इधर उधर की बात करके लोगो का ध्यान भटकाना चाहती है।@ndtv,  \n",
            "Actual Label:  offensive \n",
            "Predicted Label: hate\n",
            "Post:=====>\n",
            " बीएसएनल ने 1299 में 1 साल की ऑफर लेकर आई है बहुत ही अच्छा कदम बीएसएनल एक कदम और उठाएं 2GB डाटा हर रोज फ्री करें 1 साल के लिए यदि मोदी अंबानी के प्रधानमंत्री नहीं है तो यह कदम पक्का उठाएंगे फिर हमारी देश की सरकारी नेटवर्क धमाल मचा देगी \n",
            "Actual Label:  defamation \n",
            "Predicted Label: non-hostile\n",
            "Post:=====>\n",
            " जिस दिन ये किसान भूखा मरेगा मोदी जी उसके बाद आपकी आने वाली पुस्तें भी खाना खाने के लिए कुत्तों की तरह भटकती मर जायेंगी ये भी याद रखना \n",
            "##प्रधान मंत्री होने से ही आप सब कुछ नहीं हो जाते हैं https://t.co/LUaAwGbasU \n",
            "Actual Label:  offensive \n",
            "Predicted Label: hate\n",
            "Post:=====>\n",
            " अगर तुर्की जाने से आमिर खान देशद्रोही हैं तो बिना बुलाए मोदी जी पाकिस्तान गए तो क्या कहेंगे? बोलो दोगलों! \n",
            "Actual Label:  non-hostile \n",
            "Predicted Label: hate\n",
            "Post:=====>\n",
            " @IrshadHo फिर आपको लंबी लंबी लाइन में खड़ी रहनी पड़ेगी घंटों जाम में फंसे रहने की आदत डालनी होगी फिर 2/3 के कमरे में रहने की आदत डालनी होगी जब यह सब आप करने में सक्षम है  तो फिर कोई बात नहीं \n",
            "Actual Label:  fake \n",
            "Predicted Label: non-hostile\n",
            "Post:=====>\n",
            " भारत के सैनिकों ने हमें बहुत मारा ! लेकिन घसीटा क्यूं..?? 😭😭😭\n",
            "          \n",
            "         ~ Chinese PLA 😂😂🤣🤣 \n",
            "Actual Label:  defamation \n",
            "Predicted Label: non-hostile\n",
            "Post:=====>\n",
            " #MannKiBaat\n",
            "\n",
            "प्रधानमंत्री @narendramodi ने नागरिकों से महात्मा गांधी द्वारा असहयोग आंदोलन के दौरान बोए गए बीज को #AatmaNirbharBharat के रूप में एक बरगद के पेड़ में बदलने का आग्रह किया\n",
            "\n",
            "@PMOIndia @DDNewsHindi @PIBHindi @AIRNewsHindi \n",
            "Actual Label:  non-hostile \n",
            "Predicted Label: fake\n",
            "Post:=====>\n",
            " कुछ मूर्ख कहते है कि बीजेपी हिन्दू-मुस्लिम करती है\n",
            "तो मूर्खो स्वीडन मे बीजेपी नहीं है\n",
            "फिर भी जल रहा है🤔\n",
            "देशप्रेमी बनो जय हिन्द🙏 \n",
            "Actual Label:  defamation \n",
            "Predicted Label: fake\n",
            "Post:=====>\n",
            " तेल कीमतों में वृद्धि के खिलाफ अब आम जनता का फूटा गुस्सा। अभी तो बहुत कुछ देखना बाकी है मेरे दोस्तो। शेयर करें और मोदी तक पहूँचा दीजिये' |\n",
            "\n",
            " \n",
            "Actual Label:  fake \n",
            "Predicted Label: defamation\n",
            "Post:=====>\n",
            " सड़क- 2 के #10_मिलियन (1 करोड़ ) डिसलाइक मिलने के बाद देखो कैसे पगला गया है महेश भट्ट हिन्दुओं की एकता का परिणाम, रुकना नहीं है मित्रों\n",
            "\n",
            " \n",
            "Actual Label:  fake \n",
            "Predicted Label: non-hostile\n",
            "Post:=====>\n",
            " डॉ के अनुसारCOVID-19 को नाक-मुँह  से भाप के जरिए मारा जाता है,तो कोरोना को खत्म किया जा सकता है!\n",
            "यदि सभी लोगों ने एक साथ एक सप्ताह के लिए भाप लेने का अभियान शुरू किया तो करोना का अंत हो सकताहै। \n",
            "\n",
            "मैं दुनिया भर के लोगों से आग्रह करता हूं कि वे 2sept से 7sept तक भाप प्रक्रिया  करें \n",
            "Actual Label:  fake \n",
            "Predicted Label: non-hostile\n",
            "Post:=====>\n",
            " दिल्ली का नारायणा इलाका. यहां एक शख्स को मोबाइल चोरी के शक में पेड़ से बांधकर इतना पीटा गया कि उसकी मौत हो गई. आरोप है कि इस्तिहार, अनीस, मुश्ताक अहमद और शिराज ने राहुल को एमसीडी पार्क तक खींचकर ले जाने के बाद पीटा. उन्हें गिरफ्तार कर लिया गया है.\n",
            "\n",
            "https://t.co/g0oJRwPY2C \n",
            "Actual Label:  non-hostile \n",
            "Predicted Label: fake\n",
            "Post:=====>\n",
            " योगी जी के भय से बंद हुए घर मे ताज़िये हुए दफन और मुहर्रम भी बदल गया गम।\n",
            "ये है योगी राज \n",
            "Actual Label:  hate \n",
            "Predicted Label: defamation\n",
            "Post:=====>\n",
            " भोजपुरी अध्यापक छात्र से –भोजपुरी में अनुवाद करो दिल के टुकड़े टुकडे करके मुस्कुराके चल दिये \n",
            "छात्र :- करेजवा के बुकुनी बुकुनी करके दांत चियार के चल दिहलू...., 😊😁🙃 \n",
            "Actual Label:  defamation \n",
            "Predicted Label: offensive\n",
            "Post:=====>\n",
            " वे कश्मीर को दिल्ली लाए हैं। वे पत्थर नहीं फेक रहे हैं, वे भाारत को तोड़ रहे हैं... \n",
            "Actual Label:  fake \n",
            "Predicted Label: non-hostile\n",
            "Post:=====>\n",
            " @laluprasadrjd रोजगार की आधार बताने की कष्ट करें आप रोजगार कैसे दोगे उसकी कोई रूपरेखा तैयार तो होगी ना सामने रखिए लोगों को पता चले बिहार में तीन करोड़  से अधिक युवा है जब भारत सरकार 6 साल में एक करोड़ रोजगार नहीं दे पाई तो आप की सरकार बनने पर तीन करोड़ युवा को कैसे रोजगार दे पाएगी समझाएं \n",
            "Actual Label:  fake \n",
            "Predicted Label: non-hostile\n",
            "Post:=====>\n",
            " @dpshaju @kamaalrkhan ये तो साला वास्तव में ठरकी है हरामी गंजेडी \n",
            "Actual Label:  defamation,fake,offensive \n",
            "Predicted Label: offensive\n",
            "Post:=====>\n",
            " @DrTanweerHassan @Sonustar0329 @iraghuvansh सत्यानाश महाराज जी की नाजायज औलाद और भी सत्यानाश करने में लगे हैं https://t.co/LcaLW3K1Js \n",
            "Actual Label:  defamation,offensive \n",
            "Predicted Label: non-hostile\n",
            "Post:=====>\n",
            " इंडोनेशिया के उत्तर सुमात्रा में माउंट सिनाबुंग ने 9 जून को एक विस्फोट के दौरान आकाश में 7 किमी ऊंची मोटी राख चिंहित की । ज्वालामुखी के आस-पास रहने वाले निवासियों से आग्रह किया गया था कि राख की बारिश होने पर मास्क का उपयोग किया जाए और नदियों के किनारे रहने वालों को बारिश के दौरान ठंडे लावा कि बाढ़ की चेतावनी दी गई थी । हताहतों की कोई रिपोर्ट नहीं थी । अंत तक देखें । \n",
            "Actual Label:  fake \n",
            "Predicted Label: non-hostile\n",
            "Post:=====>\n",
            " पीएम मोदी का विचार लड़की बेचे अचार तो ज्यादा बिकेगा डूब मरने की बात है जो खुद की औलाद नहीं है तो दूसरो की बेटियों के लिए ऐसे घटिया विचार रखने वाला देश का प्रधान मंत्री बनाया गया है कल को कुछ और भी कह सकता है बेटियों \n",
            "https://hindi.oneindia.com/news/india/controversy-over-pm-narendra-modi-speech-on-girl-should-sell-pickle-349909.html?utm_source=article&utm_medium=tweet-button&utm_campaign=article-tweet #नरेन्द्रमोदी \n",
            "@oneindiahindi\n",
            " के द्वारा \n",
            "Actual Label:  hate,offensive \n",
            "Predicted Label: fake\n",
            "Post:=====>\n",
            " स्वर्गीय प्रधानमंत्री श्री मोरारजी देसाई डांडिया रास खेलना। अद्भुत\n",
            "\n",
            " \n",
            "Actual Label:  fake \n",
            "Predicted Label: non-hostile\n",
            "Post:=====>\n",
            " बैंक FD के दिन अब लद गए! यहां मिल रहा है आपको उसके कहीं ज्यादा रिटर्न https://t.co/5sNrstomGb via @NavbharatTimes \n",
            "#FixedDeposits #FD #Investment #investments #investmentproperty https://t.co/Cb4MdpMvqr \n",
            "Actual Label:  non-hostile \n",
            "Predicted Label: fake\n",
            "Post:=====>\n",
            " @SanjayAzadSln @drharshvardhan @DrJitendraSingh साले चोर संजय सिंह  😠😠😠 \n",
            "Actual Label:  defamation,offensive \n",
            "Predicted Label: offensive\n",
            "Post:=====>\n",
            " @sanjukta @RahulGandhi चुप रह कुतिया!!जहरीली नागिन तेरा बस राहुल गांडी सरीखे चूतियों पे चलता होगा गद्दार कहीं की!जा मर इधर से मनहूस साली \n",
            "Actual Label:  defamation,hate \n",
            "Predicted Label: hate\n",
            "Post:=====>\n",
            " यूपी के कोइरीपुर सुल्तानपुर में मंदिर के पुजारी \"सत्येंद्र आनंद सरस्वती\" का शव पेड़ पर लटका मिला, एक दिन पहिले ही पुजारी की पड़ोस के \"शान्तिदूतो\" से सावन के पूजा को लेकर बहस की थी, पर इस ब्राम्हण पुजारी की आवाज उठाने कोई नही आएगा क्योंकि ये कोई टोपी वाला नही बल्कि भगवाधारी है.?\n",
            " \n",
            "Actual Label:  fake \n",
            "Predicted Label: hate\n",
            "Post:=====>\n",
            " 7 दिन से कम समय के लिए मुंबई आने वाले CBI अधिकारियों को क्वारंटाइन की जरूरत नहीं: मुंबई नगरपालिका।\n",
            "\n",
            "कोरोना वायरस पर सबसे ज्यादा रिसर्च इस नगरपालिका के पास ही है,वैक्सीन बनवा लेना चाहिए इनसे । 7 दिन से ज्यादा जांच नही करने देने का पैंतरा लगा रही है महाराष्ट्र सरकार। \n",
            "#CBI4SSR \n",
            "Actual Label:  defamation,hate,offensive \n",
            "Predicted Label: fake\n",
            "Post:=====>\n",
            " आपको शैतान ने गुमराह कर दिया है जनाब।\n",
            "चुसलाम शांति और भाई+चारे का मजा हब है \n",
            "Actual Label:  defamation \n",
            "Predicted Label: non-hostile\n",
            "Post:=====>\n",
            " यदि आप पास की दुकान से सामान ऑर्डर कर रहे हैं और यह होम डिलीवरी हो रहा है तो डिलीवरी बॉय से उसके ओरिजिनल डॉक्युमेंट्स के साथ हेलमेट पहनकर  आने को कहें। \n",
            "Actual Label:  fake \n",
            "Predicted Label: non-hostile\n",
            "Post:=====>\n",
            " शेर ने पाँच ट्रिलियन इकॉनमी पर छलाँग के लिए -23.9% कदम पिछे लिए हैं, समझे!?  #भक्त_लॉजिक  \n",
            "Actual Label:  offensive \n",
            "Predicted Label: non-hostile\n",
            "Post:=====>\n",
            " प्रश्न : मंदी किसे कहते हैं ?\n",
            ".\n",
            "उत्तर : जब ऊपरी कमाई ना हो,\n",
            "घोटाले करने का मौका न मिले और \n",
            " ड्यूटी पूरी करनी हो उसी को मंदी कहते हैं😂 \n",
            "Actual Label:  defamation \n",
            "Predicted Label: non-hostile\n",
            "Post:=====>\n",
            " डॉ कफील खान, जिन्हें नागरिकता संशोधन अधिनियम के विरुद्ध कथित भड़काऊ भाषण देने के चलते 29 जनवरी को भारतीय दंड संहिता के सेक्शन 153-A के अंतर्गत गिरफ्तार कर लिया गया था, को रिहा कर दिया गया है |\n",
            " \n",
            "Actual Label:  fake \n",
            "Predicted Label: non-hostile\n",
            "Post:=====>\n",
            " विकास खोजने वो चले, विकास मिला न कहीं।\n",
            "अगर वो सोचते देश की, विकास ढूंढते यहीं।। \n",
            "Actual Label:  defamation \n",
            "Predicted Label: hate\n",
            "Post:=====>\n",
            " जहां एक और सरकार को जातिगत रूप से बदनाम किया जा रहा वही योगी सरकार ने अल्पसंख्यक वर्ग के करीब 12000 जोड़ें दलितों के 32,000 अनुसूचित जाति जनजाति के करीब 50,000 जोड़ें सामान्य वर्ग के करीब 45 से जुड़े शामिल किए सामूहिक विवाह में \n",
            "Actual Label:  hate \n",
            "Predicted Label: non-hostile\n",
            "Post:=====>\n",
            " विकास दुबे के साथ संबित पात्रा की तस्वीर\n",
            "\n",
            " \n",
            "Actual Label:  defamation,fake \n",
            "Predicted Label: fake\n",
            "Post:=====>\n",
            " डिज्नी के पाइरेट्सस ऑफ द कैरेबियन फ्रैंचाइजी का काल्पनिक किरदार, कैप्टन जैक स्पैरो भगवान कृष्ण से प्रेरित था। हम बता दें कि जैक स्पैरो का किरदार जॉनी डेप ने निभाया था\n",
            "\n",
            " \n",
            "Actual Label:  fake \n",
            "Predicted Label: non-hostile\n",
            "Post:=====>\n",
            " @AvikantT @RubikaLiyaquat अफवाह फैलाना शुरू कर दिया भारत की गलवान घाटी भारत के हाथ से जा रही है तू गलत खबर दिखा रहा है \n",
            "Actual Label:  hate \n",
            "Predicted Label: fake\n",
            "Post:=====>\n",
            " मुहर्रम के लिए छूट है पर गणेश उत्सव में कुछ लोग मूर्ति विसर्जन को भी जाय तो पाबंदी ।\n",
            "तेलंगाना सरकार को शर्म आनी चाहिए।\n",
            "@TelanganaDGP \n",
            "@TelanganaCOPs \n",
            "@BJP4Telangana \n",
            "@TelanganaCMO https://t.co/iitaU3tdnX \n",
            "Actual Label:  offensive \n",
            "Predicted Label: fake\n",
            "Post:=====>\n",
            " तुम ज़मीं पे ‘ज़ुल्म’ लिखो;\n",
            "आसमान में 'इंक़लाब' लिखा जाएगा,\n",
            "\n",
            "सब याद रखा जाएगा,\n",
            "सब कुछ याद रखा जाएगा।\n",
            "#NEETisSocial_Injustice \n",
            "#JEEFailedPostponeNEET  \n",
            "Actual Label:  offensive \n",
            "Predicted Label: defamation\n",
            "Post:=====>\n",
            " 6 साल जिसे कोसने के बाद , खूब बुरा भला बोलने के बाद , उन्ही को नमन करना पड़े तो समझ जाओ की उनकी विचारधारा और सोच तुमसे कितनी महान होगी । \n",
            "Actual Label:  fake \n",
            "Predicted Label: non-hostile\n",
            "Post:=====>\n",
            " मोदी सरकार हर बार महत्त्वपूर्ण मुद्दे से ध्यान \n",
            "भटकाती आई है , इधर जैसे ही GDP के गिरने की खबर आई और उधर मोदी सरकार ने चाइना को पे'ल दिया !\n",
            "\n",
            "आखिर चाइना को पे'लना कहां तक उचित है कोई बताए !🙄😭😭\n",
            "        : एक वामपंथी की कलम से ।🤣🤣 \n",
            "Actual Label:  hate \n",
            "Predicted Label: fake\n",
            "Post:=====>\n",
            " शक्की पत्नी का शक दूर करने के लिए पति ने \n",
            "दाढ़ी रख ली, पूजा,पाठ करने लगा और गीता \n",
            "रामायण भी पढ़ने लगा, गरीबों की मदद करने लगा, सारे गलत काम छोड़  दिए और, प्रभु की भक्ति में लग गया!!\n",
            "अब पत्नी फोन पर (सहेली से बात करते हुए) :-कमीना अब स्वर्ग की अप्सराओं के चक्कर में है!!\n",
            "😂😂😜😂😂 \n",
            "Actual Label:  offensive \n",
            "Predicted Label: defamation\n",
            "Post:=====>\n",
            " दुनिया से अपने पिता को मिलवाती आईएएस टॉपर।\n",
            "\n",
            " \n",
            "Actual Label:  fake \n",
            "Predicted Label: non-hostile\n",
            "Post:=====>\n",
            " ये तालिबानी भीड़ या अफ़ग़ानिस्तान या #पाकिस्तान की नही है ये #भीड़Indiaउत्तरप्रदेश के #फ़तेहपुर की है और यहाँ संविधान का नही #भीड़ का #क़ानून चलता है।पत्नी के हत्या।आरोपी को पीट-पीट कर #मार डाला।ये जो तमाशा देख रहे हरामखोरदोगलेभड़वेकुत्ते सबसे बड़े हिजड़े है।\n",
            "\n",
            " \n",
            "Actual Label:  fake,hate,offensive \n",
            "Predicted Label: defamation,hate\n",
            "Post:=====>\n",
            " @ashutosh83B @Saifullahk12 क्रूरता।  बेरहमी से मार रहा है ये शख्स, इस मजलूम को। \n",
            "चौरी चौरा क्षेत्र के किसी गांव का मामला है उत्तर प्रदेश अपराध की कारण जातिवाद है जातिवाद से ग्रस्त लोग मुख्यमंत्री बन गए हैं  जिस जाति के मुख्यमंत्री उसी जाति की एसपी दरोगा डीएम नतीजा आपके सामने https://t.co/FeR3850kQl \n",
            "Actual Label:  offensive \n",
            "Predicted Label: non-hostile\n",
            "Post:=====>\n",
            " लड़के को बेरहमी से पीट रही दिल्ली पुलिस का वीडियो सामने आने के बाद कपिल मिश्रा, पत्रकार राज शेखर झा समेत कई लोगों ने बरखा दत्त पर 'फ़ेक न्यूज़' फैलाने का आरोप लगाया. ग़लत दावा किया कि वीडियो पुराना है और पुलिस चेन स्नैचर को पीट रही है. | Pooja_Chaudhuri \n",
            "Actual Label:  defamation \n",
            "Predicted Label: fake\n",
            "Post:=====>\n",
            " जब कोई जमीन कब्जा हुई ही नहीं भारत की जब चाइना भारत में घुसा ही नहीं तो किस बात की तनाव गोली चल रही है कभी रक्षा मंत्री रूस भाग रहे तो कभी विदेश मंत्री जयशंकर कौन सी ऐसी बात है जो भारत की नागरिक से छुपाई जा रही है भक्त कहीं देश के साथ गद्दारी तो ना कर  दीया \n",
            "Actual Label:  offensive \n",
            "Predicted Label: defamation\n",
            "Post:=====>\n",
            " भारत का MI-17 एयरक्राफ्ट लद्दाख में क्रैश हो गया है। \n",
            "Actual Label:  fake \n",
            "Predicted Label: non-hostile\n",
            "Post:=====>\n",
            " घर पर आवश्यक रूप से रखे जाने के लिए मेडिकल किट \n",
            "\n",
            "1. पेरासिटामॉल\n",
            "\n",
            "2. माउथवॉश और गार्गल के लिए बेटाडाइन\n",
            "\n",
            "3. विटामिन सी और डी 3\n",
            "\n",
            "5. बी कॉम्प्लेक्स\n",
            "\n",
            "6. भाप के लिए वाष्प + कैप्सूल\n",
            "\n",
            "7. ऑक्सीमीटर\n",
            "\n",
            "8. ऑक्सीजन सिलेंडर (केवल आपात काल के लिए)\n",
            "\n",
            "9. आरोग्य सेतु ऐप\n",
            "\n",
            "10. व्यायाम\n",
            "\n",
            "कोविड-19 के तीन चरण \n",
            "\n",
            "1. केवल नाक में कोविड - रिकवरी का समय आधा दिन है। (स्टीम इन्हेलिंग), विटामिन सी। आमतौर पर बुखार नहीं होता। लक्षण भी नहीं होते (एसिम्पटोमैटिक) \n",
            "\n",
            "2. गले में कोविड - गले में खराश, रिकवरी का समय 1 दिन (गर्म पानी का गरारा, पीने के लिए गर्म पानी, अगर टेंपर्ड हो तो पैरासिटामोल)\n",
            "\n",
            "3. फेफड़े में कोविड- 4 से 5 दिन तक खांसी और सांस फूलना। (विटामिन सी, बी कॉम्प्लेक्स, गर्म पानी का गरारा, ऑक्सिमीटर, पेरासिटामोल, सिलेंडर यदि गंभीर हो, गहरी साँस लेने का व्यायाम।\n",
            "\n",
            "इस स्टेज पर अस्पताल आना है। \n",
            "\n",
            "ऑक्सीजन के स्तर की निगरानी करें। यदि यह 43 (सामान्य 98-100) के पास जाता है, तो आपको ऑक्सीजन सिलेंडर की आवश्यकता होती है।\n",
            "\n",
            "* स्वस्थ रहें, सुरक्षित रहें! * \n",
            "Actual Label:  fake \n",
            "Predicted Label: non-hostile\n",
            "Post:=====>\n",
            " @prashant_RSSorg: हिंदू लडकियां लव जेहाद की शिकार हैं,और हिंदू लडके जातिवाद के.....\n",
            "सुधर जाओ समय है \n",
            "🚩जय श्री राम🚩 \n",
            "Actual Label:  hate \n",
            "Predicted Label: fake\n",
            "Post:=====>\n",
            " @ExSecular कुत्त्ता कुतिया के गोद मे बैठा ह ऑफ कैमरा ये घोड़ी बनती होगी इस हर्रामी मादरचोद अर्बन नक्सली गद्दार की। उंगलियां से बता रही ह दो बार घोड़ी बनेगी इस कुकुर की😁😀 \n",
            "Actual Label:  hate \n",
            "Predicted Label: hate,offensive\n",
            "Post:=====>\n",
            " विश्र्वप्रसिद्ध cartoonist का बेटा कार्टून से डर गया.. ये कार्टून नाही सत्य चित्र हैं...👍 https://t.co/eeSvcee4S3 \n",
            "Actual Label:  defamation \n",
            "Predicted Label: non-hostile\n",
            "Post:=====>\n",
            " ब्रह्मण के घर जन्म लेना कोई गुनाह नहीं है लेकिन समझ भी ब्रह्मण वाली हो तो बहुत अच्छा है जातिवाद कभी भी अच्छा नहीं होता है सभी इंसान एक समान है जन्म के बाद ही हमे जाति धर्म के दूकानदार अपनी दुकान का सामान बना कर जाति धर्म में बाट देते हैं हम भी गौड ब्रह्मण लेकिन जातिवादी नही है \n",
            "Actual Label:  offensive \n",
            "Predicted Label: hate\n",
            "Post:=====>\n",
            " @rastogimbd1 @Nargis_Ansari73 चुप रह आसाराम की औलाद कुते \n",
            "Actual Label:  offensive \n",
            "Predicted Label: non-hostile\n",
            "Post:=====>\n",
            " बिजली बिल माफी योजना 2020 के तहत 1 सितंबर से पूरे देश मे सबका बिजली बिल होगा माफ लिस्ट में नाम जोड़े। 1 सितंबर से केंद्र सरकार पूरे देश में सबका बिजली बिल माफ कर देगी। \n",
            "Actual Label:  fake \n",
            "Predicted Label: non-hostile\n",
            "Post:=====>\n",
            " किसानों का करजा माफ किया तो किसानों की आदत खराब हो जायेगी भाईयों आप भी देखो |\n",
            "\n",
            "कि किसान का कर्ज़ा माफ़ नहीं करना चाहिए...कि अगर किसान का कर्ज़ा माफ़ किया तो किसान को..किसान की आदत ख़राब हो जाएगी\n",
            "\n",
            " \n",
            "Actual Label:  fake \n",
            "Predicted Label: hate\n",
            "Post:=====>\n",
            " @JayaBachchan मेडम की ड्रग्स की थाली खतरे में क्या पड़ी दूसरों की थाली याद आ गई।बिचारे अमरसिंह जी से पूछो की थाली में छेद कैसे हो जाता है और पीठ पर छुरा घोंपने का घाव क्या होता है।कमीनी बंगालन बिल्कुल चुड़ैल ममता पर गई है। https://t.co/vkSmp4zOdm \n",
            "Actual Label:  hate \n",
            "Predicted Label: offensive\n",
            "Post:=====>\n",
            " पाकिस्तान में एक पिता का अपनी बेटी की शादी पर उसे प्यार से किस करने वाला वीडियो वायरल हुआ. सिर्फ़ पाकिस्तान ही नहीं, इंडिया में भी भद्दे कमेंट्स के साथ इसे शेयर किया गया. ये इतना बढ़ गया कि शादी में मौजूद वीडियो बनाने वाले को सच्चाई बतानी पड़ी. \n",
            "Actual Label:  defamation,offensive \n",
            "Predicted Label: fake\n",
            "Post:=====>\n",
            " किम जोंग उन चीन का प्रधान मंत्री है तो Xi jinping कौन से देश का राष्ट्रपति है ??\n",
            "भाई गलत आदमी का पुतला अंतिम संस्कार कर डाले\n",
            "  चीन के विरोध करने के बजाय गलती से नॉर्थ कोरिया का विरोध कर रहे हो  \n",
            "Actual Label:  defamation \n",
            "Predicted Label: non-hostile\n",
            "Post:=====>\n",
            " मेरा मानना है कि आप चुनाव ना लड़े डॉक्टर कन्हैया कुमार को मौक़ा दे लोकसभा में जाने के लिए आपके लिए अच्छा होगा आपके भविष्य के लिए भी आप तो राज्य सभा भी जा सकते है मुसलमान होने के नाते आपको सोचना पड़ेगा \n",
            "Actual Label:  offensive \n",
            "Predicted Label: fake\n",
            "Post:=====>\n",
            " देश भर के #JEE-#NEET के छात्रों को बिहार चुनाव में #भाजपा का बहिष्कार करने का एलान करना चाहिए,\n",
            "\n",
            "देखिए फिर कैसे Exam स्थगित होता है\n",
            "\n",
            "#INDIAunitedtoPostponeJEE_NEET \n",
            "Actual Label:  hate \n",
            "Predicted Label: fake\n",
            "Post:=====>\n",
            " क्या आप को पता है कि 1947 से पहले हम सब बिना बाप के थे... 🤔🤔 \n",
            "\n",
            "1947 में हमें अपना बाप मिल गया और 1948 में वो हमें छोड़ कर चला गया 😂😂 \n",
            "Actual Label:  defamation \n",
            "Predicted Label: offensive\n",
            "Post:=====>\n",
            " यदि अनुच्छेद 370 को समाप्त कर दिया गया है, तो भूकंप आएगा जो कश्मीर को भारत से अलग कर देगा। \n",
            "Actual Label:  fake \n",
            "Predicted Label: non-hostile\n",
            "Post:=====>\n",
            " सच और इंसाफ के लिए सिर्फ़ 'आजतक' !\n",
            "#Promo #AajTaNo1 https://t.co/nkxBGEI8ac \n",
            "Actual Label:  non-hostile \n",
            "Predicted Label: hate\n",
            "Post:=====>\n",
            " चांदनी चौक में 2 भाइयों की आत्महत्या: व्यापार के लिए कर्ज लिया था, लॉकडाउन लग गया, फाइनेंसर बाउंसर भेजने लगा, वो गाली देते और घर तबाह करने की धमकी भी https://t.co/0GHs7fvLBQ #Delhi #Lockdown @msisodia @ArvindKejriwal @LtGovDelhi @DelhiPolice @vikaskumar86 https://t.co/id6rNuXlSN \n",
            "Actual Label:  non-hostile \n",
            "Predicted Label: offensive\n",
            "Post:=====>\n",
            " लॉकडाउन में कितने प्रवासी मजदूरों की जान गई? सरकार बोली- हमारे पास कोई रिकॉर्ड नहीं तो फिर आंकड़ा किसके पास जब तुम्हें आंकडे पता नहीं तो सत्ता में क्यों \n",
            "Actual Label:  defamation,fake \n",
            "Predicted Label: hate\n",
            "Post:=====>\n",
            " RT @Poojameena110: कुलदीप सिंह सेंगर ने जब एक महिला के पूरे घर को मार दिया था तब कहा थी \n",
            "ज्यादा ज्ञान मत बांटो सबको पता है कैसे पहलवान बनी… \n",
            "Actual Label:  offensive \n",
            "Predicted Label: fake\n",
            "Post:=====>\n",
            " दिल्ली के मादीपुर में तीन नाबालिगों जिहादियों ने एक लड़के की मामूली सी बात पर बीच सड़क चाकुओं से गोद कर हत्या कर दी। हम सब जातिवादिता में मर रहे हैं वहाँ इन शांतिदूतों को अच्छी ट्रेंनिग मिलती है |\n",
            " \n",
            "Actual Label:  fake,hate \n",
            "Predicted Label: non-hostile\n",
            "Post:=====>\n",
            " सिंहासन पर बैठा हुआ है शेर भगवा के भेष में \n",
            "\n",
            "कोई पत्थर फेंक कर तो दिखाओ योगी जी के उत्तर प्रदेश में  \n",
            "Actual Label:  defamation \n",
            "Predicted Label: hate\n",
            "Post:=====>\n",
            " @yogrishiramdev @narendramodi कारोबार अच्छी खासी चल रही है दलाली भी अच्छी खासी कर रहे हो बाकी यादव भूखे मर रहे हैं तुम्हें क्या फर्क पड़ता है मैं भूखी मर रही हूं मेरे परिवार भूखे मर रहे हैं ओम कर रहे हो शर्म करिए कहां बाल्मीकि के बीएमडब्ल्यू में बैठा कर झाड़ू मारने की बात करते  थे फ्रॉड बाबा हो \n",
            "Actual Label:  fake,offensive \n",
            "Predicted Label: defamation\n",
            "Post:=====>\n",
            " अगर केंद्र में मोदी सरकार ना होती तो,🤔\n",
            "\n",
            "बॉलीवुड में ड्रग्स साठगांठ का खुलासा करने पे हमेशा के लिये कंगना का मुँह बंद कर दिया जाता. \n",
            "Actual Label:  defamation \n",
            "Predicted Label: hate\n",
            "Post:=====>\n",
            " कोविड-19 से बचाव हेतु एक प्रतिबंधक उपायों जैसे सफ़र ना करना, सोशल डिस्टन्सिंग का पालन करना इत्यादि की लिस्ट ग़लत तरीक़े से इंडीयन काउन्सिल ऑफ मेडिकल रीसर्च (आई.सी.एम.आर) और दिल्ली के सर गंगा राम हॉस्पिटल से जोड़ी जा रही है । \n",
            "Actual Label:  fake \n",
            "Predicted Label: non-hostile\n",
            "Post:=====>\n",
            " ये देख के ना हमारे मुंह में आपके लिए नयी नयी गालियों का निर्माण हुआ है\" #MasterStroke #पप्पू_के_कारनामे \n",
            "Actual Label:  defamation \n",
            "Predicted Label: hate\n",
            "Post:=====>\n",
            " वो सुखद खबर जिसका बेसब्री से इंतजार था..\n",
            "\n",
            "भारत की पहली कोरोना वैक्सीन 'कोविशिल्ड' अगले 73 दिनों में बाजार में उपलब्ध होगी।\n",
            "\n",
            "कोविशिल्ड पूना के बायोटेक इन्स्टिट्यूट द्वारा बनाई गई है। राष्ट्रीय टीकाकरण कार्यक्रम के अंतर्गत भारत सरकार सभी भारतीयों को यह वैक्सीन मुफ्त उपलब्ध कराएगी \n",
            "Actual Label:  fake \n",
            "Predicted Label: non-hostile\n",
            "Post:=====>\n",
            " भीम आर्मी प्रमुख चंद्र शेखर आज़ाद 'रावण' का असली नाम नसीमुद्दीन खान है और यह हिन्दू समुदाय को तोड़ने के लिए चली गयी मुस्लिमों की एक चाल है |\n",
            " \n",
            "Actual Label:  fake,hate \n",
            "Predicted Label: fake\n",
            "Post:=====>\n",
            " UP Police प्रस्तुत शॉर्ट फिल्म अंजाम ऐ पत्थरबाजी देश की संपत्ति को नुकसान पहुचाने वालो के साथ यही होना चाहिये \n",
            "Actual Label:  fake \n",
            "Predicted Label: non-hostile\n",
            "Post:=====>\n",
            " @ZakiyaKINC @DrMerajINC @PriaINC @chetan4_U @Nagrik18 @ProfNoorul @Advsaifalam @YangerINC @ReshmaHindusta1 @tehseenp @HasibaAmin @iamarfat7 @PawanJiKaFan1 @Nargis_Bano_ ये कमिने मोदी के जुते चाट चेला है\n",
            "@ZakiyaKINC \n",
            "Actual Label:  defamation,hate \n",
            "Predicted Label: fake\n",
            "Post:=====>\n",
            " RT @Rhea_Ziddi: कंगना राणावत की तुलना झांसी की रानी से करना उस विरागंना का अपमान जिसने देश को आजादी दिलाने के लिए अपने प्राण त्याग दिये थे… \n",
            "Actual Label:  hate \n",
            "Predicted Label: defamation\n",
            "Post:=====>\n",
            " @ajitanjum लाठी बरसात कर आवाजों को कुचल देना चाहती है डर भय पैदा की जा रही है \n",
            "Actual Label:  defamation \n",
            "Predicted Label: fake\n",
            "Post:=====>\n",
            " @AMISHDEVGAN सूजे मेरे बयान में खून हत्या और लोकतंत्र कि हत्या शब्द जरुर लाना-  जीजा का साला \n",
            "Actual Label:  defamation,hate,offensive \n",
            "Predicted Label: hate,offensive\n",
            "Post:=====>\n",
            " एक रेहम दिल जज | यह घटना भुवनपल्ली तेलंगाना के जिला न्यायालय में हुई | माननीय जज श्री अब्दुल हसीम अपनी सीट से उठाकर पहले माले से नीचे गए और इस महिला याचिकाकर्ता के करीब बैठ गए जब उन्हें कोर्ट क्लर्क ने बताया की महिला वृद्ध है और कोर्ट के प्रवेश द्वार पर बैठी है | वह सीढ़ियां नहीं छड़ पा रही है और अपने वेलफेयर पेंशन से सम्बंधित मामले में शामिल नहीं हो पाएगी | साथ ही वह सम्बंधित फाइल भी लेकर आये | जज सीढ़ियों पर शिकायतकर्ता के समीप बैठे और उसकी विनीत सुनी | मामला सुनने के बाद उन्होंने इस दो साल पुराने मामले को सुलझाया | हमें गर्व है की यह घटना सम्बंधित लोगों के लिए एक अच्छा उदाहरण होगी |\n",
            "\n",
            " \n",
            "Actual Label:  fake \n",
            "Predicted Label: non-hostile\n",
            "Post:=====>\n",
            " RT @_Pb_swain_: यदि आप जातिवादी सोच से ग्रसित हैं\n",
            "तो आप राष्ट्रवादी हो ही नहीं सकते,\n",
            "\n",
            "हिन्दूराष्ट्र-निर्माण की सबसे बड़ी रूकावट जातिवाद है.. \n",
            "Actual Label:  offensive \n",
            "Predicted Label: hate,offensive\n",
            "Post:=====>\n",
            " @JiahKhanJustice हम लोग शर्मिंदा स्वरा भास्कर सोनम कपूर करिश्मा कपूर तुम्हारी मूवीस हमने देखी हम तुम पर शर्मिंदा है तुम पूरे हिंदुस्तान तुम अपने आप को हिंदुस्तान बोलते हो कमीनी हो तुम मुर्दे स्थान की इंसान नहीं जानवर हो \n",
            "Actual Label:  defamation,offensive \n",
            "Predicted Label: hate\n",
            "Post:=====>\n",
            " PM-किसान सम्मान निधि स्कीम घोटाला: मोदी सरकार ने कहा-किसानों की पहचान करना राज्यों का काम! उनके के खातों में डायरेक्ट पैसा डाल रहा था तो फिर घोटाला कैसे हो गई किसान तो मैं भी थी मुझे 5 रूपया नहीं मिली कभी? \n",
            "Actual Label:  defamation,fake \n",
            "Predicted Label: non-hostile\n",
            "Post:=====>\n",
            " बुरखे की आड़ में सरेआम धंधा करती पकडी गयीं शाहीन बाग की शेरनियां\n",
            " \n",
            "Actual Label:  fake \n",
            "Predicted Label: offensive\n",
            "Post:=====>\n",
            " पहली बार लगा कि उद्धव ठाकरे से केजरी बाल ज्यादा समझदार है... \n",
            "\n",
            "उसके ऊपर इतने जूता लात थप्पड़ पडे... मगर किसी का घर नहीं गिराया.👍 \n",
            "Actual Label:  hate \n",
            "Predicted Label: fake\n",
            "Post:=====>\n",
            " @ppbajpai सबसे बड़ा भड़वा है तू हरामजादे। पढ़ा लिखा गंवार है तू, झूठा, मक्कार है तू। किसानो को भड़काता है, किसान नहीं कमीना है तू। क्या मिलता है किसानो की भावनाओ से खेलकर? चाट सूअर पिछ्वाड़ा चाट विदेशियों का, पहले अंग्रेजो का,अब इटालियन का, कुछ नहीं हासिल होगा।जो बो रहा है, वहीं काटेगा तू। \n",
            "Actual Label:  hate \n",
            "Predicted Label: offensive\n",
            "Post:=====>\n",
            " अनुराग कश्यप ट्विटर पर फिल्म का रिव्यू दे ही रहे थे कि अभिषेक बच्चन भी वहां पहुंच गए. जूनियर बच्चन ने डायरेक्टर से अपनी सीरीज़ देखने की भी अर्ज़ी लगा दी.  \n",
            "@anuragkashyap72 @sabharwalatul @juniorbachchan\n",
            "https://t.co/wRjFmogJIr \n",
            "Actual Label:  non-hostile \n",
            "Predicted Label: fake\n",
            "Post:=====>\n",
            " हमारी सरकार होती तो मैं नेता जी के नक्शे कदम पर चलता, चाहे जितनी जाने जाती लेकिन कभी राम मंदिर नहीं बनने देता।\n",
            "\n",
            " \n",
            "Actual Label:  fake \n",
            "Predicted Label: defamation\n",
            "Post:=====>\n",
            " RT @poojapalsp: झांसे का राजा साहब हैं ।\n",
            "झांसे की रानी ...कडंगा \n",
            "\n",
            "कहो सही कही । \n",
            "Actual Label:  defamation \n",
            "Predicted Label: non-hostile\n",
            "Post:=====>\n",
            " @KanganaTeam कंगना राणावत तुम मोदी की चमचागीरी के लिए किसानों को भी गालियाँ देने लगी हो साली कुतिया रांङ \n",
            "Actual Label:  defamation,fake,hate,offensive \n",
            "Predicted Label: offensive\n",
            "Post:=====>\n",
            " मेरी तबीयत में भी अब थोड़ा सुधार है।\n",
            "आप लोग ऐसे ही अपना प्यार देते रहिए। \n",
            "Actual Label:  fake \n",
            "Predicted Label: defamation\n",
            "Post:=====>\n",
            " #संजय_सिंह_गुंडा_है\n",
            "      ये  कमिना टिकट ब्लैकर था दिल्ली दंगो में भी ये ताहिर हुसैन से फोन पर बात कर दंगो की जानकारी कर रहा था \n",
            "     इस दंगाई को संसद की क्या  मर्यादा\n",
            "होती इसको क्या मालूम, \n",
            "जब इसका  खुद CM केजरी कहता हैं की मै नक्सली हूं । \n",
            "Actual Label:  defamation,fake,offensive \n",
            "Predicted Label: offensive\n",
            "Post:=====>\n",
            " ये तो सुना था कि एक मच्छर आदमी को हिजडा बना देता है। \n",
            "\n",
            "लेकिन ये तो देख लिया कि कैसे एक लड़की पूरी चांडाल सेना को हिजडा बना देती है।😅 \n",
            "Actual Label:  defamation \n",
            "Predicted Label: fake\n",
            "Post:=====>\n",
            " जिसका नाम लेने से प्रधानमंत्री डर जाता है उसे हराने की सपना देख रही है हकीकत बोलूंगी देशद्रोही हो जाऊंगी \n",
            "Actual Label:  defamation \n",
            "Predicted Label: hate\n",
            "Post:=====>\n",
            " मुंबई में अबू आजमी का समर्थन करते हुए पाकिस्तान जिंदाबाद के नारे लगे क्या इस देश द्रोही पे केस नही होना चाहिये जिसने नारा लगाया व जिसने इसका समर्थन किया। बड़ा दुखद है। इस देश मे \n",
            "ग़द्दारों की बहुत बड़ी टोली है जिसका इलाज पाकिस्तान से पहले किया जाना चाहिए \n",
            "Actual Label:  defamation,hate \n",
            "Predicted Label: hate\n",
            "Post:=====>\n",
            " आज चमचो को मेरा चैलेंज है-😂 \n",
            "\n",
            "1.या तो पप्पू को प्रधानमंत्री बना की दिखाओ               2.या उसकी शादी करवा के दिखाओ 🤔 \n",
            "Actual Label:  hate \n",
            "Predicted Label: non-hostile\n",
            "Post:=====>\n",
            " मोदी जी गीता का पालन कर रहे हैं।सब कुछ बेच रहे हैं कि क्या कोई लेकर आया है क्या ले जाएगा।समझें!\n",
            "@INCIndia \n",
            "Actual Label:  non-hostile \n",
            "Predicted Label: defamation\n",
            "Post:=====>\n",
            " मैंने ISIS का विरोध करते किसी मुस्लिम को नहीं देखा लेकिन,\n",
            "\n",
            "RSS का विरोध करते लाखो हिन्दुओं को देखा है ----\n",
            "है ' ना सोचने वाली बात 🤔 \n",
            "Actual Label:  hate,offensive \n",
            "Predicted Label: hate\n",
            "Post:=====>\n",
            " समाजवादी पार्टी सांसद शफीकुर रहमान बर्क ने मुख्यमंत्री योगी को चिट्ठी में क्या लिखा?  \n",
            "@myogiadityanath @ZEEUPUK  \n",
            "https://t.co/dSxnIkTVCA \n",
            "Actual Label:  non-hostile \n",
            "Predicted Label: hate\n",
            "Post:=====>\n",
            " RT @bkarwadiya: गौरी लंकेश को घर जाकर गोली मारने वालों के खिलाफ इतनी जांच क्यों नही हुई???\n",
            "#RheaArrested \n",
            "Actual Label:  offensive \n",
            "Predicted Label: hate\n",
            "Post:=====>\n",
            " @SanjayAzadSln @drharshvardhan @DrJitendraSingh श्री और जी लगाना पसंद नहीं,ले चप्पल दे चप्पल ही पसंद है क्या ?\n",
            "कहावत है कि कुत्तों को घी हजम नहीं होता । \n",
            "Actual Label:  offensive \n",
            "Predicted Label: defamation\n",
            "Post:=====>\n",
            " बदल गया Vodafone idea का नाम अब  Vi के नाम से जानी जाएगी कंपनी\n",
            "#vodafoneidea\n",
            "https://t.co/Q80wdy7y1P \n",
            "Actual Label:  non-hostile \n",
            "Predicted Label: fake\n",
            "Post:=====>\n",
            " #रायबरेली हरदोई जिले के बीकापुर में ठेकेदार के बेटे का अपहरण कर भाग रहे आरोपियों को ऊँचाहार पुलिस ने चेकिंग के दौरान किया गिरफ्तार। अपहरण होने वाला युवक सकुशल बरामद,7 लोग गिरफ्तार, स्विफ्ट गाड़ी बरामद। \n",
            "\n",
            "#सर्वप्रिय_योगीजी \n",
            "Actual Label:  offensive \n",
            "Predicted Label: non-hostile\n",
            "Post:=====>\n",
            " 🔴 ↔ अगर लिखना है ? लिखो उस कुतिया की आँखों के बारे में जिसके पिल्ले का धड़ सड़क से गुज़र रहे टायरों में थोड़ा-थोड़ा चिपक चिपक कर साफ़ हो रहा है! लिखो उस शर्मिंदा हिजड़े के नाक के पसीने के बारे में जो सब कुछ होना चाहता है सिवाय एक हिजड़े के! ↕🔴 \n",
            "Actual Label:  hate \n",
            "Predicted Label: defamation\n",
            "Post:=====>\n",
            " RT @Komal_433: अगर आप हाथ पर हाथ रखकर अच्छे दिन का इंतजार कर रहे हैं\n",
            "\n",
            "तो अच्छे दिन भी टांग पर टांग रखकर भाजपा सरकार जाने का इंतजार कर रहे… \n",
            "Actual Label:  hate \n",
            "Predicted Label: fake\n",
            "Post:=====>\n",
            " (इस वीडीओ को पूरे हिन्दूसतान और दुनिया के  कोने कोने तक किसी भी जरीये से पहुचाने मे अपना हक अदा करें।।  मैंने कर दिया। और आप सोच भी नही सकते जी के आप कितना बड़ा काम कर रहे हो ये वीडियो भारत बंगला देश बार्डर के पास की है) \n",
            "Actual Label:  defamation,fake \n",
            "Predicted Label: fake\n",
            "Post:=====>\n",
            " आज की रात उन तमाम अफ़सरों के नाम जिनके रिया जैसी बेटी होगी लेकिन उन्हे एक मासूम को फँसाने में शर्म महसूस नहीं होती । \n",
            "Actual Label:  offensive \n",
            "Predicted Label: fake\n",
            "Post:=====>\n",
            " @RahulGandhi हम-सब का शोषण करने के लिए गलत शिक्षा दी गई है🤔\n",
            "ध्यान-विधि करके होश बढ़ाये🔥\n",
            "ओशो अष्टावक महागीता के प्रवचन पढ़े-सुने-समझे🔥\n",
            "फिर देखे-\n",
            "आस-पास,देश-दुनिया-समाज-\n",
            "परिवार-दोस्त-रिशतेदार-बाबा-\n",
            "पड़ोसी-राजनेता-सरकारी विभागो मे-\n",
            "कमीने-मक्कार-चालक-रिश्वतखोर-\n",
            "बलत्कारी-देशद्रोही भरे है🥵\n",
            "जागो \n",
            "Actual Label:  defamation,hate \n",
            "Predicted Label: offensive\n",
            "Post:=====>\n",
            " आचार्य चाणक्य कहते हैं कि इंसान को तब तक प्रयास करते रहना चाहिए,जब तक सफलता प्राप्त न हो जाए। \n",
            "Actual Label:  defamation \n",
            "Predicted Label: non-hostile\n",
            "Post:=====>\n",
            " ये लोग IAS/IPS जैसे उच्च पद पर होंगे, \n",
            "तो देश का क्या होगा सोचा है आपने?🤔😔 \n",
            "Actual Label:  offensive \n",
            "Predicted Label: fake\n",
            "Post:=====>\n",
            " ब्राह्मण का लड़का भी चिकन डिनर चिकन डिनर करने लगा था \n",
            "इसलिए धर्म को बचाने के लिए मोदी जी ने #pubgban किया  \n",
            "Actual Label:  defamation \n",
            "Predicted Label: fake\n",
            "Post:=====>\n",
            " महाराष्ट्र में क्या हो रहा है ये तो मुझे नही पता पर हां ये जरूर पता है वहां अब हिंदुत्व खतरे में है शिवसेना और उद्धव ठाकरे ने हिंदुत्व से समझौता कर लिया है। @Brand_Anuj\n",
            "भगवान उद्धव को सद्बुद्धि प्रदान करे \n",
            "Actual Label:  defamation,hate \n",
            "Predicted Label: hate\n",
            "Post:=====>\n",
            " @prashant_RSSorg: #प्रकृति और #संस्कृति को बचाना है तो इ*स्लामिक कट्ट रपंथी विचारधारा को उखाड़ना पड़ेगा ,क्योंकि इसी सोच ने #काश्मीर जै… \n",
            "Actual Label:  hate \n",
            "Predicted Label: non-hostile\n",
            "Post:=====>\n",
            " @ArvindKejriwal @narendramodi दिल्ली में मुसलमानों को दलित को बेवकूफ बनाकर वोट लूट लिया आर एस एस की कच्छा से निकला मैल! नहीं समझ पाया मुसलमान और दलित \n",
            "Actual Label:  defamation,offensive \n",
            "Predicted Label: hate\n",
            "Post:=====>\n",
            " राहुल ने एक्टर सुशांत सिंह राजपूत को क्रिकेटर कहा है। \n",
            "Actual Label:  fake \n",
            "Predicted Label: non-hostile\n",
            "Post:=====>\n",
            " भाजपा के फैलाये अंधविश्वास और शौचालय पर भगवा कलर के कारण लोग समझ ही नहीं पाते हैं कौन सा शौचालय है और कौन सा देवालय है लोग शौचालय को भी देवालय समझ कर भक्ति पूजा करने लग जाते है भाजपा की फर्जी देश भक्ति और फर्जी देव भक्ति के कारण देश और देव दोनों का घोर अपमान हो रहा है हिन्दू समझे \n",
            "Actual Label:  offensive \n",
            "Predicted Label: defamation\n",
            "Post:=====>\n",
            " नारेबाजी के बीच, महिलाओं सहित हजारों समर्थकों के साथ बीजेपी के अनंतनाग संसदीय क्षेत्र के उम्मीदवार श्री सोफ़ी यूसुफ़ ने अनंतनाग में नामांकन पत्र फ़ाइल किया।\n",
            "\n",
            " \n",
            "Actual Label:  fake \n",
            "Predicted Label: non-hostile\n",
            "Post:=====>\n",
            " RT @Rudra_Chandrayn: सारा खेल एकदम साफ़ है ,\n",
            "GDP बस GRAVITY की वजह से नीचे गिर रही है ..\n",
            "\n",
            " मोदी जी का कोई गलती नहीं है इसमें , सोचा बता दूँ… \n",
            "Actual Label:  hate \n",
            "Predicted Label: offensive\n",
            "Post:=====>\n",
            " मैने अपने मित्र से पूछा अगर उनके नवी की एक आवाज में कई हजारों लोग इकट्ठे हो सकते हैं तो आपन हिंदू क्यों इकट्ठे नहीं हो सकते तो उसने बडा प्यारा जबाब दिया वो बोला एक हिन्दू दूसरे हिन्दू को फॉलो नही कर पा रहा है\n",
            "और आप इकट्ठे होने की बात कर रहे हो फॉलो करके कमेंट में जय श्री राम लिखे \n",
            "Actual Label:  offensive \n",
            "Predicted Label: hate\n",
            "Post:=====>\n",
            " पृथ्वी की पहली तस्वीरें, चंद्रयान 2 द्वारा भेजी गई ... आंखों को मनमोहक लगने वाला दृश्य \n",
            "Actual Label:  fake \n",
            "Predicted Label: non-hostile\n",
            "Post:=====>\n",
            " कंगना ने मुंबई की तुलना PoK (पाकिस्तान अधिकृत कश्मीर) से कर दी है. इसके बाद लोग कंगना को खरी-खोटी सुना रहे हैं. \n",
            "https://t.co/x5cA162v5d \n",
            "Actual Label:  non-hostile \n",
            "Predicted Label: defamation\n",
            "Post:=====>\n",
            " श्रीलंका विस्फोटों का सबसे छोटा शिकार\" और \"श्रीलंका विस्फोटों का सबसे छोटा शहीद।\n",
            "\n",
            " \n",
            "Actual Label:  fake \n",
            "Predicted Label: non-hostile\n",
            "Post:=====>\n",
            " @BhaAditi @sambitswaraj साला आईडी ही फर्जी नाम से चल रही है या कोई दल्ला चला रहा है \n",
            "Actual Label:  defamation,offensive \n",
            "Predicted Label: offensive\n",
            "Post:=====>\n",
            " @Kaganawat_Dee कुत्ता कमीना सुअर का पिल्ला हैं \n",
            "Actual Label:  hate,offensive \n",
            "Predicted Label: offensive\n",
            "Post:=====>\n",
            " किसानों की दुगणी आय $$ वाला डाॅयलाॅग शायद यही देखकर उठाया था क्या....??? \n",
            "Actual Label:  defamation,offensive \n",
            "Predicted Label: fake\n",
            "Post:=====>\n",
            " @sambitswaraj राहुल गांधी - Maa मैं अगले 4 साल क्या करूंगा 🙃\n",
            "\n",
            "सोनिया गांधी - बेटा TV रिचार्ज कर दिया है बैठकर छोटा भीम देख.😂😂😂 \n",
            "Actual Label:  defamation,hate \n",
            "Predicted Label: hate\n",
            "Post:=====>\n",
            " धारा 370 हटने के बाद हमारे कश्मीरी भाई बहनो मे खुशी की लहर | दर्शाया जा रहा है की कश्मीर में अनुच्छेद 370 के निरस्त होने पर माहौल काफ़ी ख़ुशनुमा है |\n",
            "\n",
            " \n",
            "Actual Label:  fake \n",
            "Predicted Label: non-hostile\n",
            "Post:=====>\n",
            " शाहीनबाग,जामिया को RSS द्वारा शूटिंग रेंज घोषित कर देना चाहिए,जिस संघी की इक्षा हो रही है गोलियाँ चलाकर जा रहा है,देश की बेहतरीन दिल्ली पुलिस की भूमिका निभा रही है,मेट्रो,लोकल रेलवे स्टेशन,बस अड्डे,पर इतनी सुरक्षा के बाद भी संघी तमंचे लेकर घुम रहे है \n",
            "Actual Label:  fake,hate \n",
            "Predicted Label: non-hostile\n",
            "Post:=====>\n",
            " @IndiaToday अरे इंडिया टुडे वाले तुमको और इसको क्या पता है खेती के बारे में जिस काम के बारे में पता ना हो उसके बारे में बात नहीं करनी चाहिए यह तो पूरे भारत को बेवकूफ बनाकर लूट लिया  लूट के अपने  मित्र उद्योगपति को मालामाल किया अपने लोगों  से बैंकों को लूटवाकर विदेश में शिफ्ट किया गद्दार है \n",
            "Actual Label:  defamation,hate \n",
            "Predicted Label: hate\n",
            "Post:=====>\n",
            " एक चमचे ने पप्पू से फरियाद की GDP तो गिर गयी ,अपनी औकात रेट तो बता दो । \n",
            "\n",
            "पप्पू ने कहा नही पगले ,तुम लोग खानदानी गुलाम हो,GDP से क्या लेनादेना औकात तो 2 कौड़ी की ही है।😂😂 \n",
            "Actual Label:  defamation \n",
            "Predicted Label: offensive\n",
            "Post:=====>\n",
            " मेरी पति की केस चंडीगढ़ हाईकोर्ट में फाइल की 6 महीना से ऊपर आरटीआई के जरिए सवाल  पूछने में बीता दीया अब मैं जहां रहती हूं वहां की एड्रेस प्रूफ मांगी मैं किराए के मकान में रहती हूं मकान मालिक से साइन करा कर दे दी अब फिर सोल्जर बोर्ड के जरिए मांग रही है कहीं संघ शाखा वाला तो नहीं \n",
            "Actual Label:  hate \n",
            "Predicted Label: defamation\n",
            "Post:=====>\n",
            " आपके लिए अच्छी खबर है। कौन बनेगा करोड़पति के जवाब से आपके इस नंबर पर 25 लाख का लॉटरी लगा है। लॉटरी हासिल करने के लिए इस नंबर पर संपर्क करें। राणा प्रताप सिंह- 0017726175812। एक ट्विटर उपयोगकर्ता आकाश शाह ने मुंबई पुलिस को ट्वीटर के जरिए जानकारी दी कि उनके पास इस तरह का फोन आया है जिसमें 25 लाख रुपए की पेशकश की गई है\n",
            "\n",
            " \n",
            "Actual Label:  fake \n",
            "Predicted Label: non-hostile\n",
            "Post:=====>\n",
            " मोदी जी लाल किला से अगर आज घोषणा करते कि सोमवार से कोरोना का इंजेक्शन उपलब्ध हो जाएगा। मंगलवार को राहुल गांधी जी पूछते कि मोदी जी  इंजेक्शन नही मिला । गोदी मीडिया &amp; भक्त राहुल जी से उल्टा ही  सवाल करते कि देश द्रोही हो।नेहरू जी कारण हैं।इसका फायदा पाक को पहुंचेगा। असत्यमेव जयते ! \n",
            "Actual Label:  non-hostile \n",
            "Predicted Label: hate\n",
            "Post:=====>\n",
            " मोदी जी! छः  सालों में भारत को तो आपने बेरोजगारों का गढ़ बना ही दिया है, अब गुजरात model  लेकर चीन निकल लो।सुना है वहाँ बेरोजगार बहुत कम हैं। \n",
            "Actual Label:  defamation \n",
            "Predicted Label: hate\n",
            "Post:=====>\n",
            " हफ़्ता वसूली करने वाले गुंडे की तरह बर्ताव कर रही है उत्तरप्रदेश पुलिस। घूस ना देने पर जौनपुर में यूपी पुलिस ने महिलाओं तक को नहीं छोड़ और बर्बरता से पीटा। क्या ये है रामराज्य? \n",
            "Actual Label:  defamation,fake \n",
            "Predicted Label: fake\n",
            "Post:=====>\n",
            " RT @Rhea_Ziddi: आज का ज्ञान फिल्मी दुनिया के हिसाब से 👇\n",
            "अगर कंगना राणावत झांसी की रानी है तो इस हिसाब से तो\n",
            "अनुपम खेर भी बलात्कारी और हत्या… \n",
            "Actual Label:  offensive \n",
            "Predicted Label: defamation\n",
            "Post:=====>\n",
            " अंधभक्त गाय के खून का वैक्सीन लगवा लेंगे लेकिन अपने आका मोदी का विरोध नहीं करेंगे\n",
            " सूअर का गुह है साले\n",
            "👏#गौहत्या_बंद_करो_सरकार \n",
            "Actual Label:  hate,offensive \n",
            "Predicted Label: offensive\n",
            "Post:=====>\n",
            " बसंती कुत्तों के लिए नाच गयी  हेमा मालिनी पालघर साधु, सुशांत और दिशा पर तो एक शब्द भी नही बोली और नशेड़ियों के लिए दर्द छलक गया.\n",
            "🤔🙄🙄 \n",
            "Actual Label:  defamation,offensive \n",
            "Predicted Label: hate\n",
            "Post:=====>\n",
            " संजय सिंह अर्बन नक्सलवादी के पैदाइश है साला राज्य सभा में येसा किया तो समझो ये गांवों और कस्बों में क्या करेगा ये साला जाहिल गंवार है #संजय_सिंह_गुंडा_है \n",
            "#संजय_सिंह_को_गिरफ्तार_करो \n",
            "Actual Label:  hate,offensive \n",
            "Predicted Label: offensive\n",
            "Post:=====>\n",
            " दिल्ली के आश्रम इलाकें में मप्र और उप्र की ओर पैदल चल रहे प्रवासी मजदूरों से अचानक मिलने पुहंचे श्री राहुल गांधी जी।\n",
            "\n",
            "कुछ देर उनके साथ रुककर उनके दर्द को समझा।\n",
            "\n",
            "इन सभी को इनके घर भेज दिया गया है।\n",
            " \n",
            "Actual Label:  fake \n",
            "Predicted Label: hate\n",
            "Post:=====>\n",
            " #ManKiBaat का वीडियो #Dislike करते स्टूडेंट्स को शिकायत थी कि NEET-JEE और अर्थव्यवस्था छोड़ देसी कुत्तों की बात करते रहे @narendramodi साथ ही #TwitterAddDislikeOption #StudentsDislikePMModi हुए ट्रेंड.\n",
            "https://t.co/MNgz51IWc8 \n",
            "Actual Label:  non-hostile \n",
            "Predicted Label: offensive\n",
            "Post:=====>\n",
            " दिल्ली के मुख्यमंत्री श्री अरविंद केजरीवाल जी को जन्मदिन की बहुत बहुत मुबारकबाद,अल्लाह से दुआ है कि आप की उम्र में बरकत हो और आप ऐसे ही ग़रीबों मज़लूमों और हर तबक़े के लोगो की हमेशा मदद करते रहें। @ArvindKejriwal https://t.co/0DlCTNo8mA \n",
            "Actual Label:  non-hostile \n",
            "Predicted Label: fake\n",
            "Post:=====>\n",
            " भारतीय लष्कराने चीनच्या ५ सैनिकांना उडवल्यानंतर कम्युनिस्ट पार्टीच्या नेत्यांनी दिल्लीत रॅली काढून घोषणाबाजी केली. मोठे दुर्दैव. ❌🈲 \n",
            "Actual Label:  fake \n",
            "Predicted Label: non-hostile\n",
            "Post:=====>\n",
            " ईरान की अनाहिता के इंस्टाग्राम पर 9 लाख से भी ज्यादा फॉलोअर्स, महज 3 साल में बनीं इंटरनेट सेंसेशन \n",
            "Actual Label:  fake \n",
            "Predicted Label: non-hostile\n",
            "Post:=====>\n",
            " मोदी जी मास्टरस्ट्रोक...!\n",
            "\n",
            "अप्रैल-जून तिमाही में भारत की जीडीपी में - 23.9 फ़ीसदी की भारी गिरावट ! \n",
            "Actual Label:  hate \n",
            "Predicted Label: non-hostile\n",
            "Post:=====>\n",
            " @RahulGandhi अबे नॉटी.. \n",
            "कियो झूठ फैला रहा है msp कहा खत्म हुई है कमीने चाइना के दलाल \n",
            "Actual Label:  defamation,offensive \n",
            "Predicted Label: offensive\n",
            "Post:=====>\n",
            " #DNA : JEE परीक्षा में बच्चे पास, राजनीति फेल !\n",
            "@sudhirchaudhary https://t.co/ePFwgz934B \n",
            "Actual Label:  non-hostile \n",
            "Predicted Label: fake\n",
            "Post:=====>\n",
            " शीर्ष रिसर्च संस्था, इंडियन काउंसिल ऑफ मेडिकल रिसर्च ( ICMR) ने कोरोना काल के लिए नई गाइडलाइन जारी की हैं। यूजर 12 पॉइंट्स की एक गाइडलाइन शेयर कर रहे हैं। जिसमें 2 साल तक यात्रा न करने, 1 साल तक बाहर का खाना न खाने, सिर्फ शाकाहारी खाना खाने, रुमाल न रखने जैसी सलाह दी गई हैं। \n",
            "Actual Label:  fake \n",
            "Predicted Label: non-hostile\n",
            "Post:=====>\n",
            " हिंदू और मुस्लिमों के लिए अलग-अलग वार्ड राज्य सरकार के निर्णय के आधार पर बनाए। \n",
            "Actual Label:  fake,hate \n",
            "Predicted Label: fake\n",
            "Post:=====>\n",
            " RT @ShilpiSinghINC: उमर खालिद पर तो UAPA लगा दिया!\n",
            "कपिल मिश्रा को शांति का नोबल पुरस्कार कब मिलेगा?\n",
            "🤔 \n",
            "Actual Label:  hate \n",
            "Predicted Label: non-hostile\n"
          ],
          "name": "stdout"
        }
      ]
    },
    {
      "cell_type": "code",
      "metadata": {
        "id": "8xUhoyzP4Fhz"
      },
      "source": [
        "### Fake-Real\r\n",
        "actual = pd.read_excel(path+'english_test_with_labels.xlsx')\r\n",
        "pred = pd.read_csv(path+'NLP@CUET_2.csv')\r\n"
      ],
      "execution_count": null,
      "outputs": []
    },
    {
      "cell_type": "code",
      "metadata": {
        "id": "kmCioNKq7kdp"
      },
      "source": [
        "actual['predicted_label'] = pred['label']"
      ],
      "execution_count": null,
      "outputs": []
    },
    {
      "cell_type": "code",
      "metadata": {
        "colab": {
          "base_uri": "https://localhost:8080/"
        },
        "id": "qtuQGDuN6JsD",
        "outputId": "d70bc503-8b98-4c79-f89e-ad37d7fb5b36"
      },
      "source": [
        "for i in range(len(actual)):\r\n",
        "  if actual['label'][i] != actual['predicted_label'][i]:\r\n",
        "        print('Tweet:=====>\\n',actual['tweet'][i],\r\n",
        "          '\\nActual Label: ',actual['label'][i],\r\n",
        "          '\\nPredicted Label:', actual['predicted_label'][i])  "
      ],
      "execution_count": null,
      "outputs": [
        {
          "output_type": "stream",
          "text": [
            "Tweet:=====>\n",
            " Low #vitaminD was an independent predictor of worse prognosis in patients with COVID-19. https://t.co/CGD6Kphn31 https://t.co/chtni8K4Jd \n",
            "Actual Label:  real \n",
            "Predicted Label: fake\n",
            "Tweet:=====>\n",
            " The government should consider bringing in any new national lockdown rules over Christmas rather than now says an Oxford University professor https://t.co/pdOls6cqoN \n",
            "Actual Label:  real \n",
            "Predicted Label: fake\n",
            "Tweet:=====>\n",
            " Two interesting correlations:\n",
            "\n",
            "1) Children tend to weather COVID-19 pretty well; they also get a ton of Vitamin D.\n",
            "\n",
            "2) Black people are getting slammed by COVID-19; black people also have much higher instances of Vitamin D deficiency (76% vs 40% in the general population). \n",
            "Actual Label:  fake \n",
            "Predicted Label: real\n",
            "Tweet:=====>\n",
            " The only way to tell if a kid just has a cold (and can go to school) is robust rapid testing for #coronavirus — and right now we don't have it. https://t.co/plBZSPGv8A via @methodsmanmd https://t.co/L5tHkB1njK \n",
            "Actual Label:  real \n",
            "Predicted Label: fake\n",
            "Tweet:=====>\n",
            " *DNA Vaccine: injecting genetic material into the host so that host cells create proteins that are similar to those in the virus against which the host then creates antibodies \n",
            "Actual Label:  real \n",
            "Predicted Label: fake\n",
            "Tweet:=====>\n",
            " A Christchurch person discussed yesterday as being under further investigation has now been confirmed as not a case of COVID-19. The investigation has been closed.​⁣⁣ \n",
            "Actual Label:  real \n",
            "Predicted Label: fake\n",
            "Tweet:=====>\n",
            " Enanthem in a patient with a skin rash is a useful finding to help diagnose COVID-19 Spanish medical experts suggest. https://t.co/L0tB45oqk0 https://t.co/zbrKAX073H \n",
            "Actual Label:  real \n",
            "Predicted Label: fake\n",
            "Tweet:=====>\n",
            " #COVID19 has strengthened pharma's negotiating hand. https://t.co/0nOjbqZHbV https://t.co/qcEFasXG2G \n",
            "Actual Label:  real \n",
            "Predicted Label: fake\n",
            "Tweet:=====>\n",
            " @sandylocks is a celebrated legal scholar. She’s been hosting Under the Blacklight at the @AAPolicyForum to look at “the intersectional vulnerabilities that COVID lays bare.” https://t.co/QGrwVHYbmM \n",
            "Actual Label:  real \n",
            "Predicted Label: fake\n",
            "Tweet:=====>\n",
            " Labour leader Sir Keir Starmer is self-isolating after a member of his household displayed possible #coronavirus symptoms https://t.co/KsswY6k5Oz \n",
            "Actual Label:  real \n",
            "Predicted Label: fake\n",
            "Tweet:=====>\n",
            " Keep your newborn more than 6 feet away from you as much as possible. Discuss with your healthcare provider about using a physical barrier (for example, placing the newborn in an incubator) while in the hospital. \n",
            "Actual Label:  fake \n",
            "Predicted Label: real\n",
            "Tweet:=====>\n",
            " Even before #COVID19 14000 young children were dying every day - mostly from preventable causes. They share an equal right to survive with quality health care. #HealthForAll 👉 https://t.co/rrKeuvdBKC https://t.co/N83WYOUAoz \n",
            "Actual Label:  real \n",
            "Predicted Label: fake\n",
            "Tweet:=====>\n",
            " Donald Trump has claimed he \"up-played\" the seriousness of the coronavirus pandemic - despite admitting earlier this year he had \"wanted to always play it down\" https://t.co/wEgnnZzrNW \n",
            "Actual Label:  real \n",
            "Predicted Label: fake\n",
            "Tweet:=====>\n",
            " Claim: India’s case growth will peak by early May and reduce to 0 by May 16 said V.K. Paul of COVID-19 Empowered Group 1 on April 24. Fact: 53 days since a countrywide #lockdown cases have risen by &gt;3000/day for a week https://t.co/HZAmkZFIRk \n",
            "Actual Label:  fake \n",
            "Predicted Label: real\n",
            "Tweet:=====>\n",
            " 3 stages to COVID brain damage identified. https://t.co/UWEHkMD7Z7 \n",
            "Actual Label:  real \n",
            "Predicted Label: fake\n",
            "Tweet:=====>\n",
            " The chairman of the British Medical Association Dr Chaand Nagpaul says that wearing face masks is “extremely important” explaining that they prevent “about 80 percent of virus spreading from one person to the other”. #KayBurley: https://t.co/C5rHb4KKxV https://t.co/Iez62hsksO \n",
            "Actual Label:  real \n",
            "Predicted Label: fake\n",
            "Tweet:=====>\n",
            " According to Civil Registry record the number of respiratory syndrome deaths decreased and not increased between 2019 and 2020 in Ceará Brazil. The time period considered was March 16 to May 10. \n",
            "Actual Label:  fake \n",
            "Predicted Label: real\n",
            "Tweet:=====>\n",
            " 85% of American adults believe in wearing masks. https://t.co/ec76ZcWOvu \n",
            "Actual Label:  real \n",
            "Predicted Label: fake\n",
            "Tweet:=====>\n",
            " Coronavirus: 'Chaos' as drivers queue for hours for COVID-19 tests before being turned away https://t.co/VQSlcel47P \n",
            "Actual Label:  real \n",
            "Predicted Label: fake\n",
            "Tweet:=====>\n",
            " Early action and social trust are among the reasons for Vermont’s low numbers of coronavirus cases. https://t.co/lQzAsc6gSG \n",
            "Actual Label:  fake \n",
            "Predicted Label: real\n",
            "Tweet:=====>\n",
            " The COVID-19 pandemic has led to a 123% surge in opioid overdose deaths in one hospital a new study confirms. https://t.co/zeldxtekoK \n",
            "Actual Label:  real \n",
            "Predicted Label: fake\n",
            "Tweet:=====>\n",
            " H1N1 holds lessons for an efficient delivery of COVID vaccination. https://t.co/FZ5N6cXdqh \n",
            "Actual Label:  real \n",
            "Predicted Label: fake\n",
            "Tweet:=====>\n",
            " Florida Gov. Ron DeSantis said today kids are not a major vector of spreading COVID-19. Studies show that high schoolers are more like adults while young children present a lower risk. But findings overseas may not apply to U.S. states with rising cases. https://t.co/hDLIVdcaKw \n",
            "Actual Label:  fake \n",
            "Predicted Label: real\n",
            "Tweet:=====>\n",
            " @geoallison Today's official figures.\n",
            "\n",
            "A recent BMJ review used a False Positive rate of 5%.\n",
            "\n",
            "Public Health England came up with slightly under 2%.\n",
            "\n",
            "A German study found false positive rates rose from 1.4% to 2.2%-7.6% when a Hcov was present (alpha and betacoronaviruses) https://t.co/bIW6oNiynW \n",
            "Actual Label:  fake \n",
            "Predicted Label: real\n",
            "Tweet:=====>\n",
            " Scientists ask: Without trial data how can we trust Russia's #COVID vaccine?https://t.co/gArcUf0Pji https://t.co/0bdcA7lf56 \n",
            "Actual Label:  real \n",
            "Predicted Label: fake\n",
            "Tweet:=====>\n",
            " Brazil is a worrying combination of pandemic and pandemonium. https://t.co/4AIKrkMWlT \n",
            "Actual Label:  real \n",
            "Predicted Label: fake\n",
            "Tweet:=====>\n",
            " Convalescent plasma had been \"proven to reduce mortality by 35%\" in hospitalized COVID-19 patients. \n",
            "Actual Label:  fake \n",
            "Predicted Label: real\n",
            "Tweet:=====>\n",
            " Insurers and states look to reduce med-mal premiums during COVID-19. https://t.co/W1XpJMyjIW \n",
            "Actual Label:  real \n",
            "Predicted Label: fake\n",
            "Tweet:=====>\n",
            " Coronavirus is accelerating Medicare’s money problems. https://t.co/3WtpIzd6XN \n",
            "Actual Label:  real \n",
            "Predicted Label: fake\n",
            "Tweet:=====>\n",
            " Some coronavirus patients are experiencing chronic fatigue. https://t.co/naZrF6DlgF https://t.co/PEXjLTYh3d \n",
            "Actual Label:  real \n",
            "Predicted Label: fake\n",
            "Tweet:=====>\n",
            " Equity accuracy and quality questions surround the #coronavirus vaccine. https://t.co/8wxtD76czo \n",
            "Actual Label:  real \n",
            "Predicted Label: fake\n",
            "Tweet:=====>\n",
            " The overall lethality of COVID-19 (infection fatality rate) is about 0.1% to 0.3% and thus in the range of a severe influenza; up to 60% of all persons may already have a certain cellular background immunity to the new coronavirus due to contact with previous coronaviruses (i.e. cold viruses); there is still little to no scientific evidence for the effectiveness of cloth face masks in healthy and asymptomatic individuals \n",
            "Actual Label:  fake \n",
            "Predicted Label: real\n",
            "Tweet:=====>\n",
            " A ???face mask exempt card??� allows you to cite the ADA and not wear a mask. \n",
            "Actual Label:  fake \n",
            "Predicted Label: real\n",
            "Tweet:=====>\n",
            " Acc to @WHO being able to hold your breath for 10 seconds or more without coughing or feeling discomfort DOES NOT mean you are free from #COVID19 or any other lung disease. #COVID__19 #COVID #COVID_19 #COVIDー19 #COVID19India #Corona #coronavirus #CoronavirusIndia https://t.co/8wwhvq6jnU \n",
            "Actual Label:  real \n",
            "Predicted Label: fake\n",
            "Tweet:=====>\n",
            " Younger COVID-19 patients are harder to track than their elders. https://t.co/kWP3fGWzqy \n",
            "Actual Label:  real \n",
            "Predicted Label: fake\n",
            "Tweet:=====>\n",
            " Coronavirus: Colleges drop courses including languages and maths amid financial pressure https://t.co/G0oG2sxGuB \n",
            "Actual Label:  real \n",
            "Predicted Label: fake\n",
            "Tweet:=====>\n",
            " Antonio Guterres said the #coronavirus pandemic has shown how \"vulnerable we are\" and that in some aspects \"we are moving 25 years back\" https://t.co/NAZlNcscv8 \n",
            "Actual Label:  real \n",
            "Predicted Label: fake\n",
            "Tweet:=====>\n",
            " How are you keeping current on guidelines and updates during COVID? Tell us about it in this confidential survey. No name or email required. https://t.co/1mmlNUdSmn https://t.co/Y5wAxqgsAm \n",
            "Actual Label:  real \n",
            "Predicted Label: fake\n",
            "Tweet:=====>\n",
            " Coronavirus: Donald Trump ignores COVID-19 rules with 'reckless and selfish' indoor rally https://t.co/JsiHGLMwfO \n",
            "Actual Label:  real \n",
            "Predicted Label: fake\n",
            "Tweet:=====>\n",
            " Florida tops 100K coronavirus cases. https://t.co/QTjPms3cCW \n",
            "Actual Label:  real \n",
            "Predicted Label: fake\n",
            "Tweet:=====>\n",
            " @sejwatson For example if you've got a cold cough or other respiratory symptoms and the COVID-19 virus is picked up as a weak positive in a PCR test. In all these cases the test result is often a ‘weak positive’ and the CT value of the person’s PCR test suggests an old infection. \n",
            "Actual Label:  real \n",
            "Predicted Label: fake\n",
            "Tweet:=====>\n",
            " .@DelhiPolice please ask your officers to wear masks properly while they fine others for the same!!! #COVID19 @dtptraffic @CPDelhi https://t.co/0oQXi9yXJl \n",
            "Actual Label:  fake \n",
            "Predicted Label: real\n",
            "Tweet:=====>\n",
            " For its must-read coronavirus coverage The Atlantic is rewarded with a huge surge of digital subscriptions https://t.co/gN8gA1uSds https://t.co/TdvwbRpxNm \n",
            "Actual Label:  fake \n",
            "Predicted Label: real\n",
            "Tweet:=====>\n",
            " @SonuSood Sir,Its a fact people are taking too much advantage of this pandemic be it local stores to big companies,day by day frustration is hiking the peak with no jobs,less salaries,monthly emis,inflations still + ,hoping best,would be grateful If l can be a part of your team&amp;work with U \n",
            "Actual Label:  fake \n",
            "Predicted Label: real\n",
            "Tweet:=====>\n",
            " A karaoke night at a Scottish pub has been linked to an outbreak of coronavirus cases https://t.co/10kQt4KhJU \n",
            "Actual Label:  real \n",
            "Predicted Label: fake\n",
            "Tweet:=====>\n",
            " #Coronavirus vaccine is ready to ship as soon as the FDA approves it. https://t.co/keRptUKV33 \n",
            "Actual Label:  real \n",
            "Predicted Label: fake\n",
            "Tweet:=====>\n",
            " A Spanish medic has warned that unless Britons follow new lockdown rules and wear masks #coronavirus could be 'very very very costly' https://t.co/VmfBpgsXs1 \n",
            "Actual Label:  real \n",
            "Predicted Label: fake\n",
            "Tweet:=====>\n",
            " At the height of the COVID-19 pandemic in New York City first responders faced nearly triple the number of calls for cardiac arrest. https://t.co/EZ94vInEqv \n",
            "Actual Label:  real \n",
            "Predicted Label: fake\n",
            "Tweet:=====>\n",
            " there is variation in mortality and infection rate based upon the genome of the virus. Host immunity is also playing a role. \n",
            "Actual Label:  fake \n",
            "Predicted Label: real\n",
            "Tweet:=====>\n",
            " ಕಲ್ಬುರ್ಗಿಯಲ್ಲಿ ಮಾತ್ರವಲ್ಲ ದೇಶದ 29ಲ. COVID19 ಸೋಂಕಿತರು, 138ಕೋ. ಜನತೆ ಆರ್ಥಿಕ ಸಂಕಷ್ಟದಲ್ಲಿರುವಾಗ ಸೋಂಕಿತರನ್ನು \"ದರೋಡೆ\" ಮಾಡಿದವರು ಖಾಸಗಿ ಆಸ್ಪತ್ರೆಯ ಆಡಳಿತ ..! ಇದಕ್ಕೆ ಮೂಲ ಕಾರಣವೇ ಅಧಿಕಾರದಲ್ಲಿರುವ ಭಂಡರು..C ಸೋಂಕು ಎಂದು ಸುಳ್ಳು ಹೇಳಿ ಆಸ್ಪತ್ರೆಗಳು ಲೂಟಿ ಮಾಡಿದ್ದೂ ಇವೆ. @PMOIndia @mla_sudhakar @drharshvardhan https://t.co/d3mryULQvz https://t.co/JGyoOT8XNi \n",
            "Actual Label:  fake \n",
            "Predicted Label: real\n",
            "Tweet:=====>\n",
            " Coronavirus: Franchising 'ended' as government seeks new rail future https://t.co/5nvG1RYZad \n",
            "Actual Label:  real \n",
            "Predicted Label: fake\n",
            "Tweet:=====>\n",
            " Nashville Woman Encouraged to Learn Obesity Alone Does Not Appear to Increase Risk for COVID-19 Mortality https://t.co/4GkCFnBR9j #health \n",
            "Actual Label:  fake \n",
            "Predicted Label: real\n",
            "Tweet:=====>\n",
            " Honduras's first confirmed case traveled to Taiwan earlier which means there is a severe community transmission in Taiwan. \n",
            "Actual Label:  fake \n",
            "Predicted Label: real\n",
            "Tweet:=====>\n",
            " A first vaccine, while a welcome tool in fighting COVID-19, may turn out to be of limited use. The lesson learned from AIDS is the value of building a scientific infrastructure beyond a vaccine. https://t.co/WKh648qSLG \n",
            "Actual Label:  fake \n",
            "Predicted Label: real\n",
            "Tweet:=====>\n",
            " NEWS! All episodes of ‘Coronavirus Daily Update’ to be available to binge-watch on BBC iPlayer during inevitable second peak https://t.co/BUeTIb5RIy https://t.co/cl5sp29OJv \n",
            "Actual Label:  fake \n",
            "Predicted Label: real\n",
            "Tweet:=====>\n",
            " #UK's #PrinceCharles was cured of #Covid19 through ayurveda and homeopathy treatment from a #Bengaluru-based holistic resort, Union Minister of State for AYUSH Shripad Naik claimed on Thursday. \n",
            "Actual Label:  fake \n",
            "Predicted Label: real\n",
            "Tweet:=====>\n",
            " Government's roadmap to ease Covid-19 restrictions will be set out in 5 phases. These phases will be on 3 week review process. \n",
            "Actual Label:  fake \n",
            "Predicted Label: real\n",
            "Tweet:=====>\n",
            " Coronavirus: Boris Johnson reveals new COVID rules on face masks fines pubs and working from home https://t.co/kd697pjmAF \n",
            "Actual Label:  real \n",
            "Predicted Label: fake\n",
            "Tweet:=====>\n",
            " Data indicate the novel coronavirus is capable of spreading easily and sustainably from person to person. Because it is a new virus there is essentially no immunity against #COVID19 in the population. https://t.co/eBhWSslwUP \n",
            "Actual Label:  real \n",
            "Predicted Label: fake\n",
            "Tweet:=====>\n",
            " Coronavirus: Children should stay at school until there is a positive test in their bubble PM says https://t.co/M9UuXojVjd \n",
            "Actual Label:  real \n",
            "Predicted Label: fake\n",
            "Tweet:=====>\n",
            " China's three gorges dam faces severe flooding as yangtze overflows, Yangtze River Flood In Streets 3 Bridges Collepsed In this flood. \n",
            "Actual Label:  fake \n",
            "Predicted Label: real\n",
            "Tweet:=====>\n",
            " Hundreds of doctors won’t start their residencies on time leaving the COVID front line understaffed. https://t.co/BjeludAbz3 \n",
            "Actual Label:  real \n",
            "Predicted Label: fake\n",
            "Tweet:=====>\n",
            " This morning WHO Director-General Dr Tedros has emphasised that while a number of vaccines are in clinical trials there is currently no silver bullet for COVID-19. \n",
            "Actual Label:  real \n",
            "Predicted Label: fake\n",
            "Tweet:=====>\n",
            " I've decided to opt out of the KCL symptoms tracker COVID-19 study. It made me resent that a majority of other health issues have been sidelined thanks to this virus. I understand that the virus is dangerous. But the NHS has also shut down to prevent the spread. #frustrated \n",
            "Actual Label:  fake \n",
            "Predicted Label: real\n",
            "Tweet:=====>\n",
            " RT @WIONews: We have asked World Health Organization (WHO) for 1 million coronavirus test kits says ICMR D-G Dr Balram Bhargava #Coronavi… \n",
            "Actual Label:  real \n",
            "Predicted Label: fake\n",
            "Tweet:=====>\n",
            " Cases up only because of our big number testing. Mortality rate way down!!! \n",
            "Actual Label:  fake \n",
            "Predicted Label: real\n",
            "Tweet:=====>\n",
            " A second #coronavirus lockdown would be a \"government failure - not an act of god\" Sir Keir Starmer has said https://t.co/3lTuQDPmL0 \n",
            "Actual Label:  real \n",
            "Predicted Label: fake\n",
            "Tweet:=====>\n",
            " New mask exemption card indicates medical condition of being an asshole #COVID19 https://t.co/ajI0KymHyU https://t.co/h0Jxkn5BLz \n",
            "Actual Label:  fake \n",
            "Predicted Label: real\n",
            "Tweet:=====>\n",
            " #FactChecking : Has #Israel already discovered a #COVID19 vaccine? https://t.co/JPTkvwVyul \n",
            "Actual Label:  fake \n",
            "Predicted Label: real\n",
            "Tweet:=====>\n",
            " Why did #SARS go away while today’s #coronavirus keeps on spreading? https://t.co/KexrtHwuE4 \n",
            "Actual Label:  real \n",
            "Predicted Label: fake\n",
            "Tweet:=====>\n",
            " Doctors send a crystal clear message about the importance of masks for COVID prevention. https://t.co/c5jxs3lavy via @HansaBhargavaMD @@FutureDocs \n",
            "Actual Label:  real \n",
            "Predicted Label: fake\n",
            "Tweet:=====>\n",
            " CTO is an important new MD title created to address coronavirus. https://t.co/pkAFLapIjY \n",
            "Actual Label:  real \n",
            "Predicted Label: fake\n",
            "Tweet:=====>\n",
            " According to https://t.co/sspYAeiJD1 as of yesterday evening 73998 have died of COVID in the United States. Over the previous 24 hours that includes 2265 deaths. \n",
            "Actual Label:  real \n",
            "Predicted Label: fake\n",
            "Tweet:=====>\n",
            " Deaths due to Covid have increased in Gujarat's Rajkot as cases rise. However, the exact number is unclear. City data shows 131 deaths, but crematoriums &amp; burial grounds tell a different story. \n",
            "\n",
            "ThePrint's @soniyaagrawal21 &amp; @manishamondal25 report.\n",
            "\n",
            "https://t.co/hluxfwDF8U \n",
            "Actual Label:  fake \n",
            "Predicted Label: real\n",
            "Tweet:=====>\n",
            " RT @CNN: A leading coronavirus model has upped its predicted death toll again this time projecting 74000 Americans will lose their lives… \n",
            "Actual Label:  real \n",
            "Predicted Label: fake\n",
            "Tweet:=====>\n",
            " Helping patients through post-COVID post-intensive care syndrome. https://t.co/Aywz9KnF8A #coronavirus https://t.co/K2x77rklkO \n",
            "Actual Label:  real \n",
            "Predicted Label: fake\n",
            "Tweet:=====>\n",
            " Since some asked about this, am letting know that I am recommending Checkovir after testing on myself for a month. I find it a life saver in allergic rainy season this year. Was part of testing group. I find logical that it will reduce probability of corona due to antiviral layer https://t.co/2kRdHFwlOL \n",
            "Actual Label:  fake \n",
            "Predicted Label: real\n",
            "Tweet:=====>\n",
            " ???U.S. hospitals are preparing for 96 million coronavirus infections and nearly half a million deaths, leaked documents reveal.??� \n",
            "Actual Label:  fake \n",
            "Predicted Label: real\n",
            "Tweet:=====>\n",
            " The lack of coronavirus testing in the U.S. is a national disgrace. https://t.co/kD9cEFtAUR \n",
            "Actual Label:  fake \n",
            "Predicted Label: real\n",
            "Tweet:=====>\n",
            " Good people of Twitter, and especially those with young children. If you or your partner have had symptoms during the lockdown, which best describes your approach: \n",
            "Actual Label:  fake \n",
            "Predicted Label: real\n",
            "Tweet:=====>\n",
            " Coronavirus: Slovenia and Guadeloupe added to England's quarantine list - but Thailand and Singapore removed https://t.co/YA0MRs9rs6 \n",
            "Actual Label:  real \n",
            "Predicted Label: fake\n",
            "Tweet:=====>\n",
            " Household members living with an ill person should 🟢avoid sharing items (incl. dishes cups eating utensils towels &amp; bed linens) 🟢wash the items with soap &amp; water. 🟢pack the waste from the ill person in strong closed bags before disposal. 👉https://t.co/keeWeEtod1 https://t.co/bIMDkBG1IW \n",
            "Actual Label:  real \n",
            "Predicted Label: fake\n",
            "Tweet:=====>\n",
            " People are drinking sanitizer to get an alcohol high a dangerous trend. https://t.co/zEGfMxPYVP \n",
            "Actual Label:  real \n",
            "Predicted Label: fake\n",
            "Tweet:=====>\n",
            " The 20 countries with most #COVID19 cases together home to as many people as India have conducted 28X the tests that India has. Here's our factcheck: https://t.co/6q6yw42XBj \n",
            "Actual Label:  fake \n",
            "Predicted Label: real\n",
            "Tweet:=====>\n",
            " At the height of the COVID-19 pandemic in New York City first responders faced nearly triple the number of calls for cardiac arrest. https://t.co/3SL4SA43wP \n",
            "Actual Label:  real \n",
            "Predicted Label: fake\n",
            "Tweet:=====>\n",
            " Really we need to move on from hydroxychloroquine says expert. https://t.co/yV9UXqmwva https://t.co/238ai4ltvG \n",
            "Actual Label:  real \n",
            "Predicted Label: fake\n",
            "Tweet:=====>\n",
            " All infants born to a cohort of 31 COVID-19–positive mothers tested negative for the virus during the height of the New York surge. https://t.co/ERZ5CG6b1x \n",
            "Actual Label:  real \n",
            "Predicted Label: fake\n",
            "Tweet:=====>\n",
            " 🆕 UPDATE: COVID-19 investigational drugs and therapies. https://t.co/M3p8I9CrmF https://t.co/wm4z6SciMO \n",
            "Actual Label:  real \n",
            "Predicted Label: fake\n",
            "Tweet:=====>\n",
            " Anyone in Mumbai requiring Plasma for Covid treatment, please contact from a group of people ready to make plasma donations: \n",
            "Actual Label:  fake \n",
            "Predicted Label: real\n",
            "Tweet:=====>\n",
            " You can test a quality of reusable mask blowing a lighter as you wear it. \n",
            "Actual Label:  fake \n",
            "Predicted Label: real\n",
            "Tweet:=====>\n",
            " FDA official says if a COVID vaccine is approved before it’s ready -- he’s outta there. https://t.co/g6NhvB4WpW https://t.co/Du47IEIUS7 \n",
            "Actual Label:  real \n",
            "Predicted Label: fake\n",
            "Tweet:=====>\n",
            " Northern Ireland was testing for COVID-19 at a rate 10 times that of Scotland reported on 9 May 2020. \n",
            "Actual Label:  fake \n",
            "Predicted Label: real\n",
            "Tweet:=====>\n",
            " Welcome to Alert Level 1! We stayed home played it safe &amp; flattened the curve. You’ll notice we’ve changed our name. That’s because our focus now shifts to recovery. We united against COVID-19. Now it’s time to unite for the recovery. Well done Aotearoa our #TeamOf5Million https://t.co/oqF95aDQm9 \n",
            "Actual Label:  real \n",
            "Predicted Label: fake\n",
            "Tweet:=====>\n",
            " The CDC finally confirmed the COVID-19 virus is AIRBORNE. It’s not enough to maintain social distancing and wash your hands. You MUST wear a mask and avoid indoor public spaces as much as possible. \n",
            "Actual Label:  fake \n",
            "Predicted Label: real\n",
            "Tweet:=====>\n",
            " Police have shut down a series of illegal parties overnight as people enjoyed a final weekend of revelry before tougher #coronavirus restrictions come into force https://t.co/bxV22ZH2Ts \n",
            "Actual Label:  real \n",
            "Predicted Label: fake\n",
            "Tweet:=====>\n",
            " Raisin prevents clotting thus helps to fight COVID19 \n",
            "Actual Label:  fake \n",
            "Predicted Label: real\n",
            "Tweet:=====>\n",
            " Chinese scientists are racing to start human trials for a COVID vaccine by August. https://t.co/XRADbWFYBa https://t.co/QjifCN8Ryq \n",
            "Actual Label:  real \n",
            "Predicted Label: fake\n",
            "Tweet:=====>\n",
            " The concept of asymptomatic COVID-19 was at the center of confusion and controversy this week. https://t.co/q2NQzYA3CB https://t.co/Ng2GRjERiW \n",
            "Actual Label:  real \n",
            "Predicted Label: fake\n",
            "Tweet:=====>\n",
            " ???People defying stay-at-home order fill Arizona beaches.??� \n",
            "Actual Label:  fake \n",
            "Predicted Label: real\n",
            "Tweet:=====>\n",
            " Proud of @BoltsPk team busy in packing stuff for our “COVID 19 Family Support Program”. Ensuring physical distancing as well. #EnablementDrive https://t.co/XH8H3Tk5iz \n",
            "Actual Label:  fake \n",
            "Predicted Label: real\n",
            "Tweet:=====>\n",
            " AI spots COVID lung damage with 95% accuracy. https://t.co/mgSc6r3i0q #ers2020 #ERSCongress \n",
            "Actual Label:  real \n",
            "Predicted Label: fake\n",
            "Tweet:=====>\n",
            " Coronavirus: Labour leader Sir Keir Starmer self-isolating after household member showed COVID-19 symptoms https://t.co/xDVrs7yE9k \n",
            "Actual Label:  real \n",
            "Predicted Label: fake\n",
            "Tweet:=====>\n",
            " Acc to @WHO #novel #coronavirus may persist on surfaces for few hrs to up to several days. This duration may vary under different conditions (the type of surface temperature humidity etc). https://t.co/pz2nmcepZo \n",
            "Actual Label:  real \n",
            "Predicted Label: fake\n",
            "Tweet:=====>\n",
            " There were \"only 48\" PCR tests in Tokyo on May 19th. \n",
            "Actual Label:  fake \n",
            "Predicted Label: real\n",
            "Tweet:=====>\n",
            " Two members of @atletienglish test #coronavirus positive ahead of #UCL Quarterfinals!!! Not sure how the rest of the team can be on the field in these circumstances! @ChampionsLeague \n",
            "Actual Label:  fake \n",
            "Predicted Label: real\n",
            "Tweet:=====>\n",
            " ???Now, they???re doing tests on airlines ??\" very strong tests ??\" for getting on, getting off. They???re doing tests on trains ??\" getting on, getting off.??� \n",
            "Actual Label:  fake \n",
            "Predicted Label: real\n",
            "Tweet:=====>\n",
            " Learn from Italy. No more spaces are available in hospitals. Please do not step out of your homes for next 21 days. #CoronavirusLockdown \n",
            "Actual Label:  fake \n",
            "Predicted Label: real\n",
            "Tweet:=====>\n",
            " The estimated size of the unsustainable corporate debt mountain created by the #COVID19 pandemic is to be slashed to £70bn by influential City figures https://t.co/rtTCYqZN23 \n",
            "Actual Label:  real \n",
            "Predicted Label: fake\n",
            "Tweet:=====>\n",
            " Hospital acquired coronavirus can reach staff as well as patients. https://t.co/JvNQFg8wHS https://t.co/XdBnILGjmV \n",
            "Actual Label:  real \n",
            "Predicted Label: fake\n",
            "Tweet:=====>\n",
            " Social distancing works for preventing other infectious diseases too. https://t.co/viHMdMTOHv \n",
            "Actual Label:  real \n",
            "Predicted Label: fake\n",
            "Tweet:=====>\n",
            " NEJM letter says saliva test as good or better than nasal swab for COVID test. https://t.co/ZWEsF4TqGw \n",
            "Actual Label:  real \n",
            "Predicted Label: fake\n",
            "Tweet:=====>\n",
            " Arterial and venous thrombosis issues with coronavirus and the role of anticoagulation. https://t.co/qQyMJk3qe6 https://t.co/Hl5lswBy5t \n",
            "Actual Label:  real \n",
            "Predicted Label: fake\n",
            "Tweet:=====>\n",
            " In South Florida ???all children and adults must remain in their homes??� due to coronavirus. \n",
            "Actual Label:  fake \n",
            "Predicted Label: real\n",
            "Tweet:=====>\n",
            " Here’s your look at new COVID-19 cases around the nation. The overall trends haven’t changed much this week. https://t.co/u7kUUWG1TJ \n",
            "Actual Label:  real \n",
            "Predicted Label: fake\n",
            "Tweet:=====>\n",
            " I know a family of 3 tested positive on #COVIDー19 two days ago. The father is on vent &amp; two isolated at home. They had 13 pet cats which during this difficult time they had no other option but to give to #EmpressMarket guys as every animal shelter NGO is at its full capacity. https://t.co/AFEWD8daQ4 \n",
            "Actual Label:  fake \n",
            "Predicted Label: real\n",
            "Tweet:=====>\n",
            " Man Faces Impossible Choice Between Protecting Himself From Covid &amp; Looking Like Hardy Bastard https://t.co/FhzmXx4mga \n",
            "Actual Label:  fake \n",
            "Predicted Label: real\n",
            "Tweet:=====>\n",
            " Donating blood can result in Covid-19 testing \n",
            "Actual Label:  fake \n",
            "Predicted Label: real\n",
            "Tweet:=====>\n",
            " Coronavirus: Jedward call on celebrities and influencers to speak out about wearing masks https://t.co/ZXmaym2gAr \n",
            "Actual Label:  real \n",
            "Predicted Label: fake\n",
            "Tweet:=====>\n",
            " Asymptomatic coronavirus spread is rare @WHO says. https://t.co/OvvhSJspVi \n",
            "Actual Label:  real \n",
            "Predicted Label: fake\n",
            "Tweet:=====>\n",
            " A major concern is that specificity is not tested using samples known to have antibodies against antigens from one or more of the 4 coronaviruses that cause the common cold. \n",
            "Actual Label:  real \n",
            "Predicted Label: fake\n"
          ],
          "name": "stdout"
        }
      ]
    },
    {
      "cell_type": "code",
      "metadata": {
        "id": "mtFxX6m_5gsC"
      },
      "source": [
        "actual = multi_label_encoding(actual)\r\n",
        "pred = multi_label_encoding(pred)"
      ],
      "execution_count": null,
      "outputs": []
    },
    {
      "cell_type": "code",
      "metadata": {
        "id": "3VB0uyJN5GCN"
      },
      "source": [
        "multilabel = MultiLabelBinarizer()\r\n",
        "actual_labels = multilabel.fit_transform(actual['Labels']) \r\n",
        "prediction_labels = multilabel.transform(pred['Labels'])"
      ],
      "execution_count": null,
      "outputs": []
    },
    {
      "cell_type": "code",
      "metadata": {
        "id": "pvn28PrW44eD"
      },
      "source": [
        "actual_labels"
      ],
      "execution_count": null,
      "outputs": []
    },
    {
      "cell_type": "code",
      "metadata": {
        "id": "_IpASxCNlYdj",
        "colab": {
          "base_uri": "https://localhost:8080/"
        },
        "outputId": "ad5e6262-4b4f-4ebf-bb3c-efb4e2eef97b"
      },
      "source": [
        "import numpy as np\r\n",
        "from sklearn.metrics import confusion_matrix\r\n",
        "\r\n",
        "y_true = np.array(actual_labels)\r\n",
        "y_pred = np.array(prediction_labels)\r\n",
        "\r\n",
        "labels = ['defamation', 'fake', 'hate','non-hostile', 'offensive']\r\n",
        "\r\n",
        "conf_mat_dict={}\r\n",
        "\r\n",
        "for label_col in range(len(labels)):\r\n",
        "    y_true_label = y_true[:, label_col]\r\n",
        "    y_pred_label = y_pred[:, label_col]\r\n",
        "    conf_mat_dict[labels[label_col]] = confusion_matrix(y_pred=y_pred_label, y_true=y_true_label)\r\n",
        "\r\n",
        "\r\n",
        "for label, matrix in conf_mat_dict.items():\r\n",
        "    print(\"Confusion matrix for label {}:\".format(label))\r\n",
        "    print(matrix)"
      ],
      "execution_count": null,
      "outputs": [
        {
          "output_type": "stream",
          "text": [
            "Confusion matrix for label defamation:\n",
            "[[1442   42]\n",
            " [ 144   25]]\n",
            "Confusion matrix for label fake:\n",
            "[[1203  116]\n",
            " [ 144  190]]\n",
            "Confusion matrix for label hate:\n",
            "[[1344   75]\n",
            " [ 143   91]]\n",
            "Confusion matrix for label non-hostile:\n",
            "[[610 170]\n",
            " [ 59 814]]\n",
            "Confusion matrix for label offensive:\n",
            "[[1385   49]\n",
            " [ 111  108]]\n"
          ],
          "name": "stdout"
        }
      ]
    },
    {
      "cell_type": "code",
      "metadata": {
        "colab": {
          "base_uri": "https://localhost:8080/"
        },
        "id": "mhFVglWj7GGL",
        "outputId": "233dc184-1681-49ae-d9d9-c31e888d4021"
      },
      "source": [
        "actual['Labels Set'].value_counts()"
      ],
      "execution_count": null,
      "outputs": [
        {
          "output_type": "execute_result",
          "data": {
            "text/plain": [
              "non-hostile                       873\n",
              "fake                              289\n",
              "hate                              138\n",
              "offensive                         117\n",
              "defamation                         89\n",
              "hate,offensive                     47\n",
              "defamation,offensive               24\n",
              "defamation,hate                    22\n",
              "defamation,fake                    11\n",
              "defamation,hate,offensive           9\n",
              "fake,hate                           9\n",
              "fake,offensive                      8\n",
              "defamation,fake,offensive           8\n",
              "defamation,fake,hate                3\n",
              "defamation,fake,hate,offensive      3\n",
              "fake,hate,offensive                 3\n",
              "Name: Labels Set, dtype: int64"
            ]
          },
          "metadata": {
            "tags": []
          },
          "execution_count": 21
        }
      ]
    },
    {
      "cell_type": "markdown",
      "metadata": {
        "id": "1n8xXujVURHC"
      },
      "source": [
        "#Comparison on different models based on their Micro-F1 score"
      ]
    },
    {
      "cell_type": "code",
      "metadata": {
        "colab": {
          "base_uri": "https://localhost:8080/"
        },
        "id": "QmGEs30KUQWh",
        "outputId": "074050a7-c214-4a5b-b217-e0c076471118"
      },
      "source": [
        "print(\"  Model Name \" + \" \"*10 + \"| Micro-F1 Score\")\n",
        "print(\"-------------------------------------------\")\n",
        "for key, value in ModelsPerformance.items():\n",
        "    print(\"  \" + key, \" \"*(20-len(key)) + \"|\", round(value*100,2))\n",
        "    print(\"-------------------------------------------\")"
      ],
      "execution_count": null,
      "outputs": [
        {
          "output_type": "stream",
          "text": [
            "  Model Name           | Micro-F1 Score\n",
            "-------------------------------------------\n",
            "  LR (OvR)             | 65.63\n",
            "-------------------------------------------\n",
            "  SVM (OvR)            | 65.15\n",
            "-------------------------------------------\n",
            "  MNB (OvR)            | 64.42\n",
            "-------------------------------------------\n",
            "  MLKnn                | 63.9\n",
            "-------------------------------------------\n",
            "  BRkNN                | 64.12\n",
            "-------------------------------------------\n",
            "  BRSVM                | 65.15\n",
            "-------------------------------------------\n",
            "  LPSVM                | 66.39\n",
            "-------------------------------------------\n",
            "  CCSVM                | 65.85\n",
            "-------------------------------------------\n"
          ],
          "name": "stdout"
        }
      ]
    },
    {
      "cell_type": "markdown",
      "metadata": {
        "id": "uuFa9VrgUXPp"
      },
      "source": [
        "##Predictions on the Test Set"
      ]
    },
    {
      "cell_type": "code",
      "metadata": {
        "id": "Y3gxikjlUdyT"
      },
      "source": [
        "for i in np.linspace(0.1,1,20):\n",
        "  y = y_pred > i\n",
        "  predictions = y.astype('uint8')\n",
        "  print(\"Threshold :--\" ,i)\n",
        "  print(\"F1-Score:\",f1_score(test_labels,predictions,average='micro'))"
      ],
      "execution_count": null,
      "outputs": []
    },
    {
      "cell_type": "code",
      "metadata": {
        "colab": {
          "base_uri": "https://localhost:8080/"
        },
        "id": "cV_fSSabVqLq",
        "outputId": "220a4a78-067c-4a65-c41d-d116e1b0105a"
      },
      "source": [
        "from sklearn.metrics import classification_report\n",
        "\n",
        "#Show precision and recall per genre\n",
        "print(classification_report(test_labels,y_pred ,target_names=binary_labels.columns))"
      ],
      "execution_count": null,
      "outputs": [
        {
          "output_type": "stream",
          "text": [
            "              precision    recall  f1-score   support\n",
            "\n",
            "  defamation       0.58      0.09      0.16        77\n",
            "        fake       0.64      0.46      0.53       160\n",
            "        hate       0.47      0.37      0.41       110\n",
            " non-hostile       0.76      0.97      0.85       435\n",
            "   offensive       0.62      0.48      0.54       103\n",
            "\n",
            "   micro avg       0.70      0.67      0.68       885\n",
            "   macro avg       0.61      0.47      0.50       885\n",
            "weighted avg       0.67      0.67      0.64       885\n",
            " samples avg       0.71      0.70      0.70       885\n",
            "\n"
          ],
          "name": "stdout"
        }
      ]
    },
    {
      "cell_type": "markdown",
      "metadata": {
        "id": "V1tkXYyomjUS"
      },
      "source": [
        "## Deep Learning Models\n",
        "\n",
        "**For Deep Learning we have used the test dataset as our validation set because it has a large number comments and conversely the splitted validation set (X_val , y_val) used for testing.**"
      ]
    },
    {
      "cell_type": "code",
      "metadata": {
        "id": "BtWPAJjnmlAI",
        "colab": {
          "base_uri": "https://localhost:8080/"
        },
        "outputId": "2b5a4e13-3485-4f0b-daf8-c58541259c7b"
      },
      "source": [
        "import tensorflow as tf\n",
        "from tensorflow import keras\n",
        "from tensorflow.keras.preprocessing.sequence import pad_sequences\n",
        "from tensorflow.keras.preprocessing.text import Tokenizer\n",
        "from tensorflow.keras import regularizers\n",
        "from tensorflow.keras.layers import LSTM,GRU\n",
        "from tensorflow.keras.models import load_model\n",
        "print(\"Tensorflow Version:--\",tf.version.VERSION)\n",
        "print(\"Keras Version:---\",keras.__version__)"
      ],
      "execution_count": null,
      "outputs": [
        {
          "output_type": "stream",
          "text": [
            "Tensorflow Version:-- 2.3.0\n",
            "Keras Version:--- 2.4.0\n"
          ],
          "name": "stdout"
        }
      ]
    },
    {
      "cell_type": "code",
      "metadata": {
        "colab": {
          "base_uri": "https://localhost:8080/"
        },
        "id": "-EzaWNk-X-mB",
        "outputId": "11cdee02-1be5-4099-854f-36c626f76e46"
      },
      "source": [
        "from sklearn.model_selection import train_test_split\n",
        "\n",
        "train_X,val_X,train_y,val_y = train_test_split(train_data['cleaned'],train_labels,test_size = 0.15,random_state = 42)\n",
        "print(\"Training Set Size : \",train_X.shape)\n",
        "print(\"Validation Set Size : \",val_X.shape)"
      ],
      "execution_count": null,
      "outputs": [
        {
          "output_type": "stream",
          "text": [
            "Training Set Size :  (4867,)\n",
            "Validation Set Size :  (860,)\n"
          ],
          "name": "stdout"
        }
      ]
    },
    {
      "cell_type": "code",
      "metadata": {
        "id": "myCucDXeYW-r"
      },
      "source": [
        "train_X"
      ],
      "execution_count": null,
      "outputs": []
    },
    {
      "cell_type": "markdown",
      "metadata": {
        "id": "pLMEzX_5moAb"
      },
      "source": [
        "### Set Distribution"
      ]
    },
    {
      "cell_type": "code",
      "metadata": {
        "id": "hLJ7avwmmnLm"
      },
      "source": [
        "# Train Data\n",
        "training_posts = train_X\n",
        "training_labels = train_y\n",
        "# Validation Set\n",
        "validation_posts = val_X\n",
        "validation_labels = val_y\n",
        "# Test Set \n",
        "test_posts = val_data['cleaned']\n",
        "test_labels = test_labels\n"
      ],
      "execution_count": null,
      "outputs": []
    },
    {
      "cell_type": "code",
      "metadata": {
        "id": "xlaHM7SnsaSR"
      },
      "source": [
        "test_labels"
      ],
      "execution_count": null,
      "outputs": []
    },
    {
      "cell_type": "code",
      "metadata": {
        "colab": {
          "base_uri": "https://localhost:8080/"
        },
        "id": "WTnepX-dm5rH",
        "outputId": "bb4978a0-76bd-4cdd-fff5-12914e9761f8"
      },
      "source": [
        "df = pd.concat([training_posts, another_series], axis=1)"
      ],
      "execution_count": null,
      "outputs": [
        {
          "output_type": "execute_result",
          "data": {
            "text/plain": [
              "pandas.core.series.Series"
            ]
          },
          "metadata": {
            "tags": []
          },
          "execution_count": 204
        }
      ]
    },
    {
      "cell_type": "code",
      "metadata": {
        "colab": {
          "base_uri": "https://localhost:8080/"
        },
        "id": "ipLBlKAcmyFF",
        "outputId": "c04a70b9-46d9-4cf6-cbee-f82987fc88ee"
      },
      "source": [
        "print(\"Shape of Training Set:--\",training_posts.shape[0],\"\\nShape of Validation Set:--\",validation_posts.shape[0],\n",
        "      \"\\nShape of Test Set:--\",test_posts.shape[0])"
      ],
      "execution_count": null,
      "outputs": [
        {
          "output_type": "stream",
          "text": [
            "Shape of Training Set:-- 4867 \n",
            "Shape of Validation Set:-- 860 \n",
            "Shape of Test Set:-- 811\n"
          ],
          "name": "stdout"
        }
      ]
    },
    {
      "cell_type": "markdown",
      "metadata": {
        "id": "7GOgaioWoFXl"
      },
      "source": [
        "### Tokenization"
      ]
    },
    {
      "cell_type": "code",
      "metadata": {
        "id": "tUDsqXBiosML"
      },
      "source": [
        "tokenizer = Tokenizer(num_words = 20000,filters='!\"#$%&()*+,-./:;<=>?@[\\\\]^_`{|}~\\t\\n-', \n",
        "                      split=' ', char_level=False, oov_token='<oov>', document_count=0)\n",
        "tokenizer.fit_on_texts(train_data['cleaned'])  \n",
        "vocab_size = len(tokenizer.word_index)+1"
      ],
      "execution_count": null,
      "outputs": []
    },
    {
      "cell_type": "code",
      "metadata": {
        "colab": {
          "base_uri": "https://localhost:8080/"
        },
        "id": "YG3JFPctoyHN",
        "outputId": "f9f188a9-1224-4cf8-d53c-99e562df8bb3"
      },
      "source": [
        "print(vocab_size)"
      ],
      "execution_count": null,
      "outputs": [
        {
          "output_type": "stream",
          "text": [
            "18889\n"
          ],
          "name": "stdout"
        }
      ]
    },
    {
      "cell_type": "code",
      "metadata": {
        "colab": {
          "base_uri": "https://localhost:8080/"
        },
        "id": "vuIZKEsqo48Y",
        "outputId": "6e6dd24b-acd2-4a3a-a3c4-dd6578f5c00f"
      },
      "source": [
        "max_len = 200\n",
        "# Training Sequences\n",
        "train_sequences = tokenizer.texts_to_sequences(training_posts)\n",
        "print(len(tokenizer.word_index))\n",
        "train_pad_sequences =  keras.preprocessing.sequence.pad_sequences(train_sequences, value=0.0, padding='post', maxlen= max_len)\n",
        "print(\"Number of Training Sequences :\" ,train_pad_sequences.shape)"
      ],
      "execution_count": null,
      "outputs": [
        {
          "output_type": "stream",
          "text": [
            "15779\n",
            "Number of Training Sequences : (4867, 200)\n"
          ],
          "name": "stdout"
        }
      ]
    },
    {
      "cell_type": "code",
      "metadata": {
        "colab": {
          "base_uri": "https://localhost:8080/"
        },
        "id": "EI7xBzpao8z2",
        "outputId": "fb2d1ce2-193e-4ef3-d028-e19bf743a5e7"
      },
      "source": [
        "# Validation Sequences\n",
        "validation_sequences = tokenizer.texts_to_sequences(validation_posts)\n",
        "validation_pad_sequences =  keras.preprocessing.sequence.pad_sequences(validation_sequences, value=0.0, padding='post', maxlen= max_len)\n",
        "print(\"Number of Validation Sequences :\" ,validation_pad_sequences.shape)"
      ],
      "execution_count": null,
      "outputs": [
        {
          "output_type": "stream",
          "text": [
            "Number of Validation Sequences : (860, 200)\n"
          ],
          "name": "stdout"
        }
      ]
    },
    {
      "cell_type": "code",
      "metadata": {
        "colab": {
          "base_uri": "https://localhost:8080/"
        },
        "id": "CIIf5LmDo_ZR",
        "outputId": "7eed2ba8-233c-4c3e-b513-8ba433099f19"
      },
      "source": [
        "# Test Sequences\n",
        "test_sequences = tokenizer.texts_to_sequences(test_posts)\n",
        "test_pad_sequences =  keras.preprocessing.sequence.pad_sequences(test_sequences, value=0.0, padding='post', maxlen= max_len)\n",
        "print(\"Number of Test Sequences :\" ,test_pad_sequences.shape)"
      ],
      "execution_count": null,
      "outputs": [
        {
          "output_type": "stream",
          "text": [
            "Number of Test Sequences : (811, 200)\n"
          ],
          "name": "stdout"
        }
      ]
    },
    {
      "cell_type": "code",
      "metadata": {
        "colab": {
          "base_uri": "https://localhost:8080/"
        },
        "id": "QevhoZ1Yj3J4",
        "outputId": "8f3ca76e-5ed4-4aef-a5e5-087ead637038"
      },
      "source": [
        "# Test Sequences\r\n",
        "new_sequences = tokenizer.texts_to_sequences(test_dataset['cleaned'])\r\n",
        "new_pad_sequences =  keras.preprocessing.sequence.pad_sequences(new_sequences, value=0.0, padding='post', maxlen= max_len)\r\n",
        "print(\"Number of Blind Test Sequences :\" ,new_pad_sequences.shape)"
      ],
      "execution_count": null,
      "outputs": [
        {
          "output_type": "stream",
          "text": [
            "Number of Blind Test Sequences : (1653, 200)\n"
          ],
          "name": "stdout"
        }
      ]
    },
    {
      "cell_type": "markdown",
      "metadata": {
        "id": "z1TwTA9YpFhw"
      },
      "source": [
        "## **BiLSTM Model**"
      ]
    },
    {
      "cell_type": "code",
      "metadata": {
        "colab": {
          "base_uri": "https://localhost:8080/"
        },
        "id": "LWQ9aN-7pI7g",
        "outputId": "27fbe4b5-c82e-4a76-cfae-785d9644d89a"
      },
      "source": [
        "num_classes = 5\n",
        "\n",
        "accuracy_threshold = 0.97\n",
        "\n",
        "class myCallback(keras.callbacks.Callback):\n",
        "  def on_epoch_end(self, epoch, logs={}):\n",
        "      if(logs.get('accuracy')>accuracy_threshold):\n",
        "        print(\"\\nReached %2.2f%% accuracy so we will stop trianing\" % (accuracy_threshold*100))\n",
        "        self.model.stop_training = True\n",
        "\n",
        "acc_callback = myCallback()\n",
        "# Saved the Best Model\n",
        "filepath = path+\"BiLSTMModel.h5\"\n",
        "checkpoint = keras.callbacks.ModelCheckpoint(filepath, monitor='val_accuracy', verbose=2, save_best_only=True, \n",
        "                                             save_weights_only=False, mode='max')\n",
        "# callback list\n",
        "callback_list = [acc_callback, checkpoint] \n",
        "model = tf.keras.models.Sequential([\n",
        "tf.keras.layers.Embedding(vocab_size, 64, input_length = max_len),\n",
        "tf.keras.layers.Conv1D(32,5,activation='relu'),\n",
        "tf.keras.layers.MaxPooling1D(5),\n",
        "#tf.keras.layers.Bidirectional(LSTM(units = 10,return_sequences=True,dropout = 0.2)),\n",
        "tf.keras.layers.Flatten(),\n",
        "tf.keras.layers.Dense(num_classes , activation='sigmoid')])\n",
        "\n",
        "model.summary()\n"
      ],
      "execution_count": null,
      "outputs": [
        {
          "output_type": "stream",
          "text": [
            "Model: \"sequential_1\"\n",
            "_________________________________________________________________\n",
            "Layer (type)                 Output Shape              Param #   \n",
            "=================================================================\n",
            "embedding_1 (Embedding)      (None, 200, 64)           1009920   \n",
            "_________________________________________________________________\n",
            "conv1d_1 (Conv1D)            (None, 196, 32)           10272     \n",
            "_________________________________________________________________\n",
            "max_pooling1d_1 (MaxPooling1 (None, 39, 32)            0         \n",
            "_________________________________________________________________\n",
            "flatten_1 (Flatten)          (None, 1248)              0         \n",
            "_________________________________________________________________\n",
            "dense_1 (Dense)              (None, 5)                 6245      \n",
            "=================================================================\n",
            "Total params: 1,026,437\n",
            "Trainable params: 1,026,437\n",
            "Non-trainable params: 0\n",
            "_________________________________________________________________\n"
          ],
          "name": "stdout"
        }
      ]
    },
    {
      "cell_type": "code",
      "metadata": {
        "colab": {
          "base_uri": "https://localhost:8080/"
        },
        "id": "AdHzQtR3pDmn",
        "outputId": "74cfe0e8-2a6e-4731-dd33-d04e0f6143ae"
      },
      "source": [
        "model.compile(optimizer=keras.optimizers.Adam(learning_rate=0.01),\n",
        "    loss='binary_crossentropy',\n",
        "    metrics=['accuracy'])\n",
        "   \n",
        "history = model.fit(train_pad_sequences,\n",
        "    training_labels,\n",
        "    epochs=15,\n",
        "    batch_size = 32,\n",
        "    validation_data=(validation_pad_sequences, validation_labels),\n",
        "    verbose =1,\n",
        "    callbacks = callback_list)"
      ],
      "execution_count": null,
      "outputs": [
        {
          "output_type": "stream",
          "text": [
            "Epoch 1/15\n",
            "152/153 [============================>.] - ETA: 0s - loss: 0.3844 - accuracy: 0.5851\n",
            "Epoch 00001: val_accuracy improved from -inf to 0.64070, saving model to /content/drive/My Drive/Colab Notebooks/NLP Projects/Constraint 2021/Hostility Detection/BiLSTMModel.h5\n",
            "153/153 [==============================] - 12s 79ms/step - loss: 0.3847 - accuracy: 0.5850 - val_loss: 0.3350 - val_accuracy: 0.6407\n",
            "Epoch 2/15\n",
            "153/153 [==============================] - ETA: 0s - loss: 0.2136 - accuracy: 0.7799\n",
            "Epoch 00002: val_accuracy improved from 0.64070 to 0.66977, saving model to /content/drive/My Drive/Colab Notebooks/NLP Projects/Constraint 2021/Hostility Detection/BiLSTMModel.h5\n",
            "153/153 [==============================] - 12s 81ms/step - loss: 0.2136 - accuracy: 0.7799 - val_loss: 0.3987 - val_accuracy: 0.6698\n",
            "Epoch 3/15\n",
            "153/153 [==============================] - ETA: 0s - loss: 0.0796 - accuracy: 0.9160\n",
            "Epoch 00003: val_accuracy did not improve from 0.66977\n",
            "153/153 [==============================] - 11s 75ms/step - loss: 0.0796 - accuracy: 0.9160 - val_loss: 0.5091 - val_accuracy: 0.6279\n",
            "Epoch 4/15\n",
            "153/153 [==============================] - ETA: 0s - loss: 0.0397 - accuracy: 0.9443\n",
            "Epoch 00004: val_accuracy did not improve from 0.66977\n",
            "153/153 [==============================] - 12s 77ms/step - loss: 0.0397 - accuracy: 0.9443 - val_loss: 0.5942 - val_accuracy: 0.6360\n",
            "Epoch 5/15\n",
            "152/153 [============================>.] - ETA: 0s - loss: 0.0290 - accuracy: 0.9422\n",
            "Epoch 00005: val_accuracy did not improve from 0.66977\n",
            "153/153 [==============================] - 12s 77ms/step - loss: 0.0289 - accuracy: 0.9423 - val_loss: 0.6761 - val_accuracy: 0.6337\n",
            "Epoch 6/15\n",
            "152/153 [============================>.] - ETA: 0s - loss: 0.0204 - accuracy: 0.9482\n",
            "Epoch 00006: val_accuracy did not improve from 0.66977\n",
            "153/153 [==============================] - 12s 78ms/step - loss: 0.0203 - accuracy: 0.9482 - val_loss: 0.6981 - val_accuracy: 0.6500\n",
            "Epoch 7/15\n",
            "153/153 [==============================] - ETA: 0s - loss: 0.0161 - accuracy: 0.9373\n",
            "Epoch 00007: val_accuracy did not improve from 0.66977\n",
            "153/153 [==============================] - 12s 79ms/step - loss: 0.0161 - accuracy: 0.9373 - val_loss: 0.6821 - val_accuracy: 0.6430\n",
            "Epoch 8/15\n",
            "153/153 [==============================] - ETA: 0s - loss: 0.0119 - accuracy: 0.9441\n",
            "Epoch 00008: val_accuracy did not improve from 0.66977\n",
            "153/153 [==============================] - 12s 79ms/step - loss: 0.0119 - accuracy: 0.9441 - val_loss: 0.7247 - val_accuracy: 0.6453\n",
            "Epoch 9/15\n",
            "152/153 [============================>.] - ETA: 0s - loss: 0.0096 - accuracy: 0.9453\n",
            "Epoch 00009: val_accuracy did not improve from 0.66977\n",
            "153/153 [==============================] - 12s 77ms/step - loss: 0.0096 - accuracy: 0.9453 - val_loss: 0.7271 - val_accuracy: 0.6337\n",
            "Epoch 10/15\n",
            "153/153 [==============================] - ETA: 0s - loss: 0.0086 - accuracy: 0.9408\n",
            "Epoch 00010: val_accuracy did not improve from 0.66977\n",
            "153/153 [==============================] - 12s 79ms/step - loss: 0.0086 - accuracy: 0.9408 - val_loss: 0.7642 - val_accuracy: 0.6384\n",
            "Epoch 11/15\n",
            "153/153 [==============================] - ETA: 0s - loss: 0.0071 - accuracy: 0.9472\n",
            "Epoch 00011: val_accuracy did not improve from 0.66977\n",
            "153/153 [==============================] - 12s 81ms/step - loss: 0.0071 - accuracy: 0.9472 - val_loss: 0.7617 - val_accuracy: 0.6349\n",
            "Epoch 12/15\n",
            "153/153 [==============================] - ETA: 0s - loss: 0.0066 - accuracy: 0.9488\n",
            "Epoch 00012: val_accuracy did not improve from 0.66977\n",
            "153/153 [==============================] - 12s 80ms/step - loss: 0.0066 - accuracy: 0.9488 - val_loss: 0.7893 - val_accuracy: 0.6419\n",
            "Epoch 13/15\n",
            "152/153 [============================>.] - ETA: 0s - loss: 0.0052 - accuracy: 0.9449\n",
            "Epoch 00013: val_accuracy did not improve from 0.66977\n",
            "153/153 [==============================] - 12s 77ms/step - loss: 0.0052 - accuracy: 0.9449 - val_loss: 0.8081 - val_accuracy: 0.6395\n",
            "Epoch 14/15\n",
            "153/153 [==============================] - ETA: 0s - loss: 0.0049 - accuracy: 0.9501\n",
            "Epoch 00014: val_accuracy did not improve from 0.66977\n",
            "153/153 [==============================] - 12s 79ms/step - loss: 0.0049 - accuracy: 0.9501 - val_loss: 0.8398 - val_accuracy: 0.6465\n",
            "Epoch 15/15\n",
            "152/153 [============================>.] - ETA: 0s - loss: 0.0049 - accuracy: 0.9496\n",
            "Epoch 00015: val_accuracy did not improve from 0.66977\n",
            "153/153 [==============================] - 12s 76ms/step - loss: 0.0049 - accuracy: 0.9495 - val_loss: 0.8638 - val_accuracy: 0.6488\n"
          ],
          "name": "stdout"
        }
      ]
    },
    {
      "cell_type": "code",
      "metadata": {
        "id": "7PfHLeCcr9DE"
      },
      "source": [
        "# Load the saved model\n",
        "model = load_model(path+'BiLSTMModel.h5')"
      ],
      "execution_count": null,
      "outputs": []
    },
    {
      "cell_type": "code",
      "metadata": {
        "colab": {
          "base_uri": "https://localhost:8080/"
        },
        "id": "uD4JRy5WsDc5",
        "outputId": "630984e8-b6f3-4263-fe3d-bf3873c3276e"
      },
      "source": [
        "predictions = model.predict(test_pad_sequences)\n",
        "y_pred = predictions > 0.4\n",
        "predicted_labels = y_pred.astype('uint8')\n",
        "print(\"F1-Score:\",f1_score(test_labels,predicted_labels,average='weighted'))\n",
        "print(\"Accuracy:\",accuracy_score(test_labels,predicted_labels))"
      ],
      "execution_count": null,
      "outputs": [
        {
          "output_type": "stream",
          "text": [
            "F1-Score: 0.6520488358660799\n",
            "Accuracy: 0.593094944512947\n"
          ],
          "name": "stdout"
        }
      ]
    },
    {
      "cell_type": "code",
      "metadata": {
        "colab": {
          "base_uri": "https://localhost:8080/"
        },
        "id": "-m8IkcqHsd6n",
        "outputId": "6fc61163-172c-49ec-bdb8-251f9b901b53"
      },
      "source": [
        "predicted_labels"
      ],
      "execution_count": null,
      "outputs": [
        {
          "output_type": "execute_result",
          "data": {
            "text/plain": [
              "array([[0, 0, 0, 1, 0],\n",
              "       [0, 1, 0, 0, 0],\n",
              "       [0, 0, 0, 1, 0],\n",
              "       ...,\n",
              "       [0, 0, 0, 1, 0],\n",
              "       [0, 1, 0, 0, 0],\n",
              "       [0, 1, 0, 0, 0]], dtype=uint8)"
            ]
          },
          "metadata": {
            "tags": []
          },
          "execution_count": 75
        }
      ]
    },
    {
      "cell_type": "code",
      "metadata": {
        "colab": {
          "base_uri": "https://localhost:8080/"
        },
        "id": "uwWya8tavBdq",
        "outputId": "47f9eb22-03b9-40d2-9f0a-d32adf04f381"
      },
      "source": [
        "predicted_labels.shape"
      ],
      "execution_count": null,
      "outputs": [
        {
          "output_type": "execute_result",
          "data": {
            "text/plain": [
              "(811, 5)"
            ]
          },
          "metadata": {
            "tags": []
          },
          "execution_count": 104
        }
      ]
    },
    {
      "cell_type": "code",
      "metadata": {
        "id": "pmMGbs-CsKVQ",
        "colab": {
          "base_uri": "https://localhost:8080/"
        },
        "outputId": "6f560157-2a94-4c7c-cbca-13dfbca9acd8"
      },
      "source": [
        "from sklearn.metrics import classification_report\n",
        "\n",
        "#Show precision and recall per genre\n",
        "print(classification_report(test_labels, predicted_labels, target_names=binary_labels.columns))"
      ],
      "execution_count": null,
      "outputs": [
        {
          "output_type": "stream",
          "text": [
            "              precision    recall  f1-score   support\n",
            "\n",
            "  defamation       0.26      0.21      0.23        77\n",
            "        fake       0.59      0.42      0.49       160\n",
            "        hate       0.43      0.44      0.43       110\n",
            " non-hostile       0.83      0.94      0.88       435\n",
            "   offensive       0.49      0.49      0.49       103\n",
            "\n",
            "   micro avg       0.67      0.67      0.67       885\n",
            "   macro avg       0.52      0.50      0.50       885\n",
            "weighted avg       0.65      0.67      0.65       885\n",
            " samples avg       0.66      0.69      0.66       885\n",
            "\n"
          ],
          "name": "stdout"
        }
      ]
    },
    {
      "cell_type": "markdown",
      "metadata": {
        "id": "I_19j3hDkJQP"
      },
      "source": [
        "##Predictions on Test Set"
      ]
    },
    {
      "cell_type": "code",
      "metadata": {
        "colab": {
          "base_uri": "https://localhost:8080/"
        },
        "id": "__1rAlsgjfdn",
        "outputId": "663f3a26-f3b9-4a5e-ec8c-ba3d70a8a2a7"
      },
      "source": [
        "pred = model.predict(new_pad_sequences)\r\n",
        "new_pred = pred > 0.4\r\n",
        "new_labels = new_pred.astype('uint8')\r\n",
        "new_labels"
      ],
      "execution_count": null,
      "outputs": [
        {
          "output_type": "execute_result",
          "data": {
            "text/plain": [
              "array([[0, 1, 1, 0, 0],\n",
              "       [0, 0, 0, 1, 0],\n",
              "       [0, 0, 0, 0, 0],\n",
              "       ...,\n",
              "       [0, 0, 0, 0, 1],\n",
              "       [0, 0, 0, 1, 0],\n",
              "       [0, 0, 0, 1, 0]], dtype=uint8)"
            ]
          },
          "metadata": {
            "tags": []
          },
          "execution_count": 69
        }
      ]
    },
    {
      "cell_type": "code",
      "metadata": {
        "colab": {
          "base_uri": "https://localhost:8080/"
        },
        "id": "lTdZpjvClQo9",
        "outputId": "02088110-d962-4a54-e946-d016cc3a922d"
      },
      "source": [
        "labels = multilabel.inverse_transform(new_labels)\r\n",
        "l = []\r\n",
        "for i in labels:\r\n",
        "  l.append(','.join(i))\r\n",
        "\r\n",
        "predict = pd.DataFrame({'Unique ID':test_dataset['Unique ID'],'Labels Set':l})\r\n",
        "predict\r\n",
        "predict['Labels Set'].value_counts()\r\n"
      ],
      "execution_count": null,
      "outputs": [
        {
          "output_type": "execute_result",
          "data": {
            "text/plain": [
              "non-hostile                                   970\n",
              "                                              184\n",
              "fake                                          145\n",
              "offensive                                      72\n",
              "hate,offensive                                 56\n",
              "hate                                           53\n",
              "defamation                                     32\n",
              "defamation,hate,offensive                      29\n",
              "defamation,hate                                25\n",
              "fake,hate                                      22\n",
              "fake,non-hostile                               16\n",
              "defamation,fake                                12\n",
              "defamation,offensive                            8\n",
              "defamation,fake,hate                            8\n",
              "hate,non-hostile                                6\n",
              "fake,offensive                                  5\n",
              "defamation,non-hostile                          4\n",
              "fake,hate,offensive                             3\n",
              "defamation,fake,hate,offensive                  1\n",
              "hate,non-hostile,offensive                      1\n",
              "defamation,fake,hate,non-hostile,offensive      1\n",
              "Name: Labels Set, dtype: int64"
            ]
          },
          "metadata": {
            "tags": []
          },
          "execution_count": 70
        }
      ]
    },
    {
      "cell_type": "code",
      "metadata": {
        "colab": {
          "base_uri": "https://localhost:8080/",
          "height": 419
        },
        "id": "U0iy8AY5lSTD",
        "outputId": "526ff350-f48e-4b61-9306-a0e13796d87e"
      },
      "source": [
        ""
      ],
      "execution_count": null,
      "outputs": [
        {
          "output_type": "execute_result",
          "data": {
            "text/html": [
              "<div>\n",
              "<style scoped>\n",
              "    .dataframe tbody tr th:only-of-type {\n",
              "        vertical-align: middle;\n",
              "    }\n",
              "\n",
              "    .dataframe tbody tr th {\n",
              "        vertical-align: top;\n",
              "    }\n",
              "\n",
              "    .dataframe thead th {\n",
              "        text-align: right;\n",
              "    }\n",
              "</style>\n",
              "<table border=\"1\" class=\"dataframe\">\n",
              "  <thead>\n",
              "    <tr style=\"text-align: right;\">\n",
              "      <th></th>\n",
              "      <th>Unique ID</th>\n",
              "      <th>Labels Set</th>\n",
              "    </tr>\n",
              "  </thead>\n",
              "  <tbody>\n",
              "    <tr>\n",
              "      <th>0</th>\n",
              "      <td>1</td>\n",
              "      <td>hate,offensive</td>\n",
              "    </tr>\n",
              "    <tr>\n",
              "      <th>1</th>\n",
              "      <td>2</td>\n",
              "      <td>non-hostile</td>\n",
              "    </tr>\n",
              "    <tr>\n",
              "      <th>2</th>\n",
              "      <td>3</td>\n",
              "      <td>defamation,fake,hate,offensive</td>\n",
              "    </tr>\n",
              "    <tr>\n",
              "      <th>3</th>\n",
              "      <td>4</td>\n",
              "      <td>fake,hate,offensive</td>\n",
              "    </tr>\n",
              "    <tr>\n",
              "      <th>4</th>\n",
              "      <td>5</td>\n",
              "      <td>fake</td>\n",
              "    </tr>\n",
              "    <tr>\n",
              "      <th>...</th>\n",
              "      <td>...</td>\n",
              "      <td>...</td>\n",
              "    </tr>\n",
              "    <tr>\n",
              "      <th>1648</th>\n",
              "      <td>1649</td>\n",
              "      <td>non-hostile</td>\n",
              "    </tr>\n",
              "    <tr>\n",
              "      <th>1649</th>\n",
              "      <td>1650</td>\n",
              "      <td>fake,non-hostile</td>\n",
              "    </tr>\n",
              "    <tr>\n",
              "      <th>1650</th>\n",
              "      <td>1651</td>\n",
              "      <td>defamation,hate,offensive</td>\n",
              "    </tr>\n",
              "    <tr>\n",
              "      <th>1651</th>\n",
              "      <td>1652</td>\n",
              "      <td>non-hostile</td>\n",
              "    </tr>\n",
              "    <tr>\n",
              "      <th>1652</th>\n",
              "      <td>1653</td>\n",
              "      <td>non-hostile</td>\n",
              "    </tr>\n",
              "  </tbody>\n",
              "</table>\n",
              "<p>1653 rows × 2 columns</p>\n",
              "</div>"
            ],
            "text/plain": [
              "      Unique ID                      Labels Set\n",
              "0             1                  hate,offensive\n",
              "1             2                     non-hostile\n",
              "2             3  defamation,fake,hate,offensive\n",
              "3             4             fake,hate,offensive\n",
              "4             5                            fake\n",
              "...         ...                             ...\n",
              "1648       1649                     non-hostile\n",
              "1649       1650                fake,non-hostile\n",
              "1650       1651       defamation,hate,offensive\n",
              "1651       1652                     non-hostile\n",
              "1652       1653                     non-hostile\n",
              "\n",
              "[1653 rows x 2 columns]"
            ]
          },
          "metadata": {
            "tags": []
          },
          "execution_count": 144
        }
      ]
    },
    {
      "cell_type": "code",
      "metadata": {
        "id": "HDtCm_MRnIEO"
      },
      "source": [
        "predict.to_csv(path +'Run1_LSTM_86.csv')"
      ],
      "execution_count": null,
      "outputs": []
    },
    {
      "cell_type": "code",
      "metadata": {
        "colab": {
          "base_uri": "https://localhost:8080/"
        },
        "id": "BPPTpFgjmlt9",
        "outputId": "c9ed829b-4a7a-41fb-feb5-03dd93503202"
      },
      "source": [
        ""
      ],
      "execution_count": null,
      "outputs": [
        {
          "output_type": "execute_result",
          "data": {
            "text/plain": [
              "non-hostile                       852\n",
              "fake,non-hostile                  275\n",
              "fake                              128\n",
              "defamation,hate,offensive         115\n",
              "defamation,fake,hate,offensive    102\n",
              "fake,hate                          86\n",
              "fake,hate,offensive                41\n",
              "hate                               16\n",
              "hate,non-hostile                   15\n",
              "hate,offensive                     14\n",
              "fake,hate,non-hostile               4\n",
              "defamation,fake,hate                3\n",
              "fake,non-hostile,offensive          1\n",
              "hate,non-hostile,offensive          1\n",
              "Name: Labels Set, dtype: int64"
            ]
          },
          "metadata": {
            "tags": []
          },
          "execution_count": 145
        }
      ]
    },
    {
      "cell_type": "code",
      "metadata": {
        "colab": {
          "base_uri": "https://localhost:8080/"
        },
        "id": "oTm40uaslhn_",
        "outputId": "bb2eba11-69b6-4242-c907-c9e761161922"
      },
      "source": [
        "test_dataset['Unique ID']"
      ],
      "execution_count": null,
      "outputs": [
        {
          "output_type": "execute_result",
          "data": {
            "text/plain": [
              "0          1\n",
              "1          2\n",
              "2          3\n",
              "3          4\n",
              "4          5\n",
              "        ... \n",
              "1648    1649\n",
              "1649    1650\n",
              "1650    1651\n",
              "1651    1652\n",
              "1652    1653\n",
              "Name: Unique ID, Length: 1653, dtype: int64"
            ]
          },
          "metadata": {
            "tags": []
          },
          "execution_count": 117
        }
      ]
    },
    {
      "cell_type": "code",
      "metadata": {
        "id": "Af4hJcwGlujN"
      },
      "source": [
        "train_data"
      ],
      "execution_count": null,
      "outputs": []
    },
    {
      "cell_type": "markdown",
      "metadata": {
        "id": "KNhmDNW1guYA"
      },
      "source": [
        "## ELMO"
      ]
    },
    {
      "cell_type": "code",
      "metadata": {
        "id": "xOM1sNm_gwzU"
      },
      "source": [
        "pip uninstall tensorflow"
      ],
      "execution_count": null,
      "outputs": []
    },
    {
      "cell_type": "code",
      "metadata": {
        "id": "v5DaOjFBhaa8"
      },
      "source": [
        "!pip install tensorflow==1.15"
      ],
      "execution_count": null,
      "outputs": []
    },
    {
      "cell_type": "code",
      "metadata": {
        "id": "N7C1slCa2X3B"
      },
      "source": [
        "!pip install tensorflow==2.3"
      ],
      "execution_count": null,
      "outputs": []
    },
    {
      "cell_type": "code",
      "metadata": {
        "colab": {
          "base_uri": "https://localhost:8080/",
          "height": 35
        },
        "id": "lDz-60c8hkhu",
        "outputId": "0078eca3-1908-4d34-fa87-2e59994ceff2"
      },
      "source": [
        "import tensorflow as tf\n",
        "print(\"Tensorflow Version:--\",tf.version.VERSION)\n",
        "print(\"Keras Version:---\",keras.__version__)"
      ],
      "execution_count": null,
      "outputs": [
        {
          "output_type": "execute_result",
          "data": {
            "application/vnd.google.colaboratory.intrinsic+json": {
              "type": "string"
            },
            "text/plain": [
              "'1.15.0'"
            ]
          },
          "metadata": {
            "tags": []
          },
          "execution_count": 28
        }
      ]
    },
    {
      "cell_type": "code",
      "metadata": {
        "id": "qPFxHoiPiBRW"
      },
      "source": [
        "import tensorflow_hub as hub\n",
        "import tensorflow as tf\n",
        "from tensorflow import keras"
      ],
      "execution_count": null,
      "outputs": []
    },
    {
      "cell_type": "code",
      "metadata": {
        "id": "B-WbmGgdiEyW"
      },
      "source": [
        "embed = hub.Module(\"https://tfhub.dev/google/elmo/2\", trainable=True)\n",
        "def ELMoEmbedding(x):\n",
        "    return embed(tf.squeeze(tf.cast(x,tf.string)),signature=\"default\",as_dict=True)[\"default\"]"
      ],
      "execution_count": null,
      "outputs": []
    },
    {
      "cell_type": "code",
      "metadata": {
        "id": "WF77x5Tao_gl"
      },
      "source": [
        "from tensorflow.keras import layers\n",
        "from tensorflow.keras.layers import Input, Lambda, Bidirectional, Dense, Dropout\n",
        "from tensorflow.keras.models import Model"
      ],
      "execution_count": null,
      "outputs": []
    },
    {
      "cell_type": "code",
      "metadata": {
        "colab": {
          "base_uri": "https://localhost:8080/"
        },
        "id": "gu7LT_N2pFYT",
        "outputId": "b702d3f0-d258-48d4-8966-64be4130cd17"
      },
      "source": [
        "num_classes = 5\n",
        "\n",
        "accuracy_threshold = 0.97\n",
        "\n",
        "class myCallback(keras.callbacks.Callback):\n",
        "  def on_epoch_end(self, epoch, logs={}):\n",
        "      if(logs.get('accuracy')>accuracy_threshold):\n",
        "        print(\"\\nReached %2.2f%% accuracy so we will stop trianing\" % (accuracy_threshold*100))\n",
        "        self.model.stop_training = True\n",
        "\n",
        "acc_callback = myCallback()\n",
        "# Saved the Best Model\n",
        "filepath = path+\"ELMOModel.h5\"\n",
        "checkpoint = keras.callbacks.ModelCheckpoint(filepath, monitor='val_accuracy', verbose=2, save_best_only=True, \n",
        "                                             save_weights_only=False, mode='max')\n",
        "# callback list\n",
        "callback_list = [acc_callback, checkpoint] \n",
        "\n",
        "\n",
        "# Build Model\n",
        "input_text = layers.Input(shape=(1,), dtype=tf.string)\n",
        "embedding = layers.Lambda(ELMoEmbedding, output_shape=(1024, ))(input_text)\n",
        "dense = layers.Dense(10, activation='relu')(embedding)\n",
        "pred = layers.Dense(5, activation='sigmoid')(dense)\n",
        "model = tf.keras.Model(inputs=[input_text], outputs=pred)\n",
        "model.compile(loss='binary_crossentropy', optimizer='adam', metrics=['accuracy'])\n",
        "model.summary()"
      ],
      "execution_count": null,
      "outputs": [
        {
          "output_type": "stream",
          "text": [
            "INFO:tensorflow:Saver not created because there are no variables in the graph to restore\n"
          ],
          "name": "stdout"
        },
        {
          "output_type": "stream",
          "text": [
            "INFO:tensorflow:Saver not created because there are no variables in the graph to restore\n"
          ],
          "name": "stderr"
        },
        {
          "output_type": "stream",
          "text": [
            "Model: \"model_4\"\n",
            "_________________________________________________________________\n",
            "Layer (type)                 Output Shape              Param #   \n",
            "=================================================================\n",
            "input_5 (InputLayer)         [(None, 1)]               0         \n",
            "_________________________________________________________________\n",
            "lambda_4 (Lambda)            (None, 1024)              0         \n",
            "_________________________________________________________________\n",
            "dense_8 (Dense)              (None, 10)                10250     \n",
            "_________________________________________________________________\n",
            "dense_9 (Dense)              (None, 5)                 55        \n",
            "=================================================================\n",
            "Total params: 10,305\n",
            "Trainable params: 10,305\n",
            "Non-trainable params: 0\n",
            "_________________________________________________________________\n"
          ],
          "name": "stdout"
        }
      ]
    },
    {
      "cell_type": "code",
      "metadata": {
        "colab": {
          "base_uri": "https://localhost:8080/"
        },
        "id": "XOiz9B4mpM5b",
        "outputId": "0f554fe5-aed5-4ab8-e070-c3cd7c8b9c61"
      },
      "source": [
        "with tf.Session() as session:\n",
        "    tf.keras.backend.set_session(session)\n",
        "    session.run(tf.global_variables_initializer())  \n",
        "    session.run(tf.tables_initializer())\n",
        "    history = model.fit(train, training_labels, \n",
        "                        validation_data=(validation_posts, validation_labels)\n",
        "                        ,epochs=20, batch_size=64, verbose =1)\n",
        "    model.save_weights(path+'elmo-model.h5')"
      ],
      "execution_count": null,
      "outputs": [
        {
          "output_type": "stream",
          "text": [
            "Train on 4867 samples, validate on 860 samples\n",
            "Epoch 1/20\n",
            "4867/4867 [==============================] - 48s 10ms/sample - loss: 0.4904 - acc: 0.7767 - val_loss: 0.4586 - val_acc: 0.7821\n",
            "Epoch 2/20\n",
            "4867/4867 [==============================] - 45s 9ms/sample - loss: 0.4577 - acc: 0.7948 - val_loss: 0.4478 - val_acc: 0.7974\n",
            "Epoch 3/20\n",
            "4867/4867 [==============================] - 45s 9ms/sample - loss: 0.4509 - acc: 0.8027 - val_loss: 0.4392 - val_acc: 0.8072\n",
            "Epoch 4/20\n",
            "4867/4867 [==============================] - 45s 9ms/sample - loss: 0.4463 - acc: 0.8041 - val_loss: 0.4393 - val_acc: 0.8156\n",
            "Epoch 5/20\n",
            "4867/4867 [==============================] - 44s 9ms/sample - loss: 0.4455 - acc: 0.8065 - val_loss: 0.4316 - val_acc: 0.8042\n",
            "Epoch 6/20\n",
            "4867/4867 [==============================] - 43s 9ms/sample - loss: 0.4387 - acc: 0.8082 - val_loss: 0.4310 - val_acc: 0.8123\n",
            "Epoch 7/20\n",
            "4867/4867 [==============================] - 44s 9ms/sample - loss: 0.4367 - acc: 0.8132 - val_loss: 0.4242 - val_acc: 0.8242\n",
            "Epoch 8/20\n",
            "4867/4867 [==============================] - 44s 9ms/sample - loss: 0.4307 - acc: 0.8164 - val_loss: 0.4207 - val_acc: 0.8165\n",
            "Epoch 9/20\n",
            "4867/4867 [==============================] - 43s 9ms/sample - loss: 0.4277 - acc: 0.8159 - val_loss: 0.4170 - val_acc: 0.8240\n",
            "Epoch 10/20\n",
            "4867/4867 [==============================] - 43s 9ms/sample - loss: 0.4260 - acc: 0.8192 - val_loss: 0.4274 - val_acc: 0.8281\n",
            "Epoch 11/20\n",
            "4867/4867 [==============================] - 44s 9ms/sample - loss: 0.4290 - acc: 0.8228 - val_loss: 0.4226 - val_acc: 0.8249\n",
            "Epoch 12/20\n",
            "4867/4867 [==============================] - 45s 9ms/sample - loss: 0.4193 - acc: 0.8233 - val_loss: 0.4192 - val_acc: 0.8342\n",
            "Epoch 13/20\n",
            "4867/4867 [==============================] - 43s 9ms/sample - loss: 0.4165 - acc: 0.8260 - val_loss: 0.4100 - val_acc: 0.8340\n",
            "Epoch 14/20\n",
            "4867/4867 [==============================] - 43s 9ms/sample - loss: 0.4138 - acc: 0.8257 - val_loss: 0.4072 - val_acc: 0.8344\n",
            "Epoch 15/20\n",
            "4867/4867 [==============================] - 44s 9ms/sample - loss: 0.4117 - acc: 0.8262 - val_loss: 0.4031 - val_acc: 0.8319\n",
            "Epoch 16/20\n",
            "4867/4867 [==============================] - 44s 9ms/sample - loss: 0.4079 - acc: 0.8296 - val_loss: 0.4046 - val_acc: 0.8351\n",
            "Epoch 17/20\n",
            "4867/4867 [==============================] - 43s 9ms/sample - loss: 0.4068 - acc: 0.8311 - val_loss: 0.3997 - val_acc: 0.8363\n",
            "Epoch 18/20\n",
            "4867/4867 [==============================] - 44s 9ms/sample - loss: 0.4045 - acc: 0.8324 - val_loss: 0.3996 - val_acc: 0.8351\n",
            "Epoch 19/20\n",
            "4867/4867 [==============================] - 44s 9ms/sample - loss: 0.4008 - acc: 0.8346 - val_loss: 0.3997 - val_acc: 0.8360\n",
            "Epoch 20/20\n",
            "4867/4867 [==============================] - 44s 9ms/sample - loss: 0.4007 - acc: 0.8344 - val_loss: 0.3976 - val_acc: 0.8330\n"
          ],
          "name": "stdout"
        }
      ]
    },
    {
      "cell_type": "code",
      "metadata": {
        "id": "bR_wGUS7rpxd"
      },
      "source": [
        "# Predict Test data\n",
        "with tf.Session() as session:\n",
        "    tf.keras.backend.set_session(session)\n",
        "    session.run(tf.global_variables_initializer())\n",
        "    session.run(tf.tables_initializer())\n",
        "    model.load_weights(path+'elmo-model.h5')  \n",
        "    predicts = model.predict(np.asarray(test_posts), batch_size=32)\n"
      ],
      "execution_count": null,
      "outputs": []
    },
    {
      "cell_type": "code",
      "metadata": {
        "id": "EkZWr0gftpME"
      },
      "source": [
        "space = np.linspace(0.1,1,20).tolist()\n",
        "space"
      ],
      "execution_count": null,
      "outputs": []
    },
    {
      "cell_type": "code",
      "metadata": {
        "id": "GjjV5kEPsDdS"
      },
      "source": [
        "for i in space:\n",
        "  y_pred = predicts > i\n",
        "  predicted_labels = y_pred.astype('uint8')\n",
        "  print(f\"Threshold:----> {i}\")\n",
        "  print(\"F1-Score:\",f1_score(test_labels,predicted_labels,average='micro'))\n",
        "  print(\"Accuracy:\",accuracy_score(test_labels,predicted_labels))"
      ],
      "execution_count": null,
      "outputs": []
    },
    {
      "cell_type": "code",
      "metadata": {
        "colab": {
          "base_uri": "https://localhost:8080/"
        },
        "id": "16UtE-2d1IhF",
        "outputId": "add69da2-d64a-4d09-9081-b9c739c3f41a"
      },
      "source": [
        "y_pred = predicts > 0.2\n",
        "predicted_labels = y_pred.astype('uint8')\n",
        "print(\"F1-Score:\",f1_score(test_labels,predicted_labels,average='micro'))\n",
        "print(\"Accuracy:\",accuracy_score(test_labels,predicted_labels))"
      ],
      "execution_count": null,
      "outputs": [
        {
          "output_type": "stream",
          "text": [
            "F1-Score: 0.524793388429752\n",
            "Accuracy: 0.3600493218249075\n"
          ],
          "name": "stdout"
        }
      ]
    },
    {
      "cell_type": "code",
      "metadata": {
        "colab": {
          "base_uri": "https://localhost:8080/"
        },
        "id": "dz_dDtt7sYkE",
        "outputId": "eb5cf070-d86a-451d-cb53-eadb33feac98"
      },
      "source": [
        "predicted_labels"
      ],
      "execution_count": null,
      "outputs": [
        {
          "output_type": "execute_result",
          "data": {
            "text/plain": [
              "array([[0, 0, 0, 1, 0],\n",
              "       [1, 1, 1, 1, 1],\n",
              "       [0, 0, 0, 1, 0],\n",
              "       ...,\n",
              "       [0, 0, 0, 1, 0],\n",
              "       [0, 0, 0, 1, 0],\n",
              "       [0, 1, 0, 1, 0]], dtype=uint8)"
            ]
          },
          "metadata": {
            "tags": []
          },
          "execution_count": 87
        }
      ]
    },
    {
      "cell_type": "code",
      "metadata": {
        "colab": {
          "base_uri": "https://localhost:8080/"
        },
        "id": "HYivFxnrsL-a",
        "outputId": "9783a73a-4c39-4fa5-f757-914769958765"
      },
      "source": [
        "from sklearn.metrics import classification_report\n",
        "\n",
        "#Show precision and recall per genre\n",
        "print(classification_report(test_labels, predicted_labels, target_names=binary_labels.columns))"
      ],
      "execution_count": null,
      "outputs": [
        {
          "output_type": "stream",
          "text": [
            "              precision    recall  f1-score   support\n",
            "\n",
            "  defamation       0.28      0.17      0.21        77\n",
            "        fake       0.24      0.62      0.35       160\n",
            "        hate       0.30      0.44      0.35       110\n",
            " non-hostile       0.54      1.00      0.70       435\n",
            "   offensive       0.40      0.38      0.39       103\n",
            "\n",
            "   micro avg       0.41      0.72      0.52       885\n",
            "   macro avg       0.35      0.52      0.40       885\n",
            "weighted avg       0.41      0.72      0.51       885\n",
            " samples avg       0.52      0.75      0.59       885\n",
            "\n"
          ],
          "name": "stdout"
        }
      ]
    }
  ]
}
