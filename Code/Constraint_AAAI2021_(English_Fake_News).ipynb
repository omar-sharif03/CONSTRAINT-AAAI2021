{
  "nbformat": 4,
  "nbformat_minor": 0,
  "metadata": {
    "colab": {
      "name": "Constraint@AAAI2021 (English Fake News)",
      "provenance": [],
      "collapsed_sections": [],
      "toc_visible": true,
      "mount_file_id": "1fbhYZ9S-brLaL0VBCNaSbGOX6b7YQtow",
      "authorship_tag": "ABX9TyMiL4AnFCWHuLs1XaQljcr2",
      "include_colab_link": true
    },
    "kernelspec": {
      "name": "python3",
      "display_name": "Python 3"
    },
    "accelerator": "GPU"
  },
  "cells": [
    {
      "cell_type": "markdown",
      "metadata": {
        "id": "view-in-github",
        "colab_type": "text"
      },
      "source": [
        "<a href=\"https://colab.research.google.com/github/omar-sharif03/CONSTRAINT-AAAI2021/blob/main/Code/Constraint_AAAI2021_(English_Fake_News).ipynb\" target=\"_parent\"><img src=\"https://colab.research.google.com/assets/colab-badge.svg\" alt=\"Open In Colab\"/></a>"
      ]
    },
    {
      "cell_type": "code",
      "metadata": {
        "id": "IsiomrH1QnPk",
        "colab": {
          "base_uri": "https://localhost:8080/"
        },
        "outputId": "b746d62d-d0ea-4e30-9c81-b32b0df9aa8c"
      },
      "source": [
        "%%time\n",
        "import os\n",
        "from glob import glob\n",
        "import numpy as np\n",
        "import matplotlib.pyplot as plt\n",
        "%matplotlib inline\n",
        "import pandas as pd\n",
        "import seaborn as sns\n",
        "import re\n",
        "import nltk\n",
        "import json\n",
        "import tensorflow as tf\n",
        "from tensorflow import keras\n",
        "from tensorflow.keras import regularizers\n",
        "from keras import models\n",
        "from keras import layers\n",
        "from tensorflow.keras.layers import LSTM,GRU\n",
        "from tensorflow.keras.models import load_model\n",
        "from sklearn.metrics import confusion_matrix\n",
        "from sklearn.metrics import classification_report \n",
        "from sklearn.model_selection import train_test_split\n",
        "from sklearn.linear_model import LogisticRegression\n",
        "from sklearn.tree import DecisionTreeClassifier\n",
        "from sklearn.ensemble import RandomForestClassifier\n",
        "from sklearn.naive_bayes import MultinomialNB\n",
        "from sklearn.svm import SVC\n",
        "from sklearn.metrics import accuracy_score,precision_score,recall_score,f1_score,roc_auc_score\n",
        "from sklearn.metrics import average_precision_score,roc_auc_score, roc_curve, precision_recall_curve\n",
        "from sklearn.preprocessing import LabelEncoder\n",
        "from sklearn.feature_extraction.text import TfidfVectorizer\n",
        "from tensorflow.keras.preprocessing.text import Tokenizer\n",
        "np.random.seed(42)\n",
        "class color: # Text style\n",
        "   PURPLE = '\\033[95m'\n",
        "   CYAN = '\\033[96m'\n",
        "   DARKCYAN = '\\033[36m'\n",
        "   BLUE = '\\033[94m'\n",
        "   GREEN = '\\033[92m'\n",
        "   YELLOW = '\\033[93m'\n",
        "   RED = '\\033[91m'\n",
        "   BOLD = '\\033[1m'\n",
        "   UNDERLINE = '\\033[4m'\n",
        "   END = '\\033[0m'\n",
        "import nltk\n",
        "nltk.download('punkt')\n",
        "from nltk.corpus import stopwords\n",
        "\n",
        "from nltk.tokenize import word_tokenize"
      ],
      "execution_count": null,
      "outputs": [
        {
          "output_type": "stream",
          "text": [
            "[nltk_data] Downloading package punkt to /root/nltk_data...\n",
            "[nltk_data]   Unzipping tokenizers/punkt.zip.\n",
            "CPU times: user 1.9 s, sys: 220 ms, total: 2.12 s\n",
            "Wall time: 2.98 s\n"
          ],
          "name": "stdout"
        }
      ]
    },
    {
      "cell_type": "code",
      "metadata": {
        "id": "p3cICkT2OR7E",
        "colab": {
          "base_uri": "https://localhost:8080/"
        },
        "outputId": "1b5d0a0d-9ab6-4742-ea66-4ae6da759414"
      },
      "source": [
        "print(tf.__version__)\n",
        "print(keras.__version__)"
      ],
      "execution_count": null,
      "outputs": [
        {
          "output_type": "stream",
          "text": [
            "2.3.0\n",
            "2.4.0\n"
          ],
          "name": "stdout"
        }
      ]
    },
    {
      "cell_type": "markdown",
      "metadata": {
        "id": "zu3Seb4f7MiG"
      },
      "source": [
        "##Data Fetching"
      ]
    },
    {
      "cell_type": "code",
      "metadata": {
        "id": "iGXpNuzWSfb9",
        "colab": {
          "base_uri": "https://localhost:8080/"
        },
        "outputId": "c41cfa97-f609-4e9e-b9ad-5c9e77c86b24"
      },
      "source": [
        "%%time\n",
        "train_filename = \"/content/drive/My Drive/SharedTasksParticipation/SharedTask@Constraint@AAAI2021/Constraint_English_Train.xlsx\"\n",
        "val_filename = \"/content/drive/My Drive/SharedTasksParticipation/SharedTask@Constraint@AAAI2021/Constraint_English_Val.xlsx\"\n",
        "\n",
        "train_data = pd.read_excel(train_filename)\n",
        "validation_data = pd.read_excel(val_filename)"
      ],
      "execution_count": null,
      "outputs": [
        {
          "output_type": "stream",
          "text": [
            "CPU times: user 339 ms, sys: 11.9 ms, total: 351 ms\n",
            "Wall time: 8.38 s\n"
          ],
          "name": "stdout"
        }
      ]
    },
    {
      "cell_type": "code",
      "metadata": {
        "id": "EnujplO-ObC6",
        "colab": {
          "base_uri": "https://localhost:8080/"
        },
        "outputId": "20cfb913-22cb-42c6-dfc9-ae4c42f7c7e4"
      },
      "source": [
        "print(\"Size of the training data ==> \", train_data.shape)\n",
        "print(\"Size of the validation data ==>\", validation_data.shape)"
      ],
      "execution_count": null,
      "outputs": [
        {
          "output_type": "stream",
          "text": [
            "Size of the training data ==>  (6420, 3)\n",
            "Size of the validation data ==> (2140, 3)\n"
          ],
          "name": "stdout"
        }
      ]
    },
    {
      "cell_type": "code",
      "metadata": {
        "id": "d6MUcHI3O8vD",
        "colab": {
          "base_uri": "https://localhost:8080/"
        },
        "outputId": "e9703f16-f761-4264-fc60-e80e2de09dfc"
      },
      "source": [
        "## Mapping the labels real=0, fake=1\n",
        "train_data['training_label']= train_data.label.replace({'real':0,'fake':1})\n",
        "print(train_data.head(10))"
      ],
      "execution_count": null,
      "outputs": [
        {
          "output_type": "stream",
          "text": [
            "   id                                              tweet label  training_label\n",
            "0   1  The CDC currently reports 99031 deaths. In gen...  real               0\n",
            "1   2  States reported 1121 deaths a small rise from ...  real               0\n",
            "2   3  Politically Correct Woman (Almost) Uses Pandem...  fake               1\n",
            "3   4  #IndiaFightsCorona: We have 1524 #COVID testin...  real               0\n",
            "4   5  Populous states can generate large case counts...  real               0\n",
            "5   6  Covid Act Now found \"on average each person in...  real               0\n",
            "6   7  If you tested positive for #COVID19 and have n...  real               0\n",
            "7   8  Obama Calls Trump’s Coronavirus Response A Cha...  fake               1\n",
            "8   9  ???Clearly, the Obama administration did not l...  fake               1\n",
            "9  10  Retraction—Hydroxychloroquine or chloroquine w...  fake               1\n"
          ],
          "name": "stdout"
        }
      ]
    },
    {
      "cell_type": "code",
      "metadata": {
        "colab": {
          "base_uri": "https://localhost:8080/",
          "height": 359
        },
        "id": "sgDLEF-gBUre",
        "outputId": "fa90be7a-40d9-4392-d6e5-2661c0c374e2"
      },
      "source": [
        "validation_data['validation_label']= validation_data.label.replace({'real':0,'fake':1})\n",
        "validation_data.head(10)"
      ],
      "execution_count": null,
      "outputs": [
        {
          "output_type": "execute_result",
          "data": {
            "text/html": [
              "<div>\n",
              "<style scoped>\n",
              "    .dataframe tbody tr th:only-of-type {\n",
              "        vertical-align: middle;\n",
              "    }\n",
              "\n",
              "    .dataframe tbody tr th {\n",
              "        vertical-align: top;\n",
              "    }\n",
              "\n",
              "    .dataframe thead th {\n",
              "        text-align: right;\n",
              "    }\n",
              "</style>\n",
              "<table border=\"1\" class=\"dataframe\">\n",
              "  <thead>\n",
              "    <tr style=\"text-align: right;\">\n",
              "      <th></th>\n",
              "      <th>id</th>\n",
              "      <th>tweet</th>\n",
              "      <th>label</th>\n",
              "      <th>validation_label</th>\n",
              "    </tr>\n",
              "  </thead>\n",
              "  <tbody>\n",
              "    <tr>\n",
              "      <th>0</th>\n",
              "      <td>1</td>\n",
              "      <td>Chinese converting to Islam after realising th...</td>\n",
              "      <td>fake</td>\n",
              "      <td>1</td>\n",
              "    </tr>\n",
              "    <tr>\n",
              "      <th>1</th>\n",
              "      <td>2</td>\n",
              "      <td>11 out of 13 people (from the Diamond Princess...</td>\n",
              "      <td>fake</td>\n",
              "      <td>1</td>\n",
              "    </tr>\n",
              "    <tr>\n",
              "      <th>2</th>\n",
              "      <td>3</td>\n",
              "      <td>COVID-19 Is Caused By A Bacterium, Not Virus A...</td>\n",
              "      <td>fake</td>\n",
              "      <td>1</td>\n",
              "    </tr>\n",
              "    <tr>\n",
              "      <th>3</th>\n",
              "      <td>4</td>\n",
              "      <td>Mike Pence in RNC speech praises Donald Trump’...</td>\n",
              "      <td>fake</td>\n",
              "      <td>1</td>\n",
              "    </tr>\n",
              "    <tr>\n",
              "      <th>4</th>\n",
              "      <td>5</td>\n",
              "      <td>6/10 Sky's @EdConwaySky explains the latest #C...</td>\n",
              "      <td>real</td>\n",
              "      <td>0</td>\n",
              "    </tr>\n",
              "    <tr>\n",
              "      <th>5</th>\n",
              "      <td>6</td>\n",
              "      <td>No one can leave managed isolation for any rea...</td>\n",
              "      <td>real</td>\n",
              "      <td>0</td>\n",
              "    </tr>\n",
              "    <tr>\n",
              "      <th>6</th>\n",
              "      <td>7</td>\n",
              "      <td>#IndiaFightsCorona India has one of the lowest...</td>\n",
              "      <td>real</td>\n",
              "      <td>0</td>\n",
              "    </tr>\n",
              "    <tr>\n",
              "      <th>7</th>\n",
              "      <td>8</td>\n",
              "      <td>RT @WHO: #COVID19 transmission occurs primaril...</td>\n",
              "      <td>real</td>\n",
              "      <td>0</td>\n",
              "    </tr>\n",
              "    <tr>\n",
              "      <th>8</th>\n",
              "      <td>9</td>\n",
              "      <td>News and media outlet ABP Majha on the basis o...</td>\n",
              "      <td>fake</td>\n",
              "      <td>1</td>\n",
              "    </tr>\n",
              "    <tr>\n",
              "      <th>9</th>\n",
              "      <td>10</td>\n",
              "      <td>???Church services can???t resume until we???r...</td>\n",
              "      <td>fake</td>\n",
              "      <td>1</td>\n",
              "    </tr>\n",
              "  </tbody>\n",
              "</table>\n",
              "</div>"
            ],
            "text/plain": [
              "   id  ... validation_label\n",
              "0   1  ...                1\n",
              "1   2  ...                1\n",
              "2   3  ...                1\n",
              "3   4  ...                1\n",
              "4   5  ...                0\n",
              "5   6  ...                0\n",
              "6   7  ...                0\n",
              "7   8  ...                0\n",
              "8   9  ...                1\n",
              "9  10  ...                1\n",
              "\n",
              "[10 rows x 4 columns]"
            ]
          },
          "metadata": {
            "tags": []
          },
          "execution_count": 7
        }
      ]
    },
    {
      "cell_type": "code",
      "metadata": {
        "id": "S8L2m2pJPewX",
        "colab": {
          "base_uri": "https://localhost:8080/"
        },
        "outputId": "45b8256d-a6ca-4a96-a7df-1d0dca34f55f"
      },
      "source": [
        "import nltk\n",
        "nltk.download('punkt')\n",
        "nltk.download('stopwords')\n",
        "from nltk.corpus import stopwords\n",
        "from nltk.tokenize import word_tokenize"
      ],
      "execution_count": null,
      "outputs": [
        {
          "output_type": "stream",
          "text": [
            "[nltk_data] Downloading package punkt to /root/nltk_data...\n",
            "[nltk_data]   Package punkt is already up-to-date!\n",
            "[nltk_data] Downloading package stopwords to /root/nltk_data...\n",
            "[nltk_data]   Unzipping corpora/stopwords.zip.\n"
          ],
          "name": "stdout"
        }
      ]
    },
    {
      "cell_type": "markdown",
      "metadata": {
        "id": "lLe2eMBF8nur"
      },
      "source": [
        "#Data Cleaning"
      ]
    },
    {
      "cell_type": "code",
      "metadata": {
        "id": "UDsDEPW-PTvf",
        "colab": {
          "base_uri": "https://localhost:8080/"
        },
        "outputId": "05892830-8f57-4053-a9dc-9566372f712e"
      },
      "source": [
        "%%time\n",
        "## Cleaning the data. Removing newlines, unnecessary symbols\n",
        "\n",
        "punctuations = '''’'!()-[]{};:'\"\\,<>./?@#$%^&*_~�'''\n",
        "\n",
        "\n",
        "\n",
        "def remove_punctuation_url(d):\n",
        "    d=d.lower()\n",
        "    d = re.sub(r'(https|http)?:\\/\\/(\\w|\\.|\\/|\\?|\\=|\\&|\\%)*\\b', '', d, flags=re.MULTILINE) #This line is for removing url\n",
        "    review = d.replace('\\n', '')\n",
        "    no_punct = \"\"\n",
        "    for char in review:\n",
        "      if char not in punctuations:\n",
        "         no_punct = no_punct + char\n",
        "    return no_punct\n",
        "\n",
        "def remove_stopwords(d):\n",
        "  text_tokens = word_tokenize(d.lower())\n",
        "  tokens_without_sw = [word for word in text_tokens if not word in stopwords.words('english')]\n",
        "  ls = \"\"\n",
        "  for w in tokens_without_sw:\n",
        "    ls = ls +\" \"+w.lower()\n",
        "  return ls\n",
        "\n",
        "#removing URLs and Punctuations\n",
        "#train_data['cleaned'] = train_data['tweet'].apply(remove_url)\n",
        "#Removing punctuations\n",
        "train_data['cleaned'] = train_data['tweet'].apply(remove_punctuation_url)\n",
        "validation_data['cleaned'] = validation_data['tweet'].apply(remove_punctuation_url)\n",
        "#Removing stop words\n",
        "#train_data['cleaned'] = train_data['cleaned'].apply(remove_stopwords)\n",
        "\n",
        "## Data samples after cleaning\n",
        "print(\"Data samples after cleaning:\\n\")\n",
        "for i in range(10):\n",
        "  print(train_data.cleaned[i])"
      ],
      "execution_count": null,
      "outputs": [
        {
          "output_type": "stream",
          "text": [
            "Data samples after cleaning:\n",
            "\n",
            "the cdc currently reports 99031 deaths in general the discrepancies in death counts between different sources are small and explicable the death toll stands at roughly 100000 people today\n",
            "states reported 1121 deaths a small rise from last tuesday southern states reported 640 of those deaths \n",
            "politically correct woman almost uses pandemic as excuse not to reuse plastic bag  coronavirus nashville\n",
            "indiafightscorona we have 1524 covid testing laboratories in india and as on 25th august 2020 36827520 tests have been done  profbhargava dg icmrdelhi staysafe indiawillwin \n",
            "populous states can generate large case counts but if you look at the new cases per million today 9 smaller states are showing more cases per million than california or texas al ar id ks ky la ms nv and sc \n",
            "covid act now found on average each person in illinois with covid19 is infecting 111 other people data shows that the infection growth rate has declined over time this factors in the stayathome order and other restrictions put in place \n",
            "if you tested positive for covid19 and have no symptoms stay home and away from other people learn more about cdcs recommendations about when you can be around others after covid19 infection  \n",
            "obama calls trumps coronavirus response a chaotic disaster \n",
            "clearly the obama administration did not leave any kind of game plan for something like this\n",
            "retraction—hydroxychloroquine or chloroquine with or without a macrolide for treatment of covid19 a multinational registry analysis  the lancet \n",
            "CPU times: user 228 ms, sys: 3.5 ms, total: 232 ms\n",
            "Wall time: 233 ms\n"
          ],
          "name": "stdout"
        }
      ]
    },
    {
      "cell_type": "code",
      "metadata": {
        "id": "_TEVbgJBPpie",
        "colab": {
          "base_uri": "https://localhost:8080/",
          "height": 359
        },
        "outputId": "3b558b61-ef05-4dbc-d763-cd51fb1d7be2"
      },
      "source": [
        "train_data.head(10)\n",
        "# Now we have raw text, label and cleaned data"
      ],
      "execution_count": null,
      "outputs": [
        {
          "output_type": "execute_result",
          "data": {
            "text/html": [
              "<div>\n",
              "<style scoped>\n",
              "    .dataframe tbody tr th:only-of-type {\n",
              "        vertical-align: middle;\n",
              "    }\n",
              "\n",
              "    .dataframe tbody tr th {\n",
              "        vertical-align: top;\n",
              "    }\n",
              "\n",
              "    .dataframe thead th {\n",
              "        text-align: right;\n",
              "    }\n",
              "</style>\n",
              "<table border=\"1\" class=\"dataframe\">\n",
              "  <thead>\n",
              "    <tr style=\"text-align: right;\">\n",
              "      <th></th>\n",
              "      <th>id</th>\n",
              "      <th>tweet</th>\n",
              "      <th>label</th>\n",
              "      <th>training_label</th>\n",
              "      <th>cleaned</th>\n",
              "    </tr>\n",
              "  </thead>\n",
              "  <tbody>\n",
              "    <tr>\n",
              "      <th>0</th>\n",
              "      <td>1</td>\n",
              "      <td>The CDC currently reports 99031 deaths. In gen...</td>\n",
              "      <td>real</td>\n",
              "      <td>0</td>\n",
              "      <td>the cdc currently reports 99031 deaths in gene...</td>\n",
              "    </tr>\n",
              "    <tr>\n",
              "      <th>1</th>\n",
              "      <td>2</td>\n",
              "      <td>States reported 1121 deaths a small rise from ...</td>\n",
              "      <td>real</td>\n",
              "      <td>0</td>\n",
              "      <td>states reported 1121 deaths a small rise from ...</td>\n",
              "    </tr>\n",
              "    <tr>\n",
              "      <th>2</th>\n",
              "      <td>3</td>\n",
              "      <td>Politically Correct Woman (Almost) Uses Pandem...</td>\n",
              "      <td>fake</td>\n",
              "      <td>1</td>\n",
              "      <td>politically correct woman almost uses pandemic...</td>\n",
              "    </tr>\n",
              "    <tr>\n",
              "      <th>3</th>\n",
              "      <td>4</td>\n",
              "      <td>#IndiaFightsCorona: We have 1524 #COVID testin...</td>\n",
              "      <td>real</td>\n",
              "      <td>0</td>\n",
              "      <td>indiafightscorona we have 1524 covid testing l...</td>\n",
              "    </tr>\n",
              "    <tr>\n",
              "      <th>4</th>\n",
              "      <td>5</td>\n",
              "      <td>Populous states can generate large case counts...</td>\n",
              "      <td>real</td>\n",
              "      <td>0</td>\n",
              "      <td>populous states can generate large case counts...</td>\n",
              "    </tr>\n",
              "    <tr>\n",
              "      <th>5</th>\n",
              "      <td>6</td>\n",
              "      <td>Covid Act Now found \"on average each person in...</td>\n",
              "      <td>real</td>\n",
              "      <td>0</td>\n",
              "      <td>covid act now found on average each person in ...</td>\n",
              "    </tr>\n",
              "    <tr>\n",
              "      <th>6</th>\n",
              "      <td>7</td>\n",
              "      <td>If you tested positive for #COVID19 and have n...</td>\n",
              "      <td>real</td>\n",
              "      <td>0</td>\n",
              "      <td>if you tested positive for covid19 and have no...</td>\n",
              "    </tr>\n",
              "    <tr>\n",
              "      <th>7</th>\n",
              "      <td>8</td>\n",
              "      <td>Obama Calls Trump’s Coronavirus Response A Cha...</td>\n",
              "      <td>fake</td>\n",
              "      <td>1</td>\n",
              "      <td>obama calls trumps coronavirus response a chao...</td>\n",
              "    </tr>\n",
              "    <tr>\n",
              "      <th>8</th>\n",
              "      <td>9</td>\n",
              "      <td>???Clearly, the Obama administration did not l...</td>\n",
              "      <td>fake</td>\n",
              "      <td>1</td>\n",
              "      <td>clearly the obama administration did not leave...</td>\n",
              "    </tr>\n",
              "    <tr>\n",
              "      <th>9</th>\n",
              "      <td>10</td>\n",
              "      <td>Retraction—Hydroxychloroquine or chloroquine w...</td>\n",
              "      <td>fake</td>\n",
              "      <td>1</td>\n",
              "      <td>retraction—hydroxychloroquine or chloroquine w...</td>\n",
              "    </tr>\n",
              "  </tbody>\n",
              "</table>\n",
              "</div>"
            ],
            "text/plain": [
              "   id  ...                                            cleaned\n",
              "0   1  ...  the cdc currently reports 99031 deaths in gene...\n",
              "1   2  ...  states reported 1121 deaths a small rise from ...\n",
              "2   3  ...  politically correct woman almost uses pandemic...\n",
              "3   4  ...  indiafightscorona we have 1524 covid testing l...\n",
              "4   5  ...  populous states can generate large case counts...\n",
              "5   6  ...  covid act now found on average each person in ...\n",
              "6   7  ...  if you tested positive for covid19 and have no...\n",
              "7   8  ...  obama calls trumps coronavirus response a chao...\n",
              "8   9  ...  clearly the obama administration did not leave...\n",
              "9  10  ...  retraction—hydroxychloroquine or chloroquine w...\n",
              "\n",
              "[10 rows x 5 columns]"
            ]
          },
          "metadata": {
            "tags": []
          },
          "execution_count": 11
        }
      ]
    },
    {
      "cell_type": "markdown",
      "metadata": {
        "id": "G8VGGqcU8tJX"
      },
      "source": [
        "#Data Statistics"
      ]
    },
    {
      "cell_type": "code",
      "metadata": {
        "id": "y-8VdLGaWku9",
        "colab": {
          "base_uri": "https://localhost:8080/"
        },
        "outputId": "6f00c321-eb98-4c66-d362-e844605250ca"
      },
      "source": [
        "def data_statistics(class_names):\n",
        "  words_per_class = []\n",
        "  unique_words_per_class = []\n",
        "  documents_per_class = []\n",
        "\n",
        "  for label in class_names:\n",
        "    ## Word list from the clean dataset\n",
        "    word_list = [word.strip().lower() for t in list(train_data[train_data.label==label].cleaned) for word in t.strip().split()]\n",
        "    counts = dict()\n",
        "    for w in word_list:\n",
        "      counts[w] = counts.get(w, 0)+1\n",
        "    # Sort the word list on descending order in terms of frequency\n",
        "    ordered = sorted(counts.items(), key= lambda item: item[1],reverse = True)\n",
        "    # Total words per class\n",
        "    words_per_class.append(len(word_list))\n",
        "    # Unique words per class\n",
        "    unique_words_per_class.append(len(np.unique(word_list)))\n",
        "    # Number of documents per class\n",
        "    documents_per_class.append(len(list(train_data[train_data.label==label].cleaned)))\n",
        "\n",
        "    print(\"Class name: {}\".format(label))\n",
        "    print(\"Number of words: {}\".format(len(word_list)))\n",
        "    print(\"Number of unique words: {}\".format(len(np.unique(word_list)))) \n",
        "    print(\"Number of Documents: {}\".format(len(list(train_data[train_data.label==label].cleaned))))  \n",
        "    print(\"10 most frequent words:\\n\")\n",
        "    for i, f in ordered[:10]:\n",
        "      print(\"{}\\t{}\".format(i, f))\n",
        "    \n",
        "  return words_per_class, unique_words_per_class, documents_per_class\n",
        "\n",
        "class_names = ['real','fake']\n",
        "\n",
        "words, unique_words, documents = data_statistics(class_names)"
      ],
      "execution_count": null,
      "outputs": [
        {
          "output_type": "stream",
          "text": [
            "Class name: real\n",
            "Number of words: 103123\n",
            "Number of unique words: 10771\n",
            "Number of Documents: 3360\n",
            "10 most frequent words:\n",
            "\n",
            "the\t4053\n",
            "of\t3071\n",
            "to\t2485\n",
            "in\t2440\n",
            "covid19\t2079\n",
            "and\t1689\n",
            "cases\t1564\n",
            "a\t1420\n",
            "is\t1267\n",
            "are\t1138\n",
            "Class name: fake\n",
            "Number of words: 65076\n",
            "Number of unique words: 10305\n",
            "Number of Documents: 3060\n",
            "10 most frequent words:\n",
            "\n",
            "the\t2900\n",
            "a\t1664\n",
            "to\t1630\n",
            "of\t1538\n",
            "in\t1436\n",
            "coronavirus\t1294\n",
            "covid19\t1169\n",
            "and\t1038\n",
            "is\t781\n",
            "for\t716\n"
          ],
          "name": "stdout"
        }
      ]
    },
    {
      "cell_type": "code",
      "metadata": {
        "id": "xaxmz-1FYdXe",
        "colab": {
          "base_uri": "https://localhost:8080/",
          "height": 111
        },
        "outputId": "8bd5f6fc-725d-4195-f6fa-4df83072579b"
      },
      "source": [
        "data_matrix = pd.DataFrame({'Total Documents':documents,\n",
        "                            'Total Words':words,\n",
        "                            'Unique Words':unique_words,\n",
        "                            'Class Names':class_names})\n",
        "data_matrix"
      ],
      "execution_count": null,
      "outputs": [
        {
          "output_type": "execute_result",
          "data": {
            "text/html": [
              "<div>\n",
              "<style scoped>\n",
              "    .dataframe tbody tr th:only-of-type {\n",
              "        vertical-align: middle;\n",
              "    }\n",
              "\n",
              "    .dataframe tbody tr th {\n",
              "        vertical-align: top;\n",
              "    }\n",
              "\n",
              "    .dataframe thead th {\n",
              "        text-align: right;\n",
              "    }\n",
              "</style>\n",
              "<table border=\"1\" class=\"dataframe\">\n",
              "  <thead>\n",
              "    <tr style=\"text-align: right;\">\n",
              "      <th></th>\n",
              "      <th>Total Documents</th>\n",
              "      <th>Total Words</th>\n",
              "      <th>Unique Words</th>\n",
              "      <th>Class Names</th>\n",
              "    </tr>\n",
              "  </thead>\n",
              "  <tbody>\n",
              "    <tr>\n",
              "      <th>0</th>\n",
              "      <td>3360</td>\n",
              "      <td>103123</td>\n",
              "      <td>10771</td>\n",
              "      <td>real</td>\n",
              "    </tr>\n",
              "    <tr>\n",
              "      <th>1</th>\n",
              "      <td>3060</td>\n",
              "      <td>65076</td>\n",
              "      <td>10305</td>\n",
              "      <td>fake</td>\n",
              "    </tr>\n",
              "  </tbody>\n",
              "</table>\n",
              "</div>"
            ],
            "text/plain": [
              "   Total Documents  Total Words  Unique Words Class Names\n",
              "0             3360       103123         10771        real\n",
              "1             3060        65076         10305        fake"
            ]
          },
          "metadata": {
            "tags": []
          },
          "execution_count": 13
        }
      ]
    },
    {
      "cell_type": "code",
      "metadata": {
        "id": "ybGfsTvLYieC",
        "colab": {
          "base_uri": "https://localhost:8080/",
          "height": 346
        },
        "outputId": "6d594c82-db11-4f79-df0a-5874ab3dbd52"
      },
      "source": [
        "import seaborn as sns\n",
        "import matplotlib.pyplot as plt\n",
        "\n",
        "sns.set()\n",
        "plt.figure(figsize =(6, 4))\n",
        "ax = plt.subplot()\n",
        "sns.heatmap(data_matrix.iloc[:,0:3], annot=True,fmt=\"d\", linewidths=0.5,linecolor = 'Black',cmap = 'Greens',ax = ax) #annot=True to annotate cells\n",
        "# labels, title and ticks\n",
        "ax.set_ylabel('Class Names') \n",
        "ax.set_title('Data Statistics')\n",
        "y_label = [\"Total Documents\", \"Total Words\", \"Unique Words\"] \n",
        "ax.xaxis.set_ticklabels(y_label, rotation=45); ax.yaxis.set_ticklabels(class_names, rotation=45);\n",
        "ax.xaxis.tick_top()"
      ],
      "execution_count": null,
      "outputs": [
        {
          "output_type": "display_data",
          "data": {
            "image/png": "[encoded data removed]",
            "text/plain": [
              "<Figure size 432x288 with 2 Axes>"
            ]
          },
          "metadata": {
            "tags": []
          }
        }
      ]
    },
    {
      "cell_type": "code",
      "metadata": {
        "id": "w03pOR2bYoAZ",
        "colab": {
          "base_uri": "https://localhost:8080/"
        },
        "outputId": "d8788cf6-c4ee-4144-fe83-9b86ad4deca6"
      },
      "source": [
        "df = pd.melt(data_matrix, id_vars=\"Class Names\", var_name=\"Category\", value_name=\"Values\")\n",
        "print(df)"
      ],
      "execution_count": null,
      "outputs": [
        {
          "output_type": "stream",
          "text": [
            "  Class Names         Category  Values\n",
            "0        real  Total Documents    3360\n",
            "1        fake  Total Documents    3060\n",
            "2        real      Total Words  103123\n",
            "3        fake      Total Words   65076\n",
            "4        real     Unique Words   10771\n",
            "5        fake     Unique Words   10305\n"
          ],
          "name": "stdout"
        }
      ]
    },
    {
      "cell_type": "code",
      "metadata": {
        "id": "M5cDppXgYtqi",
        "colab": {
          "base_uri": "https://localhost:8080/",
          "height": 423
        },
        "outputId": "fd998b75-8360-4cbb-f1c4-bb46e11828bd"
      },
      "source": [
        "plt.figure(figsize=(8, 6))\n",
        "ax = plt.subplot()\n",
        "\n",
        "sns.barplot(data=df,x='Class Names', y='Values' ,hue='Category')\n",
        "ax.set_xlabel('Class Names') \n",
        "ax.set_title('Data Statistics')\n",
        "\n",
        "ax.xaxis.set_ticklabels(class_names, rotation=45);"
      ],
      "execution_count": null,
      "outputs": [
        {
          "output_type": "display_data",
          "data": {
            "image/png": "[encoded data removed]",
            "text/plain": [
              "<Figure size 576x432 with 1 Axes>"
            ]
          },
          "metadata": {
            "tags": []
          }
        }
      ]
    },
    {
      "cell_type": "code",
      "metadata": {
        "id": "eD5fttlOYzZ9",
        "colab": {
          "base_uri": "https://localhost:8080/"
        },
        "outputId": "625b621b-9c37-453f-c798-6e57333bcf12"
      },
      "source": [
        "frequency = dict()\n",
        "for x in train_data['cleaned']:\n",
        "  i = len(x.split())\n",
        "  frequency[i] = frequency.get(i, 0)+1\n",
        "frequency = sorted(frequency.items(), key= lambda item: item[0])\n",
        "print(frequency)\n",
        "print(type(frequency))"
      ],
      "execution_count": null,
      "outputs": [
        {
          "output_type": "stream",
          "text": [
            "[(2, 1), (3, 8), (4, 10), (5, 29), (6, 62), (7, 107), (8, 115), (9, 147), (10, 171), (11, 210), (12, 224), (13, 208), (14, 233), (15, 230), (16, 192), (17, 175), (18, 176), (19, 151), (20, 167), (21, 173), (22, 153), (23, 130), (24, 160), (25, 133), (26, 118), (27, 146), (28, 129), (29, 150), (30, 152), (31, 138), (32, 137), (33, 148), (34, 133), (35, 151), (36, 123), (37, 151), (38, 155), (39, 139), (40, 124), (41, 147), (42, 115), (43, 105), (44, 105), (45, 89), (46, 86), (47, 58), (48, 56), (49, 43), (50, 37), (51, 29), (52, 12), (53, 14), (54, 10), (55, 5), (56, 4), (57, 7), (58, 4), (59, 4), (60, 2), (61, 2), (63, 1), (64, 2), (65, 2), (66, 1), (67, 2), (70, 1), (71, 1), (72, 1), (73, 1), (77, 1), (78, 1), (79, 1), (81, 1), (85, 1), (86, 1), (87, 1), (93, 2), (96, 1), (98, 1), (118, 1), (325, 1), (822, 1), (1409, 1)]\n",
            "<class 'list'>\n"
          ],
          "name": "stdout"
        }
      ]
    },
    {
      "cell_type": "code",
      "metadata": {
        "id": "RqrDKpY4Y2-E",
        "colab": {
          "base_uri": "https://localhost:8080/",
          "height": 408
        },
        "outputId": "13f20ce8-5ab0-4ddb-912c-ce45eed6622b"
      },
      "source": [
        "xx = [x for x, k in frequency]\n",
        "yy = [k for x, k in frequency]\n",
        "print(xx, yy)\n",
        "fig = plt.figure()\n",
        "ax = fig.add_axes([0,0,1,1])\n",
        "\n",
        "ax.bar(xx,yy, color='r')\n",
        "plt.xlim(1, 80)\n",
        "\n",
        "plt.xlabel('Lenght of the Texts')\n",
        "plt.ylabel('Frequency')\n",
        "plt.title('Length-Frequency Distribution')\n",
        "plt.show()\n"
      ],
      "execution_count": null,
      "outputs": [
        {
          "output_type": "stream",
          "text": [
            "[2, 3, 4, 5, 6, 7, 8, 9, 10, 11, 12, 13, 14, 15, 16, 17, 18, 19, 20, 21, 22, 23, 24, 25, 26, 27, 28, 29, 30, 31, 32, 33, 34, 35, 36, 37, 38, 39, 40, 41, 42, 43, 44, 45, 46, 47, 48, 49, 50, 51, 52, 53, 54, 55, 56, 57, 58, 59, 60, 61, 63, 64, 65, 66, 67, 70, 71, 72, 73, 77, 78, 79, 81, 85, 86, 87, 93, 96, 98, 118, 325, 822, 1409] [1, 8, 10, 29, 62, 107, 115, 147, 171, 210, 224, 208, 233, 230, 192, 175, 176, 151, 167, 173, 153, 130, 160, 133, 118, 146, 129, 150, 152, 138, 137, 148, 133, 151, 123, 151, 155, 139, 124, 147, 115, 105, 105, 89, 86, 58, 56, 43, 37, 29, 12, 14, 10, 5, 4, 7, 4, 4, 2, 2, 1, 2, 2, 1, 2, 1, 1, 1, 1, 1, 1, 1, 1, 1, 1, 1, 2, 1, 1, 1, 1, 1, 1]\n"
          ],
          "name": "stdout"
        },
        {
          "output_type": "display_data",
          "data": {
            "image/png": "[encoded data removed]",
            "text/plain": [
              "<Figure size 432x288 with 1 Axes>"
            ]
          },
          "metadata": {
            "tags": []
          }
        }
      ]
    },
    {
      "cell_type": "markdown",
      "metadata": {
        "id": "Pq-2nTw285LH"
      },
      "source": [
        "#Tokenizer Definition"
      ]
    },
    {
      "cell_type": "code",
      "metadata": {
        "id": "oCAmT9ljZBDJ",
        "colab": {
          "base_uri": "https://localhost:8080/"
        },
        "outputId": "9bb5b4dc-0bf5-4da3-acd6-4dc452719701"
      },
      "source": [
        "from tensorflow.keras.preprocessing.text import Tokenizer\n",
        "\n",
        "def text_encoding(texts, labels, max_words, padding_length):\n",
        "  tokenizer = Tokenizer(num_words = max_words, filters='!\"#$%&()*+,-./:;<=>?@[\\\\]^_`{|}~\\t\\n-', \n",
        "                      split=' ', char_level=False, oov_token=None, document_count=0)\n",
        "  \n",
        "  # Tokenizer is fitted into the texts\n",
        "  tokenizer.fit_on_texts(texts)\n",
        "\n",
        "  # Printing tokenizer information\n",
        "  (word_counts,word_docs,word_index,document_count) = (tokenizer.word_counts,\n",
        "                                                       tokenizer.word_docs,\n",
        "                                                       tokenizer.word_index,\n",
        "                                                       tokenizer.document_count)\n",
        "  \n",
        "  def tokenizer_info(mylist):\n",
        "    ordered = sorted(mylist.items(), key= lambda item: item[1],reverse = True)\n",
        "    for w,c in ordered[:10]:\n",
        "      print(w,\"\\t\",c)\n",
        "  \n",
        "  print(color.BOLD+\"\\t\\t\\t====== Tokenizer Info ======\"+color.END)   \n",
        "  print(\"Words --> Counts:\")\n",
        "  tokenizer_info(word_counts)\n",
        "  print(\"\\nWords --> Documents:\")\n",
        "  tokenizer_info(word_docs)\n",
        "  print(\"\\nWords --> Index:\")\n",
        "  tokenizer_info(word_index)    \n",
        "  print(\"\\nTotal Documents -->\",document_count)\n",
        "\n",
        "  # Encoding texts into integer sequences\n",
        "  sequences = tokenizer.texts_to_sequences(texts)\n",
        "  word_index = tokenizer.word_index\n",
        "  print(color.BOLD+\"\\n\\t\\t\\t====== Encoded Sequences ======\"+color.END,\"\\nFound {} unique tokens\".format(len(word_index)))  \n",
        "  print(texts[10],\"\\n\",sequences[10])\n",
        "\n",
        "  # Pad sequences\n",
        "  corpus = keras.preprocessing.sequence.pad_sequences(sequences, value=0.0,\n",
        "                                                      padding='post', maxlen= padding_length)\n",
        "  print(\"\\n\\t\\t\\t====== Paded Sequences ======\\n\",texts[10],\"\\n\",corpus[10])\n",
        "\n",
        "  return corpus, labels, tokenizer\n",
        "\n",
        "##\n",
        "max_words = 20000# Based on number of unique words in the dataset\n",
        "padding_length = 100\n",
        "\n",
        "corpus, labels, tokenizer = text_encoding(train_data.cleaned, train_data.training_label, max_words, padding_length)   \n",
        "\n"
      ],
      "execution_count": null,
      "outputs": [
        {
          "output_type": "stream",
          "text": [
            "\u001b[1m\t\t\t====== Tokenizer Info ======\u001b[0m\n",
            "Words --> Counts:\n",
            "the \t 6953\n",
            "of \t 4609\n",
            "to \t 4115\n",
            "in \t 3876\n",
            "covid19 \t 3248\n",
            "a \t 3084\n",
            "and \t 2727\n",
            "is \t 2048\n",
            "for \t 1831\n",
            "cases \t 1721\n",
            "\n",
            "Words --> Documents:\n",
            "the \t 3733\n",
            "of \t 3061\n",
            "to \t 2859\n",
            "in \t 2695\n",
            "covid19 \t 2684\n",
            "a \t 2193\n",
            "and \t 2068\n",
            "is \t 1612\n",
            "for \t 1537\n",
            "coronavirus \t 1496\n",
            "\n",
            "Words --> Index:\n",
            "infertility \t 17523\n",
            "dargah \t 17522\n",
            "intubate \t 17521\n",
            "repandybiggsaz \t 17520\n",
            "rickleventhal \t 17519\n",
            "ashley \t 17518\n",
            "charliekirk11 \t 17517\n",
            "daveman19802 \t 17516\n",
            "kagashley \t 17515\n",
            "reserved \t 17514\n",
            "\n",
            "Total Documents --> 6420\n",
            "\u001b[1m\n",
            "\t\t\t====== Encoded Sequences ======\u001b[0m \n",
            "Found 17523 unique tokens\n",
            "take simple daily precautions to help prevent the spread of respiratory illnesses like covid19 learn how to protect yourself from coronavirus covid19   \n",
            " [163, 1269, 92, 1461, 3, 141, 237, 1, 98, 2, 695, 1082, 177, 5, 173, 152, 3, 217, 360, 15, 11, 5]\n",
            "\n",
            "\t\t\t====== Paded Sequences ======\n",
            " take simple daily precautions to help prevent the spread of respiratory illnesses like covid19 learn how to protect yourself from coronavirus covid19   \n",
            " [ 163 1269   92 1461    3  141  237    1   98    2  695 1082  177    5\n",
            "  173  152    3  217  360   15   11    5    0    0    0    0    0    0\n",
            "    0    0    0    0    0    0    0    0    0    0    0    0    0    0\n",
            "    0    0    0    0    0    0    0    0    0    0    0    0    0    0\n",
            "    0    0    0    0    0    0    0    0    0    0    0    0    0    0\n",
            "    0    0    0    0    0    0    0    0    0    0    0    0    0    0\n",
            "    0    0    0    0    0    0    0    0    0    0    0    0    0    0\n",
            "    0    0]\n"
          ],
          "name": "stdout"
        }
      ]
    },
    {
      "cell_type": "code",
      "metadata": {
        "id": "sNH39PHLZqzn"
      },
      "source": [
        "training_data, training_labels = corpus, labels"
      ],
      "execution_count": null,
      "outputs": []
    },
    {
      "cell_type": "code",
      "metadata": {
        "colab": {
          "base_uri": "https://localhost:8080/"
        },
        "id": "bm9o5OrS0s-o",
        "outputId": "f5031cde-fa66-422e-dff2-153a37a6c070"
      },
      "source": [
        "print(training_data, training_labels)"
      ],
      "execution_count": null,
      "outputs": [
        {
          "output_type": "stream",
          "text": [
            "[[   1  140  271 ...    0    0    0]\n",
            " [  35   41 7571 ...    0    0    0]\n",
            " [5152 1842  437 ...    0    0    0]\n",
            " ...\n",
            " [   6  326  161 ...    0    0    0]\n",
            " [2930 1014 2802 ...    0    0    0]\n",
            " [  33   19   32 ...    0    0    0]] 0       0\n",
            "1       0\n",
            "2       1\n",
            "3       0\n",
            "4       0\n",
            "       ..\n",
            "6415    1\n",
            "6416    1\n",
            "6417    1\n",
            "6418    1\n",
            "6419    0\n",
            "Name: training_label, Length: 6420, dtype: int64\n"
          ],
          "name": "stdout"
        }
      ]
    },
    {
      "cell_type": "markdown",
      "metadata": {
        "id": "F7hinH8p9LYa"
      },
      "source": [
        "#Define Callbacks()"
      ]
    },
    {
      "cell_type": "code",
      "metadata": {
        "id": "bJLff66jaFZa"
      },
      "source": [
        "## Defining Callbacks\n",
        "def define_callback():\n",
        "  keras.backend.clear_session()\n",
        "  accuracy_threshold = .999\n",
        "\n",
        "  class myCallback(keras.callbacks.Callback):\n",
        "    def on_epoch_end(self, epoch, logs={}):\n",
        "        if(logs.get('accuracy')>accuracy_threshold):\n",
        "          print(\"\\nReached %2.2f%% accuracy so we will stop trianing\" % (accuracy_threshold*100))\n",
        "          self.model.stop_training = True\n",
        "\n",
        "  acc_callback = myCallback()\n",
        "\n",
        "  return acc_callback\n",
        "\n",
        "# Define TensorBoard\n",
        "def define_TensorBoard():\n",
        "  %load_ext tensorboard\n",
        "  import datetime, os\n",
        "  logdir = os.path.join(\"logs\", datetime.datetime.now().strftime(\"%Y%m%d-%H%M%S\"))\n",
        "  tensorboard_callback = tf.keras.callbacks.TensorBoard(logdir, histogram_freq=1)\n",
        "\n",
        "  return tensorboard_callback\n",
        "\n",
        "# Define Checkpoint\n",
        "def define_checkpoint():\n",
        "  filepath = \"ModelOnOurData.h5\"\n",
        "  checkpoint = keras.callbacks.ModelCheckpoint(filepath, monitor='val_accuracy', verbose=2, save_best_only=True, save_weights_only=False, mode='max')\n",
        "  return checkpoint"
      ],
      "execution_count": null,
      "outputs": []
    },
    {
      "cell_type": "markdown",
      "metadata": {
        "id": "3bkG3rqg9VXR"
      },
      "source": [
        "#Model Definition"
      ]
    },
    {
      "cell_type": "code",
      "metadata": {
        "id": "X1_lN3mSaaT5"
      },
      "source": [
        "# Create Model\n",
        "def create_model(embedding_dim):\n",
        "  keras.backend.clear_session()\n",
        "  no_of_class = len(class_names)\n",
        "\n",
        "  model = keras.models.Sequential([\n",
        "      keras.layers.Embedding(max_words, embedding_dim, input_length = padding_length),\n",
        "      #keras.layers.Conv1D(64, 5, activation='relu'),\n",
        "      #keras.layers.MaxPooling1D(5),\n",
        "      #keras.layers.Bidirectional(LSTM(64, return_sequences=True, dropout=0.2)),\n",
        "      keras.layers.Bidirectional(LSTM(32, dropout=0.2)),\n",
        "      keras.layers.Flatten(),\n",
        "      keras.layers.Dense(no_of_class, activation = 'softmax')\n",
        "  ])\n",
        "\n",
        "  model.summary()\n",
        "  return model\n",
        "\n",
        "# Visualize Model\n",
        "def model_visualize(model):\n",
        "  from tensorflow.keras.utils import plot_model\n",
        "  plot_model(model, to_file = 'print.png', show_shapes = True, show_layer_names = True)\n",
        "\n",
        "# Compile Model\n",
        "def compile_model(model):\n",
        "  model.compile(optimizer='adam',\n",
        "                  loss='sparse_categorical_crossentropy',\n",
        "                  metrics='accuracy')\n",
        "  return model\n"
      ],
      "execution_count": null,
      "outputs": []
    },
    {
      "cell_type": "code",
      "metadata": {
        "id": "vaNR7BW0akWx",
        "colab": {
          "base_uri": "https://localhost:8080/"
        },
        "outputId": "96ca6c67-d13b-404a-9864-7c606c23089e"
      },
      "source": [
        "%%time\n",
        "## Callbacks are really important \n",
        "\n",
        "def run_callback_list():\n",
        "  acc_callback = define_callback()\n",
        "  checkpoint = define_checkpoint()\n",
        "  tensorboard_callback = define_TensorBoard()\n",
        "  return [acc_callback, checkpoint, tensorboard_callback] \n",
        "\n",
        "callback_list = run_callback_list()\n",
        "\n",
        "def run_model():\n",
        "    embedding_dim = 100\n",
        "    model = create_model(embedding_dim)\n",
        "    model = compile_model(model)\n",
        "    model_visualize(model)\n",
        "    return model\n",
        "\n",
        "## Create, Compile and Visualize the model\n",
        "cnn_lstm_model = run_model() ## \n"
      ],
      "execution_count": null,
      "outputs": [
        {
          "output_type": "stream",
          "text": [
            "The tensorboard extension is already loaded. To reload it, use:\n",
            "  %reload_ext tensorboard\n",
            "Model: \"sequential\"\n",
            "_________________________________________________________________\n",
            "Layer (type)                 Output Shape              Param #   \n",
            "=================================================================\n",
            "embedding (Embedding)        (None, 100, 100)          2000000   \n",
            "_________________________________________________________________\n",
            "bidirectional (Bidirectional (None, 64)                34048     \n",
            "_________________________________________________________________\n",
            "flatten (Flatten)            (None, 64)                0         \n",
            "_________________________________________________________________\n",
            "dense (Dense)                (None, 2)                 130       \n",
            "=================================================================\n",
            "Total params: 2,034,178\n",
            "Trainable params: 2,034,178\n",
            "Non-trainable params: 0\n",
            "_________________________________________________________________\n",
            "CPU times: user 531 ms, sys: 59.6 ms, total: 591 ms\n",
            "Wall time: 660 ms\n"
          ],
          "name": "stdout"
        }
      ]
    },
    {
      "cell_type": "code",
      "metadata": {
        "id": "P_bJELI1aqBw",
        "colab": {
          "base_uri": "https://localhost:8080/"
        },
        "outputId": "b11eb700-7175-4dbb-f68a-20215c008ca8"
      },
      "source": [
        "cnn_lstm_model_history = cnn_lstm_model.fit(training_data,\n",
        "                              training_labels,\n",
        "                              epochs = 100,\n",
        "                              batch_size = 128,\n",
        "                              verbose = 1,\n",
        "                              validation_split = 0.15,\n",
        "                              callbacks = callback_list)"
      ],
      "execution_count": null,
      "outputs": [
        {
          "output_type": "stream",
          "text": [
            "Epoch 1/100\n",
            " 2/43 [>.............................] - ETA: 3s - loss: 0.6935 - accuracy: 0.4922WARNING:tensorflow:Callbacks method `on_train_batch_end` is slow compared to the batch time (batch time: 0.0459s vs `on_train_batch_end` time: 0.1379s). Check your callbacks.\n",
            "42/43 [============================>.] - ETA: 0s - loss: 0.5695 - accuracy: 0.7167\n",
            "Epoch 00001: val_accuracy improved from -inf to 0.86397, saving model to ModelOnOurData.h5\n",
            "43/43 [==============================] - 2s 57ms/step - loss: 0.5681 - accuracy: 0.7176 - val_loss: 0.3536 - val_accuracy: 0.8640\n",
            "Epoch 2/100\n",
            "43/43 [==============================] - ETA: 0s - loss: 0.2571 - accuracy: 0.8998\n",
            "Epoch 00002: val_accuracy improved from 0.86397 to 0.91381, saving model to ModelOnOurData.h5\n",
            "43/43 [==============================] - 2s 39ms/step - loss: 0.2571 - accuracy: 0.8998 - val_loss: 0.2328 - val_accuracy: 0.9138\n",
            "Epoch 3/100\n",
            "43/43 [==============================] - ETA: 0s - loss: 0.1155 - accuracy: 0.9624\n",
            "Epoch 00003: val_accuracy did not improve from 0.91381\n",
            "43/43 [==============================] - 2s 39ms/step - loss: 0.1155 - accuracy: 0.9624 - val_loss: 0.2288 - val_accuracy: 0.9065\n",
            "Epoch 4/100\n",
            "43/43 [==============================] - ETA: 0s - loss: 0.0534 - accuracy: 0.9841\n",
            "Epoch 00004: val_accuracy improved from 0.91381 to 0.92835, saving model to ModelOnOurData.h5\n",
            "43/43 [==============================] - 2s 39ms/step - loss: 0.0534 - accuracy: 0.9841 - val_loss: 0.2146 - val_accuracy: 0.9283\n",
            "Epoch 5/100\n",
            "43/43 [==============================] - ETA: 0s - loss: 0.0213 - accuracy: 0.9943\n",
            "Epoch 00005: val_accuracy did not improve from 0.92835\n",
            "43/43 [==============================] - 2s 37ms/step - loss: 0.0213 - accuracy: 0.9943 - val_loss: 0.2342 - val_accuracy: 0.9252\n",
            "Epoch 6/100\n",
            "42/43 [============================>.] - ETA: 0s - loss: 0.0109 - accuracy: 0.9989\n",
            "Epoch 00006: val_accuracy did not improve from 0.92835\n",
            "43/43 [==============================] - 2s 37ms/step - loss: 0.0109 - accuracy: 0.9989 - val_loss: 0.2591 - val_accuracy: 0.9169\n",
            "Epoch 7/100\n",
            "43/43 [==============================] - ETA: 0s - loss: 0.0056 - accuracy: 0.9996\n",
            "Reached 99.90% accuracy so we will stop trianing\n",
            "\n",
            "Epoch 00007: val_accuracy did not improve from 0.92835\n",
            "43/43 [==============================] - 2s 37ms/step - loss: 0.0056 - accuracy: 0.9996 - val_loss: 0.2962 - val_accuracy: 0.9180\n"
          ],
          "name": "stdout"
        }
      ]
    },
    {
      "cell_type": "markdown",
      "metadata": {
        "id": "JaW6HiKJPN7f"
      },
      "source": [
        "# Prediction on validation Set"
      ]
    },
    {
      "cell_type": "code",
      "metadata": {
        "id": "9Hzv2M9CfWmY",
        "colab": {
          "base_uri": "https://localhost:8080/"
        },
        "outputId": "e0efc78a-c943-404a-b172-6936a89aa12c"
      },
      "source": [
        "val_filename = \"/content/drive/My Drive/SharedTasksParticipation/SharedTask@Constraint@AAAI2021/Constraint_English_Val.xlsx\"\n",
        "validation_data = pd.read_excel(val_filename)\n",
        "print(\"\\n\\nSize of the validation data ==> \", len(validation_data))\n",
        "print(validation_data.head(5))\n",
        "\n",
        "print(type(validation_data))\n",
        "print(validation_data.head(10))\n",
        "\n",
        "validation_data['validation_label']= validation_data.label.replace({'real':0,'fake':1}) \n",
        "\n",
        "## Cleaning the data. Removing newlines, unnecessary symbols\n",
        "#validation_data['cleaned'] = validation_data['tweet'].apply(remove_url)\n",
        "validation_data['cleaned'] = validation_data['tweet'].apply(remove_punctuation_url)\n",
        "#data['cleaned'] = data['cleaned'].apply(remove_stopwords)\n",
        "print(validation_data.head(10))"
      ],
      "execution_count": null,
      "outputs": [
        {
          "output_type": "stream",
          "text": [
            "\n",
            "\n",
            "Size of the validation data ==>  2140\n",
            "   id                                              tweet label\n",
            "0   1  Chinese converting to Islam after realising th...  fake\n",
            "1   2  11 out of 13 people (from the Diamond Princess...  fake\n",
            "2   3  COVID-19 Is Caused By A Bacterium, Not Virus A...  fake\n",
            "3   4  Mike Pence in RNC speech praises Donald Trump’...  fake\n",
            "4   5  6/10 Sky's @EdConwaySky explains the latest #C...  real\n",
            "<class 'pandas.core.frame.DataFrame'>\n",
            "   id                                              tweet label\n",
            "0   1  Chinese converting to Islam after realising th...  fake\n",
            "1   2  11 out of 13 people (from the Diamond Princess...  fake\n",
            "2   3  COVID-19 Is Caused By A Bacterium, Not Virus A...  fake\n",
            "3   4  Mike Pence in RNC speech praises Donald Trump’...  fake\n",
            "4   5  6/10 Sky's @EdConwaySky explains the latest #C...  real\n",
            "5   6  No one can leave managed isolation for any rea...  real\n",
            "6   7  #IndiaFightsCorona India has one of the lowest...  real\n",
            "7   8  RT @WHO: #COVID19 transmission occurs primaril...  real\n",
            "8   9  News and media outlet ABP Majha on the basis o...  fake\n",
            "9  10  ???Church services can???t resume until we???r...  fake\n",
            "   id  ...                                            cleaned\n",
            "0   1  ...  chinese converting to islam after realising th...\n",
            "1   2  ...  11 out of 13 people from the diamond princess ...\n",
            "2   3  ...  covid19 is caused by a bacterium not virus and...\n",
            "3   4  ...  mike pence in rnc speech praises donald trumps...\n",
            "4   5  ...  610 skys edconwaysky explains the latest covid...\n",
            "5   6  ...  no one can leave managed isolation for any rea...\n",
            "6   7  ...  indiafightscorona india has one of the lowest ...\n",
            "7   8  ...  rt who covid19 transmission occurs primarily t...\n",
            "8   9  ...  news and media outlet abp majha on the basis o...\n",
            "9  10  ...  church services cant resume until were all vac...\n",
            "\n",
            "[10 rows x 5 columns]\n"
          ],
          "name": "stdout"
        }
      ]
    },
    {
      "cell_type": "code",
      "metadata": {
        "id": "CQX86gUMb4ZH",
        "colab": {
          "base_uri": "https://localhost:8080/"
        },
        "outputId": "e3b21263-4503-46e7-bb96-32bb09d195d8"
      },
      "source": [
        "## Converting into interger index based on tokenizer word index. It is important for predicting\n",
        "val_sequences = tokenizer.texts_to_sequences(validation_data.cleaned)\n",
        "print(val_sequences[0:10])\n",
        "val_data = keras.preprocessing.sequence.pad_sequences(val_sequences, value=0.0,\n",
        "                                                      padding='post', maxlen= padding_length)\n",
        "val_labels = validation_data['validation_label']\n",
        "\n",
        "print(val_data[:5], val_data.shape)\n",
        "print(val_labels[:5], val_labels.shape)"
      ],
      "execution_count": null,
      "outputs": [
        {
          "output_type": "stream",
          "text": [
            "[[311, 11378, 3, 4650, 93, 13, 56, 921, 46, 555, 28, 11, 10993, 4, 1, 139], [501, 102, 2, 661, 24, 15, 1, 5493, 4274, 1749, 1409, 38, 119, 83, 302, 4, 26, 4, 1346, 58, 1189, 39, 3, 27, 84, 4, 1, 411, 35], [5, 8, 453, 28, 6, 2638, 30, 69, 7, 43, 27, 916, 18, 5446], [2309, 2331, 4, 8910, 4368, 13122, 254, 755, 5, 6520, 2258, 18, 973, 7, 2568, 102, 1, 2214, 57, 3856], [3838, 1122, 1, 165, 5, 79, 7, 131, 2752, 128, 25, 14, 1, 11, 79], [56, 63, 43, 1579, 194, 123, 9, 185, 1015, 427, 912, 6, 302, 87, 62, 61, 2031, 6, 87, 61, 43, 424, 27, 1867, 9, 6, 706, 2, 68, 3, 582, 86, 200, 200, 14, 370, 1, 4053, 5377, 14, 2577, 4632, 17, 32, 6227, 200, 200], [64, 52, 19, 63, 2, 1, 524, 5, 645, 1544, 18, 353, 47, 88, 72, 520, 101, 20, 6, 559, 2, 6669, 136, 123, 45, 405, 443, 262, 179, 516, 17, 1764, 499, 47, 1, 215, 191], [81, 38, 5, 372, 12572, 4779, 261, 2528, 53, 322, 224, 18, 174, 24, 261, 77, 6914, 7], [120, 7, 343, 6705, 14, 1, 1249, 2, 54, 9847, 2, 333, 1087, 3044, 41, 13, 6, 1646, 2162, 19, 32, 369, 3, 163, 1, 4183, 2933, 317, 136], [2609, 523, 670, 2260, 733, 58, 48, 2529, 74, 347, 358]]\n",
            "[[  311 11378     3  4650    93    13    56   921    46   555    28    11\n",
            "  10993     4     1   139     0     0     0     0     0     0     0     0\n",
            "      0     0     0     0     0     0     0     0     0     0     0     0\n",
            "      0     0     0     0     0     0     0     0     0     0     0     0\n",
            "      0     0     0     0     0     0     0     0     0     0     0     0\n",
            "      0     0     0     0     0     0     0     0     0     0     0     0\n",
            "      0     0     0     0     0     0     0     0     0     0     0     0\n",
            "      0     0     0     0     0     0     0     0     0     0     0     0\n",
            "      0     0     0     0]\n",
            " [  501   102     2   661    24    15     1  5493  4274  1749  1409    38\n",
            "    119    83   302     4    26     4  1346    58  1189    39     3    27\n",
            "     84     4     1   411    35     0     0     0     0     0     0     0\n",
            "      0     0     0     0     0     0     0     0     0     0     0     0\n",
            "      0     0     0     0     0     0     0     0     0     0     0     0\n",
            "      0     0     0     0     0     0     0     0     0     0     0     0\n",
            "      0     0     0     0     0     0     0     0     0     0     0     0\n",
            "      0     0     0     0     0     0     0     0     0     0     0     0\n",
            "      0     0     0     0]\n",
            " [    5     8   453    28     6  2638    30    69     7    43    27   916\n",
            "     18  5446     0     0     0     0     0     0     0     0     0     0\n",
            "      0     0     0     0     0     0     0     0     0     0     0     0\n",
            "      0     0     0     0     0     0     0     0     0     0     0     0\n",
            "      0     0     0     0     0     0     0     0     0     0     0     0\n",
            "      0     0     0     0     0     0     0     0     0     0     0     0\n",
            "      0     0     0     0     0     0     0     0     0     0     0     0\n",
            "      0     0     0     0     0     0     0     0     0     0     0     0\n",
            "      0     0     0     0]\n",
            " [ 2309  2331     4  8910  4368 13122   254   755     5  6520  2258    18\n",
            "    973     7  2568   102     1  2214    57  3856     0     0     0     0\n",
            "      0     0     0     0     0     0     0     0     0     0     0     0\n",
            "      0     0     0     0     0     0     0     0     0     0     0     0\n",
            "      0     0     0     0     0     0     0     0     0     0     0     0\n",
            "      0     0     0     0     0     0     0     0     0     0     0     0\n",
            "      0     0     0     0     0     0     0     0     0     0     0     0\n",
            "      0     0     0     0     0     0     0     0     0     0     0     0\n",
            "      0     0     0     0]\n",
            " [ 3838  1122     1   165     5    79     7   131  2752   128    25    14\n",
            "      1    11    79     0     0     0     0     0     0     0     0     0\n",
            "      0     0     0     0     0     0     0     0     0     0     0     0\n",
            "      0     0     0     0     0     0     0     0     0     0     0     0\n",
            "      0     0     0     0     0     0     0     0     0     0     0     0\n",
            "      0     0     0     0     0     0     0     0     0     0     0     0\n",
            "      0     0     0     0     0     0     0     0     0     0     0     0\n",
            "      0     0     0     0     0     0     0     0     0     0     0     0\n",
            "      0     0     0     0]] (2140, 100)\n",
            "0    1\n",
            "1    1\n",
            "2    1\n",
            "3    1\n",
            "4    0\n",
            "Name: validation_label, dtype: int64 (2140,)\n"
          ],
          "name": "stdout"
        }
      ]
    },
    {
      "cell_type": "code",
      "metadata": {
        "id": "mu4Cr1bIdDyI",
        "colab": {
          "base_uri": "https://localhost:8080/"
        },
        "outputId": "2c1228b1-1973-43b5-df93-b23154204cbf"
      },
      "source": [
        "val_ls, val_acc = cnn_lstm_model.evaluate(val_data, val_labels)\n",
        "print(val_ls, val_acc)\n",
        "\n",
        "## To find class wise probability\n",
        "predicted_probability = cnn_lstm_model.predict(val_data)\n",
        "print(predicted_probability)\n",
        "\n",
        "# Find the predicted class for every input text\n",
        "predicted_classess = np.argmax(cnn_lstm_model.predict(val_data), axis=-1)\n",
        "print(predicted_classess)"
      ],
      "execution_count": null,
      "outputs": [
        {
          "output_type": "stream",
          "text": [
            "67/67 [==============================] - 0s 7ms/step - loss: 0.3181 - accuracy: 0.9145\n",
            "0.318080335855484 0.9144859910011292\n",
            "[[4.4000056e-04 9.9955994e-01]\n",
            " [9.9616832e-01 3.8316993e-03]\n",
            " [1.8231604e-03 9.9817681e-01]\n",
            " ...\n",
            " [7.0005126e-04 9.9929988e-01]\n",
            " [7.6376176e-01 2.3623820e-01]\n",
            " [9.9878973e-01 1.2103065e-03]]\n",
            "[1 0 1 ... 1 0 0]\n"
          ],
          "name": "stdout"
        }
      ]
    },
    {
      "cell_type": "code",
      "metadata": {
        "id": "tcRchCRCdOSl",
        "colab": {
          "base_uri": "https://localhost:8080/",
          "height": 335
        },
        "outputId": "f853878a-64b6-4563-88dd-0b87fc3dce8e"
      },
      "source": [
        "predictions = np.argmax(cnn_lstm_model.predict(val_data), axis = -1)\n",
        "cm = confusion_matrix(val_labels, predictions)\n",
        "acc = round(accuracy_score(val_labels, predictions),4)*100 \n",
        "prec = round(precision_score(val_labels, predictions, average='weighted'),4)*100\n",
        "re = round(recall_score(val_labels, predictions, average='weighted'),4)*100\n",
        "f1 = round(f1_score(val_labels, predictions, average= 'weighted'),4)*100\n",
        "print(color.BOLD+'Confusion Matrix:\\n'+color.END,cm)\n",
        "print (color.BOLD+'Report : '+color.END)\n",
        "print (classification_report(val_labels, predictions) )\n",
        "print(color.BOLD+'Performance:\\n'+color.END)\n",
        "pd.DataFrame({'Accuracy':acc,'Precision':prec,'Recall':re,'F1 Score':f1},index = ['CNN+BiLSTM'])"
      ],
      "execution_count": null,
      "outputs": [
        {
          "output_type": "stream",
          "text": [
            "\u001b[1mConfusion Matrix:\n",
            "\u001b[0m [[1019  101]\n",
            " [  82  938]]\n",
            "\u001b[1mReport : \u001b[0m\n",
            "              precision    recall  f1-score   support\n",
            "\n",
            "           0       0.93      0.91      0.92      1120\n",
            "           1       0.90      0.92      0.91      1020\n",
            "\n",
            "    accuracy                           0.91      2140\n",
            "   macro avg       0.91      0.91      0.91      2140\n",
            "weighted avg       0.91      0.91      0.91      2140\n",
            "\n",
            "\u001b[1mPerformance:\n",
            "\u001b[0m\n"
          ],
          "name": "stdout"
        },
        {
          "output_type": "execute_result",
          "data": {
            "text/html": [
              "<div>\n",
              "<style scoped>\n",
              "    .dataframe tbody tr th:only-of-type {\n",
              "        vertical-align: middle;\n",
              "    }\n",
              "\n",
              "    .dataframe tbody tr th {\n",
              "        vertical-align: top;\n",
              "    }\n",
              "\n",
              "    .dataframe thead th {\n",
              "        text-align: right;\n",
              "    }\n",
              "</style>\n",
              "<table border=\"1\" class=\"dataframe\">\n",
              "  <thead>\n",
              "    <tr style=\"text-align: right;\">\n",
              "      <th></th>\n",
              "      <th>Accuracy</th>\n",
              "      <th>Precision</th>\n",
              "      <th>Recall</th>\n",
              "      <th>F1 Score</th>\n",
              "    </tr>\n",
              "  </thead>\n",
              "  <tbody>\n",
              "    <tr>\n",
              "      <th>CNN+BiLSTM</th>\n",
              "      <td>91.45</td>\n",
              "      <td>91.47</td>\n",
              "      <td>91.45</td>\n",
              "      <td>91.45</td>\n",
              "    </tr>\n",
              "  </tbody>\n",
              "</table>\n",
              "</div>"
            ],
            "text/plain": [
              "            Accuracy  Precision  Recall  F1 Score\n",
              "CNN+BiLSTM     91.45      91.47   91.45     91.45"
            ]
          },
          "metadata": {
            "tags": []
          },
          "execution_count": 34
        }
      ]
    },
    {
      "cell_type": "code",
      "metadata": {
        "id": "uAEg7XlYdf8O",
        "colab": {
          "base_uri": "https://localhost:8080/"
        },
        "outputId": "659fd5dc-94e0-490c-8b5c-c16ca54e9d29"
      },
      "source": [
        "# Find out some misclassified text. Check which class overlaps with other classes\n",
        "for i in range(50):\n",
        "  actual = val_labels[i]\n",
        "  prediction = predicted_classess[i]\n",
        "  if(actual!=prediction):\n",
        "      print(\"Actual Data: {}\\nPredicted Label: {}\\nActual Label: {}\\n\".format(validation_data['tweet'][i], class_names[prediction], class_names[actual]))"
      ],
      "execution_count": null,
      "outputs": [
        {
          "output_type": "stream",
          "text": [
            "Actual Data: 11 out of 13 people (from the Diamond Princess Cruise ship) who had intially tested negative in tests in Japan were later confirmed to be positive in the United States.\n",
            "Predicted Label: real\n",
            "Actual Label: fake\n",
            "\n",
            "Actual Data: You can still fly the friendly skies without fear of COVID if airlines stay serious about safety. https://t.co/H8mGjwDl7G #coronavirus\n",
            "Predicted Label: fake\n",
            "Actual Label: real\n",
            "\n",
            "Actual Data: Gov. Andrew Cuomo “was simply saying if we can share 20 percent of your excess your non-used ventilators to help people in other parts of the state on a voluntary basis that would be great. Of course there was a reaction to that which was not positive.\"\n",
            "Predicted Label: real\n",
            "Actual Label: fake\n",
            "\n",
            "Actual Data: Breathlessness excessive fatigue and muscle aches from COVID can last for months. https://t.co/OUhBRirKpE\n",
            "Predicted Label: fake\n",
            "Actual Label: real\n",
            "\n",
            "Actual Data: EMA endorses the use of dexamethasone for COVID-19. https://t.co/RKPH74Hz3W\n",
            "Predicted Label: fake\n",
            "Actual Label: real\n",
            "\n"
          ],
          "name": "stdout"
        }
      ]
    },
    {
      "cell_type": "code",
      "metadata": {
        "id": "1OMIhlmadm4H",
        "colab": {
          "base_uri": "https://localhost:8080/",
          "height": 675
        },
        "outputId": "d3a4d6d4-b39e-46bb-9b15-5edeee5c22bb"
      },
      "source": [
        "def con_mat(model):\n",
        "  test_prediction = np.argmax(model.predict(val_data), axis = -1)\n",
        "  cm = confusion_matrix(val_labels, test_prediction)\n",
        "  print(cm)\n",
        "\n",
        "  import seaborn as sns\n",
        "  #sns.set()\n",
        "  plt.figure(figsize =(12, 10))\n",
        "  ax = plt.subplot()\n",
        "  sns.heatmap(cm, annot=True,fmt=\"d\",cmap='Blues', ax = ax) #annot=True to annotate cells\n",
        "  # labels, title and ticks\n",
        "  ax.set_xlabel('Predicted labels')\n",
        "  ax.set_ylabel('True labels') \n",
        "  ax.set_title('Confusion Matrix') \n",
        "  ax.xaxis.set_ticklabels(class_names, rotation=45); ax.yaxis.set_ticklabels(class_names, rotation=45);\n",
        "  ax.xaxis.tick_top()\n",
        "\n",
        "con_mat(cnn_lstm_model)"
      ],
      "execution_count": null,
      "outputs": [
        {
          "output_type": "stream",
          "text": [
            "[[1023   97]\n",
            " [  88  932]]\n"
          ],
          "name": "stdout"
        },
        {
          "output_type": "display_data",
          "data": {
            "image/png": "[encoded data removed]",
            "text/plain": [
              "<Figure size 864x720 with 2 Axes>"
            ]
          },
          "metadata": {
            "tags": []
          }
        }
      ]
    },
    {
      "cell_type": "code",
      "metadata": {
        "id": "KDlNtveEdxbU"
      },
      "source": [
        "with open('answer.txt', 'w') as f:\n",
        "  f.write(\"id,label\\n\")\n",
        "  for i in range(len(predicted_classess)):\n",
        "    id = data['id'][i]\n",
        "    v = class_names[predicted_classess[i]]\n",
        "    f.write(\"%d,%s\\n\"%(id, v))"
      ],
      "execution_count": null,
      "outputs": []
    },
    {
      "cell_type": "markdown",
      "metadata": {
        "id": "VP0tF5WdOauT"
      },
      "source": [
        "#ML Methods"
      ]
    },
    {
      "cell_type": "code",
      "metadata": {
        "id": "QalUIaswOacC",
        "colab": {
          "base_uri": "https://localhost:8080/"
        },
        "outputId": "5c692712-b2f6-44b1-f2b8-8e2d5fafa8a2"
      },
      "source": [
        "tf_idf = TfidfVectorizer(ngram_range=(1,3), min_df=5, tokenizer=lambda x: x.split(), max_features=20000, use_idf = True)\n",
        "corpus = tf_idf.fit_transform(train_data.cleaned)\n",
        "labels = train_data.training_label\n",
        "print(corpus.shape)"
      ],
      "execution_count": null,
      "outputs": [
        {
          "output_type": "stream",
          "text": [
            "(6420, 9448)\n"
          ],
          "name": "stdout"
        }
      ]
    },
    {
      "cell_type": "code",
      "metadata": {
        "id": "M5LxdKj9kaAN",
        "colab": {
          "base_uri": "https://localhost:8080/"
        },
        "outputId": "9b6e60d8-5a91-446a-bec0-13f8e3321817"
      },
      "source": [
        "X_train, X_test, y_train, y_test = train_test_split(corpus,labels,train_size = 0.9, test_size = 0.1,random_state =0)\n",
        "print(X_train.shape, X_test.shape)"
      ],
      "execution_count": null,
      "outputs": [
        {
          "output_type": "stream",
          "text": [
            "(5778, 9448) (642, 9448)\n"
          ],
          "name": "stdout"
        }
      ]
    },
    {
      "cell_type": "code",
      "metadata": {
        "id": "srKDttx7OtDS",
        "colab": {
          "base_uri": "https://localhost:8080/"
        },
        "outputId": "2742b171-5e00-46c9-916b-1a32e757d366"
      },
      "source": [
        "%%time \n",
        "                  #=================================\n",
        "                  #########  Define models  #########\n",
        "                  #==================================\n",
        "lr_model = LogisticRegression(random_state = 123,C =0.08)\n",
        "dt_model = DecisionTreeClassifier(criterion = 'entropy', random_state = 0)\n",
        "rf_model = RandomForestClassifier(n_estimators=10, criterion ='entropy', random_state = 0)\n",
        "mnb_model = MultinomialNB(alpha=0.05)\n",
        "model_names = ['Logistic Regression','Decision Tree','Random Forest','Naive Bayes']\n",
        "ml_models = [lr_model,dt_model,rf_model,mnb_model]\n",
        "\n",
        "               #============================================\n",
        "               ####### Model Fit Function ############\n",
        "               #=============================================\n",
        "def model_train(model, X_train, y_train):\n",
        "    model.fit(X_train,y_train)\n",
        "    return model\n",
        "\n",
        "trained_ml_models = []\n",
        "for i in ml_models:\n",
        "    tt = model_train(i,X_train, y_train)\n",
        "    trained_ml_models.append(tt)"
      ],
      "execution_count": null,
      "outputs": [
        {
          "output_type": "stream",
          "text": [
            "CPU times: user 1.33 s, sys: 582 µs, total: 1.33 s\n",
            "Wall time: 1.34 s\n"
          ],
          "name": "stdout"
        }
      ]
    },
    {
      "cell_type": "code",
      "metadata": {
        "id": "AT2fhMqZO1K6",
        "colab": {
          "base_uri": "https://localhost:8080/"
        },
        "outputId": "d03515eb-ca7b-464f-8f3a-326224835539"
      },
      "source": [
        "               #============================================\n",
        "               ####### Model Evaluation Function ############\n",
        "              #=============================================\n",
        "\n",
        "acc_list = []\n",
        "pr_list = []\n",
        "re_list = []\n",
        "f1_list = []\n",
        "\n",
        "def model_accuracy(model,X_test,y_test, model_name):\n",
        "  print(\"Classifier: \", model_name)\n",
        "  pred_y = model.predict(X_test)\n",
        "  print(color.BOLD+'Confusion Matrix:\\n'+color.END,confusion_matrix(y_test, pred_y))\n",
        "  print (color.BOLD+'Report : '+color.END)\n",
        "  print (classification_report(y_test, pred_y))\n",
        "  acc_list.append((round(accuracy_score(y_test, pred_y),4)*100))\n",
        "  pr_list.append((round(precision_score(y_test, pred_y, average='weighted'),4)*100)) \n",
        "  re_list.append((round(recall_score(y_test, pred_y, average='weighted'),4)*100))\n",
        "  f1_list.append((round(f1_score(y_test, pred_y, average='weighted'),4)*100))\n",
        "\n",
        "for i in range(len(trained_ml_models)):\n",
        "    md = trained_ml_models[i]\n",
        "    name = model_names[i]\n",
        "    model_accuracy(md, X_test, y_test, name)\n"
      ],
      "execution_count": null,
      "outputs": [
        {
          "output_type": "stream",
          "text": [
            "Classifier:  Logistic Regression\n",
            "\u001b[1mConfusion Matrix:\n",
            "\u001b[0m [[288  41]\n",
            " [ 49 264]]\n",
            "\u001b[1mReport : \u001b[0m\n",
            "              precision    recall  f1-score   support\n",
            "\n",
            "           0       0.85      0.88      0.86       329\n",
            "           1       0.87      0.84      0.85       313\n",
            "\n",
            "    accuracy                           0.86       642\n",
            "   macro avg       0.86      0.86      0.86       642\n",
            "weighted avg       0.86      0.86      0.86       642\n",
            "\n",
            "Classifier:  Decision Tree\n",
            "\u001b[1mConfusion Matrix:\n",
            "\u001b[0m [[267  62]\n",
            " [ 53 260]]\n",
            "\u001b[1mReport : \u001b[0m\n",
            "              precision    recall  f1-score   support\n",
            "\n",
            "           0       0.83      0.81      0.82       329\n",
            "           1       0.81      0.83      0.82       313\n",
            "\n",
            "    accuracy                           0.82       642\n",
            "   macro avg       0.82      0.82      0.82       642\n",
            "weighted avg       0.82      0.82      0.82       642\n",
            "\n",
            "Classifier:  Random Forest\n",
            "\u001b[1mConfusion Matrix:\n",
            "\u001b[0m [[275  54]\n",
            " [ 44 269]]\n",
            "\u001b[1mReport : \u001b[0m\n",
            "              precision    recall  f1-score   support\n",
            "\n",
            "           0       0.86      0.84      0.85       329\n",
            "           1       0.83      0.86      0.85       313\n",
            "\n",
            "    accuracy                           0.85       642\n",
            "   macro avg       0.85      0.85      0.85       642\n",
            "weighted avg       0.85      0.85      0.85       642\n",
            "\n",
            "Classifier:  Naive Bayes\n",
            "\u001b[1mConfusion Matrix:\n",
            "\u001b[0m [[281  48]\n",
            " [ 25 288]]\n",
            "\u001b[1mReport : \u001b[0m\n",
            "              precision    recall  f1-score   support\n",
            "\n",
            "           0       0.92      0.85      0.89       329\n",
            "           1       0.86      0.92      0.89       313\n",
            "\n",
            "    accuracy                           0.89       642\n",
            "   macro avg       0.89      0.89      0.89       642\n",
            "weighted avg       0.89      0.89      0.89       642\n",
            "\n"
          ],
          "name": "stdout"
        }
      ]
    },
    {
      "cell_type": "code",
      "metadata": {
        "id": "K-7wt9ubO64O",
        "colab": {
          "base_uri": "https://localhost:8080/",
          "height": 173
        },
        "outputId": "18ffa15b-77fb-4ff1-e404-3a5e2967e994"
      },
      "source": [
        "performance_matrix = pd.DataFrame({'Accuracy':acc_list,'Precision':pr_list,\n",
        "                                   'Recall':re_list,'F1 Score':f1_list},\n",
        "                                  index =model_names)\n",
        "performance_matrix"
      ],
      "execution_count": null,
      "outputs": [
        {
          "output_type": "execute_result",
          "data": {
            "text/html": [
              "<div>\n",
              "<style scoped>\n",
              "    .dataframe tbody tr th:only-of-type {\n",
              "        vertical-align: middle;\n",
              "    }\n",
              "\n",
              "    .dataframe tbody tr th {\n",
              "        vertical-align: top;\n",
              "    }\n",
              "\n",
              "    .dataframe thead th {\n",
              "        text-align: right;\n",
              "    }\n",
              "</style>\n",
              "<table border=\"1\" class=\"dataframe\">\n",
              "  <thead>\n",
              "    <tr style=\"text-align: right;\">\n",
              "      <th></th>\n",
              "      <th>Accuracy</th>\n",
              "      <th>Precision</th>\n",
              "      <th>Recall</th>\n",
              "      <th>F1 Score</th>\n",
              "    </tr>\n",
              "  </thead>\n",
              "  <tbody>\n",
              "    <tr>\n",
              "      <th>Logistic Regression</th>\n",
              "      <td>85.98</td>\n",
              "      <td>85.99</td>\n",
              "      <td>85.98</td>\n",
              "      <td>85.97</td>\n",
              "    </tr>\n",
              "    <tr>\n",
              "      <th>Decision Tree</th>\n",
              "      <td>82.09</td>\n",
              "      <td>82.12</td>\n",
              "      <td>82.09</td>\n",
              "      <td>82.09</td>\n",
              "    </tr>\n",
              "    <tr>\n",
              "      <th>Random Forest</th>\n",
              "      <td>84.74</td>\n",
              "      <td>84.78</td>\n",
              "      <td>84.74</td>\n",
              "      <td>84.74</td>\n",
              "    </tr>\n",
              "    <tr>\n",
              "      <th>Naive Bayes</th>\n",
              "      <td>88.63</td>\n",
              "      <td>88.85</td>\n",
              "      <td>88.63</td>\n",
              "      <td>88.62</td>\n",
              "    </tr>\n",
              "  </tbody>\n",
              "</table>\n",
              "</div>"
            ],
            "text/plain": [
              "                     Accuracy  Precision  Recall  F1 Score\n",
              "Logistic Regression     85.98      85.99   85.98     85.97\n",
              "Decision Tree           82.09      82.12   82.09     82.09\n",
              "Random Forest           84.74      84.78   84.74     84.74\n",
              "Naive Bayes             88.63      88.85   88.63     88.62"
            ]
          },
          "metadata": {
            "tags": []
          },
          "execution_count": 150
        }
      ]
    },
    {
      "cell_type": "code",
      "metadata": {
        "id": "2-vQuaTJPED6"
      },
      "source": [
        ""
      ],
      "execution_count": null,
      "outputs": []
    }
  ]
}