{
  "nbformat": 4,
  "nbformat_minor": 0,
  "metadata": {
    "colab": {
      "name": " Constraint-Fake News-(Try 2)(SVM))",
      "provenance": [],
      "collapsed_sections": [],
      "toc_visible": true,
      "mount_file_id": "1utVqrjDTFGFyr1OxK805sJY07Cd3Jqvl",
      "authorship_tag": "ABX9TyM0IPYaE7rUXr6U+0iv6ijX"
    },
    "kernelspec": {
      "name": "python3",
      "display_name": "Python 3"
    },
    "accelerator": "GPU"
  },
  "cells": [
    {
      "cell_type": "code",
      "metadata": {
        "id": "IsiomrH1QnPk"
      },
      "source": [
        "import pandas as pd\n",
        "import nltk\n",
        "import re\n",
        "from nltk.corpus import stopwords\n",
        "import matplotlib.pyplot as plt\n",
        "from sklearn.feature_extraction.text import CountVectorizer, TfidfTransformer, TfidfVectorizer\n",
        "from sklearn.metrics import classification_report,confusion_matrix\n",
        "from sklearn.metrics import accuracy_score, f1_score, precision_score, recall_score\n",
        "from sklearn.svm import LinearSVC, SVC\n",
        "from sklearn.pipeline import Pipeline\n",
        "from sklearn.linear_model import SGDClassifier, LogisticRegression\n",
        "from sklearn.naive_bayes import MultinomialNB, GaussianNB\n",
        "from sklearn.neural_network import MLPClassifier\n",
        "from joblib import dump, load\n",
        "from sklearn.ensemble import GradientBoostingClassifier\n",
        "from sklearn import tree\n",
        "import numpy as np\n",
        "import itertools"
      ],
      "execution_count": null,
      "outputs": []
    },
    {
      "cell_type": "code",
      "metadata": {
        "id": "ZfnQTaBftF5K"
      },
      "source": [
        "def plot_confusion_matrix(cm,\r\n",
        "                          target_names,\r\n",
        "                          title='Confusion matrix',\r\n",
        "                          cmap=None,\r\n",
        "                          normalize=True):\r\n",
        "    \"\"\"\r\n",
        "    given a sklearn confusion matrix (cm), make a nice plot\r\n",
        "\r\n",
        "    Arguments\r\n",
        "    ---------\r\n",
        "    cm:           confusion matrix from sklearn.metrics.confusion_matrix\r\n",
        "\r\n",
        "    target_names: given classification classes such as [0, 1, 2]\r\n",
        "                  the class names, for example: ['high', 'medium', 'low']\r\n",
        "\r\n",
        "    title:        the text to display at the top of the matrix\r\n",
        "\r\n",
        "    cmap:         the gradient of the values displayed from matplotlib.pyplot.cm\r\n",
        "                  see http://matplotlib.org/examples/color/colormaps_reference.html\r\n",
        "                  plt.get_cmap('jet') or plt.cm.Blues\r\n",
        "\r\n",
        "    normalize:    If False, plot the raw numbers\r\n",
        "                  If True, plot the proportions\r\n",
        "\r\n",
        "    Usage\r\n",
        "    -----\r\n",
        "    plot_confusion_matrix(cm           = cm,                  # confusion matrix created by\r\n",
        "                                                              # sklearn.metrics.confusion_matrix\r\n",
        "                          normalize    = True,                # show proportions\r\n",
        "                          target_names = y_labels_vals,       # list of names of the classes\r\n",
        "                          title        = best_estimator_name) # title of graph\r\n",
        "\r\n",
        "    Citiation\r\n",
        "    ---------\r\n",
        "    http://scikit-learn.org/stable/auto_examples/model_selection/plot_confusion_matrix.html\r\n",
        "\r\n",
        "    \"\"\"\r\n",
        "\r\n",
        "    accuracy = np.trace(cm) / float(np.sum(cm))\r\n",
        "    misclass = 1 - accuracy\r\n",
        "\r\n",
        "    if cmap is None:\r\n",
        "        cmap = plt.get_cmap('Blues')\r\n",
        "\r\n",
        "    plt.figure(figsize=(5, 4))\r\n",
        "    plt.imshow(cm, interpolation='nearest', cmap=cmap)\r\n",
        "    plt.title(title)\r\n",
        "    plt.colorbar()\r\n",
        "\r\n",
        "    if target_names is not None:\r\n",
        "        tick_marks = np.arange(len(target_names))\r\n",
        "        plt.xticks(tick_marks, target_names, rotation=45)\r\n",
        "        plt.yticks(tick_marks, target_names)\r\n",
        "\r\n",
        "    if normalize:\r\n",
        "        cm = cm.astype('float') / cm.sum(axis=1)[:, np.newaxis]\r\n",
        "\r\n",
        "\r\n",
        "    thresh = cm.max() / 1.5 if normalize else cm.max() / 2\r\n",
        "    for i, j in itertools.product(range(cm.shape[0]), range(cm.shape[1])):\r\n",
        "        if normalize:\r\n",
        "            plt.text(j, i, \"{:0.4f}\".format(cm[i, j]),\r\n",
        "                     horizontalalignment=\"center\",\r\n",
        "                     color=\"white\" if cm[i, j] > thresh else \"black\")\r\n",
        "        else:\r\n",
        "            plt.text(j, i, \"{:,}\".format(cm[i, j]),\r\n",
        "                     horizontalalignment=\"center\",\r\n",
        "                     color=\"white\" if cm[i, j] > thresh else \"black\")\r\n",
        "\r\n",
        "\r\n",
        "    plt.tight_layout()\r\n",
        "    plt.ylabel('True label')\r\n",
        "    #plt.xlabel('Predicted label\\naccuracy={:0.4f}; misclass={:0.4f}'.format(accuracy, misclass))\r\n",
        "    plt.xlabel('Predicted label')\r\n",
        "    plt.show()"
      ],
      "execution_count": null,
      "outputs": []
    },
    {
      "cell_type": "code",
      "metadata": {
        "colab": {
          "base_uri": "https://localhost:8080/"
        },
        "id": "a2tKLhTotZOV",
        "outputId": "ddab5719-116e-420a-cfb3-036f74a63615"
      },
      "source": [
        "nltk.download('stopwords')"
      ],
      "execution_count": null,
      "outputs": [
        {
          "output_type": "stream",
          "text": [
            "[nltk_data] Downloading package stopwords to /root/nltk_data...\n",
            "[nltk_data]   Unzipping corpora/stopwords.zip.\n"
          ],
          "name": "stdout"
        },
        {
          "output_type": "execute_result",
          "data": {
            "text/plain": [
              "True"
            ]
          },
          "metadata": {
            "tags": []
          },
          "execution_count": 3
        }
      ]
    },
    {
      "cell_type": "code",
      "metadata": {
        "id": "R-isPOTqtIu2"
      },
      "source": [
        "stops = set(stopwords.words(\"english\"))\r\n",
        "def cleantext(string):\r\n",
        "    text = string.lower().split()\r\n",
        "    text = \" \".join(text)\r\n",
        "    text = re.sub(r\"http(\\S)+\",' ',text)    \r\n",
        "    text = re.sub(r\"www(\\S)+\",' ',text)\r\n",
        "    text = re.sub(r\"&\",' and ',text)  \r\n",
        "    tx = text.replace('&amp',' ')\r\n",
        "    text = re.sub(r\"[^0-9a-zA-Z]+\",' ',text)\r\n",
        "    text = text.split()\r\n",
        "    text = [w for w in text if not w in stops]\r\n",
        "    text = \" \".join(text)\r\n",
        "    return text"
      ],
      "execution_count": null,
      "outputs": []
    },
    {
      "cell_type": "code",
      "metadata": {
        "id": "iGXpNuzWSfb9",
        "colab": {
          "base_uri": "https://localhost:8080/"
        },
        "outputId": "3f5d8e60-fa79-44e9-ede4-bcbd2fba7e59"
      },
      "source": [
        "%%time\n",
        "path = \"/content/drive/My Drive/SharedTasksParticipation/SharedTask@Constraint@AAAI2021/\"\n",
        "train_filename= path + \"Constraint_English_Train.xlsx\"\n",
        "val_filename = path + \"Constraint_English_Val.xlsx\"\n",
        "test_filename = path + \"Constraint_English_Test.xlsx\"\n",
        "\n",
        "train = pd.read_excel(train_filename)\n",
        "val = pd.read_excel(val_filename)\n",
        "test = pd.read_excel(test_filename)"
      ],
      "execution_count": null,
      "outputs": [
        {
          "output_type": "stream",
          "text": [
            "CPU times: user 369 ms, sys: 5.81 ms, total: 375 ms\n",
            "Wall time: 3.69 s\n"
          ],
          "name": "stdout"
        }
      ]
    },
    {
      "cell_type": "code",
      "metadata": {
        "colab": {
          "base_uri": "https://localhost:8080/"
        },
        "id": "IuaGgfUXvSrA",
        "outputId": "b866cc02-6853-49f4-8a25-52f3555c0bb0"
      },
      "source": [
        "print(train.head(5))\r\n",
        "print(val.head(5))\r\n",
        "print(test.head(5))"
      ],
      "execution_count": null,
      "outputs": [
        {
          "output_type": "stream",
          "text": [
            "   id                                              tweet label\n",
            "0   1  The CDC currently reports 99031 deaths. In gen...  real\n",
            "1   2  States reported 1121 deaths a small rise from ...  real\n",
            "2   3  Politically Correct Woman (Almost) Uses Pandem...  fake\n",
            "3   4  #IndiaFightsCorona: We have 1524 #COVID testin...  real\n",
            "4   5  Populous states can generate large case counts...  real\n",
            "   id                                              tweet label\n",
            "0   1  Chinese converting to Islam after realising th...  fake\n",
            "1   2  11 out of 13 people (from the Diamond Princess...  fake\n",
            "2   3  COVID-19 Is Caused By A Bacterium, Not Virus A...  fake\n",
            "3   4  Mike Pence in RNC speech praises Donald Trump’...  fake\n",
            "4   5  6/10 Sky's @EdConwaySky explains the latest #C...  real\n",
            "   id                                              tweet\n",
            "0   1  Our daily update is published. States reported...\n",
            "1   2             Alfalfa is the only cure for COVID-19.\n",
            "2   3  President Trump Asked What He Would Do If He W...\n",
            "3   4  States reported 630 deaths. We are still seein...\n",
            "4   5  This is the sixth time a global health emergen...\n"
          ],
          "name": "stdout"
        }
      ]
    },
    {
      "cell_type": "code",
      "metadata": {
        "id": "cRNut988y1u9"
      },
      "source": [
        "train['tweet'] = train['tweet'].map(lambda x: cleantext(x))\r\n",
        "val['tweet'] = val['tweet'].map(lambda x: cleantext(x))\r\n",
        "test['cleaned'] = test['tweet'].map(lambda x: cleantext(x))"
      ],
      "execution_count": null,
      "outputs": []
    },
    {
      "cell_type": "code",
      "metadata": {
        "id": "rbVmD9gAt_-f"
      },
      "source": [
        "def print_metrices(pred,true):\r\n",
        "    print(confusion_matrix(true,pred))\r\n",
        "    print(classification_report(true,pred,))\r\n",
        "    print(\"Accuracy : \",accuracy_score(pred,true))\r\n",
        "    print(\"Precison : \",precision_score(pred,true, average = 'weighted'))\r\n",
        "    print(\"Recall : \",recall_score(pred,true,  average = 'weighted'))\r\n",
        "    print(\"F1 : \",f1_score(pred,true,  average = 'weighted'))"
      ],
      "execution_count": null,
      "outputs": []
    },
    {
      "cell_type": "code",
      "metadata": {
        "colab": {
          "base_uri": "https://localhost:8080/",
          "height": 600
        },
        "id": "pdJckS8juG3F",
        "outputId": "c83434c1-3c29-4fc2-e07b-c76802ca300c"
      },
      "source": [
        "pipeline = Pipeline([\r\n",
        "        ('bow', TfidfVectorizer(ngram_range=(1,2), max_features=10000)),  \r\n",
        "        ('tfidf', TfidfTransformer()),  \r\n",
        "        ('c', SVC())\r\n",
        "    ])\r\n",
        "fit = pipeline.fit(train['tweet'],train['label'])\r\n",
        "print('SVM')\r\n",
        "print ('val:')\r\n",
        "pred=pipeline.predict(val['tweet'])\r\n",
        "print_metrices(pred,val['label'])\r\n",
        "plot_confusion_matrix(confusion_matrix(val['label'],pred),target_names=['fake','real'], normalize = False, \\\r\n",
        "                      title = 'Confusion matix of SVM on val data')\r\n",
        "\r\n",
        "val_ori = pd.read_excel(val_filename)\r\n",
        "svm_val_misclass_df = val_ori[pred!=val['label']]"
      ],
      "execution_count": null,
      "outputs": [
        {
          "output_type": "stream",
          "text": [
            "SVM\n",
            "val:\n",
            "[[942  78]\n",
            " [187 933]]\n",
            "              precision    recall  f1-score   support\n",
            "\n",
            "        fake       0.83      0.92      0.88      1020\n",
            "        real       0.92      0.83      0.88      1120\n",
            "\n",
            "    accuracy                           0.88      2140\n",
            "   macro avg       0.88      0.88      0.88      2140\n",
            "weighted avg       0.88      0.88      0.88      2140\n",
            "\n",
            "Accuracy :  0.8761682242990654\n",
            "Precison :  0.8807774827220608\n",
            "Recall :  0.8761682242990654\n",
            "F1 :  0.8761947508779404\n"
          ],
          "name": "stdout"
        },
        {
          "output_type": "display_data",
          "data": {
            "image/png": "[encoded data removed]",
            "text/plain": [
              "<Figure size 360x288 with 2 Axes>"
            ]
          },
          "metadata": {
            "tags": [],
            "needs_background": "light"
          }
        }
      ]
    },
    {
      "cell_type": "code",
      "metadata": {
        "colab": {
          "base_uri": "https://localhost:8080/"
        },
        "id": "0tCWCKfBHFzG",
        "outputId": "a0691ad6-9cfa-4eb1-de3b-8e9db8a7f7a7"
      },
      "source": [
        "pred_test = pipeline.predict(test['cleaned'])\r\n",
        "pred_test"
      ],
      "execution_count": null,
      "outputs": [
        {
          "output_type": "execute_result",
          "data": {
            "text/plain": [
              "array(['real', 'fake', 'fake', ..., 'real', 'real', 'real'], dtype=object)"
            ]
          },
          "metadata": {
            "tags": []
          },
          "execution_count": 12
        }
      ]
    },
    {
      "cell_type": "code",
      "metadata": {
        "colab": {
          "base_uri": "https://localhost:8080/"
        },
        "id": "8cXntAIlHWSn",
        "outputId": "267a8b50-e411-472a-a739-f32dfacffacf"
      },
      "source": [
        "print(pred_test.shape, len(test.cleaned))"
      ],
      "execution_count": null,
      "outputs": [
        {
          "output_type": "stream",
          "text": [
            "(2140,) 2140\n"
          ],
          "name": "stdout"
        }
      ]
    },
    {
      "cell_type": "code",
      "metadata": {
        "id": "eMUcuED7Ir1q"
      },
      "source": [
        "test['label']=pred_test"
      ],
      "execution_count": null,
      "outputs": []
    },
    {
      "cell_type": "code",
      "metadata": {
        "id": "ZsBKnrepIrsT"
      },
      "source": [
        ""
      ],
      "execution_count": null,
      "outputs": []
    },
    {
      "cell_type": "code",
      "metadata": {
        "colab": {
          "base_uri": "https://localhost:8080/",
          "height": 359
        },
        "id": "6Bxv4nq3IWMK",
        "outputId": "660838cd-cb78-4eac-c1fa-cdcbc9e900f3"
      },
      "source": [
        "test.head(10)"
      ],
      "execution_count": null,
      "outputs": [
        {
          "output_type": "execute_result",
          "data": {
            "text/html": [
              "<div>\n",
              "<style scoped>\n",
              "    .dataframe tbody tr th:only-of-type {\n",
              "        vertical-align: middle;\n",
              "    }\n",
              "\n",
              "    .dataframe tbody tr th {\n",
              "        vertical-align: top;\n",
              "    }\n",
              "\n",
              "    .dataframe thead th {\n",
              "        text-align: right;\n",
              "    }\n",
              "</style>\n",
              "<table border=\"1\" class=\"dataframe\">\n",
              "  <thead>\n",
              "    <tr style=\"text-align: right;\">\n",
              "      <th></th>\n",
              "      <th>id</th>\n",
              "      <th>tweet</th>\n",
              "      <th>cleaned</th>\n",
              "      <th>label</th>\n",
              "    </tr>\n",
              "  </thead>\n",
              "  <tbody>\n",
              "    <tr>\n",
              "      <th>0</th>\n",
              "      <td>1</td>\n",
              "      <td>Our daily update is published. States reported...</td>\n",
              "      <td>daily update published states reported 734k te...</td>\n",
              "      <td>real</td>\n",
              "    </tr>\n",
              "    <tr>\n",
              "      <th>1</th>\n",
              "      <td>2</td>\n",
              "      <td>Alfalfa is the only cure for COVID-19.</td>\n",
              "      <td>alfalfa cure covid 19</td>\n",
              "      <td>fake</td>\n",
              "    </tr>\n",
              "    <tr>\n",
              "      <th>2</th>\n",
              "      <td>3</td>\n",
              "      <td>President Trump Asked What He Would Do If He W...</td>\n",
              "      <td>president trump asked would catch coronavirus ...</td>\n",
              "      <td>fake</td>\n",
              "    </tr>\n",
              "    <tr>\n",
              "      <th>3</th>\n",
              "      <td>4</td>\n",
              "      <td>States reported 630 deaths. We are still seein...</td>\n",
              "      <td>states reported 630 deaths still seeing solid ...</td>\n",
              "      <td>real</td>\n",
              "    </tr>\n",
              "    <tr>\n",
              "      <th>4</th>\n",
              "      <td>5</td>\n",
              "      <td>This is the sixth time a global health emergen...</td>\n",
              "      <td>sixth time global health emergency declared in...</td>\n",
              "      <td>real</td>\n",
              "    </tr>\n",
              "    <tr>\n",
              "      <th>5</th>\n",
              "      <td>6</td>\n",
              "      <td>Low #vitaminD was an independent predictor of ...</td>\n",
              "      <td>low vitamind independent predictor worse progn...</td>\n",
              "      <td>fake</td>\n",
              "    </tr>\n",
              "    <tr>\n",
              "      <th>6</th>\n",
              "      <td>7</td>\n",
              "      <td>A common question: why are the cumulative outc...</td>\n",
              "      <td>common question cumulative outcome numbers sma...</td>\n",
              "      <td>real</td>\n",
              "    </tr>\n",
              "    <tr>\n",
              "      <th>7</th>\n",
              "      <td>8</td>\n",
              "      <td>The government should consider bringing in any...</td>\n",
              "      <td>government consider bringing new national lock...</td>\n",
              "      <td>fake</td>\n",
              "    </tr>\n",
              "    <tr>\n",
              "      <th>8</th>\n",
              "      <td>9</td>\n",
              "      <td>Our daily update is published. We’ve now track...</td>\n",
              "      <td>daily update published tracked 2 9 million tes...</td>\n",
              "      <td>real</td>\n",
              "    </tr>\n",
              "    <tr>\n",
              "      <th>9</th>\n",
              "      <td>10</td>\n",
              "      <td>Breakdown of testing: 4 air crew 97 hotel &amp;amp...</td>\n",
              "      <td>breakdown testing 4 air crew 97 hotel amp heal...</td>\n",
              "      <td>real</td>\n",
              "    </tr>\n",
              "  </tbody>\n",
              "</table>\n",
              "</div>"
            ],
            "text/plain": [
              "   id  ... label\n",
              "0   1  ...  real\n",
              "1   2  ...  fake\n",
              "2   3  ...  fake\n",
              "3   4  ...  real\n",
              "4   5  ...  real\n",
              "5   6  ...  fake\n",
              "6   7  ...  real\n",
              "7   8  ...  fake\n",
              "8   9  ...  real\n",
              "9  10  ...  real\n",
              "\n",
              "[10 rows x 4 columns]"
            ]
          },
          "metadata": {
            "tags": []
          },
          "execution_count": 17
        }
      ]
    },
    {
      "cell_type": "code",
      "metadata": {
        "colab": {
          "base_uri": "https://localhost:8080/",
          "height": 419
        },
        "id": "6pezuL2PI-MM",
        "outputId": "e4d7ee87-4f99-404c-a4cf-94a0e552084e"
      },
      "source": [
        "test[['id','label']]"
      ],
      "execution_count": null,
      "outputs": [
        {
          "output_type": "execute_result",
          "data": {
            "text/html": [
              "<div>\n",
              "<style scoped>\n",
              "    .dataframe tbody tr th:only-of-type {\n",
              "        vertical-align: middle;\n",
              "    }\n",
              "\n",
              "    .dataframe tbody tr th {\n",
              "        vertical-align: top;\n",
              "    }\n",
              "\n",
              "    .dataframe thead th {\n",
              "        text-align: right;\n",
              "    }\n",
              "</style>\n",
              "<table border=\"1\" class=\"dataframe\">\n",
              "  <thead>\n",
              "    <tr style=\"text-align: right;\">\n",
              "      <th></th>\n",
              "      <th>id</th>\n",
              "      <th>label</th>\n",
              "    </tr>\n",
              "  </thead>\n",
              "  <tbody>\n",
              "    <tr>\n",
              "      <th>0</th>\n",
              "      <td>1</td>\n",
              "      <td>real</td>\n",
              "    </tr>\n",
              "    <tr>\n",
              "      <th>1</th>\n",
              "      <td>2</td>\n",
              "      <td>fake</td>\n",
              "    </tr>\n",
              "    <tr>\n",
              "      <th>2</th>\n",
              "      <td>3</td>\n",
              "      <td>fake</td>\n",
              "    </tr>\n",
              "    <tr>\n",
              "      <th>3</th>\n",
              "      <td>4</td>\n",
              "      <td>real</td>\n",
              "    </tr>\n",
              "    <tr>\n",
              "      <th>4</th>\n",
              "      <td>5</td>\n",
              "      <td>real</td>\n",
              "    </tr>\n",
              "    <tr>\n",
              "      <th>...</th>\n",
              "      <td>...</td>\n",
              "      <td>...</td>\n",
              "    </tr>\n",
              "    <tr>\n",
              "      <th>2135</th>\n",
              "      <td>2136</td>\n",
              "      <td>real</td>\n",
              "    </tr>\n",
              "    <tr>\n",
              "      <th>2136</th>\n",
              "      <td>2137</td>\n",
              "      <td>fake</td>\n",
              "    </tr>\n",
              "    <tr>\n",
              "      <th>2137</th>\n",
              "      <td>2138</td>\n",
              "      <td>real</td>\n",
              "    </tr>\n",
              "    <tr>\n",
              "      <th>2138</th>\n",
              "      <td>2139</td>\n",
              "      <td>real</td>\n",
              "    </tr>\n",
              "    <tr>\n",
              "      <th>2139</th>\n",
              "      <td>2140</td>\n",
              "      <td>real</td>\n",
              "    </tr>\n",
              "  </tbody>\n",
              "</table>\n",
              "<p>2140 rows × 2 columns</p>\n",
              "</div>"
            ],
            "text/plain": [
              "        id label\n",
              "0        1  real\n",
              "1        2  fake\n",
              "2        3  fake\n",
              "3        4  real\n",
              "4        5  real\n",
              "...    ...   ...\n",
              "2135  2136  real\n",
              "2136  2137  fake\n",
              "2137  2138  real\n",
              "2138  2139  real\n",
              "2139  2140  real\n",
              "\n",
              "[2140 rows x 2 columns]"
            ]
          },
          "metadata": {
            "tags": []
          },
          "execution_count": 21
        }
      ]
    },
    {
      "cell_type": "code",
      "metadata": {
        "colab": {
          "base_uri": "https://localhost:8080/"
        },
        "id": "hqhit9L9J7aM",
        "outputId": "20147f73-f2cd-4982-f8e0-8555651a65de"
      },
      "source": [
        "test['label'].value_counts()"
      ],
      "execution_count": null,
      "outputs": [
        {
          "output_type": "execute_result",
          "data": {
            "text/plain": [
              "real    1094\n",
              "fake    1046\n",
              "Name: label, dtype: int64"
            ]
          },
          "metadata": {
            "tags": []
          },
          "execution_count": 24
        }
      ]
    },
    {
      "cell_type": "markdown",
      "metadata": {
        "id": "JaW6HiKJPN7f"
      },
      "source": [
        "# Prediction on validation Set"
      ]
    },
    {
      "cell_type": "code",
      "metadata": {
        "id": "KDlNtveEdxbU"
      },
      "source": [
        "with open('svm(94.62).txt', 'w') as f:\n",
        "  f.write(\"id,label\\n\")\n",
        "  for i in range(len(pred_test)):\n",
        "    id = test['id'][i]\n",
        "    v = pred_test[i]\n",
        "    f.write(\"%d,%s\\n\"%(id, v))"
      ],
      "execution_count": null,
      "outputs": []
    }
  ]
}